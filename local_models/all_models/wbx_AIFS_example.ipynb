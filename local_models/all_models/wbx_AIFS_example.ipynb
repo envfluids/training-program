{
 "cells": [
  {
   "cell_type": "markdown",
   "id": "7b66297c",
   "metadata": {},
   "source": [
    "# General Pre-processing"
   ]
  },
  {
   "cell_type": "code",
   "execution_count": 2,
   "id": "4d5d63bc",
   "metadata": {},
   "outputs": [],
   "source": [
    "import xarray as xr"
   ]
  },
  {
   "cell_type": "code",
   "execution_count": 3,
   "id": "3e4a4dc4",
   "metadata": {},
   "outputs": [],
   "source": [
    "ds = xr.open_dataset(\"./output_states/init_ERA5_20230630T00_lead_360.nc\")"
   ]
  },
  {
   "cell_type": "code",
   "execution_count": 4,
   "id": "16b2aa89",
   "metadata": {},
   "outputs": [],
   "source": [
    "ds[\"step\"] = ds[\"step\"].astype(\"timedelta64[h]\").astype(\"timedelta64[ns]\")\n",
    "ds[\"lat\"] = ds[\"lat\"].astype(\"float32\")\n",
    "ds[\"lon\"] = ds[\"lon\"].astype(\"float32\")"
   ]
  },
  {
   "cell_type": "code",
   "execution_count": 5,
   "id": "30bff552",
   "metadata": {},
   "outputs": [],
   "source": [
    "ds = ds.rename(\n",
    "    {\n",
    "        \"2t\": \"2m_temperature\",\n",
    "        \"tp\": \"total_precipitation_6hr\",\n",
    "        \"z_500\": \"geopotential_500\",\n",
    "        \"lat\": \"latitude\",\n",
    "        \"lon\": \"longitude\",\n",
    "        \"step\": \"prediction_timedelta\",\n",
    "    }\n",
    ")"
   ]
  },
  {
   "cell_type": "markdown",
   "id": "3a442fdd",
   "metadata": {},
   "source": [
    "# For running benchmarking on a pressure level variable"
   ]
  },
  {
   "cell_type": "code",
   "execution_count": 58,
   "id": "401d341a",
   "metadata": {},
   "outputs": [],
   "source": [
    "ds_z500 = (\n",
    "    ds[[\"geopotential_500\"]]\n",
    "    .expand_dims(dim={\"level\": [500.0]}, axis=2)\n",
    "    .rename({\"geopotential_500\": \"geopotential\"})\n",
    ")"
   ]
  },
  {
   "cell_type": "markdown",
   "id": "6bd680e7",
   "metadata": {},
   "source": [
    "# Run Benchmark"
   ]
  },
  {
   "cell_type": "code",
   "execution_count": null,
   "id": "31ba9ac2",
   "metadata": {},
   "outputs": [],
   "source": [
    "import apache_beam as beam\n",
    "from weatherbenchX.data_loaders import xarray_loaders\n",
    "from weatherbenchX.metrics import deterministic\n",
    "from weatherbenchX import aggregation\n",
    "from weatherbenchX import weighting\n",
    "from weatherbenchX import binning\n",
    "from weatherbenchX import time_chunks\n",
    "from weatherbenchX import beam_pipeline"
   ]
  },
  {
   "cell_type": "code",
   "execution_count": 59,
   "id": "f32852aa",
   "metadata": {},
   "outputs": [],
   "source": [
    "ds_preds = ds_z500.sel(\n",
    "    prediction_timedelta=ds_z500.prediction_timedelta.dt.seconds == 0\n",
    ")"
   ]
  },
  {
   "cell_type": "code",
   "execution_count": 20,
   "id": "d2971632",
   "metadata": {},
   "outputs": [],
   "source": [
    "# Load in the ERA5 data from Google Cloud Storage\n",
    "ERA5_PATH = \"gs://gcp-public-data-arco-era5/ar/full_37-1h-0p25deg-chunk-1.zarr-v3\"\n",
    "FULL_ERA5 = xr.open_zarr(ERA5_PATH, chunks=None)"
   ]
  },
  {
   "cell_type": "code",
   "execution_count": 63,
   "id": "8e919171",
   "metadata": {},
   "outputs": [],
   "source": [
    "variables = list(ds_preds.data_vars)\n",
    "levels = ds_preds.level.values\n",
    "times = ds_preds.time.values + ds_preds.prediction_timedelta.values\n",
    "hour = ds_preds.time.dt.hour[0].values\n",
    "dayofyear = (ds_preds.time + ds_preds.prediction_timedelta).dt.dayofyear.values"
   ]
  },
  {
   "cell_type": "code",
   "execution_count": 64,
   "id": "4e123fc3",
   "metadata": {},
   "outputs": [],
   "source": [
    "target_ds = FULL_ERA5[variables].sel(time=times, level=levels).compute()"
   ]
  },
  {
   "cell_type": "code",
   "execution_count": 65,
   "id": "78a646fd",
   "metadata": {},
   "outputs": [],
   "source": [
    "LSM = FULL_ERA5[\"land_sea_mask\"].sel(time=ds_z500.time[0]).drop_vars(\"time\").compute()"
   ]
  },
  {
   "cell_type": "code",
   "execution_count": 68,
   "id": "e221798a",
   "metadata": {},
   "outputs": [],
   "source": [
    "CLIM_PATH = (\n",
    "    \"gs://weatherbench2/datasets/era5-hourly-climatology/1990-2017_6h_1440x721.zarr\"\n",
    ")\n",
    "CLIM_DS = (\n",
    "    xr.open_zarr(CLIM_PATH, chunks={})[variables]\n",
    "    .sel(hour=[hour], dayofyear=dayofyear.squeeze(), level=levels)\n",
    "    .compute()\n",
    ")"
   ]
  },
  {
   "cell_type": "code",
   "execution_count": 70,
   "id": "85427015",
   "metadata": {},
   "outputs": [],
   "source": [
    "prediction_data_loader = xarray_loaders.PredictionsFromXarray(\n",
    "    ds=ds_preds, variables=variables\n",
    ")\n",
    "target_data_loader = xarray_loaders.TargetsFromXarray(ds=target_ds, variables=variables)\n"
   ]
  },
  {
   "cell_type": "code",
   "execution_count": 74,
   "id": "b78ef149",
   "metadata": {},
   "outputs": [],
   "source": [
    "times = time_chunks.TimeChunks(\n",
    "    ds_preds.time.values,\n",
    "    ds_preds.prediction_timedelta.values,\n",
    "    init_time_chunk_size=1,\n",
    "    lead_time_chunk_size=len(ds_preds.prediction_timedelta.values),\n",
    ")"
   ]
  },
  {
   "cell_type": "code",
   "execution_count": 75,
   "id": "62a3d871",
   "metadata": {},
   "outputs": [],
   "source": [
    "metrics = {\n",
    "    \"rmse\": deterministic.RMSE(),\n",
    "    \"acc\": deterministic.ACC(CLIM_DS),\n",
    "}\n",
    "weigh_by = [weighting.GridAreaWeighting()]\n",
    "\n",
    "# Change these to participant regions\n",
    "regions = {\n",
    "    # ((lat_min, lat_max), (lon_min, lon_max))\n",
    "    \"global\": ((-90, 90), (0, 360)),\n",
    "    \"na\": ((24.08, 50), (360 - 126, 360 - 65)),\n",
    "    \"europe\": ((35, 71), (360 - 10, 36)),\n",
    "}\n",
    "bin_by = [binning.Regions(regions)]\n",
    "\n",
    "aggregator = aggregation.Aggregator(\n",
    "    reduce_dims=[\"init_time\", \"latitude\", \"longitude\"],\n",
    "    bin_by=bin_by,\n",
    "    weigh_by=weigh_by,\n",
    ")"
   ]
  },
  {
   "cell_type": "code",
   "execution_count": 76,
   "id": "a491fc71",
   "metadata": {},
   "outputs": [
    {
     "name": "stderr",
     "output_type": "stream",
     "text": [
      "WARNING:apache_beam.coders.coder_impl:Using fallback deterministic coder for type '<class 'weatherbenchX.beam_pipeline._AggregationKey'>' in '[76]: SumPerStatisticPerVariableAndPerUnreducedOffset/GroupByKey'. \n",
      "WARNING:apache_beam.coders.coder_impl:Using fallback deterministic coder for type '<class 'weatherbenchX.beam_pipeline._AggregationKey'>' in '[76]: SumPerStatisticPerVariableAndPerUnreducedOffset/GroupByKey'. \n",
      "WARNING:apache_beam.coders.coder_impl:Using fallback deterministic coder for type '<class 'weatherbenchX.beam_pipeline._AggregationKey'>' in '[76]: SumPerStatisticPerVariableAndPerUnreducedOffset/GroupByKey'. \n"
     ]
    },
    {
     "data": {
      "text/plain": [
       "<apache_beam.runners.portability.fn_api_runner.fn_runner.RunnerResult at 0x7d26012536d0>"
      ]
     },
     "execution_count": 76,
     "metadata": {},
     "output_type": "execute_result"
    }
   ],
   "source": [
    "root = beam.Pipeline(runner=\"DirectRunner\")\n",
    "beam_pipeline.define_pipeline(\n",
    "    root=root,\n",
    "    times=times,\n",
    "    predictions_loader=prediction_data_loader,\n",
    "    targets_loader=target_data_loader,\n",
    "    metrics=metrics,\n",
    "    aggregator=aggregator,\n",
    "    out_path=\"./out.nc\",\n",
    ")\n",
    "root.run()"
   ]
  }
 ],
 "metadata": {
  "kernelspec": {
   "display_name": "ai-models",
   "language": "python",
   "name": "python3"
  },
  "language_info": {
   "codemirror_mode": {
    "name": "ipython",
    "version": 3
   },
   "file_extension": ".py",
   "mimetype": "text/x-python",
   "name": "python",
   "nbconvert_exporter": "python",
   "pygments_lexer": "ipython3",
   "version": "3.11.0rc1"
  }
 },
 "nbformat": 4,
 "nbformat_minor": 5
}
