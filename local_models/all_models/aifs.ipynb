{
 "cells": [
  {
   "cell_type": "markdown",
   "id": "84f83b5d",
   "metadata": {},
   "source": [
    "# AIFS: Running Inference with Anemoi\n",
    "\n",
    "This notebook demonstrates how to run the AI-based Forecast System (AIFS) using the Anemoi inference package. You'll learn how to fetch initial conditions from either the latest operational IFS forecast or historical ERA5 data, run the model for a specified lead time, and process the output.\n",
    "\n",
    "**Notebook Structure:**\n",
    "\n",
    "1.  **Setup**: Import necessary libraries.\n",
    "2.  **Configuration**: Define paths, model weights, and data variables.\n",
    "3.  **Data Fetching**: Functions to get initial conditions from IFS or ERA5.\n",
    "4.  **Inference**: The main function to run the model.\n",
    "5.  **Execution**: Run an example inference.\n",
    "6.  **Visualization**: Code to plot the output data."
   ]
  },
  {
   "cell_type": "markdown",
   "id": "f855f890",
   "metadata": {},
   "source": [
    "## 1. Setup\n",
    "\n",
    "First, we import all the required libraries. This includes standard libraries like `datetime` and `os`, data handling libraries like `numpy`, `xarray`, and `pandas`, and specialized libraries from `anemoi` and `ecmwf` for running the model and fetching data."
   ]
  },
  {
   "cell_type": "code",
   "execution_count": 1,
   "id": "722b2451",
   "metadata": {},
   "outputs": [],
   "source": [
    "import datetime\n",
    "import logging\n",
    "import os\n",
    "import pickle\n",
    "import time\n",
    "import warnings\n",
    "from collections import defaultdict\n",
    "\n",
    "import earthkit.data as ekd\n",
    "import numpy as np\n",
    "import pandas as pd\n",
    "import xarray as xr\n",
    "from anemoi.inference.outputs.printer import print_state\n",
    "from anemoi.inference.runners.simple import SimpleRunner\n",
    "from ecmwf.opendata import Client as OpendataClient\n",
    "from scipy.sparse import load_npz\n",
    "import gc\n",
    "\n",
    "warnings.filterwarnings(\"ignore\", category=UserWarning)\n",
    "\n",
    "logging.basicConfig(\n",
    "    level=logging.INFO, format=\"%(asctime)s - %(levelname)s - %(message)s\"\n",
    ")"
   ]
  },
  {
   "cell_type": "markdown",
   "id": "0578572e",
   "metadata": {},
   "source": [
    "## 2. Configuration\n",
    "\n",
    "This cell sets up the core configuration for the model.\n",
    "\n",
    "- **`CHECKPOINT`**: Path to the pre-trained AIFS model weights.\n",
    "- **Regridding Matrices**: Paths to the NumPy sparse matrices (`.npz` files) used to transform data between the standard lat-lon grid and the model's native N320 grid.\n",
    "- **`ERA5_PATH`**: The Google Cloud Storage path for the ARCO ERA5 dataset, which can be used for historical initial conditions.\n",
    "- **Constants**: Defines latitudes, longitudes, and the mapping of variable names between the ERA5 dataset and the short names expected by the model for both surface (`SFC_VARS`) and pressure levels (`PL_VARS`).\n",
    "- **Paths**: Defines and creates local directories to store input and output states, which helps cache data and avoid re-downloading or re-processing."
   ]
  },
  {
   "cell_type": "code",
   "execution_count": 2,
   "id": "c4c1ba9f",
   "metadata": {},
   "outputs": [],
   "source": [
    "# Load in the model weights\n",
    "CHECKPOINT = \"weights/AIFS/aifs-single-mse-1.0.ckpt\"\n",
    "\n",
    "# Load in the regridding matrices\n",
    "LATLON_N320_PATH = \"support/regrid/mir_16_linear/9533e90f8433424400ab53c7fafc87ba1a04453093311c0b5bd0b35fedc1fb83.npz\"\n",
    "TFM_LATLON_N320 = load_npz(LATLON_N320_PATH)\n",
    "N320_LATLON_PATH = \"support/regrid/mir_16_linear/7f0be51c7c1f522592c7639e0d3f95bcbff8a044292aa281c1e73b842736d9bf.npz\"\n",
    "TFM_N320_LATLON = load_npz(N320_LATLON_PATH)\n",
    "\n",
    "# Load in the ERA5 data from Google Cloud Storage\n",
    "ERA5_PATH = \"gs://gcp-public-data-arco-era5/ar/full_37-1h-0p25deg-chunk-1.zarr-v3\"\n",
    "FULL_ERA5 = xr.open_zarr(ERA5_PATH, chunks=None)\n",
    "\n",
    "# Define the latitude and longitude arrays\n",
    "LATITUDES = np.linspace(90, -90, 721)\n",
    "LONGITUDES = np.linspace(0, 359.75, 1440)\n",
    "\n",
    "# Define the variables for surface and pressure level data\n",
    "# These dictionaries map the variable names in the ERA5 dataset to their corresponding short names\n",
    "SFC_VARS = {\n",
    "    \"10m_u_component_of_wind\": \"10u\",\n",
    "    \"10m_v_component_of_wind\": \"10v\",\n",
    "    \"2m_dewpoint_temperature\": \"2d\",\n",
    "    \"2m_temperature\": \"2t\",\n",
    "    \"mean_sea_level_pressure\": \"msl\",\n",
    "    \"skin_temperature\": \"skt\",\n",
    "    \"surface_pressure\": \"sp\",\n",
    "    \"total_column_water\": \"tcw\",\n",
    "    \"land_sea_mask\": \"lsm\",\n",
    "    \"geopotential_at_surface\": \"z\",\n",
    "    \"slope_of_sub_gridscale_orography\": \"slor\",\n",
    "    \"standard_deviation_of_orography\": \"sdor\",\n",
    "    \"soil_temperature_level_1\": \"stl1\",\n",
    "    \"soil_temperature_level_2\": \"stl2\",\n",
    "    \"volumetric_soil_water_layer_1\": \"swvl1\",\n",
    "    \"volumetric_soil_water_layer_2\": \"swvl2\",\n",
    "}\n",
    "PL_VARS = {\n",
    "    \"geopotential\": \"z\",\n",
    "    \"temperature\": \"t\",\n",
    "    \"u_component_of_wind\": \"u\",\n",
    "    \"v_component_of_wind\": \"v\",\n",
    "    \"vertical_velocity\": \"w\",\n",
    "    \"specific_humidity\": \"q\",\n",
    "}\n",
    "LEVELS = [1000, 925, 850, 700, 600, 500, 400, 300, 250, 200, 150, 100, 50]\n",
    "\n",
    "# Define the input and output state paths\n",
    "# These paths will be used to save the input and output states of the model\n",
    "INPUT_STATE_PATH = \"input_states\"\n",
    "OUTPUT_STATE_PATH = \"output_states\"\n",
    "\n",
    "# Create the directories if they do not exist\n",
    "for path in [INPUT_STATE_PATH, OUTPUT_STATE_PATH]:\n",
    "    if not os.path.exists(path):\n",
    "        os.makedirs(path)"
   ]
  },
  {
   "cell_type": "markdown",
   "id": "827f7ec4",
   "metadata": {},
   "source": [
    "## 3. Data Fetching\n",
    "\n",
    "We define two functions to prepare the initial conditions for the model: one for fetching the latest operational IFS data and another for using historical ERA5 data.\n",
    "\n",
    "### 3.1. Get Latest IFS Data\n",
    "\n",
    "The `get_latest_IFS_data` function fetches the most recent, publicly available forecast data from ECMWF's OpenData service.\n",
    "\n",
    "- It determines the latest available forecast time.\n",
    "- It checks if the input state for that time has already been processed and saved locally. If so, it loads the file to save time.\n",
    "- It downloads the required surface, soil, and pressure level variables for the current time and 6 hours prior.\n",
    "- The data is transformed from a lat-lon grid to the model's N320 grid using the pre-defined matrix.\n",
    "- Finally, it saves the processed input state to a `.pkl` file and returns it."
   ]
  },
  {
   "cell_type": "code",
   "execution_count": 3,
   "id": "9e833248",
   "metadata": {},
   "outputs": [],
   "source": [
    "def get_latest_IFS_data() -> tuple[dict | None, datetime.datetime | None]:\n",
    "    \"\"\"\n",
    "    Fetches the latest IFS data from ECMWF OpenData and prepares the input state for model inference.\n",
    "\n",
    "    Returns:\n",
    "        tuple: (input_state, DATE) where input_state is a dict containing the processed fields, and DATE is the datetime of the latest data.\n",
    "    \"\"\"\n",
    "    logging.info(\"Using the latest IFS data from ECMWF OpenData\")\n",
    "\n",
    "    # Surface, soil, and pressure level parameters for IFS\n",
    "    IFS_PARAM_SFC = [\n",
    "        \"10u\",\n",
    "        \"10v\",\n",
    "        \"2d\",\n",
    "        \"2t\",\n",
    "        \"msl\",\n",
    "        \"skt\",\n",
    "        \"sp\",\n",
    "        \"tcw\",\n",
    "        \"lsm\",\n",
    "        \"z\",\n",
    "        \"slor\",\n",
    "        \"sdor\",\n",
    "    ]\n",
    "    IFS_PARAM_SOIL = [\"vsw\", \"sot\"]\n",
    "    IFS_PARAM_PL = [\"gh\", \"t\", \"u\", \"v\", \"w\", \"q\"]\n",
    "    IFS_LEVELS = [1000, 925, 850, 700, 600, 500, 400, 300, 250, 200, 150, 100, 50]\n",
    "    IFS_SOIL_LEVELS = [1, 2]\n",
    "\n",
    "    try:\n",
    "        DATE = OpendataClient().latest()\n",
    "    except Exception as e:\n",
    "        logging.error(f\"Error getting latest date: {e}\")\n",
    "        return None, None\n",
    "    logging.info(f\"Initial date is {DATE}\")\n",
    "\n",
    "    save_path: str = (\n",
    "        f\"{INPUT_STATE_PATH}/input_state_{DATE.strftime('%Y%m%dT%H')}_IFS.pkl\"\n",
    "    )\n",
    "    # Check if the input state already exists\n",
    "    # If it does, load it instead of fetching new data\n",
    "    if os.path.exists(save_path):\n",
    "        logging.info(f\"Input state already exists at {save_path}, loading it.\")\n",
    "        with open(save_path, \"rb\") as f:\n",
    "            input_state = pickle.load(f)\n",
    "        return input_state, DATE\n",
    "\n",
    "    def get_open_data(\n",
    "        param: list[str], levelist: list[int] = []\n",
    "    ) -> dict[str, np.ndarray]:\n",
    "        \"\"\"\n",
    "        Helper to fetch and process open data for given parameters and levels.\n",
    "\n",
    "        Args:\n",
    "            param: List of parameter names.\n",
    "            levelist: List of levels (optional).\n",
    "\n",
    "        Returns:\n",
    "            dict: Dictionary of processed fields.\n",
    "        \"\"\"\n",
    "        # Initialize a dictionary to hold the fields\n",
    "        fields = defaultdict(list)\n",
    "        # Get the data for the current date and the previous date\n",
    "        for date in [DATE - datetime.timedelta(hours=6), DATE]:\n",
    "            data = ekd.from_source(\n",
    "                \"ecmwf-open-data\", date=date, param=param, levelist=levelist\n",
    "            )\n",
    "            for f in data:  # type: ignore\n",
    "                # Open data is between -180 and 180, we need to shift it to 0-360\n",
    "                assert f.to_numpy().shape == (721, 1440)\n",
    "                values = np.roll(f.to_numpy(), -f.shape[1] // 2, axis=1)\n",
    "                # Interpolate the data to from 0.25 to N320\n",
    "                # values = ekr.interpolate(\n",
    "                #     values, {\"grid\": (0.25, 0.25)}, {\"grid\": \"N320\"}\n",
    "                # )\n",
    "                values = values.flatten()\n",
    "                values = TFM_LATLON_N320 * values\n",
    "                # Add the values to the list\n",
    "                name = (\n",
    "                    f\"{f.metadata('param')}_{f.metadata('levelist')}\"\n",
    "                    if levelist\n",
    "                    else f.metadata(\"param\")\n",
    "                )\n",
    "                fields[name].append(values)\n",
    "\n",
    "        # Stack values for each parameter\n",
    "        for param, values in fields.items():\n",
    "            fields[param] = np.stack(values)\n",
    "\n",
    "        return fields\n",
    "\n",
    "    # Create empty fields dictionary\n",
    "    fields = {}\n",
    "    # Get the surface parameters\n",
    "    fields.update(get_open_data(param=IFS_PARAM_SFC))\n",
    "    # Get the soil parameters\n",
    "    soil = get_open_data(param=IFS_PARAM_SOIL, levelist=IFS_SOIL_LEVELS)\n",
    "\n",
    "    # Map the soil parameters to the expected names\n",
    "    mapping = {\"sot_1\": \"stl1\", \"sot_2\": \"stl2\", \"vsw_1\": \"swvl1\", \"vsw_2\": \"swvl2\"}\n",
    "    for k, v in soil.items():\n",
    "        fields[mapping[k]] = v\n",
    "\n",
    "    # Get the pressure level parameters\n",
    "    fields.update(get_open_data(param=IFS_PARAM_PL, levelist=IFS_LEVELS))\n",
    "\n",
    "    # Transform GH to Z (geopotential height to geopotential)\n",
    "    for level in IFS_LEVELS:\n",
    "        gh = fields.pop(f\"gh_{level}\")\n",
    "        fields[f\"z_{level}\"] = gh * 9.80665\n",
    "\n",
    "    input_state = dict(date=DATE, fields=fields)\n",
    "\n",
    "    # Write out the input state to a file with the date in the filename\n",
    "    with open(save_path, \"wb\") as f:\n",
    "        pickle.dump(input_state, f)\n",
    "\n",
    "    return input_state, DATE\n"
   ]
  },
  {
   "cell_type": "markdown",
   "id": "b757415c",
   "metadata": {},
   "source": [
    "### 3.2. Get ERA5 Data\n",
    "\n",
    "The `get_ERA5` function prepares initial conditions from the historical ERA5 dataset for a user-specified date.\n",
    "\n",
    "- It checks if a processed input file for the given date already exists locally.\n",
    "- It selects data for the specified `init_date` and 6 hours prior from the Zarr store.\n",
    "- It renames the variables to the short names required by the model.\n",
    "- It transforms the data from the ERA5 grid to the model's N320 grid.\n",
    "- The final state is saved to a `.pkl` file and returned."
   ]
  },
  {
   "cell_type": "code",
   "execution_count": 4,
   "id": "1c0bcaa6",
   "metadata": {},
   "outputs": [],
   "source": [
    "def get_ERA5(init_date: datetime.datetime) -> dict:\n",
    "    \"\"\"Fetches ERA5 data for a given initialization date and prepares the input state for model inference.\n",
    "    Args:\n",
    "        init_date (datetime): The initialization date for which to fetch the ERA5 data.\n",
    "    Returns:\n",
    "        dict: A dictionary containing the input state with date and fields.\n",
    "    \"\"\"\n",
    "    # Define the surface and pressure level variables for ERA5\n",
    "    # These variables will be used to select the relevant data from the ERA5 dataset\n",
    "    # The variables are mapped to shorter names for input into the model\n",
    "\n",
    "    logging.info(f\"Getting ERA5 data for date {init_date}\")\n",
    "\n",
    "    save_path = (\n",
    "        f\"{INPUT_STATE_PATH}/input_state_{init_date.strftime('%Y%m%dT%H')}_ERA5.pkl\"\n",
    "    )\n",
    "    # Check if the input state already exists\n",
    "    # If it does, load it instead of fetching new data\n",
    "    if os.path.exists(save_path):\n",
    "        logging.info(\n",
    "            f\"Input state for {init_date} already exists locally. Loading from file...\"\n",
    "        )\n",
    "        with open(save_path, \"rb\") as f:\n",
    "            input_state = pickle.load(f)\n",
    "        logging.info(\"Input state loaded successfully.\")\n",
    "        return input_state\n",
    "\n",
    "    # AIFS requires data from 6 hours before the initialization date\n",
    "    init_date_minus_6 = init_date - datetime.timedelta(hours=6)\n",
    "\n",
    "    logging.info(\"Getting pressure level data...\")\n",
    "    pl_ds = (\n",
    "        FULL_ERA5[list(PL_VARS.keys())]\n",
    "        .sel(time=[init_date_minus_6, init_date], level=LEVELS)\n",
    "        .compute()\n",
    "        .rename(PL_VARS)\n",
    "    )\n",
    "\n",
    "    logging.info(\"Getting surface level data...\")\n",
    "    sfc_ds = (\n",
    "        FULL_ERA5[list(SFC_VARS.keys())]\n",
    "        .sel(time=[init_date_minus_6, init_date])\n",
    "        .compute()\n",
    "        .rename(SFC_VARS)\n",
    "    )\n",
    "\n",
    "    # AIFS model expects data on a N320 grid,\n",
    "    # so we need to regrid the ERA5 data\n",
    "    logging.info(\"Processing surface level data...\")\n",
    "    fields_sfc = defaultdict(list)\n",
    "    for date in sfc_ds.time:\n",
    "        sfc_ds_date = sfc_ds.sel(time=date)\n",
    "        for param in SFC_VARS.values():\n",
    "            values = sfc_ds_date[param].to_numpy().flatten()\n",
    "            values = TFM_LATLON_N320 * values\n",
    "            fields_sfc[param].append(values)\n",
    "\n",
    "    logging.info(\"Processing pressure level data...\")\n",
    "    fields_pl = defaultdict(list)\n",
    "    for date in pl_ds.time:\n",
    "        pl_ds_date = pl_ds.sel(time=date)\n",
    "        for param in PL_VARS.values():\n",
    "            for level in LEVELS:\n",
    "                values = pl_ds_date[param].sel(level=level).to_numpy().flatten()\n",
    "                values = TFM_LATLON_N320 * values\n",
    "                fields_pl[f\"{param}_{level}\"].append(values)\n",
    "\n",
    "    logging.info(\"Making input state...\")\n",
    "    # Combine the surface and pressure level fields into a single dictionary\n",
    "    # This dictionary will be used as the input state for the model\n",
    "    fields = {}\n",
    "    fields.update(fields_sfc)\n",
    "    fields.update(fields_pl)\n",
    "\n",
    "    for param, values in fields.items():\n",
    "        fields[param] = np.stack(values)\n",
    "\n",
    "    input_state = dict(date=init_date, fields=fields)\n",
    "\n",
    "    # Save the input state to a file for later use\n",
    "    logging.info(\"Saving input state to file...\")\n",
    "    with open(save_path, \"wb\") as f:\n",
    "        pickle.dump(input_state, f)\n",
    "        logging.info(f\"Input state saved to {save_path}\")\n",
    "\n",
    "    logging.info(f\"Input state for {init_date} created successfully.\")\n",
    "    return input_state"
   ]
  },
  {
   "cell_type": "markdown",
   "id": "41942732",
   "metadata": {},
   "source": [
    "## 4. Inference and Processing\n",
    "\n",
    "With the data-loading functions in place, we can now define the functions for running the inference and processing the results.\n",
    "\n",
    "### 4.1. Process a Single Step\n",
    "\n",
    "The `process_step` function takes the raw output from the model for a single forecast step and makes it usable.\n",
    "\n",
    "- The model's output is on the N320 grid, so this function uses the inverse regridding matrix (`TFM_N320_LATLON`) to transform the data back to a standard 0.25-degree lat-lon grid.\n",
    "- It packages the processed data into a clean `xarray.Dataset`, which is easy to work with and plot."
   ]
  },
  {
   "cell_type": "code",
   "execution_count": 6,
   "id": "2d68c573",
   "metadata": {},
   "outputs": [],
   "source": [
    "def process_step(output_state: dict, step: int) -> xr.Dataset:\n",
    "    \"\"\"Processes the output state of the model for a given step.\n",
    "    Args:\n",
    "        output_state (dict): The output state from the model inference.\n",
    "        step (int): The current step in hours.\n",
    "    Returns:\n",
    "        xr.Dataset: An xarray Dataset containing the processed output state.\n",
    "    \"\"\"\n",
    "    data_vars = {}\n",
    "    # Because the model outputs are in the N320 grid,\n",
    "    # we need to transform them back to the 0.25 degree grid\n",
    "    logging.info(f\"Processing step {step}\")\n",
    "    for field in output_state[\"fields\"]:\n",
    "        values = (\n",
    "            TFM_N320_LATLON * output_state[\"fields\"][field].reshape(-1, 1)\n",
    "        ).reshape(721, 1440)\n",
    "        data_vars[field] = ([\"lat\", \"lon\"], values.astype(np.float32))\n",
    "\n",
    "    # Create an xarray Dataset with the processed data\n",
    "    step_ds = xr.Dataset(\n",
    "        data_vars,\n",
    "        coords={\"lat\": LATITUDES, \"lon\": LONGITUDES},\n",
    "    )\n",
    "    # Add step as an index for concatenation later\n",
    "    step_ds = step_ds.expand_dims(\"step\")\n",
    "    step_ds[\"step\"] = [int(step)]\n",
    "    return step_ds"
   ]
  },
  {
   "cell_type": "markdown",
   "id": "9ba442d2",
   "metadata": {},
   "source": [
    "### 4.2. Run Full Inference\n",
    "\n",
    "The `run_inference` function is the main entry point for running the forecast.\n",
    "\n",
    "- **Parameters**:\n",
    "    - `init_date` (`datetime`): The initialization date for the forecast. If `None`, it uses the latest IFS data. Otherwise, it uses ERA5 data for the specified date.\n",
    "    - `lead_time` (`int`): The forecast length in hours. It must be a multiple of 6.\n",
    "    - `save_vars` (`list`): A list of specific variable names to save. If `None`, all variables are saved, which can consume a lot of memory for long forecasts.\n",
    "- **Workflow**:\n",
    "    1.  Initializes the `SimpleRunner` with the model checkpoint on the GPU.\n",
    "    2.  Calls the appropriate data fetching function (`get_latest_IFS_data` or `get_ERA5`).\n",
    "    3.  Iterates through the forecast steps, from 6 hours up to the `lead_time`.\n",
    "    4.  At each step, it calls `process_step` to transform and store the output.\n",
    "    5.  Concatenates the results from all steps into a single `xarray.Dataset`.\n",
    "    6.  Saves the final dataset to a Zarr file for later use."
   ]
  },
  {
   "cell_type": "code",
   "execution_count": 7,
   "id": "d7857e55",
   "metadata": {},
   "outputs": [],
   "source": [
    "def run_inference(\n",
    "    init_date: datetime.datetime = None, lead_time: int = 360, save_vars: list = None\n",
    ") -> xr.Dataset:\n",
    "    \"\"\"Runs the AIFS model inference for a given initialization date and lead time.\n",
    "    Args:\n",
    "        init_date (datetime): The initialization date for the model. If None, uses the latest IFS data.\n",
    "        lead_time (int): The lead time in hours for the model inference. Must be a multiple of 6 and at least 6.\n",
    "        save_vars (list): List of variable names to save in the output dataset. If None, saves all variables.\n",
    "    Returns:\n",
    "        xr.Dataset: An xarray Dataset containing the model output for the specified lead time.\n",
    "    \"\"\"\n",
    "    # Validate the lead time\n",
    "    # Ensure that the lead time is a multiple of 6 and at least 6 hours\n",
    "    if lead_time < 6 or lead_time % 6 != 0:\n",
    "        raise ValueError(\n",
    "            \"Lead time must be a multiple of 6 hours and at least 6 hours.\"\n",
    "        )\n",
    "\n",
    "    # Validate so the memory usage is manageable\n",
    "    if save_vars is None and lead_time > 120:\n",
    "        logging.warning(\n",
    "            \"Running this model for more than 120 steps and saving all variables is not recommended.\"\n",
    "        )\n",
    "\n",
    "    # If no initialization date is provided, fetch the latest IFS data\n",
    "    # If an initialization date is provided, use it to fetch the ERA5 data\n",
    "    if init_date is None:\n",
    "        ic_src = \"IFS\"\n",
    "        input_state, init_date = get_latest_IFS_data()\n",
    "    else:\n",
    "        ic_src = \"ERA5\"\n",
    "        input_state = get_ERA5(init_date)\n",
    "\n",
    "    # Create the GPU runner for the AIFS model\n",
    "    # This runner will handle the inference process using the model weights\n",
    "    runner = SimpleRunner(CHECKPOINT, device=\"cuda\")\n",
    "    current_step = 0\n",
    "    start_time = time.perf_counter()\n",
    "    logging.info(\"Starting the inference session...\")\n",
    "    current_step_time = time.perf_counter()\n",
    "\n",
    "    # Initialize a list to store the states for each step\n",
    "    # This will be used to concatenate the results into a single dataset later\n",
    "    states = []\n",
    "    for state in runner.run(input_state=input_state, lead_time=lead_time):\n",
    "        print_state(state)\n",
    "        current_step += 6\n",
    "        # Process the output state for the current step\n",
    "        if save_vars is None:\n",
    "            # If no specific variables are requested, process all fields\n",
    "            states.append(process_step(state, current_step))\n",
    "        else:\n",
    "            # If specific variables are requested, filter the fields accordingly\n",
    "            states.append(\n",
    "                process_step(\n",
    "                    {\n",
    "                        \"date\": state[\"date\"],\n",
    "                        \"fields\": {var: state[\"fields\"][var] for var in save_vars},\n",
    "                        \"latitudes\": state[\"latitudes\"],\n",
    "                        \"longitudes\": state[\"longitudes\"],\n",
    "                    },\n",
    "                    current_step,\n",
    "                )\n",
    "            )\n",
    "        # Time tracking for each step\n",
    "        step_time = time.perf_counter()\n",
    "        time_taken = step_time - current_step_time\n",
    "        logging.info(f\"Time taken for step {current_step}: {time_taken:.2f} seconds.\")\n",
    "        current_step_time = step_time\n",
    "    logging.info(\"Inference session completed.\")\n",
    "    logging.info(\n",
    "        f\"Total time taken for the inference session: {time.perf_counter() - start_time:.2f} seconds.\"\n",
    "    )\n",
    "\n",
    "    # Concatenate all the processed states into a single xarray Dataset\n",
    "    # This dataset will contain all the model outputs for the specified lead time\n",
    "    logging.info(\"Concatenating all steps into a single dataset.\")\n",
    "    ds = xr.concat(states, dim=\"step\")\n",
    "\n",
    "    # Clean up the dataset and runner\n",
    "    del states\n",
    "    del runner\n",
    "\n",
    "    # Add the time dimension to the dataset\n",
    "    # The time dimension will be the forecast initialization date\n",
    "    ds = ds.expand_dims(\"time\")\n",
    "    ds[\"time\"] = [pd.to_datetime(input_state[\"date\"])]\n",
    "\n",
    "    # Save the output dataset to a NetCDF file\n",
    "    # Only save the dataset if it does not already exist\n",
    "    save_path = f\"{OUTPUT_STATE_PATH}/init_{ic_src}_{init_date.strftime('%Y%m%dT%H')}_lead_{lead_time}.nc\"\n",
    "    if os.path.exists(save_path):\n",
    "        logging.info(f\"Output file {save_path} already exists. Skipping save.\")\n",
    "    else:\n",
    "        logging.info(f\"Saving output dataset to {save_path}\")\n",
    "        ds.to_netcdf(save_path)\n",
    "    gc.collect()  # Clean up memory\n",
    "    return ds"
   ]
  },
  {
   "cell_type": "markdown",
   "id": "ff5d8e3d",
   "metadata": {},
   "source": [
    "## 5. Execution Example\n",
    "\n",
    "Now, let's run a 120-hour forecast.\n",
    "\n",
    "- We set `init_date=None` to use the latest available IFS data as our initial condition.\n",
    "- We set `lead_time` to 120 hours (5 days).\n",
    "- We specify `save_vars` to only keep the `2t` (2-meter temperature) and `tp` (total precipitation) variables in the final output. This is a good practice to manage memory usage.\n",
    "\n",
    "The model will now run, and you'll see a log of its progress for each 6-hour step."
   ]
  },
  {
   "cell_type": "code",
   "execution_count": 8,
   "id": "423edbf7",
   "metadata": {},
   "outputs": [
    {
     "name": "stderr",
     "output_type": "stream",
     "text": [
      "2025-08-19 15:48:01,438 - INFO - Running inference for initialization date: 2023-06-30 00:00:00\n",
      "2025-08-19 15:48:01,439 - INFO - Getting ERA5 data for date 2023-06-30 00:00:00\n",
      "2025-08-19 15:48:01,440 - INFO - Input state for 2023-06-30 00:00:00 already exists locally. Loading from file...\n",
      "2025-08-19 15:48:05,571 - INFO - Input state loaded successfully.\n",
      "2025-08-19 15:48:05,571 - INFO - Using SimpleRunner runner\n",
      "2025-08-19 15:48:05,572 - INFO - Starting the inference session...\n",
      "2025-08-19 15:48:05,641 - INFO - Computed constant forcings: before ['cos_latitude', 'cos_longitude', 'sin_latitude', 'sin_longitude'], after ['cos_latitude', 'cos_longitude', 'sin_latitude', 'sin_longitude']\n",
      "2025-08-19 15:48:05,642 - INFO - Constant computed forcing: ComputedForcings(['cos_latitude', 'cos_longitude', 'sin_latitude', 'sin_longitude'])\n",
      "2025-08-19 15:48:05,642 - INFO - Dynamic computed forcing: ComputedForcings(['cos_julian_day', 'cos_local_time', 'sin_julian_day', 'sin_local_time', 'insolation'])\n",
      "2025-08-19 15:48:05,643 - INFO - Constant forcings input: ComputedForcings(['cos_latitude', 'cos_longitude', 'sin_latitude', 'sin_longitude']) ['cos_latitude', 'cos_longitude', 'sin_latitude', 'sin_longitude'] ([datetime.datetime(2023, 6, 29, 18, 0), datetime.datetime(2023, 6, 30, 0, 0)])\n",
      "2025-08-19 15:48:05,687 - INFO - Dynamic forcings input: ComputedForcings(['cos_julian_day', 'cos_local_time', 'sin_julian_day', 'sin_local_time', 'insolation']) ['cos_julian_day', 'cos_local_time', 'sin_julian_day', 'sin_local_time', 'insolation'] ([datetime.datetime(2023, 6, 29, 18, 0), datetime.datetime(2023, 6, 30, 0, 0)])\n",
      "2025-08-19 15:48:05,754 - INFO - Expected shape for each input fields: (2, 542080)\n",
      "2025-08-19 15:48:05,988 - INFO - Preparing input tensor with shape (2, 103, 542080)\n",
      "2025-08-19 15:48:16,401 - INFO - Loading Checkpoint(weights/AIFS/aifs-single-mse-1.0.ckpt): 10 seconds.\n",
      "2025-08-19 15:48:16,446 - INFO - Using autocast torch.float16\n",
      "2025-08-19 15:48:16,446 - INFO - Lead time: 15 days, 0:00:00, time stepping: 6:00:00 Forecasting 60 steps\n",
      "2025-08-19 15:48:16,447 - INFO - Forecasting step 6:00:00 (2023-06-30 06:00:00)\n",
      "2025-08-19 15:48:18,514 - INFO - Processing step 6\n",
      "2025-08-19 15:48:18,565 - INFO - Time taken for step 6: 12.99 seconds.\n",
      "2025-08-19 15:48:18,609 - INFO - Forecasting step 12:00:00 (2023-06-30 12:00:00)\n"
     ]
    },
    {
     "name": "stdout",
     "output_type": "stream",
     "text": [
      "\n",
      "😀 date=2023-06-30T06:00:00 latitudes=(542080,) longitudes=(542080,) fields=102\n",
      "\n",
      "    q_50   shape=(542080,) min=1.06017e-06    max=3.14451e-06   \n",
      "    t_1000 shape=(542080,) min=231.488        max=319.61        \n",
      "    v_925  shape=(542080,) min=-37.536        max=47.5312       \n",
      "    z_850  shape=(542080,) min=8884.35        max=16325.7       \n",
      "    swvl2  shape=(542080,) min=0              max=0.763018      \n",
      "    tcc    shape=(542080,) min=0              max=1             \n",
      "\n"
     ]
    },
    {
     "name": "stderr",
     "output_type": "stream",
     "text": [
      "2025-08-19 15:48:20,295 - INFO - Processing step 12\n",
      "2025-08-19 15:48:20,324 - INFO - Time taken for step 12: 1.76 seconds.\n",
      "2025-08-19 15:48:20,363 - INFO - Forecasting step 18:00:00 (2023-06-30 18:00:00)\n"
     ]
    },
    {
     "name": "stdout",
     "output_type": "stream",
     "text": [
      "\n",
      "😀 date=2023-06-30T12:00:00 latitudes=(542080,) longitudes=(542080,) fields=102\n",
      "\n",
      "    q_50   shape=(542080,) min=1.08673e-06    max=3.16788e-06   \n",
      "    t_1000 shape=(542080,) min=231.643        max=324.686       \n",
      "    v_925  shape=(542080,) min=-34.2883       max=41.7049       \n",
      "    z_850  shape=(542080,) min=8776.32        max=16355.4       \n",
      "    swvl2  shape=(542080,) min=0              max=0.761413      \n",
      "    tcc    shape=(542080,) min=0              max=1             \n",
      "\n"
     ]
    },
    {
     "name": "stderr",
     "output_type": "stream",
     "text": [
      "2025-08-19 15:48:21,897 - INFO - Processing step 18\n",
      "2025-08-19 15:48:21,927 - INFO - Time taken for step 18: 1.60 seconds.\n",
      "2025-08-19 15:48:21,963 - INFO - Forecasting step 1 day, 0:00:00 (2023-07-01 00:00:00)\n"
     ]
    },
    {
     "name": "stdout",
     "output_type": "stream",
     "text": [
      "\n",
      "😀 date=2023-06-30T18:00:00 latitudes=(542080,) longitudes=(542080,) fields=102\n",
      "\n",
      "    q_50   shape=(542080,) min=1.09041e-06    max=3.16533e-06   \n",
      "    t_1000 shape=(542080,) min=231.058        max=322.252       \n",
      "    v_925  shape=(542080,) min=-34.9426       max=41.6847       \n",
      "    z_850  shape=(542080,) min=8571.15        max=16283.7       \n",
      "    swvl2  shape=(542080,) min=0              max=0.760066      \n",
      "    tcc    shape=(542080,) min=0              max=1             \n",
      "\n"
     ]
    },
    {
     "name": "stderr",
     "output_type": "stream",
     "text": [
      "2025-08-19 15:48:23,473 - INFO - Processing step 24\n",
      "2025-08-19 15:48:23,493 - INFO - Time taken for step 24: 1.57 seconds.\n",
      "2025-08-19 15:48:23,526 - INFO - Forecasting step 1 day, 6:00:00 (2023-07-01 06:00:00)\n"
     ]
    },
    {
     "name": "stdout",
     "output_type": "stream",
     "text": [
      "\n",
      "😀 date=2023-07-01T00:00:00 latitudes=(542080,) longitudes=(542080,) fields=102\n",
      "\n",
      "    q_50   shape=(542080,) min=1.11988e-06    max=3.16791e-06   \n",
      "    t_1000 shape=(542080,) min=229.161        max=318.677       \n",
      "    v_925  shape=(542080,) min=-32.8578       max=47.9911       \n",
      "    z_850  shape=(542080,) min=8388.41        max=16252.2       \n",
      "    swvl2  shape=(542080,) min=0              max=0.758765      \n",
      "    tcc    shape=(542080,) min=0              max=1             \n",
      "\n"
     ]
    },
    {
     "name": "stderr",
     "output_type": "stream",
     "text": [
      "2025-08-19 15:48:25,056 - INFO - Processing step 30\n",
      "2025-08-19 15:48:25,080 - INFO - Time taken for step 30: 1.59 seconds.\n",
      "2025-08-19 15:48:25,115 - INFO - Forecasting step 1 day, 12:00:00 (2023-07-01 12:00:00)\n"
     ]
    },
    {
     "name": "stdout",
     "output_type": "stream",
     "text": [
      "\n",
      "😀 date=2023-07-01T06:00:00 latitudes=(542080,) longitudes=(542080,) fields=102\n",
      "\n",
      "    q_50   shape=(542080,) min=1.1647e-06     max=3.18139e-06   \n",
      "    t_1000 shape=(542080,) min=228.653        max=321.28        \n",
      "    v_925  shape=(542080,) min=-31.5365       max=51.9234       \n",
      "    z_850  shape=(542080,) min=8337.36        max=16062.6       \n",
      "    swvl2  shape=(542080,) min=0              max=0.757425      \n",
      "    tcc    shape=(542080,) min=0              max=1             \n",
      "\n"
     ]
    },
    {
     "name": "stderr",
     "output_type": "stream",
     "text": [
      "2025-08-19 15:48:26,921 - INFO - Processing step 36\n",
      "2025-08-19 15:48:26,944 - INFO - Time taken for step 36: 1.58 seconds.\n",
      "2025-08-19 15:48:26,980 - INFO - Forecasting step 1 day, 18:00:00 (2023-07-01 18:00:00)\n"
     ]
    },
    {
     "name": "stdout",
     "output_type": "stream",
     "text": [
      "\n",
      "😀 date=2023-07-01T12:00:00 latitudes=(542080,) longitudes=(542080,) fields=102\n",
      "\n",
      "    q_50   shape=(542080,) min=1.03551e-06    max=3.18694e-06   \n",
      "    t_1000 shape=(542080,) min=228.004        max=325.459       \n",
      "    v_925  shape=(542080,) min=-34.2575       max=49.8302       \n",
      "    z_850  shape=(542080,) min=8093.33        max=16058.1       \n",
      "    swvl2  shape=(542080,) min=0              max=0.756184      \n",
      "    tcc    shape=(542080,) min=0              max=1             \n",
      "\n"
     ]
    },
    {
     "name": "stderr",
     "output_type": "stream",
     "text": [
      "2025-08-19 15:48:28,659 - INFO - Processing step 42\n",
      "2025-08-19 15:48:28,685 - INFO - Time taken for step 42: 1.74 seconds.\n",
      "2025-08-19 15:48:28,723 - INFO - Forecasting step 2 days, 0:00:00 (2023-07-02 00:00:00)\n"
     ]
    },
    {
     "name": "stdout",
     "output_type": "stream",
     "text": [
      "\n",
      "😀 date=2023-07-01T18:00:00 latitudes=(542080,) longitudes=(542080,) fields=102\n",
      "\n",
      "    q_50   shape=(542080,) min=1.04705e-06    max=3.19045e-06   \n",
      "    t_1000 shape=(542080,) min=228.973        max=323.141       \n",
      "    v_925  shape=(542080,) min=-32.4012       max=49.6757       \n",
      "    z_850  shape=(542080,) min=7966.41        max=15987.5       \n",
      "    swvl2  shape=(542080,) min=0              max=0.754995      \n",
      "    tcc    shape=(542080,) min=0              max=1             \n",
      "\n"
     ]
    },
    {
     "name": "stderr",
     "output_type": "stream",
     "text": [
      "2025-08-19 15:48:30,313 - INFO - Processing step 48\n",
      "2025-08-19 15:48:30,337 - INFO - Time taken for step 48: 1.65 seconds.\n",
      "2025-08-19 15:48:30,377 - INFO - Forecasting step 2 days, 6:00:00 (2023-07-02 06:00:00)\n"
     ]
    },
    {
     "name": "stdout",
     "output_type": "stream",
     "text": [
      "\n",
      "😀 date=2023-07-02T00:00:00 latitudes=(542080,) longitudes=(542080,) fields=102\n",
      "\n",
      "    q_50   shape=(542080,) min=9.94879e-07    max=3.18952e-06   \n",
      "    t_1000 shape=(542080,) min=229.343        max=319.288       \n",
      "    v_925  shape=(542080,) min=-33.7735       max=50.2572       \n",
      "    z_850  shape=(542080,) min=8092.86        max=15991.8       \n",
      "    swvl2  shape=(542080,) min=0              max=0.753828      \n",
      "    tcc    shape=(542080,) min=0              max=1             \n",
      "\n"
     ]
    },
    {
     "name": "stderr",
     "output_type": "stream",
     "text": [
      "2025-08-19 15:48:31,894 - INFO - Processing step 54\n",
      "2025-08-19 15:48:31,915 - INFO - Time taken for step 54: 1.58 seconds.\n",
      "2025-08-19 15:48:31,951 - INFO - Forecasting step 2 days, 12:00:00 (2023-07-02 12:00:00)\n"
     ]
    },
    {
     "name": "stdout",
     "output_type": "stream",
     "text": [
      "\n",
      "😀 date=2023-07-02T06:00:00 latitudes=(542080,) longitudes=(542080,) fields=102\n",
      "\n",
      "    q_50   shape=(542080,) min=1.0675e-06     max=3.1841e-06    \n",
      "    t_1000 shape=(542080,) min=229.899        max=321.274       \n",
      "    v_925  shape=(542080,) min=-36.4074       max=48.9036       \n",
      "    z_850  shape=(542080,) min=8298.38        max=15876.1       \n",
      "    swvl2  shape=(542080,) min=0              max=0.75251       \n",
      "    tcc    shape=(542080,) min=0              max=1             \n",
      "\n"
     ]
    },
    {
     "name": "stderr",
     "output_type": "stream",
     "text": [
      "2025-08-19 15:48:33,444 - INFO - Processing step 60\n",
      "2025-08-19 15:48:33,465 - INFO - Time taken for step 60: 1.55 seconds.\n",
      "2025-08-19 15:48:33,500 - INFO - Forecasting step 2 days, 18:00:00 (2023-07-02 18:00:00)\n"
     ]
    },
    {
     "name": "stdout",
     "output_type": "stream",
     "text": [
      "\n",
      "😀 date=2023-07-02T12:00:00 latitudes=(542080,) longitudes=(542080,) fields=102\n",
      "\n",
      "    q_50   shape=(542080,) min=1.0678e-06     max=3.18266e-06   \n",
      "    t_1000 shape=(542080,) min=228.402        max=325.001       \n",
      "    v_925  shape=(542080,) min=-35.0936       max=45.6373       \n",
      "    z_850  shape=(542080,) min=8527.79        max=15963.7       \n",
      "    swvl2  shape=(542080,) min=0              max=0.751355      \n",
      "    tcc    shape=(542080,) min=0              max=1             \n",
      "\n"
     ]
    },
    {
     "name": "stderr",
     "output_type": "stream",
     "text": [
      "2025-08-19 15:48:35,041 - INFO - Processing step 66\n",
      "2025-08-19 15:48:35,062 - INFO - Time taken for step 66: 1.60 seconds.\n",
      "2025-08-19 15:48:35,100 - INFO - Forecasting step 3 days, 0:00:00 (2023-07-03 00:00:00)\n"
     ]
    },
    {
     "name": "stdout",
     "output_type": "stream",
     "text": [
      "\n",
      "😀 date=2023-07-02T18:00:00 latitudes=(542080,) longitudes=(542080,) fields=102\n",
      "\n",
      "    q_50   shape=(542080,) min=1.09037e-06    max=3.18694e-06   \n",
      "    t_1000 shape=(542080,) min=228.501        max=322.894       \n",
      "    v_925  shape=(542080,) min=-36.0504       max=41.5236       \n",
      "    z_850  shape=(542080,) min=8616.37        max=15955.3       \n",
      "    swvl2  shape=(542080,) min=0              max=0.750373      \n",
      "    tcc    shape=(542080,) min=0              max=1             \n",
      "\n"
     ]
    },
    {
     "name": "stderr",
     "output_type": "stream",
     "text": [
      "2025-08-19 15:48:36,673 - INFO - Processing step 72\n",
      "2025-08-19 15:48:36,695 - INFO - Time taken for step 72: 1.63 seconds.\n",
      "2025-08-19 15:48:36,728 - INFO - Forecasting step 3 days, 6:00:00 (2023-07-03 06:00:00)\n"
     ]
    },
    {
     "name": "stdout",
     "output_type": "stream",
     "text": [
      "\n",
      "😀 date=2023-07-03T00:00:00 latitudes=(542080,) longitudes=(542080,) fields=102\n",
      "\n",
      "    q_50   shape=(542080,) min=1.09747e-06    max=3.18715e-06   \n",
      "    t_1000 shape=(542080,) min=228.266        max=319.379       \n",
      "    v_925  shape=(542080,) min=-31.8195       max=40.5632       \n",
      "    z_850  shape=(542080,) min=8683.59        max=15986.7       \n",
      "    swvl2  shape=(542080,) min=0              max=0.749565      \n",
      "    tcc    shape=(542080,) min=0              max=1             \n",
      "\n"
     ]
    },
    {
     "name": "stderr",
     "output_type": "stream",
     "text": [
      "2025-08-19 15:48:38,242 - INFO - Processing step 78\n",
      "2025-08-19 15:48:38,267 - INFO - Time taken for step 78: 1.57 seconds.\n",
      "2025-08-19 15:48:38,303 - INFO - Forecasting step 3 days, 12:00:00 (2023-07-03 12:00:00)\n"
     ]
    },
    {
     "name": "stdout",
     "output_type": "stream",
     "text": [
      "\n",
      "😀 date=2023-07-03T06:00:00 latitudes=(542080,) longitudes=(542080,) fields=102\n",
      "\n",
      "    q_50   shape=(542080,) min=1.12416e-06    max=3.18921e-06   \n",
      "    t_1000 shape=(542080,) min=229.091        max=320.251       \n",
      "    v_925  shape=(542080,) min=-33.4425       max=38.6243       \n",
      "    z_850  shape=(542080,) min=8880.96        max=16006.4       \n",
      "    swvl2  shape=(542080,) min=0              max=0.748418      \n",
      "    tcc    shape=(542080,) min=0              max=1             \n",
      "\n"
     ]
    },
    {
     "name": "stderr",
     "output_type": "stream",
     "text": [
      "2025-08-19 15:48:39,769 - INFO - Processing step 84\n",
      "2025-08-19 15:48:39,793 - INFO - Time taken for step 84: 1.53 seconds.\n",
      "2025-08-19 15:48:39,826 - INFO - Forecasting step 3 days, 18:00:00 (2023-07-03 18:00:00)\n"
     ]
    },
    {
     "name": "stdout",
     "output_type": "stream",
     "text": [
      "\n",
      "😀 date=2023-07-03T12:00:00 latitudes=(542080,) longitudes=(542080,) fields=102\n",
      "\n",
      "    q_50   shape=(542080,) min=1.06603e-06    max=3.19499e-06   \n",
      "    t_1000 shape=(542080,) min=228.253        max=324.157       \n",
      "    v_925  shape=(542080,) min=-31.0171       max=34.6225       \n",
      "    z_850  shape=(542080,) min=9112.6         max=15977.6       \n",
      "    swvl2  shape=(542080,) min=0              max=0.747337      \n",
      "    tcc    shape=(542080,) min=0              max=1             \n",
      "\n"
     ]
    },
    {
     "name": "stderr",
     "output_type": "stream",
     "text": [
      "2025-08-19 15:48:41,357 - INFO - Processing step 90\n",
      "2025-08-19 15:48:41,383 - INFO - Time taken for step 90: 1.59 seconds.\n",
      "2025-08-19 15:48:41,419 - INFO - Forecasting step 4 days, 0:00:00 (2023-07-04 00:00:00)\n"
     ]
    },
    {
     "name": "stdout",
     "output_type": "stream",
     "text": [
      "\n",
      "😀 date=2023-07-03T18:00:00 latitudes=(542080,) longitudes=(542080,) fields=102\n",
      "\n",
      "    q_50   shape=(542080,) min=1.09045e-06    max=3.20177e-06   \n",
      "    t_1000 shape=(542080,) min=228.281        max=322.225       \n",
      "    v_925  shape=(542080,) min=-29.5837       max=30.4922       \n",
      "    z_850  shape=(542080,) min=9184.55        max=15980.5       \n",
      "    swvl2  shape=(542080,) min=0              max=0.746704      \n",
      "    tcc    shape=(542080,) min=0              max=1             \n",
      "\n"
     ]
    },
    {
     "name": "stderr",
     "output_type": "stream",
     "text": [
      "2025-08-19 15:48:43,044 - INFO - Processing step 96\n",
      "2025-08-19 15:48:43,068 - INFO - Time taken for step 96: 1.69 seconds.\n",
      "2025-08-19 15:48:43,109 - INFO - Forecasting step 4 days, 6:00:00 (2023-07-04 06:00:00)\n"
     ]
    },
    {
     "name": "stdout",
     "output_type": "stream",
     "text": [
      "\n",
      "😀 date=2023-07-04T00:00:00 latitudes=(542080,) longitudes=(542080,) fields=102\n",
      "\n",
      "    q_50   shape=(542080,) min=1.10494e-06    max=3.20692e-06   \n",
      "    t_1000 shape=(542080,) min=224.804        max=319.144       \n",
      "    v_925  shape=(542080,) min=-31.8773       max=30.1301       \n",
      "    z_850  shape=(542080,) min=9148.78        max=16021.7       \n",
      "    swvl2  shape=(542080,) min=0              max=0.746433      \n",
      "    tcc    shape=(542080,) min=0              max=1             \n",
      "\n"
     ]
    },
    {
     "name": "stderr",
     "output_type": "stream",
     "text": [
      "2025-08-19 15:48:44,724 - INFO - Processing step 102\n",
      "2025-08-19 15:48:44,748 - INFO - Time taken for step 102: 1.68 seconds.\n",
      "2025-08-19 15:48:44,782 - INFO - Forecasting step 4 days, 12:00:00 (2023-07-04 12:00:00)\n"
     ]
    },
    {
     "name": "stdout",
     "output_type": "stream",
     "text": [
      "\n",
      "😀 date=2023-07-04T06:00:00 latitudes=(542080,) longitudes=(542080,) fields=102\n",
      "\n",
      "    q_50   shape=(542080,) min=1.14095e-06    max=3.20841e-06   \n",
      "    t_1000 shape=(542080,) min=224.242        max=318.334       \n",
      "    v_925  shape=(542080,) min=-35.5804       max=30.3049       \n",
      "    z_850  shape=(542080,) min=9168.67        max=16070.2       \n",
      "    swvl2  shape=(542080,) min=0              max=0.744662      \n",
      "    tcc    shape=(542080,) min=0              max=1             \n",
      "\n"
     ]
    },
    {
     "name": "stderr",
     "output_type": "stream",
     "text": [
      "2025-08-19 15:48:46,415 - INFO - Processing step 108\n",
      "2025-08-19 15:48:46,438 - INFO - Time taken for step 108: 1.69 seconds.\n",
      "2025-08-19 15:48:46,473 - INFO - Forecasting step 4 days, 18:00:00 (2023-07-04 18:00:00)\n"
     ]
    },
    {
     "name": "stdout",
     "output_type": "stream",
     "text": [
      "\n",
      "😀 date=2023-07-04T12:00:00 latitudes=(542080,) longitudes=(542080,) fields=102\n",
      "\n",
      "    q_50   shape=(542080,) min=1.14954e-06    max=3.21273e-06   \n",
      "    t_1000 shape=(542080,) min=224.415        max=323.252       \n",
      "    v_925  shape=(542080,) min=-32.5888       max=30.569        \n",
      "    z_850  shape=(542080,) min=9234.78        max=16043         \n",
      "    swvl2  shape=(542080,) min=0              max=0.743761      \n",
      "    tcc    shape=(542080,) min=0              max=1             \n",
      "\n"
     ]
    },
    {
     "name": "stderr",
     "output_type": "stream",
     "text": [
      "2025-08-19 15:48:47,980 - INFO - Processing step 114\n",
      "2025-08-19 15:48:48,000 - INFO - Time taken for step 114: 1.56 seconds.\n",
      "2025-08-19 15:48:48,035 - INFO - Forecasting step 5 days, 0:00:00 (2023-07-05 00:00:00)\n"
     ]
    },
    {
     "name": "stdout",
     "output_type": "stream",
     "text": [
      "\n",
      "😀 date=2023-07-04T18:00:00 latitudes=(542080,) longitudes=(542080,) fields=102\n",
      "\n",
      "    q_50   shape=(542080,) min=1.20201e-06    max=3.20772e-06   \n",
      "    t_1000 shape=(542080,) min=225.047        max=321.134       \n",
      "    v_925  shape=(542080,) min=-32.227        max=31.038        \n",
      "    z_850  shape=(542080,) min=9266.87        max=16088.6       \n",
      "    swvl2  shape=(542080,) min=0              max=0.742986      \n",
      "    tcc    shape=(542080,) min=0              max=1             \n",
      "\n"
     ]
    },
    {
     "name": "stderr",
     "output_type": "stream",
     "text": [
      "2025-08-19 15:48:49,545 - INFO - Processing step 120\n",
      "2025-08-19 15:48:49,567 - INFO - Time taken for step 120: 1.57 seconds.\n",
      "2025-08-19 15:48:49,596 - INFO - Forecasting step 5 days, 6:00:00 (2023-07-05 06:00:00)\n"
     ]
    },
    {
     "name": "stdout",
     "output_type": "stream",
     "text": [
      "\n",
      "😀 date=2023-07-05T00:00:00 latitudes=(542080,) longitudes=(542080,) fields=102\n",
      "\n",
      "    q_50   shape=(542080,) min=1.24703e-06    max=3.20606e-06   \n",
      "    t_1000 shape=(542080,) min=225.398        max=320.004       \n",
      "    v_925  shape=(542080,) min=-31.5092       max=28.2289       \n",
      "    z_850  shape=(542080,) min=9262.44        max=16097.3       \n",
      "    swvl2  shape=(542080,) min=0              max=0.742251      \n",
      "    tcc    shape=(542080,) min=0              max=1             \n",
      "\n"
     ]
    },
    {
     "name": "stderr",
     "output_type": "stream",
     "text": [
      "2025-08-19 15:48:51,188 - INFO - Processing step 126\n",
      "2025-08-19 15:48:51,212 - INFO - Time taken for step 126: 1.65 seconds.\n",
      "2025-08-19 15:48:51,250 - INFO - Forecasting step 5 days, 12:00:00 (2023-07-05 12:00:00)\n"
     ]
    },
    {
     "name": "stdout",
     "output_type": "stream",
     "text": [
      "\n",
      "😀 date=2023-07-05T06:00:00 latitudes=(542080,) longitudes=(542080,) fields=102\n",
      "\n",
      "    q_50   shape=(542080,) min=1.28444e-06    max=3.19994e-06   \n",
      "    t_1000 shape=(542080,) min=227.107        max=318.506       \n",
      "    v_925  shape=(542080,) min=-28.6244       max=26.9868       \n",
      "    z_850  shape=(542080,) min=9342.01        max=16102.5       \n",
      "    swvl2  shape=(542080,) min=0              max=0.741276      \n",
      "    tcc    shape=(542080,) min=0              max=1             \n",
      "\n"
     ]
    },
    {
     "name": "stderr",
     "output_type": "stream",
     "text": [
      "2025-08-19 15:48:52,892 - INFO - Processing step 132\n",
      "2025-08-19 15:48:52,914 - INFO - Time taken for step 132: 1.70 seconds.\n",
      "2025-08-19 15:48:52,949 - INFO - Forecasting step 5 days, 18:00:00 (2023-07-05 18:00:00)\n"
     ]
    },
    {
     "name": "stdout",
     "output_type": "stream",
     "text": [
      "\n",
      "😀 date=2023-07-05T12:00:00 latitudes=(542080,) longitudes=(542080,) fields=102\n",
      "\n",
      "    q_50   shape=(542080,) min=1.28289e-06    max=3.19597e-06   \n",
      "    t_1000 shape=(542080,) min=226.819        max=322.916       \n",
      "    v_925  shape=(542080,) min=-30.8265       max=28.7718       \n",
      "    z_850  shape=(542080,) min=9201.55        max=16049.5       \n",
      "    swvl2  shape=(542080,) min=0              max=0.740385      \n",
      "    tcc    shape=(542080,) min=0              max=1             \n",
      "\n"
     ]
    },
    {
     "name": "stderr",
     "output_type": "stream",
     "text": [
      "2025-08-19 15:48:54,453 - INFO - Processing step 138\n",
      "2025-08-19 15:48:54,475 - INFO - Time taken for step 138: 1.56 seconds.\n",
      "2025-08-19 15:48:54,524 - INFO - Forecasting step 6 days, 0:00:00 (2023-07-06 00:00:00)\n"
     ]
    },
    {
     "name": "stdout",
     "output_type": "stream",
     "text": [
      "\n",
      "😀 date=2023-07-05T18:00:00 latitudes=(542080,) longitudes=(542080,) fields=102\n",
      "\n",
      "    q_50   shape=(542080,) min=8.71503e-07    max=3.19251e-06   \n",
      "    t_1000 shape=(542080,) min=225.424        max=321.559       \n",
      "    v_925  shape=(542080,) min=-31.4893       max=28.2154       \n",
      "    z_850  shape=(542080,) min=9236.24        max=16109.1       \n",
      "    swvl2  shape=(542080,) min=0              max=0.739525      \n",
      "    tcc    shape=(542080,) min=0              max=1             \n",
      "\n"
     ]
    },
    {
     "name": "stderr",
     "output_type": "stream",
     "text": [
      "2025-08-19 15:48:56,086 - INFO - Processing step 144\n",
      "2025-08-19 15:48:56,112 - INFO - Time taken for step 144: 1.64 seconds.\n",
      "2025-08-19 15:48:56,150 - INFO - Forecasting step 6 days, 6:00:00 (2023-07-06 06:00:00)\n"
     ]
    },
    {
     "name": "stdout",
     "output_type": "stream",
     "text": [
      "\n",
      "😀 date=2023-07-06T00:00:00 latitudes=(542080,) longitudes=(542080,) fields=102\n",
      "\n",
      "    q_50   shape=(542080,) min=4.32104e-07    max=3.18791e-06   \n",
      "    t_1000 shape=(542080,) min=223.371        max=319.088       \n",
      "    v_925  shape=(542080,) min=-29.6216       max=32.5519       \n",
      "    z_850  shape=(542080,) min=9489.47        max=16143.8       \n",
      "    swvl2  shape=(542080,) min=0              max=0.73894       \n",
      "    tcc    shape=(542080,) min=0              max=1             \n",
      "\n"
     ]
    },
    {
     "name": "stderr",
     "output_type": "stream",
     "text": [
      "2025-08-19 15:48:57,929 - INFO - Processing step 150\n",
      "2025-08-19 15:48:57,950 - INFO - Time taken for step 150: 1.59 seconds.\n",
      "2025-08-19 15:48:57,985 - INFO - Forecasting step 6 days, 12:00:00 (2023-07-06 12:00:00)\n"
     ]
    },
    {
     "name": "stdout",
     "output_type": "stream",
     "text": [
      "\n",
      "😀 date=2023-07-06T06:00:00 latitudes=(542080,) longitudes=(542080,) fields=102\n",
      "\n",
      "    q_50   shape=(542080,) min=6.77547e-07    max=3.18268e-06   \n",
      "    t_1000 shape=(542080,) min=221.764        max=317.948       \n",
      "    v_925  shape=(542080,) min=-29.5581       max=34.4675       \n",
      "    z_850  shape=(542080,) min=9492.11        max=16142.2       \n",
      "    swvl2  shape=(542080,) min=0              max=0.738184      \n",
      "    tcc    shape=(542080,) min=0              max=1             \n",
      "\n"
     ]
    },
    {
     "name": "stderr",
     "output_type": "stream",
     "text": [
      "2025-08-19 15:48:59,629 - INFO - Processing step 156\n",
      "2025-08-19 15:48:59,656 - INFO - Time taken for step 156: 1.71 seconds.\n",
      "2025-08-19 15:48:59,692 - INFO - Forecasting step 6 days, 18:00:00 (2023-07-06 18:00:00)\n"
     ]
    },
    {
     "name": "stdout",
     "output_type": "stream",
     "text": [
      "\n",
      "😀 date=2023-07-06T12:00:00 latitudes=(542080,) longitudes=(542080,) fields=102\n",
      "\n",
      "    q_50   shape=(542080,) min=3.64016e-07    max=3.17657e-06   \n",
      "    t_1000 shape=(542080,) min=223.668        max=322.488       \n",
      "    v_925  shape=(542080,) min=-34.1921       max=34.1523       \n",
      "    z_850  shape=(542080,) min=9219.14        max=16095.3       \n",
      "    swvl2  shape=(542080,) min=0              max=0.738036      \n",
      "    tcc    shape=(542080,) min=0              max=1             \n",
      "\n"
     ]
    },
    {
     "name": "stderr",
     "output_type": "stream",
     "text": [
      "2025-08-19 15:49:01,329 - INFO - Processing step 162\n",
      "2025-08-19 15:49:01,352 - INFO - Time taken for step 162: 1.70 seconds.\n",
      "2025-08-19 15:49:01,385 - INFO - Forecasting step 7 days, 0:00:00 (2023-07-07 00:00:00)\n"
     ]
    },
    {
     "name": "stdout",
     "output_type": "stream",
     "text": [
      "\n",
      "😀 date=2023-07-06T18:00:00 latitudes=(542080,) longitudes=(542080,) fields=102\n",
      "\n",
      "    q_50   shape=(542080,) min=1.77367e-07    max=3.1727e-06    \n",
      "    t_1000 shape=(542080,) min=227.041        max=321.159       \n",
      "    v_925  shape=(542080,) min=-33.2475       max=29.3156       \n",
      "    z_850  shape=(542080,) min=9087.33        max=16117.3       \n",
      "    swvl2  shape=(542080,) min=0              max=0.736846      \n",
      "    tcc    shape=(542080,) min=0              max=1             \n",
      "\n"
     ]
    },
    {
     "name": "stderr",
     "output_type": "stream",
     "text": [
      "2025-08-19 15:49:02,897 - INFO - Processing step 168\n",
      "2025-08-19 15:49:02,918 - INFO - Time taken for step 168: 1.57 seconds.\n",
      "2025-08-19 15:49:02,953 - INFO - Forecasting step 7 days, 6:00:00 (2023-07-07 06:00:00)\n"
     ]
    },
    {
     "name": "stdout",
     "output_type": "stream",
     "text": [
      "\n",
      "😀 date=2023-07-07T00:00:00 latitudes=(542080,) longitudes=(542080,) fields=102\n",
      "\n",
      "    q_50   shape=(542080,) min=5.08625e-07    max=3.17188e-06   \n",
      "    t_1000 shape=(542080,) min=228.936        max=318.805       \n",
      "    v_925  shape=(542080,) min=-32.3771       max=26.032        \n",
      "    z_850  shape=(542080,) min=9099.97        max=16126.6       \n",
      "    swvl2  shape=(542080,) min=0              max=0.736417      \n",
      "    tcc    shape=(542080,) min=0              max=1             \n",
      "\n"
     ]
    },
    {
     "name": "stderr",
     "output_type": "stream",
     "text": [
      "2025-08-19 15:49:04,525 - INFO - Processing step 174\n",
      "2025-08-19 15:49:04,548 - INFO - Time taken for step 174: 1.63 seconds.\n",
      "2025-08-19 15:49:04,582 - INFO - Forecasting step 7 days, 12:00:00 (2023-07-07 12:00:00)\n"
     ]
    },
    {
     "name": "stdout",
     "output_type": "stream",
     "text": [
      "\n",
      "😀 date=2023-07-07T06:00:00 latitudes=(542080,) longitudes=(542080,) fields=102\n",
      "\n",
      "    q_50   shape=(542080,) min=8.62816e-07    max=3.16901e-06   \n",
      "    t_1000 shape=(542080,) min=231.016        max=317.187       \n",
      "    v_925  shape=(542080,) min=-27.4478       max=24.8782       \n",
      "    z_850  shape=(542080,) min=9096.66        max=16101.1       \n",
      "    swvl2  shape=(542080,) min=0              max=0.735784      \n",
      "    tcc    shape=(542080,) min=0              max=1             \n",
      "\n"
     ]
    },
    {
     "name": "stderr",
     "output_type": "stream",
     "text": [
      "2025-08-19 15:49:06,111 - INFO - Processing step 180\n",
      "2025-08-19 15:49:06,132 - INFO - Time taken for step 180: 1.58 seconds.\n",
      "2025-08-19 15:49:06,182 - INFO - Forecasting step 7 days, 18:00:00 (2023-07-07 18:00:00)\n"
     ]
    },
    {
     "name": "stdout",
     "output_type": "stream",
     "text": [
      "\n",
      "😀 date=2023-07-07T12:00:00 latitudes=(542080,) longitudes=(542080,) fields=102\n",
      "\n",
      "    q_50   shape=(542080,) min=9.57435e-07    max=3.16875e-06   \n",
      "    t_1000 shape=(542080,) min=229.899        max=321.777       \n",
      "    v_925  shape=(542080,) min=-25.6432       max=26.2587       \n",
      "    z_850  shape=(542080,) min=9146.8         max=16044.7       \n",
      "    swvl2  shape=(542080,) min=0              max=0.735092      \n",
      "    tcc    shape=(542080,) min=0              max=1             \n",
      "\n"
     ]
    },
    {
     "name": "stderr",
     "output_type": "stream",
     "text": [
      "2025-08-19 15:49:07,720 - INFO - Processing step 186\n",
      "2025-08-19 15:49:07,744 - INFO - Time taken for step 186: 1.61 seconds.\n",
      "2025-08-19 15:49:07,780 - INFO - Forecasting step 8 days, 0:00:00 (2023-07-08 00:00:00)\n"
     ]
    },
    {
     "name": "stdout",
     "output_type": "stream",
     "text": [
      "\n",
      "😀 date=2023-07-07T18:00:00 latitudes=(542080,) longitudes=(542080,) fields=102\n",
      "\n",
      "    q_50   shape=(542080,) min=1.15984e-06    max=3.16759e-06   \n",
      "    t_1000 shape=(542080,) min=229.145        max=320.665       \n",
      "    v_925  shape=(542080,) min=-24.9853       max=26.9329       \n",
      "    z_850  shape=(542080,) min=9136.05        max=16040.8       \n",
      "    swvl2  shape=(542080,) min=0              max=0.734433      \n",
      "    tcc    shape=(542080,) min=0              max=1             \n",
      "\n"
     ]
    },
    {
     "name": "stderr",
     "output_type": "stream",
     "text": [
      "2025-08-19 15:49:09,301 - INFO - Processing step 192\n",
      "2025-08-19 15:49:09,327 - INFO - Time taken for step 192: 1.58 seconds.\n",
      "2025-08-19 15:49:09,362 - INFO - Forecasting step 8 days, 6:00:00 (2023-07-08 06:00:00)\n"
     ]
    },
    {
     "name": "stdout",
     "output_type": "stream",
     "text": [
      "\n",
      "😀 date=2023-07-08T00:00:00 latitudes=(542080,) longitudes=(542080,) fields=102\n",
      "\n",
      "    q_50   shape=(542080,) min=1.24689e-06    max=3.16715e-06   \n",
      "    t_1000 shape=(542080,) min=229.912        max=318.024       \n",
      "    v_925  shape=(542080,) min=-28.7068       max=26.9888       \n",
      "    z_850  shape=(542080,) min=9269.27        max=16060.8       \n",
      "    swvl2  shape=(542080,) min=0              max=0.734043      \n",
      "    tcc    shape=(542080,) min=0              max=1             \n",
      "\n"
     ]
    },
    {
     "name": "stderr",
     "output_type": "stream",
     "text": [
      "2025-08-19 15:49:10,922 - INFO - Processing step 198\n",
      "2025-08-19 15:49:10,943 - INFO - Time taken for step 198: 1.62 seconds.\n",
      "2025-08-19 15:49:10,979 - INFO - Forecasting step 8 days, 12:00:00 (2023-07-08 12:00:00)\n"
     ]
    },
    {
     "name": "stdout",
     "output_type": "stream",
     "text": [
      "\n",
      "😀 date=2023-07-08T06:00:00 latitudes=(542080,) longitudes=(542080,) fields=102\n",
      "\n",
      "    q_50   shape=(542080,) min=1.26265e-06    max=3.16589e-06   \n",
      "    t_1000 shape=(542080,) min=229.925        max=316.47        \n",
      "    v_925  shape=(542080,) min=-29.6155       max=30.1648       \n",
      "    z_850  shape=(542080,) min=9340.8         max=16025.7       \n",
      "    swvl2  shape=(542080,) min=0              max=0.738235      \n",
      "    tcc    shape=(542080,) min=0              max=1             \n",
      "\n"
     ]
    },
    {
     "name": "stderr",
     "output_type": "stream",
     "text": [
      "2025-08-19 15:49:12,539 - INFO - Processing step 204\n",
      "2025-08-19 15:49:12,563 - INFO - Time taken for step 204: 1.62 seconds.\n",
      "2025-08-19 15:49:12,596 - INFO - Forecasting step 8 days, 18:00:00 (2023-07-08 18:00:00)\n"
     ]
    },
    {
     "name": "stdout",
     "output_type": "stream",
     "text": [
      "\n",
      "😀 date=2023-07-08T12:00:00 latitudes=(542080,) longitudes=(542080,) fields=102\n",
      "\n",
      "    q_50   shape=(542080,) min=1.26711e-06    max=3.16784e-06   \n",
      "    t_1000 shape=(542080,) min=230.028        max=322.475       \n",
      "    v_925  shape=(542080,) min=-29.8546       max=26.086        \n",
      "    z_850  shape=(542080,) min=9414.8         max=16047.1       \n",
      "    swvl2  shape=(542080,) min=0              max=0.741218      \n",
      "    tcc    shape=(542080,) min=0              max=1             \n",
      "\n"
     ]
    },
    {
     "name": "stderr",
     "output_type": "stream",
     "text": [
      "2025-08-19 15:49:14,142 - INFO - Processing step 210\n",
      "2025-08-19 15:49:14,162 - INFO - Time taken for step 210: 1.60 seconds.\n",
      "2025-08-19 15:49:14,194 - INFO - Forecasting step 9 days, 0:00:00 (2023-07-09 00:00:00)\n"
     ]
    },
    {
     "name": "stdout",
     "output_type": "stream",
     "text": [
      "\n",
      "😀 date=2023-07-08T18:00:00 latitudes=(542080,) longitudes=(542080,) fields=102\n",
      "\n",
      "    q_50   shape=(542080,) min=1.28167e-06    max=3.17073e-06   \n",
      "    t_1000 shape=(542080,) min=230.291        max=320.557       \n",
      "    v_925  shape=(542080,) min=-28.7317       max=23.5024       \n",
      "    z_850  shape=(542080,) min=9424.12        max=16083.6       \n",
      "    swvl2  shape=(542080,) min=0              max=0.744777      \n",
      "    tcc    shape=(542080,) min=0              max=1             \n",
      "\n"
     ]
    },
    {
     "name": "stderr",
     "output_type": "stream",
     "text": [
      "2025-08-19 15:49:15,723 - INFO - Processing step 216\n",
      "2025-08-19 15:49:15,745 - INFO - Time taken for step 216: 1.58 seconds.\n",
      "2025-08-19 15:49:15,778 - INFO - Forecasting step 9 days, 6:00:00 (2023-07-09 06:00:00)\n"
     ]
    },
    {
     "name": "stdout",
     "output_type": "stream",
     "text": [
      "\n",
      "😀 date=2023-07-09T00:00:00 latitudes=(542080,) longitudes=(542080,) fields=102\n",
      "\n",
      "    q_50   shape=(542080,) min=1.28717e-06    max=3.17434e-06   \n",
      "    t_1000 shape=(542080,) min=230.467        max=317.468       \n",
      "    v_925  shape=(542080,) min=-30.9835       max=24.118        \n",
      "    z_850  shape=(542080,) min=9436.7         max=16157.4       \n",
      "    swvl2  shape=(542080,) min=0              max=0.745801      \n",
      "    tcc    shape=(542080,) min=0              max=1             \n",
      "\n"
     ]
    },
    {
     "name": "stderr",
     "output_type": "stream",
     "text": [
      "2025-08-19 15:49:17,419 - INFO - Processing step 222\n",
      "2025-08-19 15:49:17,441 - INFO - Time taken for step 222: 1.70 seconds.\n",
      "2025-08-19 15:49:17,487 - INFO - Forecasting step 9 days, 12:00:00 (2023-07-09 12:00:00)\n"
     ]
    },
    {
     "name": "stdout",
     "output_type": "stream",
     "text": [
      "\n",
      "😀 date=2023-07-09T06:00:00 latitudes=(542080,) longitudes=(542080,) fields=102\n",
      "\n",
      "    q_50   shape=(542080,) min=1.2843e-06     max=3.17484e-06   \n",
      "    t_1000 shape=(542080,) min=231.283        max=316.861       \n",
      "    v_925  shape=(542080,) min=-30.6246       max=24.9849       \n",
      "    z_850  shape=(542080,) min=9513           max=16109         \n",
      "    swvl2  shape=(542080,) min=0              max=0.747341      \n",
      "    tcc    shape=(542080,) min=0              max=1             \n",
      "\n"
     ]
    },
    {
     "name": "stderr",
     "output_type": "stream",
     "text": [
      "2025-08-19 15:49:18,977 - INFO - Processing step 228\n",
      "2025-08-19 15:49:18,997 - INFO - Time taken for step 228: 1.56 seconds.\n",
      "2025-08-19 15:49:19,030 - INFO - Forecasting step 9 days, 18:00:00 (2023-07-09 18:00:00)\n"
     ]
    },
    {
     "name": "stdout",
     "output_type": "stream",
     "text": [
      "\n",
      "😀 date=2023-07-09T12:00:00 latitudes=(542080,) longitudes=(542080,) fields=102\n",
      "\n",
      "    q_50   shape=(542080,) min=1.29533e-06    max=3.1739e-06    \n",
      "    t_1000 shape=(542080,) min=232.878        max=322.335       \n",
      "    v_925  shape=(542080,) min=-30.0611       max=25.893        \n",
      "    z_850  shape=(542080,) min=9593.79        max=16148.1       \n",
      "    swvl2  shape=(542080,) min=0              max=0.74847       \n",
      "    tcc    shape=(542080,) min=0              max=1             \n",
      "\n"
     ]
    },
    {
     "name": "stderr",
     "output_type": "stream",
     "text": [
      "2025-08-19 15:49:20,522 - INFO - Processing step 234\n",
      "2025-08-19 15:49:20,542 - INFO - Time taken for step 234: 1.54 seconds.\n",
      "2025-08-19 15:49:20,575 - INFO - Forecasting step 10 days, 0:00:00 (2023-07-10 00:00:00)\n"
     ]
    },
    {
     "name": "stdout",
     "output_type": "stream",
     "text": [
      "\n",
      "😀 date=2023-07-09T18:00:00 latitudes=(542080,) longitudes=(542080,) fields=102\n",
      "\n",
      "    q_50   shape=(542080,) min=1.31432e-06    max=3.17204e-06   \n",
      "    t_1000 shape=(542080,) min=232.984        max=320.78        \n",
      "    v_925  shape=(542080,) min=-27.5065       max=24.8154       \n",
      "    z_850  shape=(542080,) min=9669.67        max=16098.9       \n",
      "    swvl2  shape=(542080,) min=0              max=0.747382      \n",
      "    tcc    shape=(542080,) min=0              max=1             \n",
      "\n"
     ]
    },
    {
     "name": "stderr",
     "output_type": "stream",
     "text": [
      "2025-08-19 15:49:22,058 - INFO - Processing step 240\n",
      "2025-08-19 15:49:22,079 - INFO - Time taken for step 240: 1.54 seconds.\n",
      "2025-08-19 15:49:22,110 - INFO - Forecasting step 10 days, 6:00:00 (2023-07-10 06:00:00)\n"
     ]
    },
    {
     "name": "stdout",
     "output_type": "stream",
     "text": [
      "\n",
      "😀 date=2023-07-10T00:00:00 latitudes=(542080,) longitudes=(542080,) fields=102\n",
      "\n",
      "    q_50   shape=(542080,) min=1.29611e-06    max=3.17206e-06   \n",
      "    t_1000 shape=(542080,) min=232.792        max=317.574       \n",
      "    v_925  shape=(542080,) min=-27.6125       max=23.2195       \n",
      "    z_850  shape=(542080,) min=9637.48        max=16043.9       \n",
      "    swvl2  shape=(542080,) min=0              max=0.747453      \n",
      "    tcc    shape=(542080,) min=0              max=1             \n",
      "\n"
     ]
    },
    {
     "name": "stderr",
     "output_type": "stream",
     "text": [
      "2025-08-19 15:49:23,697 - INFO - Processing step 246\n",
      "2025-08-19 15:49:23,720 - INFO - Time taken for step 246: 1.64 seconds.\n",
      "2025-08-19 15:49:23,757 - INFO - Forecasting step 10 days, 12:00:00 (2023-07-10 12:00:00)\n"
     ]
    },
    {
     "name": "stdout",
     "output_type": "stream",
     "text": [
      "\n",
      "😀 date=2023-07-10T06:00:00 latitudes=(542080,) longitudes=(542080,) fields=102\n",
      "\n",
      "    q_50   shape=(542080,) min=1.29145e-06    max=3.16963e-06   \n",
      "    t_1000 shape=(542080,) min=233.88         max=317.131       \n",
      "    v_925  shape=(542080,) min=-29.6665       max=24.6452       \n",
      "    z_850  shape=(542080,) min=9423.3         max=16041.6       \n",
      "    swvl2  shape=(542080,) min=0              max=0.751239      \n",
      "    tcc    shape=(542080,) min=0              max=1             \n",
      "\n"
     ]
    },
    {
     "name": "stderr",
     "output_type": "stream",
     "text": [
      "2025-08-19 15:49:25,383 - INFO - Processing step 252\n",
      "2025-08-19 15:49:25,406 - INFO - Time taken for step 252: 1.69 seconds.\n",
      "2025-08-19 15:49:25,443 - INFO - Forecasting step 10 days, 18:00:00 (2023-07-10 18:00:00)\n"
     ]
    },
    {
     "name": "stdout",
     "output_type": "stream",
     "text": [
      "\n",
      "😀 date=2023-07-10T12:00:00 latitudes=(542080,) longitudes=(542080,) fields=102\n",
      "\n",
      "    q_50   shape=(542080,) min=1.28993e-06    max=3.1677e-06    \n",
      "    t_1000 shape=(542080,) min=235.094        max=322.952       \n",
      "    v_925  shape=(542080,) min=-30.8255       max=25.756        \n",
      "    z_850  shape=(542080,) min=9372.54        max=15927.9       \n",
      "    swvl2  shape=(542080,) min=0              max=0.758353      \n",
      "    tcc    shape=(542080,) min=0              max=1             \n",
      "\n"
     ]
    },
    {
     "name": "stderr",
     "output_type": "stream",
     "text": [
      "2025-08-19 15:49:27,177 - INFO - Processing step 258\n",
      "2025-08-19 15:49:27,199 - INFO - Time taken for step 258: 1.60 seconds.\n",
      "2025-08-19 15:49:27,238 - INFO - Forecasting step 11 days, 0:00:00 (2023-07-11 00:00:00)\n"
     ]
    },
    {
     "name": "stdout",
     "output_type": "stream",
     "text": [
      "\n",
      "😀 date=2023-07-10T18:00:00 latitudes=(542080,) longitudes=(542080,) fields=102\n",
      "\n",
      "    q_50   shape=(542080,) min=1.30571e-06    max=3.16311e-06   \n",
      "    t_1000 shape=(542080,) min=235.731        max=321.616       \n",
      "    v_925  shape=(542080,) min=-32.442        max=25.1362       \n",
      "    z_850  shape=(542080,) min=9278.96        max=16074.8       \n",
      "    swvl2  shape=(542080,) min=0              max=0.761851      \n",
      "    tcc    shape=(542080,) min=0              max=1             \n",
      "\n"
     ]
    },
    {
     "name": "stderr",
     "output_type": "stream",
     "text": [
      "2025-08-19 15:49:28,706 - INFO - Processing step 264\n",
      "2025-08-19 15:49:28,730 - INFO - Time taken for step 264: 1.53 seconds.\n",
      "2025-08-19 15:49:28,764 - INFO - Forecasting step 11 days, 6:00:00 (2023-07-11 06:00:00)\n"
     ]
    },
    {
     "name": "stdout",
     "output_type": "stream",
     "text": [
      "\n",
      "😀 date=2023-07-11T00:00:00 latitudes=(542080,) longitudes=(542080,) fields=102\n",
      "\n",
      "    q_50   shape=(542080,) min=1.29939e-06    max=3.15904e-06   \n",
      "    t_1000 shape=(542080,) min=234.747        max=317.947       \n",
      "    v_925  shape=(542080,) min=-33.2298       max=25.0312       \n",
      "    z_850  shape=(542080,) min=9105.07        max=16062.3       \n",
      "    swvl2  shape=(542080,) min=0              max=0.762652      \n",
      "    tcc    shape=(542080,) min=0              max=1             \n",
      "\n"
     ]
    },
    {
     "name": "stderr",
     "output_type": "stream",
     "text": [
      "2025-08-19 15:49:30,286 - INFO - Processing step 270\n",
      "2025-08-19 15:49:30,309 - INFO - Time taken for step 270: 1.58 seconds.\n",
      "2025-08-19 15:49:30,344 - INFO - Forecasting step 11 days, 12:00:00 (2023-07-11 12:00:00)\n"
     ]
    },
    {
     "name": "stdout",
     "output_type": "stream",
     "text": [
      "\n",
      "😀 date=2023-07-11T06:00:00 latitudes=(542080,) longitudes=(542080,) fields=102\n",
      "\n",
      "    q_50   shape=(542080,) min=1.28602e-06    max=3.15752e-06   \n",
      "    t_1000 shape=(542080,) min=235.096        max=318.443       \n",
      "    v_925  shape=(542080,) min=-32.1253       max=25.7393       \n",
      "    z_850  shape=(542080,) min=8959.75        max=16146.1       \n",
      "    swvl2  shape=(542080,) min=0              max=0.763256      \n",
      "    tcc    shape=(542080,) min=0              max=1             \n",
      "\n"
     ]
    },
    {
     "name": "stderr",
     "output_type": "stream",
     "text": [
      "2025-08-19 15:49:31,990 - INFO - Processing step 276\n",
      "2025-08-19 15:49:32,013 - INFO - Time taken for step 276: 1.70 seconds.\n",
      "2025-08-19 15:49:32,057 - INFO - Forecasting step 11 days, 18:00:00 (2023-07-11 18:00:00)\n"
     ]
    },
    {
     "name": "stdout",
     "output_type": "stream",
     "text": [
      "\n",
      "😀 date=2023-07-11T12:00:00 latitudes=(542080,) longitudes=(542080,) fields=102\n",
      "\n",
      "    q_50   shape=(542080,) min=1.32223e-06    max=3.15418e-06   \n",
      "    t_1000 shape=(542080,) min=236.465        max=323.929       \n",
      "    v_925  shape=(542080,) min=-30.8963       max=28.0486       \n",
      "    z_850  shape=(542080,) min=8815.1         max=15994.3       \n",
      "    swvl2  shape=(542080,) min=0              max=0.763914      \n",
      "    tcc    shape=(542080,) min=0              max=1             \n",
      "\n"
     ]
    },
    {
     "name": "stderr",
     "output_type": "stream",
     "text": [
      "2025-08-19 15:49:33,691 - INFO - Processing step 282\n",
      "2025-08-19 15:49:33,715 - INFO - Time taken for step 282: 1.70 seconds.\n",
      "2025-08-19 15:49:33,751 - INFO - Forecasting step 12 days, 0:00:00 (2023-07-12 00:00:00)\n"
     ]
    },
    {
     "name": "stdout",
     "output_type": "stream",
     "text": [
      "\n",
      "😀 date=2023-07-11T18:00:00 latitudes=(542080,) longitudes=(542080,) fields=102\n",
      "\n",
      "    q_50   shape=(542080,) min=1.31862e-06    max=3.15198e-06   \n",
      "    t_1000 shape=(542080,) min=237.023        max=321.899       \n",
      "    v_925  shape=(542080,) min=-32.2331       max=25.8349       \n",
      "    z_850  shape=(542080,) min=8815.2         max=16103.3       \n",
      "    swvl2  shape=(542080,) min=0              max=0.764458      \n",
      "    tcc    shape=(542080,) min=0              max=1             \n",
      "\n"
     ]
    },
    {
     "name": "stderr",
     "output_type": "stream",
     "text": [
      "2025-08-19 15:49:35,263 - INFO - Processing step 288\n",
      "2025-08-19 15:49:35,288 - INFO - Time taken for step 288: 1.57 seconds.\n",
      "2025-08-19 15:49:35,321 - INFO - Forecasting step 12 days, 6:00:00 (2023-07-12 06:00:00)\n"
     ]
    },
    {
     "name": "stdout",
     "output_type": "stream",
     "text": [
      "\n",
      "😀 date=2023-07-12T00:00:00 latitudes=(542080,) longitudes=(542080,) fields=102\n",
      "\n",
      "    q_50   shape=(542080,) min=1.31378e-06    max=3.1525e-06    \n",
      "    t_1000 shape=(542080,) min=236.801        max=318.629       \n",
      "    v_925  shape=(542080,) min=-32.6402       max=26.84         \n",
      "    z_850  shape=(542080,) min=8799.59        max=16101.7       \n",
      "    swvl2  shape=(542080,) min=0              max=0.765909      \n",
      "    tcc    shape=(542080,) min=0              max=1             \n",
      "\n"
     ]
    },
    {
     "name": "stderr",
     "output_type": "stream",
     "text": [
      "2025-08-19 15:49:36,788 - INFO - Processing step 294\n",
      "2025-08-19 15:49:36,808 - INFO - Time taken for step 294: 1.52 seconds.\n",
      "2025-08-19 15:49:36,841 - INFO - Forecasting step 12 days, 12:00:00 (2023-07-12 12:00:00)\n"
     ]
    },
    {
     "name": "stdout",
     "output_type": "stream",
     "text": [
      "\n",
      "😀 date=2023-07-12T06:00:00 latitudes=(542080,) longitudes=(542080,) fields=102\n",
      "\n",
      "    q_50   shape=(542080,) min=1.31038e-06    max=3.15218e-06   \n",
      "    t_1000 shape=(542080,) min=235.804        max=319.117       \n",
      "    v_925  shape=(542080,) min=-30.4221       max=24.809        \n",
      "    z_850  shape=(542080,) min=8835.73        max=16116.4       \n",
      "    swvl2  shape=(542080,) min=0              max=0.767702      \n",
      "    tcc    shape=(542080,) min=0              max=1             \n",
      "\n"
     ]
    },
    {
     "name": "stderr",
     "output_type": "stream",
     "text": [
      "2025-08-19 15:49:38,381 - INFO - Processing step 300\n",
      "2025-08-19 15:49:38,402 - INFO - Time taken for step 300: 1.59 seconds.\n",
      "2025-08-19 15:49:38,435 - INFO - Forecasting step 12 days, 18:00:00 (2023-07-12 18:00:00)\n"
     ]
    },
    {
     "name": "stdout",
     "output_type": "stream",
     "text": [
      "\n",
      "😀 date=2023-07-12T12:00:00 latitudes=(542080,) longitudes=(542080,) fields=102\n",
      "\n",
      "    q_50   shape=(542080,) min=1.31416e-06    max=3.15154e-06   \n",
      "    t_1000 shape=(542080,) min=235.143        max=324.268       \n",
      "    v_925  shape=(542080,) min=-28.7535       max=22.6682       \n",
      "    z_850  shape=(542080,) min=8998.49        max=16225.4       \n",
      "    swvl2  shape=(542080,) min=0              max=0.767789      \n",
      "    tcc    shape=(542080,) min=0              max=1             \n",
      "\n"
     ]
    },
    {
     "name": "stderr",
     "output_type": "stream",
     "text": [
      "2025-08-19 15:49:40,023 - INFO - Processing step 306\n",
      "2025-08-19 15:49:40,043 - INFO - Time taken for step 306: 1.64 seconds.\n",
      "2025-08-19 15:49:40,079 - INFO - Forecasting step 13 days, 0:00:00 (2023-07-13 00:00:00)\n"
     ]
    },
    {
     "name": "stdout",
     "output_type": "stream",
     "text": [
      "\n",
      "😀 date=2023-07-12T18:00:00 latitudes=(542080,) longitudes=(542080,) fields=102\n",
      "\n",
      "    q_50   shape=(542080,) min=1.32385e-06    max=3.14975e-06   \n",
      "    t_1000 shape=(542080,) min=235.056        max=322.241       \n",
      "    v_925  shape=(542080,) min=-25.5483       max=24.4689       \n",
      "    z_850  shape=(542080,) min=9288.25        max=16272.7       \n",
      "    swvl2  shape=(542080,) min=0              max=0.76818       \n",
      "    tcc    shape=(542080,) min=0              max=1             \n",
      "\n"
     ]
    },
    {
     "name": "stderr",
     "output_type": "stream",
     "text": [
      "2025-08-19 15:49:41,675 - INFO - Processing step 312\n",
      "2025-08-19 15:49:41,700 - INFO - Time taken for step 312: 1.66 seconds.\n",
      "2025-08-19 15:49:41,737 - INFO - Forecasting step 13 days, 6:00:00 (2023-07-13 06:00:00)\n"
     ]
    },
    {
     "name": "stdout",
     "output_type": "stream",
     "text": [
      "\n",
      "😀 date=2023-07-13T00:00:00 latitudes=(542080,) longitudes=(542080,) fields=102\n",
      "\n",
      "    q_50   shape=(542080,) min=1.33236e-06    max=3.1506e-06    \n",
      "    t_1000 shape=(542080,) min=234.89         max=318.806       \n",
      "    v_925  shape=(542080,) min=-25.6352       max=26.1215       \n",
      "    z_850  shape=(542080,) min=9378.69        max=16363.9       \n",
      "    swvl2  shape=(542080,) min=0              max=0.769171      \n",
      "    tcc    shape=(542080,) min=0              max=1             \n",
      "\n"
     ]
    },
    {
     "name": "stderr",
     "output_type": "stream",
     "text": [
      "2025-08-19 15:49:43,228 - INFO - Processing step 318\n",
      "2025-08-19 15:49:43,250 - INFO - Time taken for step 318: 1.55 seconds.\n",
      "2025-08-19 15:49:43,286 - INFO - Forecasting step 13 days, 12:00:00 (2023-07-13 12:00:00)\n"
     ]
    },
    {
     "name": "stdout",
     "output_type": "stream",
     "text": [
      "\n",
      "😀 date=2023-07-13T06:00:00 latitudes=(542080,) longitudes=(542080,) fields=102\n",
      "\n",
      "    q_50   shape=(542080,) min=1.34667e-06    max=3.14961e-06   \n",
      "    t_1000 shape=(542080,) min=233.067        max=319.649       \n",
      "    v_925  shape=(542080,) min=-25.663        max=27.757        \n",
      "    z_850  shape=(542080,) min=9489.83        max=16303         \n",
      "    swvl2  shape=(542080,) min=0              max=0.771004      \n",
      "    tcc    shape=(542080,) min=0              max=1             \n",
      "\n"
     ]
    },
    {
     "name": "stderr",
     "output_type": "stream",
     "text": [
      "2025-08-19 15:49:44,868 - INFO - Processing step 324\n",
      "2025-08-19 15:49:44,891 - INFO - Time taken for step 324: 1.64 seconds.\n",
      "2025-08-19 15:49:44,931 - INFO - Forecasting step 13 days, 18:00:00 (2023-07-13 18:00:00)\n"
     ]
    },
    {
     "name": "stdout",
     "output_type": "stream",
     "text": [
      "\n",
      "😀 date=2023-07-13T12:00:00 latitudes=(542080,) longitudes=(542080,) fields=102\n",
      "\n",
      "    q_50   shape=(542080,) min=1.35136e-06    max=3.1495e-06    \n",
      "    t_1000 shape=(542080,) min=232.891        max=324.277       \n",
      "    v_925  shape=(542080,) min=-28.4278       max=31.4844       \n",
      "    z_850  shape=(542080,) min=9709.65        max=16374.4       \n",
      "    swvl2  shape=(542080,) min=0              max=0.770935      \n",
      "    tcc    shape=(542080,) min=0              max=1             \n",
      "\n"
     ]
    },
    {
     "name": "stderr",
     "output_type": "stream",
     "text": [
      "2025-08-19 15:49:46,418 - INFO - Processing step 330\n",
      "2025-08-19 15:49:46,441 - INFO - Time taken for step 330: 1.55 seconds.\n",
      "2025-08-19 15:49:46,474 - INFO - Forecasting step 14 days, 0:00:00 (2023-07-14 00:00:00)\n"
     ]
    },
    {
     "name": "stdout",
     "output_type": "stream",
     "text": [
      "\n",
      "😀 date=2023-07-13T18:00:00 latitudes=(542080,) longitudes=(542080,) fields=102\n",
      "\n",
      "    q_50   shape=(542080,) min=1.35103e-06    max=3.14826e-06   \n",
      "    t_1000 shape=(542080,) min=231.92         max=322.484       \n",
      "    v_925  shape=(542080,) min=-29.7755       max=31.7806       \n",
      "    z_850  shape=(542080,) min=9719.03        max=16341.6       \n",
      "    swvl2  shape=(542080,) min=0              max=0.773026      \n",
      "    tcc    shape=(542080,) min=0              max=1             \n",
      "\n"
     ]
    },
    {
     "name": "stderr",
     "output_type": "stream",
     "text": [
      "2025-08-19 15:49:48,141 - INFO - Processing step 336\n",
      "2025-08-19 15:49:48,166 - INFO - Time taken for step 336: 1.72 seconds.\n",
      "2025-08-19 15:49:48,202 - INFO - Forecasting step 14 days, 6:00:00 (2023-07-14 06:00:00)\n"
     ]
    },
    {
     "name": "stdout",
     "output_type": "stream",
     "text": [
      "\n",
      "😀 date=2023-07-14T00:00:00 latitudes=(542080,) longitudes=(542080,) fields=102\n",
      "\n",
      "    q_50   shape=(542080,) min=1.35285e-06    max=3.14804e-06   \n",
      "    t_1000 shape=(542080,) min=230.986        max=319.201       \n",
      "    v_925  shape=(542080,) min=-27.8039       max=32.4155       \n",
      "    z_850  shape=(542080,) min=9590.31        max=16351.2       \n",
      "    swvl2  shape=(542080,) min=0              max=0.775131      \n",
      "    tcc    shape=(542080,) min=0              max=1             \n",
      "\n"
     ]
    },
    {
     "name": "stderr",
     "output_type": "stream",
     "text": [
      "2025-08-19 15:49:49,778 - INFO - Processing step 342\n",
      "2025-08-19 15:49:49,804 - INFO - Time taken for step 342: 1.64 seconds.\n",
      "2025-08-19 15:49:49,845 - INFO - Forecasting step 14 days, 12:00:00 (2023-07-14 12:00:00)\n"
     ]
    },
    {
     "name": "stdout",
     "output_type": "stream",
     "text": [
      "\n",
      "😀 date=2023-07-14T06:00:00 latitudes=(542080,) longitudes=(542080,) fields=102\n",
      "\n",
      "    q_50   shape=(542080,) min=1.3626e-06     max=3.14496e-06   \n",
      "    t_1000 shape=(542080,) min=231.053        max=319.859       \n",
      "    v_925  shape=(542080,) min=-28.2401       max=32.9935       \n",
      "    z_850  shape=(542080,) min=9445.91        max=16209.8       \n",
      "    swvl2  shape=(542080,) min=0              max=0.776576      \n",
      "    tcc    shape=(542080,) min=0              max=1             \n",
      "\n"
     ]
    },
    {
     "name": "stderr",
     "output_type": "stream",
     "text": [
      "2025-08-19 15:49:51,326 - INFO - Processing step 348\n",
      "2025-08-19 15:49:51,346 - INFO - Time taken for step 348: 1.54 seconds.\n",
      "2025-08-19 15:49:51,381 - INFO - Forecasting step 14 days, 18:00:00 (2023-07-14 18:00:00)\n"
     ]
    },
    {
     "name": "stdout",
     "output_type": "stream",
     "text": [
      "\n",
      "😀 date=2023-07-14T12:00:00 latitudes=(542080,) longitudes=(542080,) fields=102\n",
      "\n",
      "    q_50   shape=(542080,) min=1.3619e-06     max=3.14497e-06   \n",
      "    t_1000 shape=(542080,) min=230.677        max=324.002       \n",
      "    v_925  shape=(542080,) min=-32.2643       max=34.9757       \n",
      "    z_850  shape=(542080,) min=9378.07        max=16249.8       \n",
      "    swvl2  shape=(542080,) min=0              max=0.777239      \n",
      "    tcc    shape=(542080,) min=0              max=1             \n",
      "\n"
     ]
    },
    {
     "name": "stderr",
     "output_type": "stream",
     "text": [
      "2025-08-19 15:49:52,881 - INFO - Processing step 354\n",
      "2025-08-19 15:49:52,901 - INFO - Time taken for step 354: 1.56 seconds.\n",
      "2025-08-19 15:49:52,937 - INFO - Forecasting step 15 days, 0:00:00 (2023-07-15 00:00:00)\n"
     ]
    },
    {
     "name": "stdout",
     "output_type": "stream",
     "text": [
      "\n",
      "😀 date=2023-07-14T18:00:00 latitudes=(542080,) longitudes=(542080,) fields=102\n",
      "\n",
      "    q_50   shape=(542080,) min=1.37107e-06    max=3.14337e-06   \n",
      "    t_1000 shape=(542080,) min=228.752        max=322.103       \n",
      "    v_925  shape=(542080,) min=-37.1465       max=35.3485       \n",
      "    z_850  shape=(542080,) min=9226.13        max=16240.2       \n",
      "    swvl2  shape=(542080,) min=0              max=0.778621      \n",
      "    tcc    shape=(542080,) min=0              max=1             \n",
      "\n"
     ]
    },
    {
     "name": "stderr",
     "output_type": "stream",
     "text": [
      "2025-08-19 15:49:54,465 - INFO - Processing step 360\n",
      "2025-08-19 15:49:54,488 - INFO - Time taken for step 360: 1.59 seconds.\n",
      "2025-08-19 15:49:54,490 - INFO - Inference session completed.\n",
      "2025-08-19 15:49:54,490 - INFO - Total time taken for the inference session: 108.19 seconds.\n",
      "2025-08-19 15:49:54,490 - INFO - Concatenating all steps into a single dataset.\n"
     ]
    },
    {
     "name": "stdout",
     "output_type": "stream",
     "text": [
      "\n",
      "😀 date=2023-07-15T00:00:00 latitudes=(542080,) longitudes=(542080,) fields=102\n",
      "\n",
      "    q_50   shape=(542080,) min=1.38563e-06    max=3.1441e-06    \n",
      "    t_1000 shape=(542080,) min=227.915        max=318.697       \n",
      "    v_925  shape=(542080,) min=-35.8729       max=36.1862       \n",
      "    z_850  shape=(542080,) min=9113.93        max=16259.2       \n",
      "    swvl2  shape=(542080,) min=0              max=0.781417      \n",
      "    tcc    shape=(542080,) min=0              max=1             \n",
      "\n"
     ]
    },
    {
     "name": "stderr",
     "output_type": "stream",
     "text": [
      "2025-08-19 15:49:54,658 - INFO - Output file output_states/init_ERA5_20230630T00_lead_360.nc already exists. Skipping save.\n",
      "2025-08-19 15:49:54,815 - INFO - Running inference for initialization date: 2023-07-01 00:00:00\n",
      "2025-08-19 15:49:54,817 - INFO - Getting ERA5 data for date 2023-07-01 00:00:00\n",
      "2025-08-19 15:49:54,818 - INFO - Input state for 2023-07-01 00:00:00 already exists locally. Loading from file...\n",
      "2025-08-19 15:49:58,835 - INFO - Input state loaded successfully.\n",
      "2025-08-19 15:49:58,836 - INFO - Using SimpleRunner runner\n",
      "2025-08-19 15:49:58,836 - INFO - Starting the inference session...\n",
      "2025-08-19 15:49:58,858 - INFO - Computed constant forcings: before ['cos_latitude', 'cos_longitude', 'sin_latitude', 'sin_longitude'], after ['cos_latitude', 'cos_longitude', 'sin_latitude', 'sin_longitude']\n",
      "2025-08-19 15:49:58,858 - INFO - Constant computed forcing: ComputedForcings(['cos_latitude', 'cos_longitude', 'sin_latitude', 'sin_longitude'])\n",
      "2025-08-19 15:49:58,859 - INFO - Dynamic computed forcing: ComputedForcings(['cos_julian_day', 'cos_local_time', 'sin_julian_day', 'sin_local_time', 'insolation'])\n",
      "2025-08-19 15:49:58,859 - INFO - Constant forcings input: ComputedForcings(['cos_latitude', 'cos_longitude', 'sin_latitude', 'sin_longitude']) ['cos_latitude', 'cos_longitude', 'sin_latitude', 'sin_longitude'] ([datetime.datetime(2023, 6, 30, 18, 0), datetime.datetime(2023, 7, 1, 0, 0)])\n",
      "2025-08-19 15:49:58,875 - INFO - Dynamic forcings input: ComputedForcings(['cos_julian_day', 'cos_local_time', 'sin_julian_day', 'sin_local_time', 'insolation']) ['cos_julian_day', 'cos_local_time', 'sin_julian_day', 'sin_local_time', 'insolation'] ([datetime.datetime(2023, 6, 30, 18, 0), datetime.datetime(2023, 7, 1, 0, 0)])\n",
      "2025-08-19 15:49:58,925 - INFO - Expected shape for each input fields: (2, 542080)\n",
      "2025-08-19 15:49:59,142 - INFO - Preparing input tensor with shape (2, 103, 542080)\n",
      "2025-08-19 15:50:06,883 - INFO - Loading Checkpoint(weights/AIFS/aifs-single-mse-1.0.ckpt): 7 seconds.\n",
      "2025-08-19 15:50:07,130 - INFO - Using autocast torch.float16\n",
      "2025-08-19 15:50:07,131 - INFO - Lead time: 15 days, 0:00:00, time stepping: 6:00:00 Forecasting 60 steps\n",
      "2025-08-19 15:50:07,131 - INFO - Forecasting step 6:00:00 (2023-07-01 06:00:00)\n",
      "2025-08-19 15:50:08,719 - INFO - Processing step 6\n",
      "2025-08-19 15:50:08,740 - INFO - Time taken for step 6: 9.90 seconds.\n",
      "2025-08-19 15:50:08,770 - INFO - Forecasting step 12:00:00 (2023-07-01 12:00:00)\n"
     ]
    },
    {
     "name": "stdout",
     "output_type": "stream",
     "text": [
      "\n",
      "😀 date=2023-07-01T06:00:00 latitudes=(542080,) longitudes=(542080,) fields=102\n",
      "\n",
      "    q_50   shape=(542080,) min=8.86514e-07    max=3.14262e-06   \n",
      "    t_1000 shape=(542080,) min=230.425        max=321.135       \n",
      "    v_925  shape=(542080,) min=-33.0722       max=55.5899       \n",
      "    z_850  shape=(542080,) min=8402.51        max=16032.2       \n",
      "    swvl2  shape=(542080,) min=0              max=0.762809      \n",
      "    tcc    shape=(542080,) min=0              max=1             \n",
      "\n"
     ]
    },
    {
     "name": "stderr",
     "output_type": "stream",
     "text": [
      "2025-08-19 15:50:10,310 - INFO - Processing step 12\n",
      "2025-08-19 15:50:10,331 - INFO - Time taken for step 12: 1.59 seconds.\n",
      "2025-08-19 15:50:10,362 - INFO - Forecasting step 18:00:00 (2023-07-01 18:00:00)\n"
     ]
    },
    {
     "name": "stdout",
     "output_type": "stream",
     "text": [
      "\n",
      "😀 date=2023-07-01T12:00:00 latitudes=(542080,) longitudes=(542080,) fields=102\n",
      "\n",
      "    q_50   shape=(542080,) min=7.77093e-07    max=3.1628e-06    \n",
      "    t_1000 shape=(542080,) min=228.861        max=325.706       \n",
      "    v_925  shape=(542080,) min=-37.0547       max=52.1115       \n",
      "    z_850  shape=(542080,) min=8043.64        max=16033.8       \n",
      "    swvl2  shape=(542080,) min=0              max=0.761378      \n",
      "    tcc    shape=(542080,) min=0              max=1             \n",
      "\n"
     ]
    },
    {
     "name": "stderr",
     "output_type": "stream",
     "text": [
      "2025-08-19 15:50:11,948 - INFO - Processing step 18\n",
      "2025-08-19 15:50:11,973 - INFO - Time taken for step 18: 1.64 seconds.\n",
      "2025-08-19 15:50:12,006 - INFO - Forecasting step 1 day, 0:00:00 (2023-07-02 00:00:00)\n"
     ]
    },
    {
     "name": "stdout",
     "output_type": "stream",
     "text": [
      "\n",
      "😀 date=2023-07-01T18:00:00 latitudes=(542080,) longitudes=(542080,) fields=102\n",
      "\n",
      "    q_50   shape=(542080,) min=8.48448e-07    max=3.16741e-06   \n",
      "    t_1000 shape=(542080,) min=228.12         max=323.438       \n",
      "    v_925  shape=(542080,) min=-33.345        max=52.4616       \n",
      "    z_850  shape=(542080,) min=7908.78        max=15976.5       \n",
      "    swvl2  shape=(542080,) min=0              max=0.759942      \n",
      "    tcc    shape=(542080,) min=0              max=1             \n",
      "\n"
     ]
    },
    {
     "name": "stderr",
     "output_type": "stream",
     "text": [
      "2025-08-19 15:50:13,604 - INFO - Processing step 24\n",
      "2025-08-19 15:50:13,624 - INFO - Time taken for step 24: 1.65 seconds.\n",
      "2025-08-19 15:50:13,653 - INFO - Forecasting step 1 day, 6:00:00 (2023-07-02 06:00:00)\n"
     ]
    },
    {
     "name": "stdout",
     "output_type": "stream",
     "text": [
      "\n",
      "😀 date=2023-07-02T00:00:00 latitudes=(542080,) longitudes=(542080,) fields=102\n",
      "\n",
      "    q_50   shape=(542080,) min=7.68619e-07    max=3.17006e-06   \n",
      "    t_1000 shape=(542080,) min=228.59         max=319.822       \n",
      "    v_925  shape=(542080,) min=-34.1592       max=51.8107       \n",
      "    z_850  shape=(542080,) min=7947.32        max=16007         \n",
      "    swvl2  shape=(542080,) min=0              max=0.758634      \n",
      "    tcc    shape=(542080,) min=0              max=1             \n",
      "\n"
     ]
    },
    {
     "name": "stderr",
     "output_type": "stream",
     "text": [
      "2025-08-19 15:50:15,157 - INFO - Processing step 30\n",
      "2025-08-19 15:50:15,178 - INFO - Time taken for step 30: 1.55 seconds.\n",
      "2025-08-19 15:50:15,207 - INFO - Forecasting step 1 day, 12:00:00 (2023-07-02 12:00:00)\n"
     ]
    },
    {
     "name": "stdout",
     "output_type": "stream",
     "text": [
      "\n",
      "😀 date=2023-07-02T06:00:00 latitudes=(542080,) longitudes=(542080,) fields=102\n",
      "\n",
      "    q_50   shape=(542080,) min=8.1583e-07     max=3.17362e-06   \n",
      "    t_1000 shape=(542080,) min=229.859        max=321.131       \n",
      "    v_925  shape=(542080,) min=-37.6229       max=50.8359       \n",
      "    z_850  shape=(542080,) min=8144.19        max=15884         \n",
      "    swvl2  shape=(542080,) min=0              max=0.756988      \n",
      "    tcc    shape=(542080,) min=0              max=1             \n",
      "\n"
     ]
    },
    {
     "name": "stderr",
     "output_type": "stream",
     "text": [
      "2025-08-19 15:50:16,698 - INFO - Processing step 36\n",
      "2025-08-19 15:50:16,720 - INFO - Time taken for step 36: 1.54 seconds.\n",
      "2025-08-19 15:50:16,754 - INFO - Forecasting step 1 day, 18:00:00 (2023-07-02 18:00:00)\n"
     ]
    },
    {
     "name": "stdout",
     "output_type": "stream",
     "text": [
      "\n",
      "😀 date=2023-07-02T12:00:00 latitudes=(542080,) longitudes=(542080,) fields=102\n",
      "\n",
      "    q_50   shape=(542080,) min=8.56142e-07    max=3.17561e-06   \n",
      "    t_1000 shape=(542080,) min=229.761        max=324.575       \n",
      "    v_925  shape=(542080,) min=-36.4348       max=47.7695       \n",
      "    z_850  shape=(542080,) min=8519.04        max=15991.9       \n",
      "    swvl2  shape=(542080,) min=0              max=0.755661      \n",
      "    tcc    shape=(542080,) min=0              max=1             \n",
      "\n"
     ]
    },
    {
     "name": "stderr",
     "output_type": "stream",
     "text": [
      "2025-08-19 15:50:18,287 - INFO - Processing step 42\n",
      "2025-08-19 15:50:18,322 - INFO - Time taken for step 42: 1.60 seconds.\n",
      "2025-08-19 15:50:18,355 - INFO - Forecasting step 2 days, 0:00:00 (2023-07-03 00:00:00)\n"
     ]
    },
    {
     "name": "stdout",
     "output_type": "stream",
     "text": [
      "\n",
      "😀 date=2023-07-02T18:00:00 latitudes=(542080,) longitudes=(542080,) fields=102\n",
      "\n",
      "    q_50   shape=(542080,) min=8.19858e-07    max=3.18066e-06   \n",
      "    t_1000 shape=(542080,) min=229.847        max=322.894       \n",
      "    v_925  shape=(542080,) min=-37.3088       max=44.6902       \n",
      "    z_850  shape=(542080,) min=8479.12        max=15971.6       \n",
      "    swvl2  shape=(542080,) min=0              max=0.754581      \n",
      "    tcc    shape=(542080,) min=0              max=1             \n",
      "\n"
     ]
    },
    {
     "name": "stderr",
     "output_type": "stream",
     "text": [
      "2025-08-19 15:50:20,023 - INFO - Processing step 48\n",
      "2025-08-19 15:50:20,050 - INFO - Time taken for step 48: 1.73 seconds.\n",
      "2025-08-19 15:50:20,086 - INFO - Forecasting step 2 days, 6:00:00 (2023-07-03 06:00:00)\n"
     ]
    },
    {
     "name": "stdout",
     "output_type": "stream",
     "text": [
      "\n",
      "😀 date=2023-07-03T00:00:00 latitudes=(542080,) longitudes=(542080,) fields=102\n",
      "\n",
      "    q_50   shape=(542080,) min=8.10252e-07    max=3.17664e-06   \n",
      "    t_1000 shape=(542080,) min=228.155        max=319.422       \n",
      "    v_925  shape=(542080,) min=-33.138        max=41.7562       \n",
      "    z_850  shape=(542080,) min=8465.73        max=16005.6       \n",
      "    swvl2  shape=(542080,) min=0              max=0.753619      \n",
      "    tcc    shape=(542080,) min=0              max=1             \n",
      "\n"
     ]
    },
    {
     "name": "stderr",
     "output_type": "stream",
     "text": [
      "2025-08-19 15:50:21,796 - INFO - Processing step 54\n",
      "2025-08-19 15:50:21,820 - INFO - Time taken for step 54: 1.77 seconds.\n",
      "2025-08-19 15:50:21,855 - INFO - Forecasting step 2 days, 12:00:00 (2023-07-03 12:00:00)\n"
     ]
    },
    {
     "name": "stdout",
     "output_type": "stream",
     "text": [
      "\n",
      "😀 date=2023-07-03T06:00:00 latitudes=(542080,) longitudes=(542080,) fields=102\n",
      "\n",
      "    q_50   shape=(542080,) min=8.90069e-07    max=3.17575e-06   \n",
      "    t_1000 shape=(542080,) min=228.478        max=320.127       \n",
      "    v_925  shape=(542080,) min=-32.8326       max=40.1591       \n",
      "    z_850  shape=(542080,) min=8647.94        max=16021.4       \n",
      "    swvl2  shape=(542080,) min=0              max=0.752282      \n",
      "    tcc    shape=(542080,) min=0              max=1             \n",
      "\n"
     ]
    },
    {
     "name": "stderr",
     "output_type": "stream",
     "text": [
      "2025-08-19 15:50:23,326 - INFO - Processing step 60\n",
      "2025-08-19 15:50:23,348 - INFO - Time taken for step 60: 1.53 seconds.\n",
      "2025-08-19 15:50:23,380 - INFO - Forecasting step 2 days, 18:00:00 (2023-07-03 18:00:00)\n"
     ]
    },
    {
     "name": "stdout",
     "output_type": "stream",
     "text": [
      "\n",
      "😀 date=2023-07-03T12:00:00 latitudes=(542080,) longitudes=(542080,) fields=102\n",
      "\n",
      "    q_50   shape=(542080,) min=8.03355e-07    max=3.17981e-06   \n",
      "    t_1000 shape=(542080,) min=227.997        max=324.181       \n",
      "    v_925  shape=(542080,) min=-30.7171       max=37.2795       \n",
      "    z_850  shape=(542080,) min=8968.59        max=15980.9       \n",
      "    swvl2  shape=(542080,) min=0              max=0.751264      \n",
      "    tcc    shape=(542080,) min=0              max=1             \n",
      "\n"
     ]
    },
    {
     "name": "stderr",
     "output_type": "stream",
     "text": [
      "2025-08-19 15:50:24,881 - INFO - Processing step 66\n",
      "2025-08-19 15:50:24,906 - INFO - Time taken for step 66: 1.56 seconds.\n",
      "2025-08-19 15:50:24,938 - INFO - Forecasting step 3 days, 0:00:00 (2023-07-04 00:00:00)\n"
     ]
    },
    {
     "name": "stdout",
     "output_type": "stream",
     "text": [
      "\n",
      "😀 date=2023-07-03T18:00:00 latitudes=(542080,) longitudes=(542080,) fields=102\n",
      "\n",
      "    q_50   shape=(542080,) min=9.19268e-07    max=3.18793e-06   \n",
      "    t_1000 shape=(542080,) min=227.517        max=322.214       \n",
      "    v_925  shape=(542080,) min=-28.4254       max=32.5064       \n",
      "    z_850  shape=(542080,) min=9076.36        max=15981.8       \n",
      "    swvl2  shape=(542080,) min=0              max=0.750268      \n",
      "    tcc    shape=(542080,) min=0              max=1             \n",
      "\n"
     ]
    },
    {
     "name": "stderr",
     "output_type": "stream",
     "text": [
      "2025-08-19 15:50:26,465 - INFO - Processing step 72\n",
      "2025-08-19 15:50:26,484 - INFO - Time taken for step 72: 1.58 seconds.\n",
      "2025-08-19 15:50:26,513 - INFO - Forecasting step 3 days, 6:00:00 (2023-07-04 06:00:00)\n"
     ]
    },
    {
     "name": "stdout",
     "output_type": "stream",
     "text": [
      "\n",
      "😀 date=2023-07-04T00:00:00 latitudes=(542080,) longitudes=(542080,) fields=102\n",
      "\n",
      "    q_50   shape=(542080,) min=9.57232e-07    max=3.19791e-06   \n",
      "    t_1000 shape=(542080,) min=223.659        max=319.239       \n",
      "    v_925  shape=(542080,) min=-28.2764       max=31.879        \n",
      "    z_850  shape=(542080,) min=9094.95        max=16026.8       \n",
      "    swvl2  shape=(542080,) min=0              max=0.749406      \n",
      "    tcc    shape=(542080,) min=0              max=1             \n",
      "\n"
     ]
    },
    {
     "name": "stderr",
     "output_type": "stream",
     "text": [
      "2025-08-19 15:50:28,378 - INFO - Processing step 78\n",
      "2025-08-19 15:50:28,402 - INFO - Time taken for step 78: 1.62 seconds.\n",
      "2025-08-19 15:50:28,440 - INFO - Forecasting step 3 days, 12:00:00 (2023-07-04 12:00:00)\n"
     ]
    },
    {
     "name": "stdout",
     "output_type": "stream",
     "text": [
      "\n",
      "😀 date=2023-07-04T06:00:00 latitudes=(542080,) longitudes=(542080,) fields=102\n",
      "\n",
      "    q_50   shape=(542080,) min=9.78467e-07    max=3.19875e-06   \n",
      "    t_1000 shape=(542080,) min=224.239        max=318.572       \n",
      "    v_925  shape=(542080,) min=-29.7283       max=29.3563       \n",
      "    z_850  shape=(542080,) min=9127.71        max=16092.8       \n",
      "    swvl2  shape=(542080,) min=0              max=0.748398      \n",
      "    tcc    shape=(542080,) min=0              max=1             \n",
      "\n"
     ]
    },
    {
     "name": "stderr",
     "output_type": "stream",
     "text": [
      "2025-08-19 15:50:30,034 - INFO - Processing step 84\n",
      "2025-08-19 15:50:30,060 - INFO - Time taken for step 84: 1.66 seconds.\n",
      "2025-08-19 15:50:30,092 - INFO - Forecasting step 3 days, 18:00:00 (2023-07-04 18:00:00)\n"
     ]
    },
    {
     "name": "stdout",
     "output_type": "stream",
     "text": [
      "\n",
      "😀 date=2023-07-04T12:00:00 latitudes=(542080,) longitudes=(542080,) fields=102\n",
      "\n",
      "    q_50   shape=(542080,) min=1.01121e-06    max=3.1989e-06    \n",
      "    t_1000 shape=(542080,) min=224.618        max=323.473       \n",
      "    v_925  shape=(542080,) min=-29.5473       max=27.9512       \n",
      "    z_850  shape=(542080,) min=9164.18        max=16065.5       \n",
      "    swvl2  shape=(542080,) min=0              max=0.747493      \n",
      "    tcc    shape=(542080,) min=0              max=1             \n",
      "\n"
     ]
    },
    {
     "name": "stderr",
     "output_type": "stream",
     "text": [
      "2025-08-19 15:50:31,641 - INFO - Processing step 90\n",
      "2025-08-19 15:50:31,662 - INFO - Time taken for step 90: 1.60 seconds.\n",
      "2025-08-19 15:50:31,693 - INFO - Forecasting step 4 days, 0:00:00 (2023-07-05 00:00:00)\n"
     ]
    },
    {
     "name": "stdout",
     "output_type": "stream",
     "text": [
      "\n",
      "😀 date=2023-07-04T18:00:00 latitudes=(542080,) longitudes=(542080,) fields=102\n",
      "\n",
      "    q_50   shape=(542080,) min=1.03629e-06    max=3.19847e-06   \n",
      "    t_1000 shape=(542080,) min=226.1          max=321.078       \n",
      "    v_925  shape=(542080,) min=-27.0457       max=28.777        \n",
      "    z_850  shape=(542080,) min=9179           max=16124.5       \n",
      "    swvl2  shape=(542080,) min=0              max=0.746647      \n",
      "    tcc    shape=(542080,) min=0              max=1             \n",
      "\n"
     ]
    },
    {
     "name": "stderr",
     "output_type": "stream",
     "text": [
      "2025-08-19 15:50:33,227 - INFO - Processing step 96\n",
      "2025-08-19 15:50:33,247 - INFO - Time taken for step 96: 1.59 seconds.\n",
      "2025-08-19 15:50:33,278 - INFO - Forecasting step 4 days, 6:00:00 (2023-07-05 06:00:00)\n"
     ]
    },
    {
     "name": "stdout",
     "output_type": "stream",
     "text": [
      "\n",
      "😀 date=2023-07-05T00:00:00 latitudes=(542080,) longitudes=(542080,) fields=102\n",
      "\n",
      "    q_50   shape=(542080,) min=1.08064e-06    max=3.19954e-06   \n",
      "    t_1000 shape=(542080,) min=226.323        max=319.646       \n",
      "    v_925  shape=(542080,) min=-27.2306       max=29.093        \n",
      "    z_850  shape=(542080,) min=9204.62        max=16140.7       \n",
      "    swvl2  shape=(542080,) min=0              max=0.745851      \n",
      "    tcc    shape=(542080,) min=0              max=1             \n",
      "\n"
     ]
    },
    {
     "name": "stderr",
     "output_type": "stream",
     "text": [
      "2025-08-19 15:50:34,766 - INFO - Processing step 102\n",
      "2025-08-19 15:50:34,788 - INFO - Time taken for step 102: 1.54 seconds.\n",
      "2025-08-19 15:50:34,818 - INFO - Forecasting step 4 days, 12:00:00 (2023-07-05 12:00:00)\n"
     ]
    },
    {
     "name": "stdout",
     "output_type": "stream",
     "text": [
      "\n",
      "😀 date=2023-07-05T06:00:00 latitudes=(542080,) longitudes=(542080,) fields=102\n",
      "\n",
      "    q_50   shape=(542080,) min=9.79993e-07    max=3.19879e-06   \n",
      "    t_1000 shape=(542080,) min=228.856        max=318.476       \n",
      "    v_925  shape=(542080,) min=-28.6569       max=28.4676       \n",
      "    z_850  shape=(542080,) min=9211.97        max=16150.5       \n",
      "    swvl2  shape=(542080,) min=0              max=0.744815      \n",
      "    tcc    shape=(542080,) min=0              max=1             \n",
      "\n"
     ]
    },
    {
     "name": "stderr",
     "output_type": "stream",
     "text": [
      "2025-08-19 15:50:36,328 - INFO - Processing step 108\n",
      "2025-08-19 15:50:36,351 - INFO - Time taken for step 108: 1.56 seconds.\n",
      "2025-08-19 15:50:36,382 - INFO - Forecasting step 4 days, 18:00:00 (2023-07-05 18:00:00)\n"
     ]
    },
    {
     "name": "stdout",
     "output_type": "stream",
     "text": [
      "\n",
      "😀 date=2023-07-05T12:00:00 latitudes=(542080,) longitudes=(542080,) fields=102\n",
      "\n",
      "    q_50   shape=(542080,) min=7.00671e-07    max=3.19358e-06   \n",
      "    t_1000 shape=(542080,) min=229.049        max=323.051       \n",
      "    v_925  shape=(542080,) min=-29.567        max=26.69         \n",
      "    z_850  shape=(542080,) min=9189.04        max=16105.9       \n",
      "    swvl2  shape=(542080,) min=0              max=0.744063      \n",
      "    tcc    shape=(542080,) min=0              max=1             \n",
      "\n"
     ]
    },
    {
     "name": "stderr",
     "output_type": "stream",
     "text": [
      "2025-08-19 15:50:37,975 - INFO - Processing step 114\n",
      "2025-08-19 15:50:37,998 - INFO - Time taken for step 114: 1.65 seconds.\n",
      "2025-08-19 15:50:38,028 - INFO - Forecasting step 5 days, 0:00:00 (2023-07-06 00:00:00)\n"
     ]
    },
    {
     "name": "stdout",
     "output_type": "stream",
     "text": [
      "\n",
      "😀 date=2023-07-05T18:00:00 latitudes=(542080,) longitudes=(542080,) fields=102\n",
      "\n",
      "    q_50   shape=(542080,) min=7.35171e-07    max=3.19156e-06   \n",
      "    t_1000 shape=(542080,) min=230.524        max=321.219       \n",
      "    v_925  shape=(542080,) min=-28.8996       max=26.1355       \n",
      "    z_850  shape=(542080,) min=9073.49        max=16143.6       \n",
      "    swvl2  shape=(542080,) min=0              max=0.743382      \n",
      "    tcc    shape=(542080,) min=0              max=1             \n",
      "\n"
     ]
    },
    {
     "name": "stderr",
     "output_type": "stream",
     "text": [
      "2025-08-19 15:50:39,610 - INFO - Processing step 120\n",
      "2025-08-19 15:50:39,633 - INFO - Time taken for step 120: 1.64 seconds.\n",
      "2025-08-19 15:50:39,662 - INFO - Forecasting step 5 days, 6:00:00 (2023-07-06 06:00:00)\n"
     ]
    },
    {
     "name": "stdout",
     "output_type": "stream",
     "text": [
      "\n",
      "😀 date=2023-07-06T00:00:00 latitudes=(542080,) longitudes=(542080,) fields=102\n",
      "\n",
      "    q_50   shape=(542080,) min=6.90566e-07    max=3.18901e-06   \n",
      "    t_1000 shape=(542080,) min=229.052        max=319.029       \n",
      "    v_925  shape=(542080,) min=-26.6988       max=25.1407       \n",
      "    z_850  shape=(542080,) min=9152.16        max=16173.4       \n",
      "    swvl2  shape=(542080,) min=0              max=0.742939      \n",
      "    tcc    shape=(542080,) min=0              max=1             \n",
      "\n"
     ]
    },
    {
     "name": "stderr",
     "output_type": "stream",
     "text": [
      "2025-08-19 15:50:41,225 - INFO - Processing step 126\n",
      "2025-08-19 15:50:41,250 - INFO - Time taken for step 126: 1.62 seconds.\n",
      "2025-08-19 15:50:41,288 - INFO - Forecasting step 5 days, 12:00:00 (2023-07-06 12:00:00)\n"
     ]
    },
    {
     "name": "stdout",
     "output_type": "stream",
     "text": [
      "\n",
      "😀 date=2023-07-06T06:00:00 latitudes=(542080,) longitudes=(542080,) fields=102\n",
      "\n",
      "    q_50   shape=(542080,) min=8.0943e-07     max=3.1822e-06    \n",
      "    t_1000 shape=(542080,) min=228.518        max=317.668       \n",
      "    v_925  shape=(542080,) min=-25.5478       max=33.1536       \n",
      "    z_850  shape=(542080,) min=9455.16        max=16173.5       \n",
      "    swvl2  shape=(542080,) min=0              max=0.742278      \n",
      "    tcc    shape=(542080,) min=0              max=1             \n",
      "\n"
     ]
    },
    {
     "name": "stderr",
     "output_type": "stream",
     "text": [
      "2025-08-19 15:50:42,807 - INFO - Processing step 132\n",
      "2025-08-19 15:50:42,830 - INFO - Time taken for step 132: 1.58 seconds.\n",
      "2025-08-19 15:50:42,860 - INFO - Forecasting step 5 days, 18:00:00 (2023-07-06 18:00:00)\n"
     ]
    },
    {
     "name": "stdout",
     "output_type": "stream",
     "text": [
      "\n",
      "😀 date=2023-07-06T12:00:00 latitudes=(542080,) longitudes=(542080,) fields=102\n",
      "\n",
      "    q_50   shape=(542080,) min=7.33463e-07    max=3.18192e-06   \n",
      "    t_1000 shape=(542080,) min=225.091        max=322.496       \n",
      "    v_925  shape=(542080,) min=-31.7632       max=30.9124       \n",
      "    z_850  shape=(542080,) min=9302.94        max=16132.8       \n",
      "    swvl2  shape=(542080,) min=0              max=0.741567      \n",
      "    tcc    shape=(542080,) min=0              max=1             \n",
      "\n"
     ]
    },
    {
     "name": "stderr",
     "output_type": "stream",
     "text": [
      "2025-08-19 15:50:44,381 - INFO - Processing step 138\n",
      "2025-08-19 15:50:44,404 - INFO - Time taken for step 138: 1.57 seconds.\n",
      "2025-08-19 15:50:44,436 - INFO - Forecasting step 6 days, 0:00:00 (2023-07-07 00:00:00)\n"
     ]
    },
    {
     "name": "stdout",
     "output_type": "stream",
     "text": [
      "\n",
      "😀 date=2023-07-06T18:00:00 latitudes=(542080,) longitudes=(542080,) fields=102\n",
      "\n",
      "    q_50   shape=(542080,) min=8.13809e-07    max=3.18025e-06   \n",
      "    t_1000 shape=(542080,) min=224.824        max=320.6         \n",
      "    v_925  shape=(542080,) min=-33.2844       max=30.3088       \n",
      "    z_850  shape=(542080,) min=9144.84        max=16148.4       \n",
      "    swvl2  shape=(542080,) min=0              max=0.740759      \n",
      "    tcc    shape=(542080,) min=0              max=1             \n",
      "\n"
     ]
    },
    {
     "name": "stderr",
     "output_type": "stream",
     "text": [
      "2025-08-19 15:50:46,075 - INFO - Processing step 144\n",
      "2025-08-19 15:50:46,097 - INFO - Time taken for step 144: 1.69 seconds.\n",
      "2025-08-19 15:50:46,128 - INFO - Forecasting step 6 days, 6:00:00 (2023-07-07 06:00:00)\n"
     ]
    },
    {
     "name": "stdout",
     "output_type": "stream",
     "text": [
      "\n",
      "😀 date=2023-07-07T00:00:00 latitudes=(542080,) longitudes=(542080,) fields=102\n",
      "\n",
      "    q_50   shape=(542080,) min=1.18088e-06    max=3.18127e-06   \n",
      "    t_1000 shape=(542080,) min=223.506        max=318.76        \n",
      "    v_925  shape=(542080,) min=-30.7327       max=27.622        \n",
      "    z_850  shape=(542080,) min=9180.33        max=16165.3       \n",
      "    swvl2  shape=(542080,) min=0              max=0.74021       \n",
      "    tcc    shape=(542080,) min=0              max=1             \n",
      "\n"
     ]
    },
    {
     "name": "stderr",
     "output_type": "stream",
     "text": [
      "2025-08-19 15:50:47,656 - INFO - Processing step 150\n",
      "2025-08-19 15:50:47,679 - INFO - Time taken for step 150: 1.58 seconds.\n",
      "2025-08-19 15:50:47,710 - INFO - Forecasting step 6 days, 12:00:00 (2023-07-07 12:00:00)\n"
     ]
    },
    {
     "name": "stdout",
     "output_type": "stream",
     "text": [
      "\n",
      "😀 date=2023-07-07T06:00:00 latitudes=(542080,) longitudes=(542080,) fields=102\n",
      "\n",
      "    q_50   shape=(542080,) min=1.2109e-06     max=3.18275e-06   \n",
      "    t_1000 shape=(542080,) min=225.574        max=316.995       \n",
      "    v_925  shape=(542080,) min=-26.9241       max=31.0392       \n",
      "    z_850  shape=(542080,) min=9044.92        max=16125.8       \n",
      "    swvl2  shape=(542080,) min=0              max=0.739566      \n",
      "    tcc    shape=(542080,) min=0              max=1             \n",
      "\n"
     ]
    },
    {
     "name": "stderr",
     "output_type": "stream",
     "text": [
      "2025-08-19 15:50:49,227 - INFO - Processing step 156\n",
      "2025-08-19 15:50:49,250 - INFO - Time taken for step 156: 1.57 seconds.\n",
      "2025-08-19 15:50:49,278 - INFO - Forecasting step 6 days, 18:00:00 (2023-07-07 18:00:00)\n"
     ]
    },
    {
     "name": "stdout",
     "output_type": "stream",
     "text": [
      "\n",
      "😀 date=2023-07-07T12:00:00 latitudes=(542080,) longitudes=(542080,) fields=102\n",
      "\n",
      "    q_50   shape=(542080,) min=1.22595e-06    max=3.1869e-06    \n",
      "    t_1000 shape=(542080,) min=228.075        max=321.192       \n",
      "    v_925  shape=(542080,) min=-28.4941       max=29.3369       \n",
      "    z_850  shape=(542080,) min=8734.56        max=16036.3       \n",
      "    swvl2  shape=(542080,) min=0              max=0.739072      \n",
      "    tcc    shape=(542080,) min=0              max=1             \n",
      "\n"
     ]
    },
    {
     "name": "stderr",
     "output_type": "stream",
     "text": [
      "2025-08-19 15:50:50,733 - INFO - Processing step 162\n",
      "2025-08-19 15:50:50,755 - INFO - Time taken for step 162: 1.51 seconds.\n",
      "2025-08-19 15:50:50,784 - INFO - Forecasting step 7 days, 0:00:00 (2023-07-08 00:00:00)\n"
     ]
    },
    {
     "name": "stdout",
     "output_type": "stream",
     "text": [
      "\n",
      "😀 date=2023-07-07T18:00:00 latitudes=(542080,) longitudes=(542080,) fields=102\n",
      "\n",
      "    q_50   shape=(542080,) min=1.2602e-06     max=3.19187e-06   \n",
      "    t_1000 shape=(542080,) min=229.669        max=320.582       \n",
      "    v_925  shape=(542080,) min=-29.7378       max=29.5259       \n",
      "    z_850  shape=(542080,) min=8458.01        max=16030.5       \n",
      "    swvl2  shape=(542080,) min=0              max=0.738593      \n",
      "    tcc    shape=(542080,) min=0              max=1             \n",
      "\n"
     ]
    },
    {
     "name": "stderr",
     "output_type": "stream",
     "text": [
      "2025-08-19 15:50:52,325 - INFO - Processing step 168\n",
      "2025-08-19 15:50:52,348 - INFO - Time taken for step 168: 1.59 seconds.\n",
      "2025-08-19 15:50:52,379 - INFO - Forecasting step 7 days, 6:00:00 (2023-07-08 06:00:00)\n"
     ]
    },
    {
     "name": "stdout",
     "output_type": "stream",
     "text": [
      "\n",
      "😀 date=2023-07-08T00:00:00 latitudes=(542080,) longitudes=(542080,) fields=102\n",
      "\n",
      "    q_50   shape=(542080,) min=1.27489e-06    max=3.19461e-06   \n",
      "    t_1000 shape=(542080,) min=228.93         max=317.964       \n",
      "    v_925  shape=(542080,) min=-30.7603       max=28.7766       \n",
      "    z_850  shape=(542080,) min=8308.9         max=16143.7       \n",
      "    swvl2  shape=(542080,) min=0              max=0.738283      \n",
      "    tcc    shape=(542080,) min=0              max=1             \n",
      "\n"
     ]
    },
    {
     "name": "stderr",
     "output_type": "stream",
     "text": [
      "2025-08-19 15:50:54,012 - INFO - Processing step 174\n",
      "2025-08-19 15:50:54,035 - INFO - Time taken for step 174: 1.69 seconds.\n",
      "2025-08-19 15:50:54,068 - INFO - Forecasting step 7 days, 12:00:00 (2023-07-08 12:00:00)\n"
     ]
    },
    {
     "name": "stdout",
     "output_type": "stream",
     "text": [
      "\n",
      "😀 date=2023-07-08T06:00:00 latitudes=(542080,) longitudes=(542080,) fields=102\n",
      "\n",
      "    q_50   shape=(542080,) min=1.28234e-06    max=3.19197e-06   \n",
      "    t_1000 shape=(542080,) min=229.057        max=316.472       \n",
      "    v_925  shape=(542080,) min=-31.1663       max=29.5758       \n",
      "    z_850  shape=(542080,) min=8291.12        max=16102.3       \n",
      "    swvl2  shape=(542080,) min=0              max=0.737693      \n",
      "    tcc    shape=(542080,) min=0              max=1             \n",
      "\n"
     ]
    },
    {
     "name": "stderr",
     "output_type": "stream",
     "text": [
      "2025-08-19 15:50:55,572 - INFO - Processing step 180\n",
      "2025-08-19 15:50:55,594 - INFO - Time taken for step 180: 1.56 seconds.\n",
      "2025-08-19 15:50:55,626 - INFO - Forecasting step 7 days, 18:00:00 (2023-07-08 18:00:00)\n"
     ]
    },
    {
     "name": "stdout",
     "output_type": "stream",
     "text": [
      "\n",
      "😀 date=2023-07-08T12:00:00 latitudes=(542080,) longitudes=(542080,) fields=102\n",
      "\n",
      "    q_50   shape=(542080,) min=1.26901e-06    max=3.18927e-06   \n",
      "    t_1000 shape=(542080,) min=229.525        max=322.27        \n",
      "    v_925  shape=(542080,) min=-30.1739       max=28.5022       \n",
      "    z_850  shape=(542080,) min=8293.62        max=16227         \n",
      "    swvl2  shape=(542080,) min=0              max=0.737145      \n",
      "    tcc    shape=(542080,) min=0              max=1             \n",
      "\n"
     ]
    },
    {
     "name": "stderr",
     "output_type": "stream",
     "text": [
      "2025-08-19 15:50:57,116 - INFO - Processing step 186\n",
      "2025-08-19 15:50:57,137 - INFO - Time taken for step 186: 1.54 seconds.\n",
      "2025-08-19 15:50:57,169 - INFO - Forecasting step 8 days, 0:00:00 (2023-07-09 00:00:00)\n"
     ]
    },
    {
     "name": "stdout",
     "output_type": "stream",
     "text": [
      "\n",
      "😀 date=2023-07-08T18:00:00 latitudes=(542080,) longitudes=(542080,) fields=102\n",
      "\n",
      "    q_50   shape=(542080,) min=1.23599e-06    max=3.18431e-06   \n",
      "    t_1000 shape=(542080,) min=229.852        max=320.705       \n",
      "    v_925  shape=(542080,) min=-28.5305       max=28.4608       \n",
      "    z_850  shape=(542080,) min=8364.37        max=16205.6       \n",
      "    swvl2  shape=(542080,) min=0              max=0.736432      \n",
      "    tcc    shape=(542080,) min=0              max=1             \n",
      "\n"
     ]
    },
    {
     "name": "stderr",
     "output_type": "stream",
     "text": [
      "2025-08-19 15:50:58,876 - INFO - Processing step 192\n",
      "2025-08-19 15:50:58,897 - INFO - Time taken for step 192: 1.55 seconds.\n",
      "2025-08-19 15:50:58,927 - INFO - Forecasting step 8 days, 6:00:00 (2023-07-09 06:00:00)\n"
     ]
    },
    {
     "name": "stdout",
     "output_type": "stream",
     "text": [
      "\n",
      "😀 date=2023-07-09T00:00:00 latitudes=(542080,) longitudes=(542080,) fields=102\n",
      "\n",
      "    q_50   shape=(542080,) min=1.23631e-06    max=3.1816e-06    \n",
      "    t_1000 shape=(542080,) min=229.906        max=317.924       \n",
      "    v_925  shape=(542080,) min=-25.9845       max=28.8398       \n",
      "    z_850  shape=(542080,) min=8566.39        max=16210.3       \n",
      "    swvl2  shape=(542080,) min=0              max=0.735799      \n",
      "    tcc    shape=(542080,) min=0              max=1             \n",
      "\n"
     ]
    },
    {
     "name": "stderr",
     "output_type": "stream",
     "text": [
      "2025-08-19 15:51:00,465 - INFO - Processing step 198\n",
      "2025-08-19 15:51:00,488 - INFO - Time taken for step 198: 1.59 seconds.\n",
      "2025-08-19 15:51:00,522 - INFO - Forecasting step 8 days, 12:00:00 (2023-07-09 12:00:00)\n"
     ]
    },
    {
     "name": "stdout",
     "output_type": "stream",
     "text": [
      "\n",
      "😀 date=2023-07-09T06:00:00 latitudes=(542080,) longitudes=(542080,) fields=102\n",
      "\n",
      "    q_50   shape=(542080,) min=1.23462e-06    max=3.17699e-06   \n",
      "    t_1000 shape=(542080,) min=231.274        max=317.382       \n",
      "    v_925  shape=(542080,) min=-28.1402       max=27.8401       \n",
      "    z_850  shape=(542080,) min=8819.39        max=16099.6       \n",
      "    swvl2  shape=(542080,) min=0              max=0.734922      \n",
      "    tcc    shape=(542080,) min=0              max=1             \n",
      "\n"
     ]
    },
    {
     "name": "stderr",
     "output_type": "stream",
     "text": [
      "2025-08-19 15:51:02,226 - INFO - Processing step 204\n",
      "2025-08-19 15:51:02,267 - INFO - Time taken for step 204: 1.78 seconds.\n",
      "2025-08-19 15:51:02,309 - INFO - Forecasting step 8 days, 18:00:00 (2023-07-09 18:00:00)\n"
     ]
    },
    {
     "name": "stdout",
     "output_type": "stream",
     "text": [
      "\n",
      "😀 date=2023-07-09T12:00:00 latitudes=(542080,) longitudes=(542080,) fields=102\n",
      "\n",
      "    q_50   shape=(542080,) min=1.22934e-06    max=3.17408e-06   \n",
      "    t_1000 shape=(542080,) min=232.715        max=322.676       \n",
      "    v_925  shape=(542080,) min=-28.928        max=26.46         \n",
      "    z_850  shape=(542080,) min=9102.62        max=16066.3       \n",
      "    swvl2  shape=(542080,) min=0              max=0.734334      \n",
      "    tcc    shape=(542080,) min=0              max=1             \n",
      "\n"
     ]
    },
    {
     "name": "stderr",
     "output_type": "stream",
     "text": [
      "2025-08-19 15:51:03,951 - INFO - Processing step 210\n",
      "2025-08-19 15:51:03,974 - INFO - Time taken for step 210: 1.71 seconds.\n",
      "2025-08-19 15:51:04,017 - INFO - Forecasting step 9 days, 0:00:00 (2023-07-10 00:00:00)\n"
     ]
    },
    {
     "name": "stdout",
     "output_type": "stream",
     "text": [
      "\n",
      "😀 date=2023-07-09T18:00:00 latitudes=(542080,) longitudes=(542080,) fields=102\n",
      "\n",
      "    q_50   shape=(542080,) min=1.27248e-06    max=3.17015e-06   \n",
      "    t_1000 shape=(542080,) min=234.186        max=320.393       \n",
      "    v_925  shape=(542080,) min=-29.8498       max=26.8695       \n",
      "    z_850  shape=(542080,) min=9091.27        max=16011.6       \n",
      "    swvl2  shape=(542080,) min=0              max=0.733834      \n",
      "    tcc    shape=(542080,) min=0              max=1             \n",
      "\n"
     ]
    },
    {
     "name": "stderr",
     "output_type": "stream",
     "text": [
      "2025-08-19 15:51:05,663 - INFO - Processing step 216\n",
      "2025-08-19 15:51:05,692 - INFO - Time taken for step 216: 1.72 seconds.\n",
      "2025-08-19 15:51:05,729 - INFO - Forecasting step 9 days, 6:00:00 (2023-07-10 06:00:00)\n"
     ]
    },
    {
     "name": "stdout",
     "output_type": "stream",
     "text": [
      "\n",
      "😀 date=2023-07-10T00:00:00 latitudes=(542080,) longitudes=(542080,) fields=102\n",
      "\n",
      "    q_50   shape=(542080,) min=1.2809e-06     max=3.16855e-06   \n",
      "    t_1000 shape=(542080,) min=234.925        max=317.75        \n",
      "    v_925  shape=(542080,) min=-28.6626       max=26.2989       \n",
      "    z_850  shape=(542080,) min=8891.61        max=16053.5       \n",
      "    swvl2  shape=(542080,) min=0              max=0.733412      \n",
      "    tcc    shape=(542080,) min=0              max=1             \n",
      "\n"
     ]
    },
    {
     "name": "stderr",
     "output_type": "stream",
     "text": [
      "2025-08-19 15:51:07,294 - INFO - Processing step 222\n",
      "2025-08-19 15:51:07,325 - INFO - Time taken for step 222: 1.63 seconds.\n",
      "2025-08-19 15:51:07,367 - INFO - Forecasting step 9 days, 12:00:00 (2023-07-10 12:00:00)\n"
     ]
    },
    {
     "name": "stdout",
     "output_type": "stream",
     "text": [
      "\n",
      "😀 date=2023-07-10T06:00:00 latitudes=(542080,) longitudes=(542080,) fields=102\n",
      "\n",
      "    q_50   shape=(542080,) min=1.28644e-06    max=3.16475e-06   \n",
      "    t_1000 shape=(542080,) min=234.925        max=318.734       \n",
      "    v_925  shape=(542080,) min=-28.8459       max=26.7675       \n",
      "    z_850  shape=(542080,) min=8897.93        max=16072.7       \n",
      "    swvl2  shape=(542080,) min=0              max=0.73279       \n",
      "    tcc    shape=(542080,) min=0              max=1             \n",
      "\n"
     ]
    },
    {
     "name": "stderr",
     "output_type": "stream",
     "text": [
      "2025-08-19 15:51:08,951 - INFO - Processing step 228\n",
      "2025-08-19 15:51:08,982 - INFO - Time taken for step 228: 1.66 seconds.\n",
      "2025-08-19 15:51:09,024 - INFO - Forecasting step 9 days, 18:00:00 (2023-07-10 18:00:00)\n"
     ]
    },
    {
     "name": "stdout",
     "output_type": "stream",
     "text": [
      "\n",
      "😀 date=2023-07-10T12:00:00 latitudes=(542080,) longitudes=(542080,) fields=102\n",
      "\n",
      "    q_50   shape=(542080,) min=1.29473e-06    max=3.1618e-06    \n",
      "    t_1000 shape=(542080,) min=229.609        max=322.494       \n",
      "    v_925  shape=(542080,) min=-31.0621       max=32.8115       \n",
      "    z_850  shape=(542080,) min=9002.51        max=16073         \n",
      "    swvl2  shape=(542080,) min=0              max=0.732209      \n",
      "    tcc    shape=(542080,) min=0              max=1             \n",
      "\n"
     ]
    },
    {
     "name": "stderr",
     "output_type": "stream",
     "text": [
      "2025-08-19 15:51:10,653 - INFO - Processing step 234\n",
      "2025-08-19 15:51:10,673 - INFO - Time taken for step 234: 1.69 seconds.\n",
      "2025-08-19 15:51:10,706 - INFO - Forecasting step 10 days, 0:00:00 (2023-07-11 00:00:00)\n"
     ]
    },
    {
     "name": "stdout",
     "output_type": "stream",
     "text": [
      "\n",
      "😀 date=2023-07-10T18:00:00 latitudes=(542080,) longitudes=(542080,) fields=102\n",
      "\n",
      "    q_50   shape=(542080,) min=1.29252e-06    max=3.15855e-06   \n",
      "    t_1000 shape=(542080,) min=229.244        max=320.861       \n",
      "    v_925  shape=(542080,) min=-33.6688       max=33.0552       \n",
      "    z_850  shape=(542080,) min=9110.87        max=16123.8       \n",
      "    swvl2  shape=(542080,) min=0              max=0.731618      \n",
      "    tcc    shape=(542080,) min=0              max=1             \n",
      "\n"
     ]
    },
    {
     "name": "stderr",
     "output_type": "stream",
     "text": [
      "2025-08-19 15:51:12,211 - INFO - Processing step 240\n",
      "2025-08-19 15:51:12,235 - INFO - Time taken for step 240: 1.56 seconds.\n",
      "2025-08-19 15:51:12,278 - INFO - Forecasting step 10 days, 6:00:00 (2023-07-11 06:00:00)\n"
     ]
    },
    {
     "name": "stdout",
     "output_type": "stream",
     "text": [
      "\n",
      "😀 date=2023-07-11T00:00:00 latitudes=(542080,) longitudes=(542080,) fields=102\n",
      "\n",
      "    q_50   shape=(542080,) min=1.25961e-06    max=3.15746e-06   \n",
      "    t_1000 shape=(542080,) min=230.158        max=318.204       \n",
      "    v_925  shape=(542080,) min=-35.5583       max=30.171        \n",
      "    z_850  shape=(542080,) min=9235.98        max=16158         \n",
      "    swvl2  shape=(542080,) min=0              max=0.731188      \n",
      "    tcc    shape=(542080,) min=0              max=1             \n",
      "\n"
     ]
    },
    {
     "name": "stderr",
     "output_type": "stream",
     "text": [
      "2025-08-19 15:51:13,795 - INFO - Processing step 246\n",
      "2025-08-19 15:51:13,815 - INFO - Time taken for step 246: 1.58 seconds.\n",
      "2025-08-19 15:51:13,851 - INFO - Forecasting step 10 days, 12:00:00 (2023-07-11 12:00:00)\n"
     ]
    },
    {
     "name": "stdout",
     "output_type": "stream",
     "text": [
      "\n",
      "😀 date=2023-07-11T06:00:00 latitudes=(542080,) longitudes=(542080,) fields=102\n",
      "\n",
      "    q_50   shape=(542080,) min=1.21581e-06    max=3.15327e-06   \n",
      "    t_1000 shape=(542080,) min=232.465        max=318.763       \n",
      "    v_925  shape=(542080,) min=-32.288        max=27.2199       \n",
      "    z_850  shape=(542080,) min=9404.39        max=16139.5       \n",
      "    swvl2  shape=(542080,) min=0              max=0.730621      \n",
      "    tcc    shape=(542080,) min=0              max=1             \n",
      "\n"
     ]
    },
    {
     "name": "stderr",
     "output_type": "stream",
     "text": [
      "2025-08-19 15:51:15,351 - INFO - Processing step 252\n",
      "2025-08-19 15:51:15,372 - INFO - Time taken for step 252: 1.56 seconds.\n",
      "2025-08-19 15:51:15,403 - INFO - Forecasting step 10 days, 18:00:00 (2023-07-11 18:00:00)\n"
     ]
    },
    {
     "name": "stdout",
     "output_type": "stream",
     "text": [
      "\n",
      "😀 date=2023-07-11T12:00:00 latitudes=(542080,) longitudes=(542080,) fields=102\n",
      "\n",
      "    q_50   shape=(542080,) min=9.4399e-07     max=3.15047e-06   \n",
      "    t_1000 shape=(542080,) min=235.701        max=323.361       \n",
      "    v_925  shape=(542080,) min=-31.7306       max=25.6037       \n",
      "    z_850  shape=(542080,) min=9391.65        max=16094.4       \n",
      "    swvl2  shape=(542080,) min=0              max=0.73007       \n",
      "    tcc    shape=(542080,) min=0              max=1             \n",
      "\n"
     ]
    },
    {
     "name": "stderr",
     "output_type": "stream",
     "text": [
      "2025-08-19 15:51:16,988 - INFO - Processing step 258\n",
      "2025-08-19 15:51:17,011 - INFO - Time taken for step 258: 1.64 seconds.\n",
      "2025-08-19 15:51:17,046 - INFO - Forecasting step 11 days, 0:00:00 (2023-07-12 00:00:00)\n"
     ]
    },
    {
     "name": "stdout",
     "output_type": "stream",
     "text": [
      "\n",
      "😀 date=2023-07-11T18:00:00 latitudes=(542080,) longitudes=(542080,) fields=102\n",
      "\n",
      "    q_50   shape=(542080,) min=8.44789e-07    max=3.14586e-06   \n",
      "    t_1000 shape=(542080,) min=235.314        max=321.687       \n",
      "    v_925  shape=(542080,) min=-29.2857       max=24.7868       \n",
      "    z_850  shape=(542080,) min=9333.99        max=16111.6       \n",
      "    swvl2  shape=(542080,) min=0              max=0.729481      \n",
      "    tcc    shape=(542080,) min=0              max=1             \n",
      "\n"
     ]
    },
    {
     "name": "stderr",
     "output_type": "stream",
     "text": [
      "2025-08-19 15:51:18,648 - INFO - Processing step 264\n",
      "2025-08-19 15:51:18,671 - INFO - Time taken for step 264: 1.66 seconds.\n",
      "2025-08-19 15:51:18,702 - INFO - Forecasting step 11 days, 6:00:00 (2023-07-12 06:00:00)\n"
     ]
    },
    {
     "name": "stdout",
     "output_type": "stream",
     "text": [
      "\n",
      "😀 date=2023-07-12T00:00:00 latitudes=(542080,) longitudes=(542080,) fields=102\n",
      "\n",
      "    q_50   shape=(542080,) min=8.62981e-07    max=3.14538e-06   \n",
      "    t_1000 shape=(542080,) min=234.867        max=318.113       \n",
      "    v_925  shape=(542080,) min=-30.1103       max=29.4494       \n",
      "    z_850  shape=(542080,) min=9432.82        max=16130.5       \n",
      "    swvl2  shape=(542080,) min=0              max=0.729077      \n",
      "    tcc    shape=(542080,) min=0              max=1             \n",
      "\n"
     ]
    },
    {
     "name": "stderr",
     "output_type": "stream",
     "text": [
      "2025-08-19 15:51:20,243 - INFO - Processing step 270\n",
      "2025-08-19 15:51:20,266 - INFO - Time taken for step 270: 1.59 seconds.\n",
      "2025-08-19 15:51:20,299 - INFO - Forecasting step 11 days, 12:00:00 (2023-07-12 12:00:00)\n"
     ]
    },
    {
     "name": "stdout",
     "output_type": "stream",
     "text": [
      "\n",
      "😀 date=2023-07-12T06:00:00 latitudes=(542080,) longitudes=(542080,) fields=102\n",
      "\n",
      "    q_50   shape=(542080,) min=1.10259e-06    max=3.14138e-06   \n",
      "    t_1000 shape=(542080,) min=235.098        max=318.901       \n",
      "    v_925  shape=(542080,) min=-31.0438       max=26.4168       \n",
      "    z_850  shape=(542080,) min=9449.72        max=16113.5       \n",
      "    swvl2  shape=(542080,) min=0              max=0.72846       \n",
      "    tcc    shape=(542080,) min=0              max=1             \n",
      "\n"
     ]
    },
    {
     "name": "stderr",
     "output_type": "stream",
     "text": [
      "2025-08-19 15:51:21,850 - INFO - Processing step 276\n",
      "2025-08-19 15:51:21,874 - INFO - Time taken for step 276: 1.61 seconds.\n",
      "2025-08-19 15:51:21,911 - INFO - Forecasting step 11 days, 18:00:00 (2023-07-12 18:00:00)\n"
     ]
    },
    {
     "name": "stdout",
     "output_type": "stream",
     "text": [
      "\n",
      "😀 date=2023-07-12T12:00:00 latitudes=(542080,) longitudes=(542080,) fields=102\n",
      "\n",
      "    q_50   shape=(542080,) min=1.22884e-06    max=3.1397e-06    \n",
      "    t_1000 shape=(542080,) min=233.64         max=324.117       \n",
      "    v_925  shape=(542080,) min=-30.4913       max=25.1141       \n",
      "    z_850  shape=(542080,) min=9272.74        max=16109.6       \n",
      "    swvl2  shape=(542080,) min=0              max=0.727888      \n",
      "    tcc    shape=(542080,) min=0              max=1             \n",
      "\n"
     ]
    },
    {
     "name": "stderr",
     "output_type": "stream",
     "text": [
      "2025-08-19 15:51:23,439 - INFO - Processing step 282\n",
      "2025-08-19 15:51:23,461 - INFO - Time taken for step 282: 1.59 seconds.\n",
      "2025-08-19 15:51:23,502 - INFO - Forecasting step 12 days, 0:00:00 (2023-07-13 00:00:00)\n"
     ]
    },
    {
     "name": "stdout",
     "output_type": "stream",
     "text": [
      "\n",
      "😀 date=2023-07-12T18:00:00 latitudes=(542080,) longitudes=(542080,) fields=102\n",
      "\n",
      "    q_50   shape=(542080,) min=1.23532e-06    max=3.134e-06     \n",
      "    t_1000 shape=(542080,) min=233.313        max=322.389       \n",
      "    v_925  shape=(542080,) min=-29.4279       max=24.3956       \n",
      "    z_850  shape=(542080,) min=9125.17        max=16138.7       \n",
      "    swvl2  shape=(542080,) min=0              max=0.727302      \n",
      "    tcc    shape=(542080,) min=0              max=1             \n",
      "\n"
     ]
    },
    {
     "name": "stderr",
     "output_type": "stream",
     "text": [
      "2025-08-19 15:51:25,069 - INFO - Processing step 288\n",
      "2025-08-19 15:51:25,091 - INFO - Time taken for step 288: 1.63 seconds.\n",
      "2025-08-19 15:51:25,133 - INFO - Forecasting step 12 days, 6:00:00 (2023-07-13 06:00:00)\n"
     ]
    },
    {
     "name": "stdout",
     "output_type": "stream",
     "text": [
      "\n",
      "😀 date=2023-07-13T00:00:00 latitudes=(542080,) longitudes=(542080,) fields=102\n",
      "\n",
      "    q_50   shape=(542080,) min=1.25093e-06    max=3.13399e-06   \n",
      "    t_1000 shape=(542080,) min=232.699        max=318.64        \n",
      "    v_925  shape=(542080,) min=-30.038        max=24.5729       \n",
      "    z_850  shape=(542080,) min=9094.04        max=16172.4       \n",
      "    swvl2  shape=(542080,) min=0              max=0.731151      \n",
      "    tcc    shape=(542080,) min=0              max=1             \n",
      "\n"
     ]
    },
    {
     "name": "stderr",
     "output_type": "stream",
     "text": [
      "2025-08-19 15:51:26,803 - INFO - Processing step 294\n",
      "2025-08-19 15:51:26,827 - INFO - Time taken for step 294: 1.74 seconds.\n",
      "2025-08-19 15:51:26,861 - INFO - Forecasting step 12 days, 12:00:00 (2023-07-13 12:00:00)\n"
     ]
    },
    {
     "name": "stdout",
     "output_type": "stream",
     "text": [
      "\n",
      "😀 date=2023-07-13T06:00:00 latitudes=(542080,) longitudes=(542080,) fields=102\n",
      "\n",
      "    q_50   shape=(542080,) min=1.25288e-06    max=3.12977e-06   \n",
      "    t_1000 shape=(542080,) min=233.015        max=318.497       \n",
      "    v_925  shape=(542080,) min=-28.5752       max=23.9032       \n",
      "    z_850  shape=(542080,) min=9149.35        max=16160.2       \n",
      "    swvl2  shape=(542080,) min=0              max=0.736076      \n",
      "    tcc    shape=(542080,) min=0              max=1             \n",
      "\n"
     ]
    },
    {
     "name": "stderr",
     "output_type": "stream",
     "text": [
      "2025-08-19 15:51:28,537 - INFO - Processing step 300\n",
      "2025-08-19 15:51:28,559 - INFO - Time taken for step 300: 1.55 seconds.\n",
      "2025-08-19 15:51:28,591 - INFO - Forecasting step 12 days, 18:00:00 (2023-07-13 18:00:00)\n"
     ]
    },
    {
     "name": "stdout",
     "output_type": "stream",
     "text": [
      "\n",
      "😀 date=2023-07-13T12:00:00 latitudes=(542080,) longitudes=(542080,) fields=102\n",
      "\n",
      "    q_50   shape=(542080,) min=1.24794e-06    max=3.12742e-06   \n",
      "    t_1000 shape=(542080,) min=232.982        max=324.27        \n",
      "    v_925  shape=(542080,) min=-29.1479       max=26.801        \n",
      "    z_850  shape=(542080,) min=9327.12        max=16167.7       \n",
      "    swvl2  shape=(542080,) min=0              max=0.739881      \n",
      "    tcc    shape=(542080,) min=0              max=1             \n",
      "\n"
     ]
    },
    {
     "name": "stderr",
     "output_type": "stream",
     "text": [
      "2025-08-19 15:51:30,133 - INFO - Processing step 306\n",
      "2025-08-19 15:51:30,155 - INFO - Time taken for step 306: 1.60 seconds.\n",
      "2025-08-19 15:51:30,189 - INFO - Forecasting step 13 days, 0:00:00 (2023-07-14 00:00:00)\n"
     ]
    },
    {
     "name": "stdout",
     "output_type": "stream",
     "text": [
      "\n",
      "😀 date=2023-07-13T18:00:00 latitudes=(542080,) longitudes=(542080,) fields=102\n",
      "\n",
      "    q_50   shape=(542080,) min=1.26399e-06    max=3.12432e-06   \n",
      "    t_1000 shape=(542080,) min=234.079        max=321.61        \n",
      "    v_925  shape=(542080,) min=-32.1889       max=25.3279       \n",
      "    z_850  shape=(542080,) min=9479.74        max=16212         \n",
      "    swvl2  shape=(542080,) min=0              max=0.740526      \n",
      "    tcc    shape=(542080,) min=0              max=1             \n",
      "\n"
     ]
    },
    {
     "name": "stderr",
     "output_type": "stream",
     "text": [
      "2025-08-19 15:51:31,729 - INFO - Processing step 312\n",
      "2025-08-19 15:51:31,751 - INFO - Time taken for step 312: 1.60 seconds.\n",
      "2025-08-19 15:51:31,783 - INFO - Forecasting step 13 days, 6:00:00 (2023-07-14 06:00:00)\n"
     ]
    },
    {
     "name": "stdout",
     "output_type": "stream",
     "text": [
      "\n",
      "😀 date=2023-07-14T00:00:00 latitudes=(542080,) longitudes=(542080,) fields=102\n",
      "\n",
      "    q_50   shape=(542080,) min=1.27752e-06    max=3.12331e-06   \n",
      "    t_1000 shape=(542080,) min=234.545        max=319.666       \n",
      "    v_925  shape=(542080,) min=-33.0374       max=25.7902       \n",
      "    z_850  shape=(542080,) min=9021.9         max=16300         \n",
      "    swvl2  shape=(542080,) min=0              max=0.739808      \n",
      "    tcc    shape=(542080,) min=0              max=1             \n",
      "\n"
     ]
    },
    {
     "name": "stderr",
     "output_type": "stream",
     "text": [
      "2025-08-19 15:51:33,364 - INFO - Processing step 318\n",
      "2025-08-19 15:51:33,389 - INFO - Time taken for step 318: 1.64 seconds.\n",
      "2025-08-19 15:51:33,425 - INFO - Forecasting step 13 days, 12:00:00 (2023-07-14 12:00:00)\n"
     ]
    },
    {
     "name": "stdout",
     "output_type": "stream",
     "text": [
      "\n",
      "😀 date=2023-07-14T06:00:00 latitudes=(542080,) longitudes=(542080,) fields=102\n",
      "\n",
      "    q_50   shape=(542080,) min=1.28733e-06    max=3.11813e-06   \n",
      "    t_1000 shape=(542080,) min=235.755        max=318.938       \n",
      "    v_925  shape=(542080,) min=-34.9976       max=25.4585       \n",
      "    z_850  shape=(542080,) min=8557.77        max=16338.3       \n",
      "    swvl2  shape=(542080,) min=0              max=0.739902      \n",
      "    tcc    shape=(542080,) min=0              max=1             \n",
      "\n"
     ]
    },
    {
     "name": "stderr",
     "output_type": "stream",
     "text": [
      "2025-08-19 15:51:35,076 - INFO - Processing step 324\n",
      "2025-08-19 15:51:35,099 - INFO - Time taken for step 324: 1.71 seconds.\n",
      "2025-08-19 15:51:35,132 - INFO - Forecasting step 13 days, 18:00:00 (2023-07-14 18:00:00)\n"
     ]
    },
    {
     "name": "stdout",
     "output_type": "stream",
     "text": [
      "\n",
      "😀 date=2023-07-14T12:00:00 latitudes=(542080,) longitudes=(542080,) fields=102\n",
      "\n",
      "    q_50   shape=(542080,) min=1.26106e-06    max=3.11858e-06   \n",
      "    t_1000 shape=(542080,) min=235.765        max=324.928       \n",
      "    v_925  shape=(542080,) min=-33.5339       max=30.3863       \n",
      "    z_850  shape=(542080,) min=8330.65        max=16385.2       \n",
      "    swvl2  shape=(542080,) min=0              max=0.739168      \n",
      "    tcc    shape=(542080,) min=0              max=1             \n",
      "\n"
     ]
    },
    {
     "name": "stderr",
     "output_type": "stream",
     "text": [
      "2025-08-19 15:51:36,646 - INFO - Processing step 330\n",
      "2025-08-19 15:51:36,667 - INFO - Time taken for step 330: 1.57 seconds.\n",
      "2025-08-19 15:51:36,700 - INFO - Forecasting step 14 days, 0:00:00 (2023-07-15 00:00:00)\n"
     ]
    },
    {
     "name": "stdout",
     "output_type": "stream",
     "text": [
      "\n",
      "😀 date=2023-07-14T18:00:00 latitudes=(542080,) longitudes=(542080,) fields=102\n",
      "\n",
      "    q_50   shape=(542080,) min=1.25998e-06    max=3.11883e-06   \n",
      "    t_1000 shape=(542080,) min=235.987        max=321.564       \n",
      "    v_925  shape=(542080,) min=-32.5184       max=31.1104       \n",
      "    z_850  shape=(542080,) min=8168.23        max=16454.2       \n",
      "    swvl2  shape=(542080,) min=0              max=0.738399      \n",
      "    tcc    shape=(542080,) min=0              max=1             \n",
      "\n"
     ]
    },
    {
     "name": "stderr",
     "output_type": "stream",
     "text": [
      "2025-08-19 15:51:38,237 - INFO - Processing step 336\n",
      "2025-08-19 15:51:38,257 - INFO - Time taken for step 336: 1.59 seconds.\n",
      "2025-08-19 15:51:38,288 - INFO - Forecasting step 14 days, 6:00:00 (2023-07-15 06:00:00)\n"
     ]
    },
    {
     "name": "stdout",
     "output_type": "stream",
     "text": [
      "\n",
      "😀 date=2023-07-15T00:00:00 latitudes=(542080,) longitudes=(542080,) fields=102\n",
      "\n",
      "    q_50   shape=(542080,) min=1.29019e-06    max=3.11949e-06   \n",
      "    t_1000 shape=(542080,) min=234.372        max=320.381       \n",
      "    v_925  shape=(542080,) min=-31.2193       max=25.9601       \n",
      "    z_850  shape=(542080,) min=8010.4         max=16533.4       \n",
      "    swvl2  shape=(542080,) min=0              max=0.737632      \n",
      "    tcc    shape=(542080,) min=0              max=1             \n",
      "\n"
     ]
    },
    {
     "name": "stderr",
     "output_type": "stream",
     "text": [
      "2025-08-19 15:51:39,754 - INFO - Processing step 342\n",
      "2025-08-19 15:51:39,776 - INFO - Time taken for step 342: 1.52 seconds.\n",
      "2025-08-19 15:51:39,811 - INFO - Forecasting step 14 days, 12:00:00 (2023-07-15 12:00:00)\n"
     ]
    },
    {
     "name": "stdout",
     "output_type": "stream",
     "text": [
      "\n",
      "😀 date=2023-07-15T06:00:00 latitudes=(542080,) longitudes=(542080,) fields=102\n",
      "\n",
      "    q_50   shape=(542080,) min=1.28865e-06    max=3.12133e-06   \n",
      "    t_1000 shape=(542080,) min=233.846        max=319.603       \n",
      "    v_925  shape=(542080,) min=-36.0953       max=25.4977       \n",
      "    z_850  shape=(542080,) min=7919.98        max=16543.2       \n",
      "    swvl2  shape=(542080,) min=0              max=0.735932      \n",
      "    tcc    shape=(542080,) min=0              max=1             \n",
      "\n"
     ]
    },
    {
     "name": "stderr",
     "output_type": "stream",
     "text": [
      "2025-08-19 15:51:41,400 - INFO - Processing step 348\n",
      "2025-08-19 15:51:41,421 - INFO - Time taken for step 348: 1.64 seconds.\n",
      "2025-08-19 15:51:41,455 - INFO - Forecasting step 14 days, 18:00:00 (2023-07-15 18:00:00)\n"
     ]
    },
    {
     "name": "stdout",
     "output_type": "stream",
     "text": [
      "\n",
      "😀 date=2023-07-15T12:00:00 latitudes=(542080,) longitudes=(542080,) fields=102\n",
      "\n",
      "    q_50   shape=(542080,) min=1.2893e-06     max=3.12423e-06   \n",
      "    t_1000 shape=(542080,) min=233.048        max=323.717       \n",
      "    v_925  shape=(542080,) min=-30.8071       max=28.9637       \n",
      "    z_850  shape=(542080,) min=7913.1         max=16511.8       \n",
      "    swvl2  shape=(542080,) min=0              max=0.735178      \n",
      "    tcc    shape=(542080,) min=0              max=1             \n",
      "\n"
     ]
    },
    {
     "name": "stderr",
     "output_type": "stream",
     "text": [
      "2025-08-19 15:51:43,091 - INFO - Processing step 354\n",
      "2025-08-19 15:51:43,111 - INFO - Time taken for step 354: 1.69 seconds.\n",
      "2025-08-19 15:51:43,144 - INFO - Forecasting step 15 days, 0:00:00 (2023-07-16 00:00:00)\n"
     ]
    },
    {
     "name": "stdout",
     "output_type": "stream",
     "text": [
      "\n",
      "😀 date=2023-07-15T18:00:00 latitudes=(542080,) longitudes=(542080,) fields=102\n",
      "\n",
      "    q_50   shape=(542080,) min=1.27879e-06    max=3.12078e-06   \n",
      "    t_1000 shape=(542080,) min=230.335        max=321.024       \n",
      "    v_925  shape=(542080,) min=-31.798        max=30.9102       \n",
      "    z_850  shape=(542080,) min=7906.9         max=16532.2       \n",
      "    swvl2  shape=(542080,) min=0              max=0.732821      \n",
      "    tcc    shape=(542080,) min=0              max=1             \n",
      "\n"
     ]
    },
    {
     "name": "stderr",
     "output_type": "stream",
     "text": [
      "2025-08-19 15:51:44,663 - INFO - Processing step 360\n",
      "2025-08-19 15:51:44,683 - INFO - Time taken for step 360: 1.57 seconds.\n",
      "2025-08-19 15:51:44,685 - INFO - Inference session completed.\n",
      "2025-08-19 15:51:44,685 - INFO - Total time taken for the inference session: 105.17 seconds.\n",
      "2025-08-19 15:51:44,685 - INFO - Concatenating all steps into a single dataset.\n"
     ]
    },
    {
     "name": "stdout",
     "output_type": "stream",
     "text": [
      "\n",
      "😀 date=2023-07-16T00:00:00 latitudes=(542080,) longitudes=(542080,) fields=102\n",
      "\n",
      "    q_50   shape=(542080,) min=1.28927e-06    max=3.11744e-06   \n",
      "    t_1000 shape=(542080,) min=228.199        max=319.562       \n",
      "    v_925  shape=(542080,) min=-31.1818       max=36.3551       \n",
      "    z_850  shape=(542080,) min=7963.01        max=16542.1       \n",
      "    swvl2  shape=(542080,) min=0              max=0.730482      \n",
      "    tcc    shape=(542080,) min=0              max=1             \n",
      "\n"
     ]
    },
    {
     "name": "stderr",
     "output_type": "stream",
     "text": [
      "2025-08-19 15:51:44,891 - INFO - Output file output_states/init_ERA5_20230701T00_lead_360.nc already exists. Skipping save.\n",
      "2025-08-19 15:51:45,031 - INFO - Running inference for initialization date: 2023-07-02 00:00:00\n",
      "2025-08-19 15:51:45,032 - INFO - Getting ERA5 data for date 2023-07-02 00:00:00\n",
      "2025-08-19 15:51:45,034 - INFO - Input state for 2023-07-02 00:00:00 already exists locally. Loading from file...\n",
      "2025-08-19 15:51:48,538 - INFO - Input state loaded successfully.\n",
      "2025-08-19 15:51:48,539 - INFO - Using SimpleRunner runner\n",
      "2025-08-19 15:51:48,539 - INFO - Starting the inference session...\n",
      "2025-08-19 15:51:48,558 - INFO - Computed constant forcings: before ['cos_latitude', 'cos_longitude', 'sin_latitude', 'sin_longitude'], after ['cos_latitude', 'cos_longitude', 'sin_latitude', 'sin_longitude']\n",
      "2025-08-19 15:51:48,559 - INFO - Constant computed forcing: ComputedForcings(['cos_latitude', 'cos_longitude', 'sin_latitude', 'sin_longitude'])\n",
      "2025-08-19 15:51:48,559 - INFO - Dynamic computed forcing: ComputedForcings(['cos_julian_day', 'cos_local_time', 'sin_julian_day', 'sin_local_time', 'insolation'])\n",
      "2025-08-19 15:51:48,559 - INFO - Constant forcings input: ComputedForcings(['cos_latitude', 'cos_longitude', 'sin_latitude', 'sin_longitude']) ['cos_latitude', 'cos_longitude', 'sin_latitude', 'sin_longitude'] ([datetime.datetime(2023, 7, 1, 18, 0), datetime.datetime(2023, 7, 2, 0, 0)])\n",
      "2025-08-19 15:51:48,573 - INFO - Dynamic forcings input: ComputedForcings(['cos_julian_day', 'cos_local_time', 'sin_julian_day', 'sin_local_time', 'insolation']) ['cos_julian_day', 'cos_local_time', 'sin_julian_day', 'sin_local_time', 'insolation'] ([datetime.datetime(2023, 7, 1, 18, 0), datetime.datetime(2023, 7, 2, 0, 0)])\n",
      "2025-08-19 15:51:48,627 - INFO - Expected shape for each input fields: (2, 542080)\n",
      "2025-08-19 15:51:48,888 - INFO - Preparing input tensor with shape (2, 103, 542080)\n",
      "2025-08-19 15:51:56,418 - INFO - Loading Checkpoint(weights/AIFS/aifs-single-mse-1.0.ckpt): 7 seconds.\n",
      "2025-08-19 15:51:56,664 - INFO - Using autocast torch.float16\n",
      "2025-08-19 15:51:56,664 - INFO - Lead time: 15 days, 0:00:00, time stepping: 6:00:00 Forecasting 60 steps\n",
      "2025-08-19 15:51:56,665 - INFO - Forecasting step 6:00:00 (2023-07-02 06:00:00)\n",
      "2025-08-19 15:51:58,648 - INFO - Processing step 6\n",
      "2025-08-19 15:51:58,669 - INFO - Time taken for step 6: 9.89 seconds.\n",
      "2025-08-19 15:51:58,699 - INFO - Forecasting step 12:00:00 (2023-07-02 12:00:00)\n"
     ]
    },
    {
     "name": "stdout",
     "output_type": "stream",
     "text": [
      "\n",
      "😀 date=2023-07-02T06:00:00 latitudes=(542080,) longitudes=(542080,) fields=102\n",
      "\n",
      "    q_50   shape=(542080,) min=7.58283e-07    max=3.14781e-06   \n",
      "    t_1000 shape=(542080,) min=229.904        max=321.435       \n",
      "    v_925  shape=(542080,) min=-37.5519       max=50.769        \n",
      "    z_850  shape=(542080,) min=8155.82        max=15922.8       \n",
      "    swvl2  shape=(542080,) min=0              max=0.762077      \n",
      "    tcc    shape=(542080,) min=0              max=1             \n",
      "\n"
     ]
    },
    {
     "name": "stderr",
     "output_type": "stream",
     "text": [
      "2025-08-19 15:52:00,263 - INFO - Processing step 12\n",
      "2025-08-19 15:52:00,282 - INFO - Time taken for step 12: 1.61 seconds.\n",
      "2025-08-19 15:52:00,309 - INFO - Forecasting step 18:00:00 (2023-07-02 18:00:00)\n"
     ]
    },
    {
     "name": "stdout",
     "output_type": "stream",
     "text": [
      "\n",
      "😀 date=2023-07-02T12:00:00 latitudes=(542080,) longitudes=(542080,) fields=102\n",
      "\n",
      "    q_50   shape=(542080,) min=6.62335e-07    max=3.14565e-06   \n",
      "    t_1000 shape=(542080,) min=229.225        max=324.948       \n",
      "    v_925  shape=(542080,) min=-37.1651       max=48.9647       \n",
      "    z_850  shape=(542080,) min=8473.89        max=15967.9       \n",
      "    swvl2  shape=(542080,) min=0              max=0.760048      \n",
      "    tcc    shape=(542080,) min=0              max=1             \n",
      "\n"
     ]
    },
    {
     "name": "stderr",
     "output_type": "stream",
     "text": [
      "2025-08-19 15:52:01,817 - INFO - Processing step 18\n",
      "2025-08-19 15:52:01,836 - INFO - Time taken for step 18: 1.55 seconds.\n",
      "2025-08-19 15:52:01,864 - INFO - Forecasting step 1 day, 0:00:00 (2023-07-03 00:00:00)\n"
     ]
    },
    {
     "name": "stdout",
     "output_type": "stream",
     "text": [
      "\n",
      "😀 date=2023-07-02T18:00:00 latitudes=(542080,) longitudes=(542080,) fields=102\n",
      "\n",
      "    q_50   shape=(542080,) min=5.18148e-07    max=3.1457e-06    \n",
      "    t_1000 shape=(542080,) min=228.86         max=322.941       \n",
      "    v_925  shape=(542080,) min=-36.971        max=47.3956       \n",
      "    z_850  shape=(542080,) min=8428.2         max=15970.6       \n",
      "    swvl2  shape=(542080,) min=0              max=0.758707      \n",
      "    tcc    shape=(542080,) min=0              max=1             \n",
      "\n"
     ]
    },
    {
     "name": "stderr",
     "output_type": "stream",
     "text": [
      "2025-08-19 15:52:03,393 - INFO - Processing step 24\n",
      "2025-08-19 15:52:03,413 - INFO - Time taken for step 24: 1.58 seconds.\n",
      "2025-08-19 15:52:03,440 - INFO - Forecasting step 1 day, 6:00:00 (2023-07-03 06:00:00)\n"
     ]
    },
    {
     "name": "stdout",
     "output_type": "stream",
     "text": [
      "\n",
      "😀 date=2023-07-03T00:00:00 latitudes=(542080,) longitudes=(542080,) fields=102\n",
      "\n",
      "    q_50   shape=(542080,) min=6.80127e-07    max=3.15255e-06   \n",
      "    t_1000 shape=(542080,) min=227.437        max=319.456       \n",
      "    v_925  shape=(542080,) min=-33.742        max=46.067        \n",
      "    z_850  shape=(542080,) min=8402.12        max=15995.6       \n",
      "    swvl2  shape=(542080,) min=0              max=0.757477      \n",
      "    tcc    shape=(542080,) min=0              max=1             \n",
      "\n"
     ]
    },
    {
     "name": "stderr",
     "output_type": "stream",
     "text": [
      "2025-08-19 15:52:04,938 - INFO - Processing step 30\n",
      "2025-08-19 15:52:04,958 - INFO - Time taken for step 30: 1.54 seconds.\n",
      "2025-08-19 15:52:04,985 - INFO - Forecasting step 1 day, 12:00:00 (2023-07-03 12:00:00)\n"
     ]
    },
    {
     "name": "stdout",
     "output_type": "stream",
     "text": [
      "\n",
      "😀 date=2023-07-03T06:00:00 latitudes=(542080,) longitudes=(542080,) fields=102\n",
      "\n",
      "    q_50   shape=(542080,) min=7.9668e-07     max=3.15862e-06   \n",
      "    t_1000 shape=(542080,) min=228.204        max=320.067       \n",
      "    v_925  shape=(542080,) min=-33.2765       max=45.504        \n",
      "    z_850  shape=(542080,) min=8614.06        max=16054.3       \n",
      "    swvl2  shape=(542080,) min=0              max=0.755839      \n",
      "    tcc    shape=(542080,) min=0              max=1             \n",
      "\n"
     ]
    },
    {
     "name": "stderr",
     "output_type": "stream",
     "text": [
      "2025-08-19 15:52:06,641 - INFO - Processing step 36\n",
      "2025-08-19 15:52:06,662 - INFO - Time taken for step 36: 1.70 seconds.\n",
      "2025-08-19 15:52:06,692 - INFO - Forecasting step 1 day, 18:00:00 (2023-07-03 18:00:00)\n"
     ]
    },
    {
     "name": "stdout",
     "output_type": "stream",
     "text": [
      "\n",
      "😀 date=2023-07-03T12:00:00 latitudes=(542080,) longitudes=(542080,) fields=102\n",
      "\n",
      "    q_50   shape=(542080,) min=8.62448e-07    max=3.16326e-06   \n",
      "    t_1000 shape=(542080,) min=226.639        max=323.864       \n",
      "    v_925  shape=(542080,) min=-32.5225       max=43.5076       \n",
      "    z_850  shape=(542080,) min=8980.85        max=16002         \n",
      "    swvl2  shape=(542080,) min=0              max=0.7548        \n",
      "    tcc    shape=(542080,) min=0              max=1             \n",
      "\n"
     ]
    },
    {
     "name": "stderr",
     "output_type": "stream",
     "text": [
      "2025-08-19 15:52:08,256 - INFO - Processing step 42\n",
      "2025-08-19 15:52:08,276 - INFO - Time taken for step 42: 1.61 seconds.\n",
      "2025-08-19 15:52:08,305 - INFO - Forecasting step 2 days, 0:00:00 (2023-07-04 00:00:00)\n"
     ]
    },
    {
     "name": "stdout",
     "output_type": "stream",
     "text": [
      "\n",
      "😀 date=2023-07-03T18:00:00 latitudes=(542080,) longitudes=(542080,) fields=102\n",
      "\n",
      "    q_50   shape=(542080,) min=9.02592e-07    max=3.17178e-06   \n",
      "    t_1000 shape=(542080,) min=224.045        max=322.068       \n",
      "    v_925  shape=(542080,) min=-30.5275       max=41.1362       \n",
      "    z_850  shape=(542080,) min=8779.55        max=16009.2       \n",
      "    swvl2  shape=(542080,) min=0              max=0.753544      \n",
      "    tcc    shape=(542080,) min=0              max=1             \n",
      "\n"
     ]
    },
    {
     "name": "stderr",
     "output_type": "stream",
     "text": [
      "2025-08-19 15:52:09,847 - INFO - Processing step 48\n",
      "2025-08-19 15:52:09,867 - INFO - Time taken for step 48: 1.59 seconds.\n",
      "2025-08-19 15:52:09,895 - INFO - Forecasting step 2 days, 6:00:00 (2023-07-04 06:00:00)\n"
     ]
    },
    {
     "name": "stdout",
     "output_type": "stream",
     "text": [
      "\n",
      "😀 date=2023-07-04T00:00:00 latitudes=(542080,) longitudes=(542080,) fields=102\n",
      "\n",
      "    q_50   shape=(542080,) min=9.08707e-07    max=3.18729e-06   \n",
      "    t_1000 shape=(542080,) min=221.684        max=319.293       \n",
      "    v_925  shape=(542080,) min=-29.6342       max=38.9644       \n",
      "    z_850  shape=(542080,) min=8858.71        max=16054.7       \n",
      "    swvl2  shape=(542080,) min=0              max=0.75255       \n",
      "    tcc    shape=(542080,) min=0              max=1             \n",
      "\n"
     ]
    },
    {
     "name": "stderr",
     "output_type": "stream",
     "text": [
      "2025-08-19 15:52:11,367 - INFO - Processing step 54\n",
      "2025-08-19 15:52:11,385 - INFO - Time taken for step 54: 1.52 seconds.\n",
      "2025-08-19 15:52:11,412 - INFO - Forecasting step 2 days, 12:00:00 (2023-07-04 12:00:00)\n"
     ]
    },
    {
     "name": "stdout",
     "output_type": "stream",
     "text": [
      "\n",
      "😀 date=2023-07-04T06:00:00 latitudes=(542080,) longitudes=(542080,) fields=102\n",
      "\n",
      "    q_50   shape=(542080,) min=9.07015e-07    max=3.18848e-06   \n",
      "    t_1000 shape=(542080,) min=222.835        max=318.536       \n",
      "    v_925  shape=(542080,) min=-30.235        max=34.2669       \n",
      "    z_850  shape=(542080,) min=9143.58        max=16091         \n",
      "    swvl2  shape=(542080,) min=0              max=0.751562      \n",
      "    tcc    shape=(542080,) min=0              max=1             \n",
      "\n"
     ]
    },
    {
     "name": "stderr",
     "output_type": "stream",
     "text": [
      "2025-08-19 15:52:12,972 - INFO - Processing step 60\n",
      "2025-08-19 15:52:12,992 - INFO - Time taken for step 60: 1.61 seconds.\n",
      "2025-08-19 15:52:13,020 - INFO - Forecasting step 2 days, 18:00:00 (2023-07-04 18:00:00)\n"
     ]
    },
    {
     "name": "stdout",
     "output_type": "stream",
     "text": [
      "\n",
      "😀 date=2023-07-04T12:00:00 latitudes=(542080,) longitudes=(542080,) fields=102\n",
      "\n",
      "    q_50   shape=(542080,) min=9.53562e-07    max=3.18454e-06   \n",
      "    t_1000 shape=(542080,) min=223.184        max=323.351       \n",
      "    v_925  shape=(542080,) min=-33.8594       max=28.5363       \n",
      "    z_850  shape=(542080,) min=9359.75        max=16072         \n",
      "    swvl2  shape=(542080,) min=0              max=0.750499      \n",
      "    tcc    shape=(542080,) min=0              max=1             \n",
      "\n"
     ]
    },
    {
     "name": "stderr",
     "output_type": "stream",
     "text": [
      "2025-08-19 15:52:14,671 - INFO - Processing step 66\n",
      "2025-08-19 15:52:14,692 - INFO - Time taken for step 66: 1.70 seconds.\n",
      "2025-08-19 15:52:14,723 - INFO - Forecasting step 3 days, 0:00:00 (2023-07-05 00:00:00)\n"
     ]
    },
    {
     "name": "stdout",
     "output_type": "stream",
     "text": [
      "\n",
      "😀 date=2023-07-04T18:00:00 latitudes=(542080,) longitudes=(542080,) fields=102\n",
      "\n",
      "    q_50   shape=(542080,) min=9.90744e-07    max=3.18366e-06   \n",
      "    t_1000 shape=(542080,) min=224.947        max=321.066       \n",
      "    v_925  shape=(542080,) min=-33.7464       max=26.6895       \n",
      "    z_850  shape=(542080,) min=9415.84        max=16129.6       \n",
      "    swvl2  shape=(542080,) min=0              max=0.749581      \n",
      "    tcc    shape=(542080,) min=0              max=1             \n",
      "\n"
     ]
    },
    {
     "name": "stderr",
     "output_type": "stream",
     "text": [
      "2025-08-19 15:52:16,299 - INFO - Processing step 72\n",
      "2025-08-19 15:52:16,321 - INFO - Time taken for step 72: 1.63 seconds.\n",
      "2025-08-19 15:52:16,348 - INFO - Forecasting step 3 days, 6:00:00 (2023-07-05 06:00:00)\n"
     ]
    },
    {
     "name": "stdout",
     "output_type": "stream",
     "text": [
      "\n",
      "😀 date=2023-07-05T00:00:00 latitudes=(542080,) longitudes=(542080,) fields=102\n",
      "\n",
      "    q_50   shape=(542080,) min=1.02309e-06    max=3.1844e-06    \n",
      "    t_1000 shape=(542080,) min=226.44         max=319.507       \n",
      "    v_925  shape=(542080,) min=-32.9961       max=24.4551       \n",
      "    z_850  shape=(542080,) min=9371.96        max=16149.8       \n",
      "    swvl2  shape=(542080,) min=0              max=0.748673      \n",
      "    tcc    shape=(542080,) min=0              max=1             \n",
      "\n"
     ]
    },
    {
     "name": "stderr",
     "output_type": "stream",
     "text": [
      "2025-08-19 15:52:17,830 - INFO - Processing step 78\n",
      "2025-08-19 15:52:17,851 - INFO - Time taken for step 78: 1.53 seconds.\n",
      "2025-08-19 15:52:17,879 - INFO - Forecasting step 3 days, 12:00:00 (2023-07-05 12:00:00)\n"
     ]
    },
    {
     "name": "stdout",
     "output_type": "stream",
     "text": [
      "\n",
      "😀 date=2023-07-05T06:00:00 latitudes=(542080,) longitudes=(542080,) fields=102\n",
      "\n",
      "    q_50   shape=(542080,) min=1.0675e-06     max=3.18123e-06   \n",
      "    t_1000 shape=(542080,) min=229.365        max=318.183       \n",
      "    v_925  shape=(542080,) min=-31.7532       max=26.0963       \n",
      "    z_850  shape=(542080,) min=9328           max=16151.4       \n",
      "    swvl2  shape=(542080,) min=0              max=0.747531      \n",
      "    tcc    shape=(542080,) min=0              max=1             \n",
      "\n"
     ]
    },
    {
     "name": "stderr",
     "output_type": "stream",
     "text": [
      "2025-08-19 15:52:19,440 - INFO - Processing step 84\n",
      "2025-08-19 15:52:19,460 - INFO - Time taken for step 84: 1.61 seconds.\n",
      "2025-08-19 15:52:19,487 - INFO - Forecasting step 3 days, 18:00:00 (2023-07-05 18:00:00)\n"
     ]
    },
    {
     "name": "stdout",
     "output_type": "stream",
     "text": [
      "\n",
      "😀 date=2023-07-05T12:00:00 latitudes=(542080,) longitudes=(542080,) fields=102\n",
      "\n",
      "    q_50   shape=(542080,) min=1.1106e-06     max=3.17998e-06   \n",
      "    t_1000 shape=(542080,) min=231.155        max=322.887       \n",
      "    v_925  shape=(542080,) min=-29.6006       max=28.3616       \n",
      "    z_850  shape=(542080,) min=9395.15        max=16098.1       \n",
      "    swvl2  shape=(542080,) min=0              max=0.746678      \n",
      "    tcc    shape=(542080,) min=0              max=1             \n",
      "\n"
     ]
    },
    {
     "name": "stderr",
     "output_type": "stream",
     "text": [
      "2025-08-19 15:52:21,016 - INFO - Processing step 90\n",
      "2025-08-19 15:52:21,036 - INFO - Time taken for step 90: 1.58 seconds.\n",
      "2025-08-19 15:52:21,066 - INFO - Forecasting step 4 days, 0:00:00 (2023-07-06 00:00:00)\n"
     ]
    },
    {
     "name": "stdout",
     "output_type": "stream",
     "text": [
      "\n",
      "😀 date=2023-07-05T18:00:00 latitudes=(542080,) longitudes=(542080,) fields=102\n",
      "\n",
      "    q_50   shape=(542080,) min=1.13819e-06    max=3.17996e-06   \n",
      "    t_1000 shape=(542080,) min=226.339        max=321.21        \n",
      "    v_925  shape=(542080,) min=-28.7007       max=28.882        \n",
      "    z_850  shape=(542080,) min=9555.71        max=16129.4       \n",
      "    swvl2  shape=(542080,) min=0              max=0.745904      \n",
      "    tcc    shape=(542080,) min=0              max=1             \n",
      "\n"
     ]
    },
    {
     "name": "stderr",
     "output_type": "stream",
     "text": [
      "2025-08-19 15:52:22,630 - INFO - Processing step 96\n",
      "2025-08-19 15:52:22,651 - INFO - Time taken for step 96: 1.61 seconds.\n",
      "2025-08-19 15:52:22,681 - INFO - Forecasting step 4 days, 6:00:00 (2023-07-06 06:00:00)\n"
     ]
    },
    {
     "name": "stdout",
     "output_type": "stream",
     "text": [
      "\n",
      "😀 date=2023-07-06T00:00:00 latitudes=(542080,) longitudes=(542080,) fields=102\n",
      "\n",
      "    q_50   shape=(542080,) min=1.13991e-06    max=3.18297e-06   \n",
      "    t_1000 shape=(542080,) min=223.629        max=318.972       \n",
      "    v_925  shape=(542080,) min=-28.6383       max=34.488        \n",
      "    z_850  shape=(542080,) min=9456.82        max=16157.4       \n",
      "    swvl2  shape=(542080,) min=0              max=0.745303      \n",
      "    tcc    shape=(542080,) min=0              max=1             \n",
      "\n"
     ]
    },
    {
     "name": "stderr",
     "output_type": "stream",
     "text": [
      "2025-08-19 15:52:24,258 - INFO - Processing step 102\n",
      "2025-08-19 15:52:24,281 - INFO - Time taken for step 102: 1.63 seconds.\n",
      "2025-08-19 15:52:24,310 - INFO - Forecasting step 4 days, 12:00:00 (2023-07-06 12:00:00)\n"
     ]
    },
    {
     "name": "stdout",
     "output_type": "stream",
     "text": [
      "\n",
      "😀 date=2023-07-06T06:00:00 latitudes=(542080,) longitudes=(542080,) fields=102\n",
      "\n",
      "    q_50   shape=(542080,) min=1.16202e-06    max=3.17971e-06   \n",
      "    t_1000 shape=(542080,) min=222.801        max=317.454       \n",
      "    v_925  shape=(542080,) min=-27.1996       max=41.4538       \n",
      "    z_850  shape=(542080,) min=9453.94        max=16160.7       \n",
      "    swvl2  shape=(542080,) min=0              max=0.744499      \n",
      "    tcc    shape=(542080,) min=0              max=1             \n",
      "\n"
     ]
    },
    {
     "name": "stderr",
     "output_type": "stream",
     "text": [
      "2025-08-19 15:52:25,824 - INFO - Processing step 108\n",
      "2025-08-19 15:52:25,843 - INFO - Time taken for step 108: 1.56 seconds.\n",
      "2025-08-19 15:52:25,870 - INFO - Forecasting step 4 days, 18:00:00 (2023-07-06 18:00:00)\n"
     ]
    },
    {
     "name": "stdout",
     "output_type": "stream",
     "text": [
      "\n",
      "😀 date=2023-07-06T12:00:00 latitudes=(542080,) longitudes=(542080,) fields=102\n",
      "\n",
      "    q_50   shape=(542080,) min=1.1797e-06     max=3.1795e-06    \n",
      "    t_1000 shape=(542080,) min=224.047        max=322.324       \n",
      "    v_925  shape=(542080,) min=-31.7299       max=43.0915       \n",
      "    z_850  shape=(542080,) min=9119.61        max=16136.5       \n",
      "    swvl2  shape=(542080,) min=0              max=0.743656      \n",
      "    tcc    shape=(542080,) min=0              max=1             \n",
      "\n"
     ]
    },
    {
     "name": "stderr",
     "output_type": "stream",
     "text": [
      "2025-08-19 15:52:27,406 - INFO - Processing step 114\n",
      "2025-08-19 15:52:27,428 - INFO - Time taken for step 114: 1.58 seconds.\n",
      "2025-08-19 15:52:27,459 - INFO - Forecasting step 5 days, 0:00:00 (2023-07-07 00:00:00)\n"
     ]
    },
    {
     "name": "stdout",
     "output_type": "stream",
     "text": [
      "\n",
      "😀 date=2023-07-06T18:00:00 latitudes=(542080,) longitudes=(542080,) fields=102\n",
      "\n",
      "    q_50   shape=(542080,) min=1.19202e-06    max=3.1809e-06    \n",
      "    t_1000 shape=(542080,) min=226.158        max=320.561       \n",
      "    v_925  shape=(542080,) min=-33.9874       max=34.5413       \n",
      "    z_850  shape=(542080,) min=8852.74        max=16153.2       \n",
      "    swvl2  shape=(542080,) min=0              max=0.742884      \n",
      "    tcc    shape=(542080,) min=0              max=1             \n",
      "\n"
     ]
    },
    {
     "name": "stderr",
     "output_type": "stream",
     "text": [
      "2025-08-19 15:52:29,136 - INFO - Processing step 120\n",
      "2025-08-19 15:52:29,156 - INFO - Time taken for step 120: 1.61 seconds.\n",
      "2025-08-19 15:52:29,184 - INFO - Forecasting step 5 days, 6:00:00 (2023-07-07 06:00:00)\n"
     ]
    },
    {
     "name": "stdout",
     "output_type": "stream",
     "text": [
      "\n",
      "😀 date=2023-07-07T00:00:00 latitudes=(542080,) longitudes=(542080,) fields=102\n",
      "\n",
      "    q_50   shape=(542080,) min=1.20488e-06    max=3.18509e-06   \n",
      "    t_1000 shape=(542080,) min=227.311        max=318.76        \n",
      "    v_925  shape=(542080,) min=-30.3179       max=27.8629       \n",
      "    z_850  shape=(542080,) min=8671.93        max=16164.4       \n",
      "    swvl2  shape=(542080,) min=0              max=0.742406      \n",
      "    tcc    shape=(542080,) min=0              max=1             \n",
      "\n"
     ]
    },
    {
     "name": "stderr",
     "output_type": "stream",
     "text": [
      "2025-08-19 15:52:30,751 - INFO - Processing step 126\n",
      "2025-08-19 15:52:30,772 - INFO - Time taken for step 126: 1.62 seconds.\n",
      "2025-08-19 15:52:30,801 - INFO - Forecasting step 5 days, 12:00:00 (2023-07-07 12:00:00)\n"
     ]
    },
    {
     "name": "stdout",
     "output_type": "stream",
     "text": [
      "\n",
      "😀 date=2023-07-07T06:00:00 latitudes=(542080,) longitudes=(542080,) fields=102\n",
      "\n",
      "    q_50   shape=(542080,) min=1.20822e-06    max=3.18872e-06   \n",
      "    t_1000 shape=(542080,) min=227.689        max=316.484       \n",
      "    v_925  shape=(542080,) min=-27.8715       max=26.6968       \n",
      "    z_850  shape=(542080,) min=8694.2         max=16124.8       \n",
      "    swvl2  shape=(542080,) min=0              max=0.741828      \n",
      "    tcc    shape=(542080,) min=0              max=1             \n",
      "\n"
     ]
    },
    {
     "name": "stderr",
     "output_type": "stream",
     "text": [
      "2025-08-19 15:52:32,414 - INFO - Processing step 132\n",
      "2025-08-19 15:52:32,455 - INFO - Time taken for step 132: 1.68 seconds.\n",
      "2025-08-19 15:52:32,510 - INFO - Forecasting step 5 days, 18:00:00 (2023-07-07 18:00:00)\n"
     ]
    },
    {
     "name": "stdout",
     "output_type": "stream",
     "text": [
      "\n",
      "😀 date=2023-07-07T12:00:00 latitudes=(542080,) longitudes=(542080,) fields=102\n",
      "\n",
      "    q_50   shape=(542080,) min=1.21359e-06    max=3.18932e-06   \n",
      "    t_1000 shape=(542080,) min=227.205        max=321.239       \n",
      "    v_925  shape=(542080,) min=-26.9344       max=29.1344       \n",
      "    z_850  shape=(542080,) min=8747.08        max=16051.4       \n",
      "    swvl2  shape=(542080,) min=0              max=0.74124       \n",
      "    tcc    shape=(542080,) min=0              max=1             \n",
      "\n"
     ]
    },
    {
     "name": "stderr",
     "output_type": "stream",
     "text": [
      "2025-08-19 15:52:34,057 - INFO - Processing step 138\n",
      "2025-08-19 15:52:34,079 - INFO - Time taken for step 138: 1.62 seconds.\n",
      "2025-08-19 15:52:34,109 - INFO - Forecasting step 6 days, 0:00:00 (2023-07-08 00:00:00)\n"
     ]
    },
    {
     "name": "stdout",
     "output_type": "stream",
     "text": [
      "\n",
      "😀 date=2023-07-07T18:00:00 latitudes=(542080,) longitudes=(542080,) fields=102\n",
      "\n",
      "    q_50   shape=(542080,) min=1.22034e-06    max=3.18637e-06   \n",
      "    t_1000 shape=(542080,) min=227.701        max=320.728       \n",
      "    v_925  shape=(542080,) min=-26.0624       max=28.0312       \n",
      "    z_850  shape=(542080,) min=8648.84        max=16039.8       \n",
      "    swvl2  shape=(542080,) min=0              max=0.740598      \n",
      "    tcc    shape=(542080,) min=0              max=1             \n",
      "\n"
     ]
    },
    {
     "name": "stderr",
     "output_type": "stream",
     "text": [
      "2025-08-19 15:52:35,674 - INFO - Processing step 144\n",
      "2025-08-19 15:52:35,697 - INFO - Time taken for step 144: 1.62 seconds.\n",
      "2025-08-19 15:52:35,726 - INFO - Forecasting step 6 days, 6:00:00 (2023-07-08 06:00:00)\n"
     ]
    },
    {
     "name": "stdout",
     "output_type": "stream",
     "text": [
      "\n",
      "😀 date=2023-07-08T00:00:00 latitudes=(542080,) longitudes=(542080,) fields=102\n",
      "\n",
      "    q_50   shape=(542080,) min=1.22211e-06    max=3.18582e-06   \n",
      "    t_1000 shape=(542080,) min=226.424        max=318.324       \n",
      "    v_925  shape=(542080,) min=-28.8146       max=28.3531       \n",
      "    z_850  shape=(542080,) min=8519.21        max=16083.8       \n",
      "    swvl2  shape=(542080,) min=0              max=0.740134      \n",
      "    tcc    shape=(542080,) min=0              max=1             \n",
      "\n"
     ]
    },
    {
     "name": "stderr",
     "output_type": "stream",
     "text": [
      "2025-08-19 15:52:37,304 - INFO - Processing step 150\n",
      "2025-08-19 15:52:37,328 - INFO - Time taken for step 150: 1.63 seconds.\n",
      "2025-08-19 15:52:37,366 - INFO - Forecasting step 6 days, 12:00:00 (2023-07-08 12:00:00)\n"
     ]
    },
    {
     "name": "stdout",
     "output_type": "stream",
     "text": [
      "\n",
      "😀 date=2023-07-08T06:00:00 latitudes=(542080,) longitudes=(542080,) fields=102\n",
      "\n",
      "    q_50   shape=(542080,) min=1.17711e-06    max=3.18525e-06   \n",
      "    t_1000 shape=(542080,) min=228.367        max=317.044       \n",
      "    v_925  shape=(542080,) min=-27.1574       max=25.4431       \n",
      "    z_850  shape=(542080,) min=8494.55        max=16069.5       \n",
      "    swvl2  shape=(542080,) min=0              max=0.739519      \n",
      "    tcc    shape=(542080,) min=0              max=1             \n",
      "\n"
     ]
    },
    {
     "name": "stderr",
     "output_type": "stream",
     "text": [
      "2025-08-19 15:52:38,929 - INFO - Processing step 156\n",
      "2025-08-19 15:52:38,950 - INFO - Time taken for step 156: 1.62 seconds.\n",
      "2025-08-19 15:52:38,978 - INFO - Forecasting step 6 days, 18:00:00 (2023-07-08 18:00:00)\n"
     ]
    },
    {
     "name": "stdout",
     "output_type": "stream",
     "text": [
      "\n",
      "😀 date=2023-07-08T12:00:00 latitudes=(542080,) longitudes=(542080,) fields=102\n",
      "\n",
      "    q_50   shape=(542080,) min=1.15406e-06    max=3.1843e-06    \n",
      "    t_1000 shape=(542080,) min=229.214        max=322.389       \n",
      "    v_925  shape=(542080,) min=-32.0711       max=26.7572       \n",
      "    z_850  shape=(542080,) min=8463.72        max=16199         \n",
      "    swvl2  shape=(542080,) min=0              max=0.739007      \n",
      "    tcc    shape=(542080,) min=0              max=1             \n",
      "\n"
     ]
    },
    {
     "name": "stderr",
     "output_type": "stream",
     "text": [
      "2025-08-19 15:52:40,474 - INFO - Processing step 162\n",
      "2025-08-19 15:52:40,496 - INFO - Time taken for step 162: 1.55 seconds.\n",
      "2025-08-19 15:52:40,534 - INFO - Forecasting step 7 days, 0:00:00 (2023-07-09 00:00:00)\n"
     ]
    },
    {
     "name": "stdout",
     "output_type": "stream",
     "text": [
      "\n",
      "😀 date=2023-07-08T18:00:00 latitudes=(542080,) longitudes=(542080,) fields=102\n",
      "\n",
      "    q_50   shape=(542080,) min=1.12983e-06    max=3.18242e-06   \n",
      "    t_1000 shape=(542080,) min=230.091        max=320.913       \n",
      "    v_925  shape=(542080,) min=-32.6499       max=26.8706       \n",
      "    z_850  shape=(542080,) min=8513.16        max=16176         \n",
      "    swvl2  shape=(542080,) min=0              max=0.738425      \n",
      "    tcc    shape=(542080,) min=0              max=1             \n",
      "\n"
     ]
    },
    {
     "name": "stderr",
     "output_type": "stream",
     "text": [
      "2025-08-19 15:52:42,082 - INFO - Processing step 168\n",
      "2025-08-19 15:52:42,103 - INFO - Time taken for step 168: 1.61 seconds.\n",
      "2025-08-19 15:52:42,132 - INFO - Forecasting step 7 days, 6:00:00 (2023-07-09 06:00:00)\n"
     ]
    },
    {
     "name": "stdout",
     "output_type": "stream",
     "text": [
      "\n",
      "😀 date=2023-07-09T00:00:00 latitudes=(542080,) longitudes=(542080,) fields=102\n",
      "\n",
      "    q_50   shape=(542080,) min=1.15928e-06    max=3.18116e-06   \n",
      "    t_1000 shape=(542080,) min=231.254        max=319.372       \n",
      "    v_925  shape=(542080,) min=-34.8416       max=25.1782       \n",
      "    z_850  shape=(542080,) min=8631.77        max=16203.6       \n",
      "    swvl2  shape=(542080,) min=0              max=0.737958      \n",
      "    tcc    shape=(542080,) min=0              max=1             \n",
      "\n"
     ]
    },
    {
     "name": "stderr",
     "output_type": "stream",
     "text": [
      "2025-08-19 15:52:43,648 - INFO - Processing step 174\n",
      "2025-08-19 15:52:43,669 - INFO - Time taken for step 174: 1.57 seconds.\n",
      "2025-08-19 15:52:43,701 - INFO - Forecasting step 7 days, 12:00:00 (2023-07-09 12:00:00)\n"
     ]
    },
    {
     "name": "stdout",
     "output_type": "stream",
     "text": [
      "\n",
      "😀 date=2023-07-09T06:00:00 latitudes=(542080,) longitudes=(542080,) fields=102\n",
      "\n",
      "    q_50   shape=(542080,) min=1.11908e-06    max=3.17813e-06   \n",
      "    t_1000 shape=(542080,) min=233.895        max=317.636       \n",
      "    v_925  shape=(542080,) min=-34.5556       max=24.6366       \n",
      "    z_850  shape=(542080,) min=8897.81        max=16099.8       \n",
      "    swvl2  shape=(542080,) min=0              max=0.737391      \n",
      "    tcc    shape=(542080,) min=0              max=1             \n",
      "\n"
     ]
    },
    {
     "name": "stderr",
     "output_type": "stream",
     "text": [
      "2025-08-19 15:52:45,262 - INFO - Processing step 180\n",
      "2025-08-19 15:52:45,281 - INFO - Time taken for step 180: 1.61 seconds.\n",
      "2025-08-19 15:52:45,311 - INFO - Forecasting step 7 days, 18:00:00 (2023-07-09 18:00:00)\n"
     ]
    },
    {
     "name": "stdout",
     "output_type": "stream",
     "text": [
      "\n",
      "😀 date=2023-07-09T12:00:00 latitudes=(542080,) longitudes=(542080,) fields=102\n",
      "\n",
      "    q_50   shape=(542080,) min=1.10224e-06    max=3.17498e-06   \n",
      "    t_1000 shape=(542080,) min=235.097        max=322.247       \n",
      "    v_925  shape=(542080,) min=-34.3053       max=23.4553       \n",
      "    z_850  shape=(542080,) min=9187.7         max=16112.4       \n",
      "    swvl2  shape=(542080,) min=0              max=0.736905      \n",
      "    tcc    shape=(542080,) min=0              max=1             \n",
      "\n"
     ]
    },
    {
     "name": "stderr",
     "output_type": "stream",
     "text": [
      "2025-08-19 15:52:46,840 - INFO - Processing step 186\n",
      "2025-08-19 15:52:46,860 - INFO - Time taken for step 186: 1.58 seconds.\n",
      "2025-08-19 15:52:46,893 - INFO - Forecasting step 8 days, 0:00:00 (2023-07-10 00:00:00)\n"
     ]
    },
    {
     "name": "stdout",
     "output_type": "stream",
     "text": [
      "\n",
      "😀 date=2023-07-09T18:00:00 latitudes=(542080,) longitudes=(542080,) fields=102\n",
      "\n",
      "    q_50   shape=(542080,) min=1.10125e-06    max=3.17151e-06   \n",
      "    t_1000 shape=(542080,) min=234.939        max=320.892       \n",
      "    v_925  shape=(542080,) min=-32.2537       max=26.9554       \n",
      "    z_850  shape=(542080,) min=9404.16        max=16047.5       \n",
      "    swvl2  shape=(542080,) min=0              max=0.736367      \n",
      "    tcc    shape=(542080,) min=0              max=1             \n",
      "\n"
     ]
    },
    {
     "name": "stderr",
     "output_type": "stream",
     "text": [
      "2025-08-19 15:52:48,396 - INFO - Processing step 192\n",
      "2025-08-19 15:52:48,417 - INFO - Time taken for step 192: 1.56 seconds.\n",
      "2025-08-19 15:52:48,447 - INFO - Forecasting step 8 days, 6:00:00 (2023-07-10 06:00:00)\n"
     ]
    },
    {
     "name": "stdout",
     "output_type": "stream",
     "text": [
      "\n",
      "😀 date=2023-07-10T00:00:00 latitudes=(542080,) longitudes=(542080,) fields=102\n",
      "\n",
      "    q_50   shape=(542080,) min=1.11053e-06    max=3.16987e-06   \n",
      "    t_1000 shape=(542080,) min=234.433        max=318.37        \n",
      "    v_925  shape=(542080,) min=-31.5735       max=30.771        \n",
      "    z_850  shape=(542080,) min=9463.42        max=16094.5       \n",
      "    swvl2  shape=(542080,) min=0              max=0.736012      \n",
      "    tcc    shape=(542080,) min=0              max=1             \n",
      "\n"
     ]
    },
    {
     "name": "stderr",
     "output_type": "stream",
     "text": [
      "2025-08-19 15:52:50,000 - INFO - Processing step 198\n",
      "2025-08-19 15:52:50,023 - INFO - Time taken for step 198: 1.61 seconds.\n",
      "2025-08-19 15:52:50,055 - INFO - Forecasting step 8 days, 12:00:00 (2023-07-10 12:00:00)\n"
     ]
    },
    {
     "name": "stdout",
     "output_type": "stream",
     "text": [
      "\n",
      "😀 date=2023-07-10T06:00:00 latitudes=(542080,) longitudes=(542080,) fields=102\n",
      "\n",
      "    q_50   shape=(542080,) min=1.08362e-06    max=3.16486e-06   \n",
      "    t_1000 shape=(542080,) min=235.537        max=318.77        \n",
      "    v_925  shape=(542080,) min=-31.624        max=26.5924       \n",
      "    z_850  shape=(542080,) min=9424.14        max=16114         \n",
      "    swvl2  shape=(542080,) min=0              max=0.735591      \n",
      "    tcc    shape=(542080,) min=0              max=1             \n",
      "\n"
     ]
    },
    {
     "name": "stderr",
     "output_type": "stream",
     "text": [
      "2025-08-19 15:52:51,627 - INFO - Processing step 204\n",
      "2025-08-19 15:52:51,651 - INFO - Time taken for step 204: 1.63 seconds.\n",
      "2025-08-19 15:52:51,684 - INFO - Forecasting step 8 days, 18:00:00 (2023-07-10 18:00:00)\n"
     ]
    },
    {
     "name": "stdout",
     "output_type": "stream",
     "text": [
      "\n",
      "😀 date=2023-07-10T12:00:00 latitudes=(542080,) longitudes=(542080,) fields=102\n",
      "\n",
      "    q_50   shape=(542080,) min=1.09776e-06    max=3.16059e-06   \n",
      "    t_1000 shape=(542080,) min=234.103        max=322.599       \n",
      "    v_925  shape=(542080,) min=-31.0933       max=25.9639       \n",
      "    z_850  shape=(542080,) min=9461.73        max=16107         \n",
      "    swvl2  shape=(542080,) min=0              max=0.735152      \n",
      "    tcc    shape=(542080,) min=0              max=1             \n",
      "\n"
     ]
    },
    {
     "name": "stderr",
     "output_type": "stream",
     "text": [
      "2025-08-19 15:52:53,239 - INFO - Processing step 210\n",
      "2025-08-19 15:52:53,261 - INFO - Time taken for step 210: 1.61 seconds.\n",
      "2025-08-19 15:52:53,294 - INFO - Forecasting step 9 days, 0:00:00 (2023-07-11 00:00:00)\n"
     ]
    },
    {
     "name": "stdout",
     "output_type": "stream",
     "text": [
      "\n",
      "😀 date=2023-07-10T18:00:00 latitudes=(542080,) longitudes=(542080,) fields=102\n",
      "\n",
      "    q_50   shape=(542080,) min=1.06531e-06    max=3.15789e-06   \n",
      "    t_1000 shape=(542080,) min=234.347        max=320.991       \n",
      "    v_925  shape=(542080,) min=-30.2376       max=28.2198       \n",
      "    z_850  shape=(542080,) min=9481.32        max=16165.7       \n",
      "    swvl2  shape=(542080,) min=0              max=0.734713      \n",
      "    tcc    shape=(542080,) min=0              max=1             \n",
      "\n"
     ]
    },
    {
     "name": "stderr",
     "output_type": "stream",
     "text": [
      "2025-08-19 15:52:54,870 - INFO - Processing step 216\n",
      "2025-08-19 15:52:54,896 - INFO - Time taken for step 216: 1.64 seconds.\n",
      "2025-08-19 15:52:54,933 - INFO - Forecasting step 9 days, 6:00:00 (2023-07-11 06:00:00)\n"
     ]
    },
    {
     "name": "stdout",
     "output_type": "stream",
     "text": [
      "\n",
      "😀 date=2023-07-11T00:00:00 latitudes=(542080,) longitudes=(542080,) fields=102\n",
      "\n",
      "    q_50   shape=(542080,) min=1.09032e-06    max=3.15631e-06   \n",
      "    t_1000 shape=(542080,) min=234.334        max=318.096       \n",
      "    v_925  shape=(542080,) min=-28.3891       max=31.2314       \n",
      "    z_850  shape=(542080,) min=9651.74        max=16199.7       \n",
      "    swvl2  shape=(542080,) min=0              max=0.734423      \n",
      "    tcc    shape=(542080,) min=0              max=1             \n",
      "\n"
     ]
    },
    {
     "name": "stderr",
     "output_type": "stream",
     "text": [
      "2025-08-19 15:52:56,504 - INFO - Processing step 222\n",
      "2025-08-19 15:52:56,528 - INFO - Time taken for step 222: 1.63 seconds.\n",
      "2025-08-19 15:52:56,565 - INFO - Forecasting step 9 days, 12:00:00 (2023-07-11 12:00:00)\n"
     ]
    },
    {
     "name": "stdout",
     "output_type": "stream",
     "text": [
      "\n",
      "😀 date=2023-07-11T06:00:00 latitudes=(542080,) longitudes=(542080,) fields=102\n",
      "\n",
      "    q_50   shape=(542080,) min=1.09672e-06    max=3.15353e-06   \n",
      "    t_1000 shape=(542080,) min=237.257        max=318.714       \n",
      "    v_925  shape=(542080,) min=-27.5067       max=30.0194       \n",
      "    z_850  shape=(542080,) min=9649.02        max=16182.5       \n",
      "    swvl2  shape=(542080,) min=0              max=0.734016      \n",
      "    tcc    shape=(542080,) min=0              max=1             \n",
      "\n"
     ]
    },
    {
     "name": "stderr",
     "output_type": "stream",
     "text": [
      "2025-08-19 15:52:58,148 - INFO - Processing step 228\n",
      "2025-08-19 15:52:58,171 - INFO - Time taken for step 228: 1.64 seconds.\n",
      "2025-08-19 15:52:58,206 - INFO - Forecasting step 9 days, 18:00:00 (2023-07-11 18:00:00)\n"
     ]
    },
    {
     "name": "stdout",
     "output_type": "stream",
     "text": [
      "\n",
      "😀 date=2023-07-11T12:00:00 latitudes=(542080,) longitudes=(542080,) fields=102\n",
      "\n",
      "    q_50   shape=(542080,) min=1.12443e-06    max=3.15119e-06   \n",
      "    t_1000 shape=(542080,) min=236.743        max=323.267       \n",
      "    v_925  shape=(542080,) min=-25.4824       max=29.4364       \n",
      "    z_850  shape=(542080,) min=9517.02        max=16168.7       \n",
      "    swvl2  shape=(542080,) min=0              max=0.733681      \n",
      "    tcc    shape=(542080,) min=0              max=1             \n",
      "\n"
     ]
    },
    {
     "name": "stderr",
     "output_type": "stream",
     "text": [
      "2025-08-19 15:52:59,831 - INFO - Processing step 234\n",
      "2025-08-19 15:52:59,852 - INFO - Time taken for step 234: 1.59 seconds.\n",
      "2025-08-19 15:52:59,887 - INFO - Forecasting step 10 days, 0:00:00 (2023-07-12 00:00:00)\n"
     ]
    },
    {
     "name": "stdout",
     "output_type": "stream",
     "text": [
      "\n",
      "😀 date=2023-07-11T18:00:00 latitudes=(542080,) longitudes=(542080,) fields=102\n",
      "\n",
      "    q_50   shape=(542080,) min=1.12381e-06    max=3.14902e-06   \n",
      "    t_1000 shape=(542080,) min=237.197        max=321.858       \n",
      "    v_925  shape=(542080,) min=-29.726        max=26.0222       \n",
      "    z_850  shape=(542080,) min=9562.37        max=16180.4       \n",
      "    swvl2  shape=(542080,) min=0              max=0.733289      \n",
      "    tcc    shape=(542080,) min=0              max=1             \n",
      "\n"
     ]
    },
    {
     "name": "stderr",
     "output_type": "stream",
     "text": [
      "2025-08-19 15:53:01,464 - INFO - Processing step 240\n",
      "2025-08-19 15:53:01,483 - INFO - Time taken for step 240: 1.63 seconds.\n",
      "2025-08-19 15:53:01,515 - INFO - Forecasting step 10 days, 6:00:00 (2023-07-12 06:00:00)\n"
     ]
    },
    {
     "name": "stdout",
     "output_type": "stream",
     "text": [
      "\n",
      "😀 date=2023-07-12T00:00:00 latitudes=(542080,) longitudes=(542080,) fields=102\n",
      "\n",
      "    q_50   shape=(542080,) min=1.11155e-06    max=3.14811e-06   \n",
      "    t_1000 shape=(542080,) min=236.392        max=318.857       \n",
      "    v_925  shape=(542080,) min=-34.3129       max=25.0391       \n",
      "    z_850  shape=(542080,) min=9542.48        max=16221.9       \n",
      "    swvl2  shape=(542080,) min=0              max=0.733103      \n",
      "    tcc    shape=(542080,) min=0              max=1             \n",
      "\n"
     ]
    },
    {
     "name": "stderr",
     "output_type": "stream",
     "text": [
      "2025-08-19 15:53:03,072 - INFO - Processing step 246\n",
      "2025-08-19 15:53:03,093 - INFO - Time taken for step 246: 1.61 seconds.\n",
      "2025-08-19 15:53:03,129 - INFO - Forecasting step 10 days, 12:00:00 (2023-07-12 12:00:00)\n"
     ]
    },
    {
     "name": "stdout",
     "output_type": "stream",
     "text": [
      "\n",
      "😀 date=2023-07-12T06:00:00 latitudes=(542080,) longitudes=(542080,) fields=102\n",
      "\n",
      "    q_50   shape=(542080,) min=1.10679e-06    max=3.14473e-06   \n",
      "    t_1000 shape=(542080,) min=237.207        max=318.4         \n",
      "    v_925  shape=(542080,) min=-31.0856       max=23.8437       \n",
      "    z_850  shape=(542080,) min=9548.12        max=16191.3       \n",
      "    swvl2  shape=(542080,) min=0              max=0.732818      \n",
      "    tcc    shape=(542080,) min=0              max=1             \n",
      "\n"
     ]
    },
    {
     "name": "stderr",
     "output_type": "stream",
     "text": [
      "2025-08-19 15:53:04,674 - INFO - Processing step 252\n",
      "2025-08-19 15:53:04,693 - INFO - Time taken for step 252: 1.60 seconds.\n",
      "2025-08-19 15:53:04,725 - INFO - Forecasting step 10 days, 18:00:00 (2023-07-12 18:00:00)\n"
     ]
    },
    {
     "name": "stdout",
     "output_type": "stream",
     "text": [
      "\n",
      "😀 date=2023-07-12T12:00:00 latitudes=(542080,) longitudes=(542080,) fields=102\n",
      "\n",
      "    q_50   shape=(542080,) min=1.09478e-06    max=3.14314e-06   \n",
      "    t_1000 shape=(542080,) min=236.321        max=323.797       \n",
      "    v_925  shape=(542080,) min=-27.7192       max=24.0084       \n",
      "    z_850  shape=(542080,) min=9505.09        max=16196.8       \n",
      "    swvl2  shape=(542080,) min=0              max=0.73257       \n",
      "    tcc    shape=(542080,) min=0              max=1             \n",
      "\n"
     ]
    },
    {
     "name": "stderr",
     "output_type": "stream",
     "text": [
      "2025-08-19 15:53:06,290 - INFO - Processing step 258\n",
      "2025-08-19 15:53:06,310 - INFO - Time taken for step 258: 1.62 seconds.\n",
      "2025-08-19 15:53:06,343 - INFO - Forecasting step 11 days, 0:00:00 (2023-07-13 00:00:00)\n"
     ]
    },
    {
     "name": "stdout",
     "output_type": "stream",
     "text": [
      "\n",
      "😀 date=2023-07-12T18:00:00 latitudes=(542080,) longitudes=(542080,) fields=102\n",
      "\n",
      "    q_50   shape=(542080,) min=1.09714e-06    max=3.14229e-06   \n",
      "    t_1000 shape=(542080,) min=235.655        max=321.631       \n",
      "    v_925  shape=(542080,) min=-29.7318       max=26.403        \n",
      "    z_850  shape=(542080,) min=9090.77        max=16181.7       \n",
      "    swvl2  shape=(542080,) min=0              max=0.732222      \n",
      "    tcc    shape=(542080,) min=0              max=1             \n",
      "\n"
     ]
    },
    {
     "name": "stderr",
     "output_type": "stream",
     "text": [
      "2025-08-19 15:53:07,917 - INFO - Processing step 264\n",
      "2025-08-19 15:53:07,936 - INFO - Time taken for step 264: 1.63 seconds.\n",
      "2025-08-19 15:53:07,968 - INFO - Forecasting step 11 days, 6:00:00 (2023-07-13 06:00:00)\n"
     ]
    },
    {
     "name": "stdout",
     "output_type": "stream",
     "text": [
      "\n",
      "😀 date=2023-07-13T00:00:00 latitudes=(542080,) longitudes=(542080,) fields=102\n",
      "\n",
      "    q_50   shape=(542080,) min=1.10756e-06    max=3.15385e-06   \n",
      "    t_1000 shape=(542080,) min=235.663        max=319.627       \n",
      "    v_925  shape=(542080,) min=-28.6019       max=28.7829       \n",
      "    z_850  shape=(542080,) min=8897.28        max=16214.3       \n",
      "    swvl2  shape=(542080,) min=0              max=0.732061      \n",
      "    tcc    shape=(542080,) min=0              max=1             \n",
      "\n"
     ]
    },
    {
     "name": "stderr",
     "output_type": "stream",
     "text": [
      "2025-08-19 15:53:09,466 - INFO - Processing step 270\n",
      "2025-08-19 15:53:09,485 - INFO - Time taken for step 270: 1.55 seconds.\n",
      "2025-08-19 15:53:09,521 - INFO - Forecasting step 11 days, 12:00:00 (2023-07-13 12:00:00)\n"
     ]
    },
    {
     "name": "stdout",
     "output_type": "stream",
     "text": [
      "\n",
      "😀 date=2023-07-13T06:00:00 latitudes=(542080,) longitudes=(542080,) fields=102\n",
      "\n",
      "    q_50   shape=(542080,) min=1.11295e-06    max=3.16045e-06   \n",
      "    t_1000 shape=(542080,) min=237.024        max=318.252       \n",
      "    v_925  shape=(542080,) min=-27.5519       max=30.8649       \n",
      "    z_850  shape=(542080,) min=8943.38        max=16168.9       \n",
      "    swvl2  shape=(542080,) min=0              max=0.73189       \n",
      "    tcc    shape=(542080,) min=0              max=1             \n",
      "\n"
     ]
    },
    {
     "name": "stderr",
     "output_type": "stream",
     "text": [
      "2025-08-19 15:53:11,103 - INFO - Processing step 276\n",
      "2025-08-19 15:53:11,125 - INFO - Time taken for step 276: 1.64 seconds.\n",
      "2025-08-19 15:53:11,157 - INFO - Forecasting step 11 days, 18:00:00 (2023-07-13 18:00:00)\n"
     ]
    },
    {
     "name": "stdout",
     "output_type": "stream",
     "text": [
      "\n",
      "😀 date=2023-07-13T12:00:00 latitudes=(542080,) longitudes=(542080,) fields=102\n",
      "\n",
      "    q_50   shape=(542080,) min=1.13407e-06    max=3.16451e-06   \n",
      "    t_1000 shape=(542080,) min=237.662        max=323.593       \n",
      "    v_925  shape=(542080,) min=-25.6483       max=30.6486       \n",
      "    z_850  shape=(542080,) min=9071.13        max=16129.8       \n",
      "    swvl2  shape=(542080,) min=0              max=0.731772      \n",
      "    tcc    shape=(542080,) min=0              max=1             \n",
      "\n"
     ]
    },
    {
     "name": "stderr",
     "output_type": "stream",
     "text": [
      "2025-08-19 15:53:12,697 - INFO - Processing step 282\n",
      "2025-08-19 15:53:12,718 - INFO - Time taken for step 282: 1.59 seconds.\n",
      "2025-08-19 15:53:12,752 - INFO - Forecasting step 12 days, 0:00:00 (2023-07-14 00:00:00)\n"
     ]
    },
    {
     "name": "stdout",
     "output_type": "stream",
     "text": [
      "\n",
      "😀 date=2023-07-13T18:00:00 latitudes=(542080,) longitudes=(542080,) fields=102\n",
      "\n",
      "    q_50   shape=(542080,) min=1.13967e-06    max=3.16793e-06   \n",
      "    t_1000 shape=(542080,) min=237.017        max=320.691       \n",
      "    v_925  shape=(542080,) min=-24.2966       max=31.9694       \n",
      "    z_850  shape=(542080,) min=8947.33        max=16101.6       \n",
      "    swvl2  shape=(542080,) min=0              max=0.731527      \n",
      "    tcc    shape=(542080,) min=0              max=1             \n",
      "\n"
     ]
    },
    {
     "name": "stderr",
     "output_type": "stream",
     "text": [
      "2025-08-19 15:53:14,311 - INFO - Processing step 288\n",
      "2025-08-19 15:53:14,332 - INFO - Time taken for step 288: 1.61 seconds.\n",
      "2025-08-19 15:53:14,362 - INFO - Forecasting step 12 days, 6:00:00 (2023-07-14 06:00:00)\n"
     ]
    },
    {
     "name": "stdout",
     "output_type": "stream",
     "text": [
      "\n",
      "😀 date=2023-07-14T00:00:00 latitudes=(542080,) longitudes=(542080,) fields=102\n",
      "\n",
      "    q_50   shape=(542080,) min=1.13822e-06    max=3.17152e-06   \n",
      "    t_1000 shape=(542080,) min=234.973        max=320.777       \n",
      "    v_925  shape=(542080,) min=-28.2097       max=30.1807       \n",
      "    z_850  shape=(542080,) min=8991.65        max=16100.9       \n",
      "    swvl2  shape=(542080,) min=0              max=0.731516      \n",
      "    tcc    shape=(542080,) min=0              max=1             \n",
      "\n"
     ]
    },
    {
     "name": "stderr",
     "output_type": "stream",
     "text": [
      "2025-08-19 15:53:15,869 - INFO - Processing step 294\n",
      "2025-08-19 15:53:15,889 - INFO - Time taken for step 294: 1.56 seconds.\n",
      "2025-08-19 15:53:15,920 - INFO - Forecasting step 12 days, 12:00:00 (2023-07-14 12:00:00)\n"
     ]
    },
    {
     "name": "stdout",
     "output_type": "stream",
     "text": [
      "\n",
      "😀 date=2023-07-14T06:00:00 latitudes=(542080,) longitudes=(542080,) fields=102\n",
      "\n",
      "    q_50   shape=(542080,) min=1.14503e-06    max=3.17118e-06   \n",
      "    t_1000 shape=(542080,) min=234.625        max=318.371       \n",
      "    v_925  shape=(542080,) min=-27.9151       max=27.574        \n",
      "    z_850  shape=(542080,) min=9134.62        max=16035.6       \n",
      "    swvl2  shape=(542080,) min=0              max=0.731369      \n",
      "    tcc    shape=(542080,) min=0              max=1             \n",
      "\n"
     ]
    },
    {
     "name": "stderr",
     "output_type": "stream",
     "text": [
      "2025-08-19 15:53:17,440 - INFO - Processing step 300\n",
      "2025-08-19 15:53:17,460 - INFO - Time taken for step 300: 1.57 seconds.\n",
      "2025-08-19 15:53:17,492 - INFO - Forecasting step 12 days, 18:00:00 (2023-07-14 18:00:00)\n"
     ]
    },
    {
     "name": "stdout",
     "output_type": "stream",
     "text": [
      "\n",
      "😀 date=2023-07-14T12:00:00 latitudes=(542080,) longitudes=(542080,) fields=102\n",
      "\n",
      "    q_50   shape=(542080,) min=1.16866e-06    max=3.1684e-06    \n",
      "    t_1000 shape=(542080,) min=233.938        max=323.738       \n",
      "    v_925  shape=(542080,) min=-25.5777       max=29.9688       \n",
      "    z_850  shape=(542080,) min=9342.36        max=15981.5       \n",
      "    swvl2  shape=(542080,) min=0              max=0.731367      \n",
      "    tcc    shape=(542080,) min=0              max=1             \n",
      "\n"
     ]
    },
    {
     "name": "stderr",
     "output_type": "stream",
     "text": [
      "2025-08-19 15:53:19,065 - INFO - Processing step 306\n",
      "2025-08-19 15:53:19,091 - INFO - Time taken for step 306: 1.63 seconds.\n",
      "2025-08-19 15:53:19,124 - INFO - Forecasting step 13 days, 0:00:00 (2023-07-15 00:00:00)\n"
     ]
    },
    {
     "name": "stdout",
     "output_type": "stream",
     "text": [
      "\n",
      "😀 date=2023-07-14T18:00:00 latitudes=(542080,) longitudes=(542080,) fields=102\n",
      "\n",
      "    q_50   shape=(542080,) min=1.17909e-06    max=3.16513e-06   \n",
      "    t_1000 shape=(542080,) min=233.792        max=320.244       \n",
      "    v_925  shape=(542080,) min=-25.3545       max=29.7219       \n",
      "    z_850  shape=(542080,) min=9431.92        max=15977.9       \n",
      "    swvl2  shape=(542080,) min=0              max=0.731283      \n",
      "    tcc    shape=(542080,) min=0              max=1             \n",
      "\n"
     ]
    },
    {
     "name": "stderr",
     "output_type": "stream",
     "text": [
      "2025-08-19 15:53:20,688 - INFO - Processing step 312\n",
      "2025-08-19 15:53:20,707 - INFO - Time taken for step 312: 1.62 seconds.\n",
      "2025-08-19 15:53:20,738 - INFO - Forecasting step 13 days, 6:00:00 (2023-07-15 06:00:00)\n"
     ]
    },
    {
     "name": "stdout",
     "output_type": "stream",
     "text": [
      "\n",
      "😀 date=2023-07-15T00:00:00 latitudes=(542080,) longitudes=(542080,) fields=102\n",
      "\n",
      "    q_50   shape=(542080,) min=1.19078e-06    max=3.16474e-06   \n",
      "    t_1000 shape=(542080,) min=232.615        max=321.42        \n",
      "    v_925  shape=(542080,) min=-26.7367       max=27.3007       \n",
      "    z_850  shape=(542080,) min=9480.15        max=16001.3       \n",
      "    swvl2  shape=(542080,) min=0              max=0.731482      \n",
      "    tcc    shape=(542080,) min=0              max=1             \n",
      "\n"
     ]
    },
    {
     "name": "stderr",
     "output_type": "stream",
     "text": [
      "2025-08-19 15:53:22,325 - INFO - Processing step 318\n",
      "2025-08-19 15:53:22,348 - INFO - Time taken for step 318: 1.64 seconds.\n",
      "2025-08-19 15:53:22,383 - INFO - Forecasting step 13 days, 12:00:00 (2023-07-15 12:00:00)\n"
     ]
    },
    {
     "name": "stdout",
     "output_type": "stream",
     "text": [
      "\n",
      "😀 date=2023-07-15T06:00:00 latitudes=(542080,) longitudes=(542080,) fields=102\n",
      "\n",
      "    q_50   shape=(542080,) min=1.20211e-06    max=3.16074e-06   \n",
      "    t_1000 shape=(542080,) min=233.778        max=318.355       \n",
      "    v_925  shape=(542080,) min=-28.1374       max=26.0197       \n",
      "    z_850  shape=(542080,) min=9487.77        max=16124         \n",
      "    swvl2  shape=(542080,) min=0              max=0.731546      \n",
      "    tcc    shape=(542080,) min=0              max=1             \n",
      "\n"
     ]
    },
    {
     "name": "stderr",
     "output_type": "stream",
     "text": [
      "2025-08-19 15:53:23,937 - INFO - Processing step 324\n",
      "2025-08-19 15:53:23,956 - INFO - Time taken for step 324: 1.61 seconds.\n",
      "2025-08-19 15:53:23,987 - INFO - Forecasting step 13 days, 18:00:00 (2023-07-15 18:00:00)\n"
     ]
    },
    {
     "name": "stdout",
     "output_type": "stream",
     "text": [
      "\n",
      "😀 date=2023-07-15T12:00:00 latitudes=(542080,) longitudes=(542080,) fields=102\n",
      "\n",
      "    q_50   shape=(542080,) min=1.20332e-06    max=3.15611e-06   \n",
      "    t_1000 shape=(542080,) min=234.443        max=323.416       \n",
      "    v_925  shape=(542080,) min=-28.7062       max=24.5544       \n",
      "    z_850  shape=(542080,) min=9455.01        max=16132.8       \n",
      "    swvl2  shape=(542080,) min=0              max=0.731381      \n",
      "    tcc    shape=(542080,) min=0              max=1             \n",
      "\n"
     ]
    },
    {
     "name": "stderr",
     "output_type": "stream",
     "text": [
      "2025-08-19 15:53:25,474 - INFO - Processing step 330\n",
      "2025-08-19 15:53:25,495 - INFO - Time taken for step 330: 1.54 seconds.\n",
      "2025-08-19 15:53:25,527 - INFO - Forecasting step 14 days, 0:00:00 (2023-07-16 00:00:00)\n"
     ]
    },
    {
     "name": "stdout",
     "output_type": "stream",
     "text": [
      "\n",
      "😀 date=2023-07-15T18:00:00 latitudes=(542080,) longitudes=(542080,) fields=102\n",
      "\n",
      "    q_50   shape=(542080,) min=1.20779e-06    max=3.15207e-06   \n",
      "    t_1000 shape=(542080,) min=233.909        max=320.327       \n",
      "    v_925  shape=(542080,) min=-30.1979       max=24.9555       \n",
      "    z_850  shape=(542080,) min=9426.79        max=16311.4       \n",
      "    swvl2  shape=(542080,) min=0              max=0.73105       \n",
      "    tcc    shape=(542080,) min=0              max=1             \n",
      "\n"
     ]
    },
    {
     "name": "stderr",
     "output_type": "stream",
     "text": [
      "2025-08-19 15:53:27,102 - INFO - Processing step 336\n",
      "2025-08-19 15:53:27,122 - INFO - Time taken for step 336: 1.63 seconds.\n",
      "2025-08-19 15:53:27,154 - INFO - Forecasting step 14 days, 6:00:00 (2023-07-16 06:00:00)\n"
     ]
    },
    {
     "name": "stdout",
     "output_type": "stream",
     "text": [
      "\n",
      "😀 date=2023-07-16T00:00:00 latitudes=(542080,) longitudes=(542080,) fields=102\n",
      "\n",
      "    q_50   shape=(542080,) min=1.20245e-06    max=3.15422e-06   \n",
      "    t_1000 shape=(542080,) min=231.776        max=321.077       \n",
      "    v_925  shape=(542080,) min=-29.672        max=25.8873       \n",
      "    z_850  shape=(542080,) min=9362.01        max=16322.6       \n",
      "    swvl2  shape=(542080,) min=0              max=0.730991      \n",
      "    tcc    shape=(542080,) min=0              max=1             \n",
      "\n"
     ]
    },
    {
     "name": "stderr",
     "output_type": "stream",
     "text": [
      "2025-08-19 15:53:28,791 - INFO - Processing step 342\n",
      "2025-08-19 15:53:28,811 - INFO - Time taken for step 342: 1.59 seconds.\n",
      "2025-08-19 15:53:28,844 - INFO - Forecasting step 14 days, 12:00:00 (2023-07-16 12:00:00)\n"
     ]
    },
    {
     "name": "stdout",
     "output_type": "stream",
     "text": [
      "\n",
      "😀 date=2023-07-16T06:00:00 latitudes=(542080,) longitudes=(542080,) fields=102\n",
      "\n",
      "    q_50   shape=(542080,) min=1.16433e-06    max=3.15038e-06   \n",
      "    t_1000 shape=(542080,) min=231.108        max=318.611       \n",
      "    v_925  shape=(542080,) min=-28.2176       max=23.9702       \n",
      "    z_850  shape=(542080,) min=9304.69        max=16540.8       \n",
      "    swvl2  shape=(542080,) min=0              max=0.730548      \n",
      "    tcc    shape=(542080,) min=0              max=1             \n",
      "\n"
     ]
    },
    {
     "name": "stderr",
     "output_type": "stream",
     "text": [
      "2025-08-19 15:53:30,379 - INFO - Processing step 348\n",
      "2025-08-19 15:53:30,400 - INFO - Time taken for step 348: 1.59 seconds.\n",
      "2025-08-19 15:53:30,434 - INFO - Forecasting step 14 days, 18:00:00 (2023-07-16 18:00:00)\n"
     ]
    },
    {
     "name": "stdout",
     "output_type": "stream",
     "text": [
      "\n",
      "😀 date=2023-07-16T12:00:00 latitudes=(542080,) longitudes=(542080,) fields=102\n",
      "\n",
      "    q_50   shape=(542080,) min=1.20659e-06    max=3.15385e-06   \n",
      "    t_1000 shape=(542080,) min=231.685        max=322.81        \n",
      "    v_925  shape=(542080,) min=-27.1481       max=24.0813       \n",
      "    z_850  shape=(542080,) min=9113.35        max=16505.6       \n",
      "    swvl2  shape=(542080,) min=0              max=0.729993      \n",
      "    tcc    shape=(542080,) min=0              max=1             \n",
      "\n"
     ]
    },
    {
     "name": "stderr",
     "output_type": "stream",
     "text": [
      "2025-08-19 15:53:32,021 - INFO - Processing step 354\n",
      "2025-08-19 15:53:32,040 - INFO - Time taken for step 354: 1.64 seconds.\n",
      "2025-08-19 15:53:32,073 - INFO - Forecasting step 15 days, 0:00:00 (2023-07-17 00:00:00)\n"
     ]
    },
    {
     "name": "stdout",
     "output_type": "stream",
     "text": [
      "\n",
      "😀 date=2023-07-16T18:00:00 latitudes=(542080,) longitudes=(542080,) fields=102\n",
      "\n",
      "    q_50   shape=(542080,) min=1.14185e-06    max=3.15891e-06   \n",
      "    t_1000 shape=(542080,) min=231.244        max=320.622       \n",
      "    v_925  shape=(542080,) min=-27.2046       max=23.6106       \n",
      "    z_850  shape=(542080,) min=8894.59        max=16606.2       \n",
      "    swvl2  shape=(542080,) min=0              max=0.730089      \n",
      "    tcc    shape=(542080,) min=0              max=1             \n",
      "\n"
     ]
    },
    {
     "name": "stderr",
     "output_type": "stream",
     "text": [
      "2025-08-19 15:53:33,657 - INFO - Processing step 360\n",
      "2025-08-19 15:53:33,677 - INFO - Time taken for step 360: 1.64 seconds.\n",
      "2025-08-19 15:53:33,680 - INFO - Inference session completed.\n",
      "2025-08-19 15:53:33,680 - INFO - Total time taken for the inference session: 104.58 seconds.\n",
      "2025-08-19 15:53:33,680 - INFO - Concatenating all steps into a single dataset.\n"
     ]
    },
    {
     "name": "stdout",
     "output_type": "stream",
     "text": [
      "\n",
      "😀 date=2023-07-17T00:00:00 latitudes=(542080,) longitudes=(542080,) fields=102\n",
      "\n",
      "    q_50   shape=(542080,) min=1.1808e-06     max=3.16351e-06   \n",
      "    t_1000 shape=(542080,) min=230.513        max=318.646       \n",
      "    v_925  shape=(542080,) min=-28.6854       max=25.919        \n",
      "    z_850  shape=(542080,) min=8846.28        max=16538.6       \n",
      "    swvl2  shape=(542080,) min=0              max=0.732057      \n",
      "    tcc    shape=(542080,) min=0              max=1             \n",
      "\n"
     ]
    },
    {
     "name": "stderr",
     "output_type": "stream",
     "text": [
      "2025-08-19 15:53:33,852 - INFO - Output file output_states/init_ERA5_20230702T00_lead_360.nc already exists. Skipping save.\n"
     ]
    }
   ],
   "source": [
    "# initation date formatted as (YYYY, M, D, H)\n",
    "init_date = datetime.datetime(2023, 6, 30, 0)\n",
    "lead_time = 360  # in hours, must be a multiple of 6\n",
    "\n",
    "# Surface variables must be named as \"2t\", \"tp\", etc.\n",
    "# Pressure levels must be named as \"z_500\", \"t_1000\", etc.\n",
    "# See the get_ERA5 function for the full list of variables\n",
    "save_vars = [\"2t\", \"tp\", \"z_500\"]\n",
    "\n",
    "# If init_date is None, the latest IFS data will be used\n",
    "# If init_date is provided, the ERA5 data will be used\n",
    "\n",
    "init_date_start = datetime.datetime(2023, 6, 30, 0)\n",
    "init_date_end = datetime.datetime(2023, 7, 2, 0)\n",
    "current_date = init_date_start\n",
    "while current_date <= init_date_end:\n",
    "    logging.info(f\"Running inference for initialization date: {current_date}\")\n",
    "    output_ds = run_inference(\n",
    "        init_date=current_date, lead_time=lead_time, save_vars=save_vars\n",
    "    )\n",
    "    current_date += datetime.timedelta(hours=24)\n",
    "\n",
    "# output_ds = run_inference(init_date=None, lead_time=lead_time, save_vars=save_vars)"
   ]
  },
  {
   "cell_type": "code",
   "execution_count": 8,
   "id": "64ff5042",
   "metadata": {},
   "outputs": [
    {
     "data": {
      "text/html": [
       "<div><svg style=\"position: absolute; width: 0; height: 0; overflow: hidden\">\n",
       "<defs>\n",
       "<symbol id=\"icon-database\" viewBox=\"0 0 32 32\">\n",
       "<path d=\"M16 0c-8.837 0-16 2.239-16 5v4c0 2.761 7.163 5 16 5s16-2.239 16-5v-4c0-2.761-7.163-5-16-5z\"></path>\n",
       "<path d=\"M16 17c-8.837 0-16-2.239-16-5v6c0 2.761 7.163 5 16 5s16-2.239 16-5v-6c0 2.761-7.163 5-16 5z\"></path>\n",
       "<path d=\"M16 26c-8.837 0-16-2.239-16-5v6c0 2.761 7.163 5 16 5s16-2.239 16-5v-6c0 2.761-7.163 5-16 5z\"></path>\n",
       "</symbol>\n",
       "<symbol id=\"icon-file-text2\" viewBox=\"0 0 32 32\">\n",
       "<path d=\"M28.681 7.159c-0.694-0.947-1.662-2.053-2.724-3.116s-2.169-2.030-3.116-2.724c-1.612-1.182-2.393-1.319-2.841-1.319h-15.5c-1.378 0-2.5 1.121-2.5 2.5v27c0 1.378 1.122 2.5 2.5 2.5h23c1.378 0 2.5-1.122 2.5-2.5v-19.5c0-0.448-0.137-1.23-1.319-2.841zM24.543 5.457c0.959 0.959 1.712 1.825 2.268 2.543h-4.811v-4.811c0.718 0.556 1.584 1.309 2.543 2.268zM28 29.5c0 0.271-0.229 0.5-0.5 0.5h-23c-0.271 0-0.5-0.229-0.5-0.5v-27c0-0.271 0.229-0.5 0.5-0.5 0 0 15.499-0 15.5 0v7c0 0.552 0.448 1 1 1h7v19.5z\"></path>\n",
       "<path d=\"M23 26h-14c-0.552 0-1-0.448-1-1s0.448-1 1-1h14c0.552 0 1 0.448 1 1s-0.448 1-1 1z\"></path>\n",
       "<path d=\"M23 22h-14c-0.552 0-1-0.448-1-1s0.448-1 1-1h14c0.552 0 1 0.448 1 1s-0.448 1-1 1z\"></path>\n",
       "<path d=\"M23 18h-14c-0.552 0-1-0.448-1-1s0.448-1 1-1h14c0.552 0 1 0.448 1 1s-0.448 1-1 1z\"></path>\n",
       "</symbol>\n",
       "</defs>\n",
       "</svg>\n",
       "<style>/* CSS stylesheet for displaying xarray objects in jupyterlab.\n",
       " *\n",
       " */\n",
       "\n",
       ":root {\n",
       "  --xr-font-color0: var(\n",
       "    --jp-content-font-color0,\n",
       "    var(--pst-color-text-base rgba(0, 0, 0, 1))\n",
       "  );\n",
       "  --xr-font-color2: var(\n",
       "    --jp-content-font-color2,\n",
       "    var(--pst-color-text-base, rgba(0, 0, 0, 0.54))\n",
       "  );\n",
       "  --xr-font-color3: var(\n",
       "    --jp-content-font-color3,\n",
       "    var(--pst-color-text-base, rgba(0, 0, 0, 0.38))\n",
       "  );\n",
       "  --xr-border-color: var(\n",
       "    --jp-border-color2,\n",
       "    hsl(from var(--pst-color-on-background, white) h s calc(l - 10))\n",
       "  );\n",
       "  --xr-disabled-color: var(\n",
       "    --jp-layout-color3,\n",
       "    hsl(from var(--pst-color-on-background, white) h s calc(l - 40))\n",
       "  );\n",
       "  --xr-background-color: var(\n",
       "    --jp-layout-color0,\n",
       "    var(--pst-color-on-background, white)\n",
       "  );\n",
       "  --xr-background-color-row-even: var(\n",
       "    --jp-layout-color1,\n",
       "    hsl(from var(--pst-color-on-background, white) h s calc(l - 5))\n",
       "  );\n",
       "  --xr-background-color-row-odd: var(\n",
       "    --jp-layout-color2,\n",
       "    hsl(from var(--pst-color-on-background, white) h s calc(l - 15))\n",
       "  );\n",
       "}\n",
       "\n",
       "html[theme=\"dark\"],\n",
       "html[data-theme=\"dark\"],\n",
       "body[data-theme=\"dark\"],\n",
       "body.vscode-dark {\n",
       "  --xr-font-color0: var(\n",
       "    --jp-content-font-color0,\n",
       "    var(--pst-color-text-base, rgba(255, 255, 255, 1))\n",
       "  );\n",
       "  --xr-font-color2: var(\n",
       "    --jp-content-font-color2,\n",
       "    var(--pst-color-text-base, rgba(255, 255, 255, 0.54))\n",
       "  );\n",
       "  --xr-font-color3: var(\n",
       "    --jp-content-font-color3,\n",
       "    var(--pst-color-text-base, rgba(255, 255, 255, 0.38))\n",
       "  );\n",
       "  --xr-border-color: var(\n",
       "    --jp-border-color2,\n",
       "    hsl(from var(--pst-color-on-background, #111111) h s calc(l + 10))\n",
       "  );\n",
       "  --xr-disabled-color: var(\n",
       "    --jp-layout-color3,\n",
       "    hsl(from var(--pst-color-on-background, #111111) h s calc(l + 40))\n",
       "  );\n",
       "  --xr-background-color: var(\n",
       "    --jp-layout-color0,\n",
       "    var(--pst-color-on-background, #111111)\n",
       "  );\n",
       "  --xr-background-color-row-even: var(\n",
       "    --jp-layout-color1,\n",
       "    hsl(from var(--pst-color-on-background, #111111) h s calc(l + 5))\n",
       "  );\n",
       "  --xr-background-color-row-odd: var(\n",
       "    --jp-layout-color2,\n",
       "    hsl(from var(--pst-color-on-background, #111111) h s calc(l + 15))\n",
       "  );\n",
       "}\n",
       "\n",
       ".xr-wrap {\n",
       "  display: block !important;\n",
       "  min-width: 300px;\n",
       "  max-width: 700px;\n",
       "}\n",
       "\n",
       ".xr-text-repr-fallback {\n",
       "  /* fallback to plain text repr when CSS is not injected (untrusted notebook) */\n",
       "  display: none;\n",
       "}\n",
       "\n",
       ".xr-header {\n",
       "  padding-top: 6px;\n",
       "  padding-bottom: 6px;\n",
       "  margin-bottom: 4px;\n",
       "  border-bottom: solid 1px var(--xr-border-color);\n",
       "}\n",
       "\n",
       ".xr-header > div,\n",
       ".xr-header > ul {\n",
       "  display: inline;\n",
       "  margin-top: 0;\n",
       "  margin-bottom: 0;\n",
       "}\n",
       "\n",
       ".xr-obj-type,\n",
       ".xr-array-name {\n",
       "  margin-left: 2px;\n",
       "  margin-right: 10px;\n",
       "}\n",
       "\n",
       ".xr-obj-type {\n",
       "  color: var(--xr-font-color2);\n",
       "}\n",
       "\n",
       ".xr-sections {\n",
       "  padding-left: 0 !important;\n",
       "  display: grid;\n",
       "  grid-template-columns: 150px auto auto 1fr 0 20px 0 20px;\n",
       "}\n",
       "\n",
       ".xr-section-item {\n",
       "  display: contents;\n",
       "}\n",
       "\n",
       ".xr-section-item input {\n",
       "  display: inline-block;\n",
       "  opacity: 0;\n",
       "  height: 0;\n",
       "}\n",
       "\n",
       ".xr-section-item input + label {\n",
       "  color: var(--xr-disabled-color);\n",
       "  border: 2px solid transparent !important;\n",
       "}\n",
       "\n",
       ".xr-section-item input:enabled + label {\n",
       "  cursor: pointer;\n",
       "  color: var(--xr-font-color2);\n",
       "}\n",
       "\n",
       ".xr-section-item input:focus + label {\n",
       "  border: 2px solid var(--xr-font-color0) !important;\n",
       "}\n",
       "\n",
       ".xr-section-item input:enabled + label:hover {\n",
       "  color: var(--xr-font-color0);\n",
       "}\n",
       "\n",
       ".xr-section-summary {\n",
       "  grid-column: 1;\n",
       "  color: var(--xr-font-color2);\n",
       "  font-weight: 500;\n",
       "}\n",
       "\n",
       ".xr-section-summary > span {\n",
       "  display: inline-block;\n",
       "  padding-left: 0.5em;\n",
       "}\n",
       "\n",
       ".xr-section-summary-in:disabled + label {\n",
       "  color: var(--xr-font-color2);\n",
       "}\n",
       "\n",
       ".xr-section-summary-in + label:before {\n",
       "  display: inline-block;\n",
       "  content: \"►\";\n",
       "  font-size: 11px;\n",
       "  width: 15px;\n",
       "  text-align: center;\n",
       "}\n",
       "\n",
       ".xr-section-summary-in:disabled + label:before {\n",
       "  color: var(--xr-disabled-color);\n",
       "}\n",
       "\n",
       ".xr-section-summary-in:checked + label:before {\n",
       "  content: \"▼\";\n",
       "}\n",
       "\n",
       ".xr-section-summary-in:checked + label > span {\n",
       "  display: none;\n",
       "}\n",
       "\n",
       ".xr-section-summary,\n",
       ".xr-section-inline-details {\n",
       "  padding-top: 4px;\n",
       "  padding-bottom: 4px;\n",
       "}\n",
       "\n",
       ".xr-section-inline-details {\n",
       "  grid-column: 2 / -1;\n",
       "}\n",
       "\n",
       ".xr-section-details {\n",
       "  display: none;\n",
       "  grid-column: 1 / -1;\n",
       "  margin-bottom: 5px;\n",
       "}\n",
       "\n",
       ".xr-section-summary-in:checked ~ .xr-section-details {\n",
       "  display: contents;\n",
       "}\n",
       "\n",
       ".xr-array-wrap {\n",
       "  grid-column: 1 / -1;\n",
       "  display: grid;\n",
       "  grid-template-columns: 20px auto;\n",
       "}\n",
       "\n",
       ".xr-array-wrap > label {\n",
       "  grid-column: 1;\n",
       "  vertical-align: top;\n",
       "}\n",
       "\n",
       ".xr-preview {\n",
       "  color: var(--xr-font-color3);\n",
       "}\n",
       "\n",
       ".xr-array-preview,\n",
       ".xr-array-data {\n",
       "  padding: 0 5px !important;\n",
       "  grid-column: 2;\n",
       "}\n",
       "\n",
       ".xr-array-data,\n",
       ".xr-array-in:checked ~ .xr-array-preview {\n",
       "  display: none;\n",
       "}\n",
       "\n",
       ".xr-array-in:checked ~ .xr-array-data,\n",
       ".xr-array-preview {\n",
       "  display: inline-block;\n",
       "}\n",
       "\n",
       ".xr-dim-list {\n",
       "  display: inline-block !important;\n",
       "  list-style: none;\n",
       "  padding: 0 !important;\n",
       "  margin: 0;\n",
       "}\n",
       "\n",
       ".xr-dim-list li {\n",
       "  display: inline-block;\n",
       "  padding: 0;\n",
       "  margin: 0;\n",
       "}\n",
       "\n",
       ".xr-dim-list:before {\n",
       "  content: \"(\";\n",
       "}\n",
       "\n",
       ".xr-dim-list:after {\n",
       "  content: \")\";\n",
       "}\n",
       "\n",
       ".xr-dim-list li:not(:last-child):after {\n",
       "  content: \",\";\n",
       "  padding-right: 5px;\n",
       "}\n",
       "\n",
       ".xr-has-index {\n",
       "  font-weight: bold;\n",
       "}\n",
       "\n",
       ".xr-var-list,\n",
       ".xr-var-item {\n",
       "  display: contents;\n",
       "}\n",
       "\n",
       ".xr-var-item > div,\n",
       ".xr-var-item label,\n",
       ".xr-var-item > .xr-var-name span {\n",
       "  background-color: var(--xr-background-color-row-even);\n",
       "  border-color: var(--xr-background-color-row-odd);\n",
       "  margin-bottom: 0;\n",
       "  padding-top: 2px;\n",
       "}\n",
       "\n",
       ".xr-var-item > .xr-var-name:hover span {\n",
       "  padding-right: 5px;\n",
       "}\n",
       "\n",
       ".xr-var-list > li:nth-child(odd) > div,\n",
       ".xr-var-list > li:nth-child(odd) > label,\n",
       ".xr-var-list > li:nth-child(odd) > .xr-var-name span {\n",
       "  background-color: var(--xr-background-color-row-odd);\n",
       "  border-color: var(--xr-background-color-row-even);\n",
       "}\n",
       "\n",
       ".xr-var-name {\n",
       "  grid-column: 1;\n",
       "}\n",
       "\n",
       ".xr-var-dims {\n",
       "  grid-column: 2;\n",
       "}\n",
       "\n",
       ".xr-var-dtype {\n",
       "  grid-column: 3;\n",
       "  text-align: right;\n",
       "  color: var(--xr-font-color2);\n",
       "}\n",
       "\n",
       ".xr-var-preview {\n",
       "  grid-column: 4;\n",
       "}\n",
       "\n",
       ".xr-index-preview {\n",
       "  grid-column: 2 / 5;\n",
       "  color: var(--xr-font-color2);\n",
       "}\n",
       "\n",
       ".xr-var-name,\n",
       ".xr-var-dims,\n",
       ".xr-var-dtype,\n",
       ".xr-preview,\n",
       ".xr-attrs dt {\n",
       "  white-space: nowrap;\n",
       "  overflow: hidden;\n",
       "  text-overflow: ellipsis;\n",
       "  padding-right: 10px;\n",
       "}\n",
       "\n",
       ".xr-var-name:hover,\n",
       ".xr-var-dims:hover,\n",
       ".xr-var-dtype:hover,\n",
       ".xr-attrs dt:hover {\n",
       "  overflow: visible;\n",
       "  width: auto;\n",
       "  z-index: 1;\n",
       "}\n",
       "\n",
       ".xr-var-attrs,\n",
       ".xr-var-data,\n",
       ".xr-index-data {\n",
       "  display: none;\n",
       "  border-top: 2px dotted var(--xr-background-color);\n",
       "  padding-bottom: 20px !important;\n",
       "  padding-top: 10px !important;\n",
       "}\n",
       "\n",
       ".xr-var-attrs-in + label,\n",
       ".xr-var-data-in + label,\n",
       ".xr-index-data-in + label {\n",
       "  padding: 0 1px;\n",
       "}\n",
       "\n",
       ".xr-var-attrs-in:checked ~ .xr-var-attrs,\n",
       ".xr-var-data-in:checked ~ .xr-var-data,\n",
       ".xr-index-data-in:checked ~ .xr-index-data {\n",
       "  display: block;\n",
       "}\n",
       "\n",
       ".xr-var-data > table {\n",
       "  float: right;\n",
       "}\n",
       "\n",
       ".xr-var-data > pre,\n",
       ".xr-index-data > pre,\n",
       ".xr-var-data > table > tbody > tr {\n",
       "  background-color: transparent !important;\n",
       "}\n",
       "\n",
       ".xr-var-name span,\n",
       ".xr-var-data,\n",
       ".xr-index-name div,\n",
       ".xr-index-data,\n",
       ".xr-attrs {\n",
       "  padding-left: 25px !important;\n",
       "}\n",
       "\n",
       ".xr-attrs,\n",
       ".xr-var-attrs,\n",
       ".xr-var-data,\n",
       ".xr-index-data {\n",
       "  grid-column: 1 / -1;\n",
       "}\n",
       "\n",
       "dl.xr-attrs {\n",
       "  padding: 0;\n",
       "  margin: 0;\n",
       "  display: grid;\n",
       "  grid-template-columns: 125px auto;\n",
       "}\n",
       "\n",
       ".xr-attrs dt,\n",
       ".xr-attrs dd {\n",
       "  padding: 0;\n",
       "  margin: 0;\n",
       "  float: left;\n",
       "  padding-right: 10px;\n",
       "  width: auto;\n",
       "}\n",
       "\n",
       ".xr-attrs dt {\n",
       "  font-weight: normal;\n",
       "  grid-column: 1;\n",
       "}\n",
       "\n",
       ".xr-attrs dt:hover span {\n",
       "  display: inline-block;\n",
       "  background: var(--xr-background-color);\n",
       "  padding-right: 10px;\n",
       "}\n",
       "\n",
       ".xr-attrs dd {\n",
       "  grid-column: 2;\n",
       "  white-space: pre-wrap;\n",
       "  word-break: break-all;\n",
       "}\n",
       "\n",
       ".xr-icon-database,\n",
       ".xr-icon-file-text2,\n",
       ".xr-no-icon {\n",
       "  display: inline-block;\n",
       "  vertical-align: middle;\n",
       "  width: 1em;\n",
       "  height: 1.5em !important;\n",
       "  stroke-width: 0;\n",
       "  stroke: currentColor;\n",
       "  fill: currentColor;\n",
       "}\n",
       "\n",
       ".xr-var-attrs-in:checked + label > .xr-icon-file-text2,\n",
       ".xr-var-data-in:checked + label > .xr-icon-database,\n",
       ".xr-index-data-in:checked + label > .xr-icon-database {\n",
       "  color: var(--xr-font-color0);\n",
       "  filter: drop-shadow(1px 1px 5px var(--xr-font-color2));\n",
       "  stroke-width: 0.8px;\n",
       "}\n",
       "</style><pre class='xr-text-repr-fallback'>&lt;xarray.Dataset&gt; Size: 748MB\n",
       "Dimensions:  (time: 1, step: 60, lat: 721, lon: 1440)\n",
       "Coordinates:\n",
       "  * lat      (lat) float64 6kB 90.0 89.75 89.5 89.25 ... -89.5 -89.75 -90.0\n",
       "  * lon      (lon) float64 12kB 0.0 0.25 0.5 0.75 ... 359.0 359.2 359.5 359.8\n",
       "  * step     (step) int64 480B 6 12 18 24 30 36 42 ... 330 336 342 348 354 360\n",
       "  * time     (time) datetime64[ns] 8B 2023-07-02\n",
       "Data variables:\n",
       "    2t       (time, step, lat, lon) float32 249MB 274.0 274.0 ... 205.7 205.7\n",
       "    tp       (time, step, lat, lon) float32 249MB 3.317e-05 3.317e-05 ... 0.0\n",
       "    z_500    (time, step, lat, lon) float32 249MB 5.565e+04 ... 4.709e+04</pre><div class='xr-wrap' style='display:none'><div class='xr-header'><div class='xr-obj-type'>xarray.Dataset</div></div><ul class='xr-sections'><li class='xr-section-item'><input id='section-bbaff23d-fde8-43b1-8102-095769909b7e' class='xr-section-summary-in' type='checkbox' disabled ><label for='section-bbaff23d-fde8-43b1-8102-095769909b7e' class='xr-section-summary'  title='Expand/collapse section'>Dimensions:</label><div class='xr-section-inline-details'><ul class='xr-dim-list'><li><span class='xr-has-index'>time</span>: 1</li><li><span class='xr-has-index'>step</span>: 60</li><li><span class='xr-has-index'>lat</span>: 721</li><li><span class='xr-has-index'>lon</span>: 1440</li></ul></div><div class='xr-section-details'></div></li><li class='xr-section-item'><input id='section-8dad8169-2c73-40a3-aaa5-7f68cf136679' class='xr-section-summary-in' type='checkbox'  checked><label for='section-8dad8169-2c73-40a3-aaa5-7f68cf136679' class='xr-section-summary' >Coordinates: <span>(4)</span></label><div class='xr-section-inline-details'></div><div class='xr-section-details'><ul class='xr-var-list'><li class='xr-var-item'><div class='xr-var-name'><span class='xr-has-index'>lat</span></div><div class='xr-var-dims'>(lat)</div><div class='xr-var-dtype'>float64</div><div class='xr-var-preview xr-preview'>90.0 89.75 89.5 ... -89.75 -90.0</div><input id='attrs-337fa85e-5d81-4773-b5af-985bbef7fcdf' class='xr-var-attrs-in' type='checkbox' disabled><label for='attrs-337fa85e-5d81-4773-b5af-985bbef7fcdf' title='Show/Hide attributes'><svg class='icon xr-icon-file-text2'><use xlink:href='#icon-file-text2'></use></svg></label><input id='data-76e2fc7f-8d11-4a8f-b798-3c1eb89c22db' class='xr-var-data-in' type='checkbox'><label for='data-76e2fc7f-8d11-4a8f-b798-3c1eb89c22db' title='Show/Hide data repr'><svg class='icon xr-icon-database'><use xlink:href='#icon-database'></use></svg></label><div class='xr-var-attrs'><dl class='xr-attrs'></dl></div><div class='xr-var-data'><pre>array([ 90.  ,  89.75,  89.5 , ..., -89.5 , -89.75, -90.  ], shape=(721,))</pre></div></li><li class='xr-var-item'><div class='xr-var-name'><span class='xr-has-index'>lon</span></div><div class='xr-var-dims'>(lon)</div><div class='xr-var-dtype'>float64</div><div class='xr-var-preview xr-preview'>0.0 0.25 0.5 ... 359.2 359.5 359.8</div><input id='attrs-eeed8d7f-0446-4098-98f4-a5ec73fc1fe4' class='xr-var-attrs-in' type='checkbox' disabled><label for='attrs-eeed8d7f-0446-4098-98f4-a5ec73fc1fe4' title='Show/Hide attributes'><svg class='icon xr-icon-file-text2'><use xlink:href='#icon-file-text2'></use></svg></label><input id='data-f756bf65-2af0-4dac-aa86-6fc6e2f97bed' class='xr-var-data-in' type='checkbox'><label for='data-f756bf65-2af0-4dac-aa86-6fc6e2f97bed' title='Show/Hide data repr'><svg class='icon xr-icon-database'><use xlink:href='#icon-database'></use></svg></label><div class='xr-var-attrs'><dl class='xr-attrs'></dl></div><div class='xr-var-data'><pre>array([0.0000e+00, 2.5000e-01, 5.0000e-01, ..., 3.5925e+02, 3.5950e+02,\n",
       "       3.5975e+02], shape=(1440,))</pre></div></li><li class='xr-var-item'><div class='xr-var-name'><span class='xr-has-index'>step</span></div><div class='xr-var-dims'>(step)</div><div class='xr-var-dtype'>int64</div><div class='xr-var-preview xr-preview'>6 12 18 24 30 ... 342 348 354 360</div><input id='attrs-0a399ac0-c17e-4ac8-99dd-4c5166cdb842' class='xr-var-attrs-in' type='checkbox' disabled><label for='attrs-0a399ac0-c17e-4ac8-99dd-4c5166cdb842' title='Show/Hide attributes'><svg class='icon xr-icon-file-text2'><use xlink:href='#icon-file-text2'></use></svg></label><input id='data-53809d98-650f-4ef9-bb07-48567ff33284' class='xr-var-data-in' type='checkbox'><label for='data-53809d98-650f-4ef9-bb07-48567ff33284' title='Show/Hide data repr'><svg class='icon xr-icon-database'><use xlink:href='#icon-database'></use></svg></label><div class='xr-var-attrs'><dl class='xr-attrs'></dl></div><div class='xr-var-data'><pre>array([  6,  12,  18,  24,  30,  36,  42,  48,  54,  60,  66,  72,  78,  84,\n",
       "        90,  96, 102, 108, 114, 120, 126, 132, 138, 144, 150, 156, 162, 168,\n",
       "       174, 180, 186, 192, 198, 204, 210, 216, 222, 228, 234, 240, 246, 252,\n",
       "       258, 264, 270, 276, 282, 288, 294, 300, 306, 312, 318, 324, 330, 336,\n",
       "       342, 348, 354, 360])</pre></div></li><li class='xr-var-item'><div class='xr-var-name'><span class='xr-has-index'>time</span></div><div class='xr-var-dims'>(time)</div><div class='xr-var-dtype'>datetime64[ns]</div><div class='xr-var-preview xr-preview'>2023-07-02</div><input id='attrs-46e92d3a-dcef-4c95-b8ca-6725c860e435' class='xr-var-attrs-in' type='checkbox' disabled><label for='attrs-46e92d3a-dcef-4c95-b8ca-6725c860e435' title='Show/Hide attributes'><svg class='icon xr-icon-file-text2'><use xlink:href='#icon-file-text2'></use></svg></label><input id='data-76ce6d2c-7325-47df-8aea-d2b6379d303e' class='xr-var-data-in' type='checkbox'><label for='data-76ce6d2c-7325-47df-8aea-d2b6379d303e' title='Show/Hide data repr'><svg class='icon xr-icon-database'><use xlink:href='#icon-database'></use></svg></label><div class='xr-var-attrs'><dl class='xr-attrs'></dl></div><div class='xr-var-data'><pre>array([&#x27;2023-07-02T00:00:00.000000000&#x27;], dtype=&#x27;datetime64[ns]&#x27;)</pre></div></li></ul></div></li><li class='xr-section-item'><input id='section-b5313ad0-bd4f-47c0-9cad-7ce82fa2da53' class='xr-section-summary-in' type='checkbox'  checked><label for='section-b5313ad0-bd4f-47c0-9cad-7ce82fa2da53' class='xr-section-summary' >Data variables: <span>(3)</span></label><div class='xr-section-inline-details'></div><div class='xr-section-details'><ul class='xr-var-list'><li class='xr-var-item'><div class='xr-var-name'><span>2t</span></div><div class='xr-var-dims'>(time, step, lat, lon)</div><div class='xr-var-dtype'>float32</div><div class='xr-var-preview xr-preview'>274.0 274.0 274.0 ... 205.7 205.7</div><input id='attrs-fde3e6b7-0126-4116-959b-5d219abf023d' class='xr-var-attrs-in' type='checkbox' disabled><label for='attrs-fde3e6b7-0126-4116-959b-5d219abf023d' title='Show/Hide attributes'><svg class='icon xr-icon-file-text2'><use xlink:href='#icon-file-text2'></use></svg></label><input id='data-0ba84fe6-b932-4e3a-b58f-6f91ef975103' class='xr-var-data-in' type='checkbox'><label for='data-0ba84fe6-b932-4e3a-b58f-6f91ef975103' title='Show/Hide data repr'><svg class='icon xr-icon-database'><use xlink:href='#icon-database'></use></svg></label><div class='xr-var-attrs'><dl class='xr-attrs'></dl></div><div class='xr-var-data'><pre>array([[[[273.95407, 273.95407, 273.95407, ..., 273.95407, 273.95407,\n",
       "          273.95407],\n",
       "         [273.63745, 273.63934, 273.6412 , ..., 273.6394 , 273.63873,\n",
       "          273.6381 ],\n",
       "         [273.51105, 273.5124 , 273.51517, ..., 273.51346, 273.5121 ,\n",
       "          273.5112 ],\n",
       "         ...,\n",
       "         [213.13329, 213.13992, 213.14397, ..., 213.11678, 213.12227,\n",
       "          213.12778],\n",
       "         [211.90886, 211.91037, 211.91187, ..., 211.9023 , 211.90451,\n",
       "          211.9067 ],\n",
       "         [209.67206, 209.67206, 209.67206, ..., 209.67206, 209.67206,\n",
       "          209.67206]],\n",
       "\n",
       "        [[273.66003, 273.66003, 273.66003, ..., 273.66003, 273.66003,\n",
       "          273.66003],\n",
       "         [273.89505, 273.89642, 273.89783, ..., 273.89777, 273.89685,\n",
       "          273.89594],\n",
       "         [273.65958, 273.6599 , 273.66177, ..., 273.66394, 273.6619 ,\n",
       "          273.66037],\n",
       "...\n",
       "         [212.34346, 212.34674, 212.34369, ..., 212.32243, 212.33109,\n",
       "          212.33827],\n",
       "         [211.17868, 211.17549, 211.17227, ..., 211.16823, 211.17174,\n",
       "          211.17522],\n",
       "         [206.19064, 206.19064, 206.19064, ..., 206.19064, 206.19064,\n",
       "          206.19064]],\n",
       "\n",
       "        [[274.57013, 274.57013, 274.57013, ..., 274.57013, 274.57013,\n",
       "          274.57013],\n",
       "         [273.29962, 273.29987, 273.3001 , ..., 273.30704, 273.30457,\n",
       "          273.3021 ],\n",
       "         [273.54547, 273.54495, 273.54492, ..., 273.5573 , 273.5526 ,\n",
       "          273.54858],\n",
       "         ...,\n",
       "         [212.16354, 212.16837, 212.16704, ..., 212.14432, 212.15231,\n",
       "          212.1589 ],\n",
       "         [210.91423, 210.91202, 210.90976, ..., 210.90482, 210.90797,\n",
       "          210.91112],\n",
       "         [205.70517, 205.70517, 205.70517, ..., 205.70517, 205.70517,\n",
       "          205.70517]]]], shape=(1, 60, 721, 1440), dtype=float32)</pre></div></li><li class='xr-var-item'><div class='xr-var-name'><span>tp</span></div><div class='xr-var-dims'>(time, step, lat, lon)</div><div class='xr-var-dtype'>float32</div><div class='xr-var-preview xr-preview'>3.317e-05 3.317e-05 ... 0.0 0.0</div><input id='attrs-b1672d7f-3b38-47c6-bb92-04701a7b3f24' class='xr-var-attrs-in' type='checkbox' disabled><label for='attrs-b1672d7f-3b38-47c6-bb92-04701a7b3f24' title='Show/Hide attributes'><svg class='icon xr-icon-file-text2'><use xlink:href='#icon-file-text2'></use></svg></label><input id='data-9751460d-9591-47f9-b271-75d825d641b3' class='xr-var-data-in' type='checkbox'><label for='data-9751460d-9591-47f9-b271-75d825d641b3' title='Show/Hide data repr'><svg class='icon xr-icon-database'><use xlink:href='#icon-database'></use></svg></label><div class='xr-var-attrs'><dl class='xr-attrs'></dl></div><div class='xr-var-data'><pre>array([[[[3.3172291e-05, 3.3172291e-05, 3.3172291e-05, ...,\n",
       "          3.3172291e-05, 3.3172291e-05, 3.3172291e-05],\n",
       "         [2.5582609e-05, 2.5853207e-05, 2.6124237e-05, ...,\n",
       "          2.5876145e-05, 2.5777868e-05, 2.5680023e-05],\n",
       "         [3.7912334e-06, 3.6750043e-06, 3.9412707e-06, ...,\n",
       "          4.2247771e-06, 3.9979327e-06, 3.8442945e-06],\n",
       "         ...,\n",
       "         [0.0000000e+00, 0.0000000e+00, 0.0000000e+00, ...,\n",
       "          0.0000000e+00, 0.0000000e+00, 0.0000000e+00],\n",
       "         [0.0000000e+00, 0.0000000e+00, 0.0000000e+00, ...,\n",
       "          0.0000000e+00, 0.0000000e+00, 0.0000000e+00],\n",
       "         [0.0000000e+00, 0.0000000e+00, 0.0000000e+00, ...,\n",
       "          0.0000000e+00, 0.0000000e+00, 0.0000000e+00]],\n",
       "\n",
       "        [[5.9258186e-05, 5.9258186e-05, 5.9258186e-05, ...,\n",
       "          5.9258186e-05, 5.9258186e-05, 5.9258186e-05],\n",
       "         [0.0000000e+00, 0.0000000e+00, 0.0000000e+00, ...,\n",
       "          0.0000000e+00, 0.0000000e+00, 0.0000000e+00],\n",
       "         [0.0000000e+00, 0.0000000e+00, 0.0000000e+00, ...,\n",
       "          0.0000000e+00, 0.0000000e+00, 0.0000000e+00],\n",
       "...\n",
       "          0.0000000e+00, 0.0000000e+00, 0.0000000e+00],\n",
       "         [0.0000000e+00, 0.0000000e+00, 0.0000000e+00, ...,\n",
       "          0.0000000e+00, 0.0000000e+00, 0.0000000e+00],\n",
       "         [0.0000000e+00, 0.0000000e+00, 0.0000000e+00, ...,\n",
       "          0.0000000e+00, 0.0000000e+00, 0.0000000e+00]],\n",
       "\n",
       "        [[5.0226646e-04, 5.0226646e-04, 5.0226646e-04, ...,\n",
       "          5.0226646e-04, 5.0226646e-04, 5.0226646e-04],\n",
       "         [7.7548873e-04, 7.7571301e-04, 7.7594147e-04, ...,\n",
       "          7.7367685e-04, 7.7427656e-04, 7.7488052e-04],\n",
       "         [5.5413059e-04, 5.5450317e-04, 5.5493106e-04, ...,\n",
       "          5.5157213e-04, 5.5272464e-04, 5.5361126e-04],\n",
       "         ...,\n",
       "         [0.0000000e+00, 0.0000000e+00, 0.0000000e+00, ...,\n",
       "          0.0000000e+00, 0.0000000e+00, 0.0000000e+00],\n",
       "         [0.0000000e+00, 0.0000000e+00, 0.0000000e+00, ...,\n",
       "          0.0000000e+00, 0.0000000e+00, 0.0000000e+00],\n",
       "         [0.0000000e+00, 0.0000000e+00, 0.0000000e+00, ...,\n",
       "          0.0000000e+00, 0.0000000e+00, 0.0000000e+00]]]],\n",
       "      shape=(1, 60, 721, 1440), dtype=float32)</pre></div></li><li class='xr-var-item'><div class='xr-var-name'><span>z_500</span></div><div class='xr-var-dims'>(time, step, lat, lon)</div><div class='xr-var-dtype'>float32</div><div class='xr-var-preview xr-preview'>5.565e+04 5.565e+04 ... 4.709e+04</div><input id='attrs-85749db9-f31c-463e-b016-bc7ae21411b7' class='xr-var-attrs-in' type='checkbox' disabled><label for='attrs-85749db9-f31c-463e-b016-bc7ae21411b7' title='Show/Hide attributes'><svg class='icon xr-icon-file-text2'><use xlink:href='#icon-file-text2'></use></svg></label><input id='data-8e38464d-a25c-4617-8bfb-7f362ba5d5e6' class='xr-var-data-in' type='checkbox'><label for='data-8e38464d-a25c-4617-8bfb-7f362ba5d5e6' title='Show/Hide data repr'><svg class='icon xr-icon-database'><use xlink:href='#icon-database'></use></svg></label><div class='xr-var-attrs'><dl class='xr-attrs'></dl></div><div class='xr-var-data'><pre>array([[[[55652.664, 55652.664, 55652.664, ..., 55652.664, 55652.664,\n",
       "          55652.664],\n",
       "         [55731.477, 55731.375, 55731.277, ..., 55731.75 , 55731.66 ,\n",
       "          55731.566],\n",
       "         [55773.445, 55773.26 , 55773.066, ..., 55774.05 , 55773.867,\n",
       "          55773.668],\n",
       "         ...,\n",
       "         [47179.816, 47180.02 , 47180.207, ..., 47179.38 , 47179.496,\n",
       "          47179.64 ],\n",
       "         [47204.53 , 47204.617, 47204.703, ..., 47204.355, 47204.414,\n",
       "          47204.473],\n",
       "         [47210.24 , 47210.24 , 47210.24 , ..., 47210.24 , 47210.24 ,\n",
       "          47210.24 ]],\n",
       "\n",
       "        [[55699.266, 55699.266, 55699.266, ..., 55699.266, 55699.266,\n",
       "          55699.266],\n",
       "         [55757.195, 55757.19 , 55757.188, ..., 55757.38 , 55757.316,\n",
       "          55757.258],\n",
       "         [55809.406, 55809.35 , 55809.32 , ..., 55809.85 , 55809.727,\n",
       "          55809.582],\n",
       "...\n",
       "         [47518.44 , 47518.434, 47518.137, ..., 47518.457, 47518.4  ,\n",
       "          47518.387],\n",
       "         [47597.06 , 47596.8  , 47596.543, ..., 47597.184, 47597.14 ,\n",
       "          47597.098],\n",
       "         [47107.49 , 47107.49 , 47107.49 , ..., 47107.49 , 47107.49 ,\n",
       "          47107.49 ]],\n",
       "\n",
       "        [[53855.55 , 53855.55 , 53855.55 , ..., 53855.55 , 53855.55 ,\n",
       "          53855.55 ],\n",
       "         [53496.848, 53496.316, 53495.79 , ..., 53498.273, 53497.797,\n",
       "          53497.32 ],\n",
       "         [53488.934, 53488.11 , 53487.11 , ..., 53491.62 , 53490.754,\n",
       "          53489.86 ],\n",
       "         ...,\n",
       "         [47496.082, 47496.043, 47495.668, ..., 47496.285, 47496.164,\n",
       "          47496.09 ],\n",
       "         [47578.49 , 47578.17 , 47577.855, ..., 47578.715, 47578.637,\n",
       "          47578.562],\n",
       "         [47094.504, 47094.504, 47094.504, ..., 47094.504, 47094.504,\n",
       "          47094.504]]]], shape=(1, 60, 721, 1440), dtype=float32)</pre></div></li></ul></div></li><li class='xr-section-item'><input id='section-94d58215-76ea-4d10-ae77-70f7999397e6' class='xr-section-summary-in' type='checkbox'  ><label for='section-94d58215-76ea-4d10-ae77-70f7999397e6' class='xr-section-summary' >Indexes: <span>(4)</span></label><div class='xr-section-inline-details'></div><div class='xr-section-details'><ul class='xr-var-list'><li class='xr-var-item'><div class='xr-index-name'><div>lat</div></div><div class='xr-index-preview'>PandasIndex</div><input type='checkbox' disabled/><label></label><input id='index-2ab9e12a-b618-459e-a499-dac97a2d49df' class='xr-index-data-in' type='checkbox'/><label for='index-2ab9e12a-b618-459e-a499-dac97a2d49df' title='Show/Hide index repr'><svg class='icon xr-icon-database'><use xlink:href='#icon-database'></use></svg></label><div class='xr-index-data'><pre>PandasIndex(Index([  90.0,  89.75,   89.5,  89.25,   89.0,  88.75,   88.5,  88.25,   88.0,\n",
       "        87.75,\n",
       "       ...\n",
       "       -87.75,  -88.0, -88.25,  -88.5, -88.75,  -89.0, -89.25,  -89.5, -89.75,\n",
       "        -90.0],\n",
       "      dtype=&#x27;float64&#x27;, name=&#x27;lat&#x27;, length=721))</pre></div></li><li class='xr-var-item'><div class='xr-index-name'><div>lon</div></div><div class='xr-index-preview'>PandasIndex</div><input type='checkbox' disabled/><label></label><input id='index-65b240c0-2f62-4a80-90f7-d1b9568c1694' class='xr-index-data-in' type='checkbox'/><label for='index-65b240c0-2f62-4a80-90f7-d1b9568c1694' title='Show/Hide index repr'><svg class='icon xr-icon-database'><use xlink:href='#icon-database'></use></svg></label><div class='xr-index-data'><pre>PandasIndex(Index([   0.0,   0.25,    0.5,   0.75,    1.0,   1.25,    1.5,   1.75,    2.0,\n",
       "         2.25,\n",
       "       ...\n",
       "        357.5, 357.75,  358.0, 358.25,  358.5, 358.75,  359.0, 359.25,  359.5,\n",
       "       359.75],\n",
       "      dtype=&#x27;float64&#x27;, name=&#x27;lon&#x27;, length=1440))</pre></div></li><li class='xr-var-item'><div class='xr-index-name'><div>step</div></div><div class='xr-index-preview'>PandasIndex</div><input type='checkbox' disabled/><label></label><input id='index-07765524-684e-4415-a1d0-fe3c45e48d2b' class='xr-index-data-in' type='checkbox'/><label for='index-07765524-684e-4415-a1d0-fe3c45e48d2b' title='Show/Hide index repr'><svg class='icon xr-icon-database'><use xlink:href='#icon-database'></use></svg></label><div class='xr-index-data'><pre>PandasIndex(Index([  6,  12,  18,  24,  30,  36,  42,  48,  54,  60,  66,  72,  78,  84,\n",
       "        90,  96, 102, 108, 114, 120, 126, 132, 138, 144, 150, 156, 162, 168,\n",
       "       174, 180, 186, 192, 198, 204, 210, 216, 222, 228, 234, 240, 246, 252,\n",
       "       258, 264, 270, 276, 282, 288, 294, 300, 306, 312, 318, 324, 330, 336,\n",
       "       342, 348, 354, 360],\n",
       "      dtype=&#x27;int64&#x27;, name=&#x27;step&#x27;))</pre></div></li><li class='xr-var-item'><div class='xr-index-name'><div>time</div></div><div class='xr-index-preview'>PandasIndex</div><input type='checkbox' disabled/><label></label><input id='index-809c69a9-34ce-420f-8f3b-5b2d83eb1933' class='xr-index-data-in' type='checkbox'/><label for='index-809c69a9-34ce-420f-8f3b-5b2d83eb1933' title='Show/Hide index repr'><svg class='icon xr-icon-database'><use xlink:href='#icon-database'></use></svg></label><div class='xr-index-data'><pre>PandasIndex(DatetimeIndex([&#x27;2023-07-02&#x27;], dtype=&#x27;datetime64[ns]&#x27;, name=&#x27;time&#x27;, freq=None))</pre></div></li></ul></div></li><li class='xr-section-item'><input id='section-a17360dc-18ac-4553-bccb-f3b11bb0e1b7' class='xr-section-summary-in' type='checkbox' disabled ><label for='section-a17360dc-18ac-4553-bccb-f3b11bb0e1b7' class='xr-section-summary'  title='Expand/collapse section'>Attributes: <span>(0)</span></label><div class='xr-section-inline-details'></div><div class='xr-section-details'><dl class='xr-attrs'></dl></div></li></ul></div></div>"
      ],
      "text/plain": [
       "<xarray.Dataset> Size: 748MB\n",
       "Dimensions:  (time: 1, step: 60, lat: 721, lon: 1440)\n",
       "Coordinates:\n",
       "  * lat      (lat) float64 6kB 90.0 89.75 89.5 89.25 ... -89.5 -89.75 -90.0\n",
       "  * lon      (lon) float64 12kB 0.0 0.25 0.5 0.75 ... 359.0 359.2 359.5 359.8\n",
       "  * step     (step) int64 480B 6 12 18 24 30 36 42 ... 330 336 342 348 354 360\n",
       "  * time     (time) datetime64[ns] 8B 2023-07-02\n",
       "Data variables:\n",
       "    2t       (time, step, lat, lon) float32 249MB 274.0 274.0 ... 205.7 205.7\n",
       "    tp       (time, step, lat, lon) float32 249MB 3.317e-05 3.317e-05 ... 0.0\n",
       "    z_500    (time, step, lat, lon) float32 249MB 5.565e+04 ... 4.709e+04"
      ]
     },
     "execution_count": 8,
     "metadata": {},
     "output_type": "execute_result"
    }
   ],
   "source": [
    "output_ds"
   ]
  },
  {
   "cell_type": "markdown",
   "id": "ebebb055",
   "metadata": {},
   "source": [
    "## 6. Visualization (Optional)\n",
    "\n",
    "The following cells contain commented-out code to visualize the forecast output using `matplotlib` and `cartopy`. You can uncomment and run them to plot the results.\n",
    "\n",
    "### 6.1. Plot 2m Temperature on a Regular Grid\n",
    "\n",
    "This cell plots the 2-meter temperature (`2t`) for each forecast step on a world map. It converts the temperature from Kelvin to Celsius for easier interpretation."
   ]
  },
  {
   "cell_type": "code",
   "execution_count": 9,
   "id": "727e4056",
   "metadata": {},
   "outputs": [
    {
     "data": {
      "application/vnd.jupyter.widget-view+json": {
       "model_id": "1bb5c89043324e11a336b307f85f9804",
       "version_major": 2,
       "version_minor": 0
      },
      "text/plain": [
       "interactive(children=(SelectionSlider(continuous_update=False, description='Forecast Step:', layout=Layout(wid…"
      ]
     },
     "metadata": {},
     "output_type": "display_data"
    },
    {
     "data": {
      "text/plain": [
       "<function __main__.plot_temperature(step)>"
      ]
     },
     "execution_count": 9,
     "metadata": {},
     "output_type": "execute_result"
    }
   ],
   "source": [
    "import matplotlib.pyplot as plt\n",
    "from cartopy import crs as ccrs\n",
    "import cartopy.feature as cfeature\n",
    "import ipywidgets as widgets\n",
    "from IPython.display import display\n",
    "\n",
    "# Precompute the plot data\n",
    "plot_ds = output_ds[\"2t\"].isel(time=0) - 273.15\n",
    "vmin = plot_ds.min().item()\n",
    "vmax = plot_ds.max().item()\n",
    "vmax = max(abs(vmin), abs(vmax))\n",
    "vmin = -vmax\n",
    "\n",
    "# Convert steps to a sorted list\n",
    "step_values = sorted(plot_ds.step.values)\n",
    "\n",
    "def plot_temperature(step):\n",
    "    plt.figure(figsize=(10, 5))\n",
    "    ax = plt.axes(projection=ccrs.PlateCarree())\n",
    "\n",
    "    # Plot data for selected step\n",
    "    c = ax.pcolormesh(\n",
    "        plot_ds.lon,\n",
    "        plot_ds.lat,\n",
    "        plot_ds.sel(step=step),\n",
    "        cmap='RdBu_r',\n",
    "        vmin=vmin,\n",
    "        vmax=vmax,\n",
    "        transform=ccrs.PlateCarree(),\n",
    "    )\n",
    "\n",
    "    plt.colorbar(c, ax=ax, orientation='vertical', label='Temperature (°C)', pad=0.01, shrink=0.865)\n",
    "\n",
    "    # Chicago coordinates\n",
    "    chicago_lon = 180 + 91\n",
    "    chicago_lat = 41.85\n",
    "\n",
    "    temp_at_chicago = plot_ds.sel(step=step).sel(lon=chicago_lon, lat=chicago_lat, method=\"nearest\").item()\n",
    "    temp_at_chicago_f = (temp_at_chicago * 9/5) + 32\n",
    "\n",
    "    valid_time = pd.to_datetime(output_ds.time.values[0]) + pd.Timedelta(hours=step)\n",
    "    valid_time = valid_time - pd.Timedelta(hours=5)  # Convert to CST\n",
    "    valid_time_str = valid_time.strftime('%Y-%m-%d %H:%M:%S')\n",
    "\n",
    "    plt.title(f\"AIFS 2m Temperature at Chicago: {temp_at_chicago:.1f} °C ({temp_at_chicago_f:.1f} °F) on {valid_time_str} CST\")\n",
    "    plt.scatter([chicago_lon], [chicago_lat], color='black', s=10)\n",
    "\n",
    "    ax.coastlines()\n",
    "    ax.add_feature(cfeature.BORDERS, linestyle=\":\")\n",
    "    ax.set_xlabel(\"Longitude\")\n",
    "    ax.set_ylabel(\"Latitude\")\n",
    "\n",
    "    plt.tight_layout()\n",
    "    plt.show()\n",
    "\n",
    "# Create the slider using valid step values\n",
    "step_slider = widgets.SelectionSlider(\n",
    "    options=step_values,\n",
    "    description=\"Forecast Step:\",\n",
    "    continuous_update=False,\n",
    "    style={'description_width': 'initial'},\n",
    "    layout=widgets.Layout(width='70%')\n",
    ")\n",
    "\n",
    "# Display the interactive plot\n",
    "widgets.interact(plot_temperature, step=step_slider)\n"
   ]
  }
 ],
 "metadata": {
  "kernelspec": {
   "display_name": "ai-models",
   "language": "python",
   "name": "python3"
  },
  "language_info": {
   "codemirror_mode": {
    "name": "ipython",
    "version": 3
   },
   "file_extension": ".py",
   "mimetype": "text/x-python",
   "name": "python",
   "nbconvert_exporter": "python",
   "pygments_lexer": "ipython3",
   "version": "3.11.0rc1"
  }
 },
 "nbformat": 4,
 "nbformat_minor": 5
}
