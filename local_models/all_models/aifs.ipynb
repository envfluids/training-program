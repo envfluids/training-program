{
 "cells": [
  {
   "cell_type": "markdown",
   "id": "84f83b5d",
   "metadata": {},
   "source": [
    "# AIFS: Running Inference with Anemoi\n",
    "\n",
    "This notebook demonstrates how to run the AI-based Forecast System (AIFS) using the Anemoi inference package. You'll learn how to fetch initial conditions from either the latest operational IFS forecast or historical ERA5 data, run the model for a specified lead time, and process the output.\n",
    "\n",
    "**Notebook Structure:**\n",
    "\n",
    "1.  **Setup**: Import necessary libraries.\n",
    "2.  **Configuration**: Define paths, model weights, and data variables.\n",
    "3.  **Data Fetching**: Functions to get initial conditions from IFS or ERA5.\n",
    "4.  **Inference**: The main function to run the model.\n",
    "5.  **Execution**: Run an example inference.\n",
    "6.  **Visualization**: Code to plot the output data."
   ]
  },
  {
   "cell_type": "markdown",
   "id": "f855f890",
   "metadata": {},
   "source": [
    "## 1. Setup\n",
    "\n",
    "First, we import all the required libraries. This includes standard libraries like `datetime` and `os`, data handling libraries like `numpy`, `xarray`, and `pandas`, and specialized libraries from `anemoi` and `ecmwf` for running the model and fetching data."
   ]
  },
  {
   "cell_type": "code",
   "execution_count": 10,
   "id": "722b2451",
   "metadata": {},
   "outputs": [],
   "source": [
    "import datetime\n",
    "import logging\n",
    "import os\n",
    "import pickle\n",
    "import time\n",
    "import warnings\n",
    "from collections import defaultdict\n",
    "\n",
    "import earthkit.data as ekd\n",
    "import numpy as np\n",
    "import pandas as pd\n",
    "import xarray as xr\n",
    "from anemoi.inference.outputs.printer import print_state\n",
    "from anemoi.inference.runners.simple import SimpleRunner\n",
    "from ecmwf.opendata import Client as OpendataClient\n",
    "from scipy.sparse import load_npz\n",
    "import gc\n",
    "\n",
    "warnings.filterwarnings(\"ignore\", category=UserWarning)\n",
    "\n",
    "logging.basicConfig(\n",
    "    level=logging.INFO, format=\"%(asctime)s - %(levelname)s - %(message)s\"\n",
    ")"
   ]
  },
  {
   "cell_type": "markdown",
   "id": "0578572e",
   "metadata": {},
   "source": [
    "## 2. Configuration\n",
    "\n",
    "This cell sets up the core configuration for the model.\n",
    "\n",
    "- **`CHECKPOINT`**: Path to the pre-trained AIFS model weights.\n",
    "- **Regridding Matrices**: Paths to the NumPy sparse matrices (`.npz` files) used to transform data between the standard lat-lon grid and the model's native N320 grid.\n",
    "- **`ERA5_PATH`**: The Google Cloud Storage path for the ARCO ERA5 dataset, which can be used for historical initial conditions.\n",
    "- **Constants**: Defines latitudes, longitudes, and the mapping of variable names between the ERA5 dataset and the short names expected by the model for both surface (`SFC_VARS`) and pressure levels (`PL_VARS`).\n",
    "- **Paths**: Defines and creates local directories to store input and output states, which helps cache data and avoid re-downloading or re-processing."
   ]
  },
  {
   "cell_type": "code",
   "execution_count": 2,
   "id": "c4c1ba9f",
   "metadata": {},
   "outputs": [],
   "source": [
    "# Load in the model weights\n",
    "CHECKPOINT = \"weights/AIFS/aifs-single-mse-1.0.ckpt\"\n",
    "\n",
    "# Load in the regridding matrices\n",
    "LATLON_N320_PATH = \"support/regrid/mir_16_linear/9533e90f8433424400ab53c7fafc87ba1a04453093311c0b5bd0b35fedc1fb83.npz\"\n",
    "TFM_LATLON_N320 = load_npz(LATLON_N320_PATH)\n",
    "N320_LATLON_PATH = \"support/regrid/mir_16_linear/7f0be51c7c1f522592c7639e0d3f95bcbff8a044292aa281c1e73b842736d9bf.npz\"\n",
    "TFM_N320_LATLON = load_npz(N320_LATLON_PATH)\n",
    "\n",
    "# Load in the ERA5 data from Google Cloud Storage\n",
    "ERA5_PATH = \"gs://gcp-public-data-arco-era5/ar/full_37-1h-0p25deg-chunk-1.zarr-v3\"\n",
    "FULL_ERA5 = xr.open_zarr(ERA5_PATH, chunks=None)\n",
    "\n",
    "# Define the latitude and longitude arrays\n",
    "LATITUDES = np.linspace(90, -90, 721)\n",
    "LONGITUDES = np.linspace(0, 359.75, 1440)\n",
    "\n",
    "# Define the variables for surface and pressure level data\n",
    "# These dictionaries map the variable names in the ERA5 dataset to their corresponding short names\n",
    "SFC_VARS = {\n",
    "    \"10m_u_component_of_wind\": \"10u\",\n",
    "    \"10m_v_component_of_wind\": \"10v\",\n",
    "    \"2m_dewpoint_temperature\": \"2d\",\n",
    "    \"2m_temperature\": \"2t\",\n",
    "    \"mean_sea_level_pressure\": \"msl\",\n",
    "    \"skin_temperature\": \"skt\",\n",
    "    \"surface_pressure\": \"sp\",\n",
    "    \"total_column_water\": \"tcw\",\n",
    "    \"land_sea_mask\": \"lsm\",\n",
    "    \"geopotential_at_surface\": \"z\",\n",
    "    \"slope_of_sub_gridscale_orography\": \"slor\",\n",
    "    \"standard_deviation_of_orography\": \"sdor\",\n",
    "    \"soil_temperature_level_1\": \"stl1\",\n",
    "    \"soil_temperature_level_2\": \"stl2\",\n",
    "    \"volumetric_soil_water_layer_1\": \"swvl1\",\n",
    "    \"volumetric_soil_water_layer_2\": \"swvl2\",\n",
    "}\n",
    "PL_VARS = {\n",
    "    \"geopotential\": \"z\",\n",
    "    \"temperature\": \"t\",\n",
    "    \"u_component_of_wind\": \"u\",\n",
    "    \"v_component_of_wind\": \"v\",\n",
    "    \"vertical_velocity\": \"w\",\n",
    "    \"specific_humidity\": \"q\",\n",
    "}\n",
    "LEVELS = [1000, 925, 850, 700, 600, 500, 400, 300, 250, 200, 150, 100, 50]\n",
    "\n",
    "# Define the input and output state paths\n",
    "# These paths will be used to save the input and output states of the model\n",
    "INPUT_STATE_PATH = \"input_states\"\n",
    "OUTPUT_STATE_PATH = \"output_states\"\n",
    "\n",
    "# Create the directories if they do not exist\n",
    "for path in [INPUT_STATE_PATH, OUTPUT_STATE_PATH]:\n",
    "    if not os.path.exists(path):\n",
    "        os.makedirs(path)"
   ]
  },
  {
   "cell_type": "markdown",
   "id": "827f7ec4",
   "metadata": {},
   "source": [
    "## 3. Data Fetching\n",
    "\n",
    "We define two functions to prepare the initial conditions for the model: one for fetching the latest operational IFS data and another for using historical ERA5 data.\n",
    "\n",
    "### 3.1. Get Latest IFS Data\n",
    "\n",
    "The `get_latest_IFS_data` function fetches the most recent, publicly available forecast data from ECMWF's OpenData service.\n",
    "\n",
    "- It determines the latest available forecast time.\n",
    "- It checks if the input state for that time has already been processed and saved locally. If so, it loads the file to save time.\n",
    "- It downloads the required surface, soil, and pressure level variables for the current time and 6 hours prior.\n",
    "- The data is transformed from a lat-lon grid to the model's N320 grid using the pre-defined matrix.\n",
    "- Finally, it saves the processed input state to a `.pkl` file and returns it."
   ]
  },
  {
   "cell_type": "code",
   "execution_count": 3,
   "id": "9e833248",
   "metadata": {},
   "outputs": [],
   "source": [
    "def get_latest_IFS_data() -> tuple[dict | None, datetime.datetime | None]:\n",
    "    \"\"\"\n",
    "    Fetches the latest IFS data from ECMWF OpenData and prepares the input state for model inference.\n",
    "\n",
    "    Returns:\n",
    "        tuple: (input_state, DATE) where input_state is a dict containing the processed fields, and DATE is the datetime of the latest data.\n",
    "    \"\"\"\n",
    "    logging.info(\"Using the latest IFS data from ECMWF OpenData\")\n",
    "\n",
    "    # Surface, soil, and pressure level parameters for IFS\n",
    "    IFS_PARAM_SFC = [\n",
    "        \"10u\",\n",
    "        \"10v\",\n",
    "        \"2d\",\n",
    "        \"2t\",\n",
    "        \"msl\",\n",
    "        \"skt\",\n",
    "        \"sp\",\n",
    "        \"tcw\",\n",
    "        \"lsm\",\n",
    "        \"z\",\n",
    "        \"slor\",\n",
    "        \"sdor\",\n",
    "    ]\n",
    "    IFS_PARAM_SOIL = [\"vsw\", \"sot\"]\n",
    "    IFS_PARAM_PL = [\"gh\", \"t\", \"u\", \"v\", \"w\", \"q\"]\n",
    "    IFS_LEVELS = [1000, 925, 850, 700, 600, 500, 400, 300, 250, 200, 150, 100, 50]\n",
    "    IFS_SOIL_LEVELS = [1, 2]\n",
    "\n",
    "    try:\n",
    "        DATE = OpendataClient().latest()\n",
    "    except Exception as e:\n",
    "        logging.error(f\"Error getting latest date: {e}\")\n",
    "        return None, None\n",
    "    logging.info(f\"Initial date is {DATE}\")\n",
    "\n",
    "    save_path: str = (\n",
    "        f\"{INPUT_STATE_PATH}/input_state_{DATE.strftime('%Y%m%dT%H')}_IFS.pkl\"\n",
    "    )\n",
    "    # Check if the input state already exists\n",
    "    # If it does, load it instead of fetching new data\n",
    "    if os.path.exists(save_path):\n",
    "        logging.info(f\"Input state already exists at {save_path}, loading it.\")\n",
    "        with open(save_path, \"rb\") as f:\n",
    "            input_state = pickle.load(f)\n",
    "        return input_state, DATE\n",
    "\n",
    "    def get_open_data(\n",
    "        param: list[str], levelist: list[int] = []\n",
    "    ) -> dict[str, np.ndarray]:\n",
    "        \"\"\"\n",
    "        Helper to fetch and process open data for given parameters and levels.\n",
    "\n",
    "        Args:\n",
    "            param: List of parameter names.\n",
    "            levelist: List of levels (optional).\n",
    "\n",
    "        Returns:\n",
    "            dict: Dictionary of processed fields.\n",
    "        \"\"\"\n",
    "        # Initialize a dictionary to hold the fields\n",
    "        fields = defaultdict(list)\n",
    "        # Get the data for the current date and the previous date\n",
    "        for date in [DATE - datetime.timedelta(hours=6), DATE]:\n",
    "            data = ekd.from_source(\n",
    "                \"ecmwf-open-data\", date=date, param=param, levelist=levelist\n",
    "            )\n",
    "            for f in data:  # type: ignore\n",
    "                # Open data is between -180 and 180, we need to shift it to 0-360\n",
    "                assert f.to_numpy().shape == (721, 1440)\n",
    "                values = np.roll(f.to_numpy(), -f.shape[1] // 2, axis=1)\n",
    "                # Interpolate the data to from 0.25 to N320\n",
    "                # values = ekr.interpolate(\n",
    "                #     values, {\"grid\": (0.25, 0.25)}, {\"grid\": \"N320\"}\n",
    "                # )\n",
    "                values = values.flatten()\n",
    "                values = TFM_LATLON_N320 * values\n",
    "                # Add the values to the list\n",
    "                name = (\n",
    "                    f\"{f.metadata('param')}_{f.metadata('levelist')}\"\n",
    "                    if levelist\n",
    "                    else f.metadata(\"param\")\n",
    "                )\n",
    "                fields[name].append(values)\n",
    "\n",
    "        # Stack values for each parameter\n",
    "        for param, values in fields.items():\n",
    "            fields[param] = np.stack(values)\n",
    "\n",
    "        return fields\n",
    "\n",
    "    # Create empty fields dictionary\n",
    "    fields = {}\n",
    "    # Get the surface parameters\n",
    "    fields.update(get_open_data(param=IFS_PARAM_SFC))\n",
    "    # Get the soil parameters\n",
    "    soil = get_open_data(param=IFS_PARAM_SOIL, levelist=IFS_SOIL_LEVELS)\n",
    "\n",
    "    # Map the soil parameters to the expected names\n",
    "    mapping = {\"sot_1\": \"stl1\", \"sot_2\": \"stl2\", \"vsw_1\": \"swvl1\", \"vsw_2\": \"swvl2\"}\n",
    "    for k, v in soil.items():\n",
    "        fields[mapping[k]] = v\n",
    "\n",
    "    # Get the pressure level parameters\n",
    "    fields.update(get_open_data(param=IFS_PARAM_PL, levelist=IFS_LEVELS))\n",
    "\n",
    "    # Transform GH to Z (geopotential height to geopotential)\n",
    "    for level in IFS_LEVELS:\n",
    "        gh = fields.pop(f\"gh_{level}\")\n",
    "        fields[f\"z_{level}\"] = gh * 9.80665\n",
    "\n",
    "    input_state = dict(date=DATE, fields=fields)\n",
    "\n",
    "    # Write out the input state to a file with the date in the filename\n",
    "    with open(save_path, \"wb\") as f:\n",
    "        pickle.dump(input_state, f)\n",
    "\n",
    "    return input_state, DATE\n"
   ]
  },
  {
   "cell_type": "markdown",
   "id": "b757415c",
   "metadata": {},
   "source": [
    "### 3.2. Get ERA5 Data\n",
    "\n",
    "The `get_ERA5` function prepares initial conditions from the historical ERA5 dataset for a user-specified date.\n",
    "\n",
    "- It checks if a processed input file for the given date already exists locally.\n",
    "- It selects data for the specified `init_date` and 6 hours prior from the Zarr store.\n",
    "- It renames the variables to the short names required by the model.\n",
    "- It transforms the data from the ERA5 grid to the model's N320 grid.\n",
    "- The final state is saved to a `.pkl` file and returned."
   ]
  },
  {
   "cell_type": "code",
   "execution_count": 4,
   "id": "1c0bcaa6",
   "metadata": {},
   "outputs": [],
   "source": [
    "def get_ERA5(init_date: datetime.datetime) -> dict:\n",
    "    \"\"\"Fetches ERA5 data for a given initialization date and prepares the input state for model inference.\n",
    "    Args:\n",
    "        init_date (datetime): The initialization date for which to fetch the ERA5 data.\n",
    "    Returns:\n",
    "        dict: A dictionary containing the input state with date and fields.\n",
    "    \"\"\"\n",
    "    # Define the surface and pressure level variables for ERA5\n",
    "    # These variables will be used to select the relevant data from the ERA5 dataset\n",
    "    # The variables are mapped to shorter names for input into the model\n",
    "\n",
    "    logging.info(f\"Getting ERA5 data for date {init_date}\")\n",
    "\n",
    "    save_path = (\n",
    "        f\"{INPUT_STATE_PATH}/input_state_{init_date.strftime('%Y%m%dT%H')}_ERA5.pkl\"\n",
    "    )\n",
    "    # Check if the input state already exists\n",
    "    # If it does, load it instead of fetching new data\n",
    "    if os.path.exists(save_path):\n",
    "        logging.info(\n",
    "            f\"Input state for {init_date} already exists locally. Loading from file...\"\n",
    "        )\n",
    "        with open(save_path, \"rb\") as f:\n",
    "            input_state = pickle.load(f)\n",
    "        logging.info(\"Input state loaded successfully.\")\n",
    "        return input_state\n",
    "\n",
    "    # AIFS requires data from 6 hours before the initialization date\n",
    "    init_date_minus_6 = init_date - datetime.timedelta(hours=6)\n",
    "\n",
    "    logging.info(\"Getting pressure level data...\")\n",
    "    pl_ds = (\n",
    "        FULL_ERA5[list(PL_VARS.keys())]\n",
    "        .sel(time=[init_date_minus_6, init_date], level=LEVELS)\n",
    "        .compute()\n",
    "        .rename(PL_VARS)\n",
    "    )\n",
    "\n",
    "    logging.info(\"Getting surface level data...\")\n",
    "    sfc_ds = (\n",
    "        FULL_ERA5[list(SFC_VARS.keys())]\n",
    "        .sel(time=[init_date_minus_6, init_date])\n",
    "        .compute()\n",
    "        .rename(SFC_VARS)\n",
    "    )\n",
    "\n",
    "    # AIFS model expects data on a N320 grid,\n",
    "    # so we need to regrid the ERA5 data\n",
    "    logging.info(\"Processing surface level data...\")\n",
    "    fields_sfc = defaultdict(list)\n",
    "    for date in sfc_ds.time:\n",
    "        sfc_ds_date = sfc_ds.sel(time=date)\n",
    "        for param in SFC_VARS.values():\n",
    "            values = sfc_ds_date[param].to_numpy().flatten()\n",
    "            values = TFM_LATLON_N320 * values\n",
    "            fields_sfc[param].append(values)\n",
    "\n",
    "    logging.info(\"Processing pressure level data...\")\n",
    "    fields_pl = defaultdict(list)\n",
    "    for date in pl_ds.time:\n",
    "        pl_ds_date = pl_ds.sel(time=date)\n",
    "        for param in PL_VARS.values():\n",
    "            for level in LEVELS:\n",
    "                values = pl_ds_date[param].sel(level=level).to_numpy().flatten()\n",
    "                values = TFM_LATLON_N320 * values\n",
    "                fields_pl[f\"{param}_{level}\"].append(values)\n",
    "\n",
    "    logging.info(\"Making input state...\")\n",
    "    # Combine the surface and pressure level fields into a single dictionary\n",
    "    # This dictionary will be used as the input state for the model\n",
    "    fields = {}\n",
    "    fields.update(fields_sfc)\n",
    "    fields.update(fields_pl)\n",
    "\n",
    "    for param, values in fields.items():\n",
    "        fields[param] = np.stack(values)\n",
    "\n",
    "    input_state = dict(date=init_date, fields=fields)\n",
    "\n",
    "    # Save the input state to a file for later use\n",
    "    logging.info(\"Saving input state to file...\")\n",
    "    with open(save_path, \"wb\") as f:\n",
    "        pickle.dump(input_state, f)\n",
    "        logging.info(f\"Input state saved to {save_path}\")\n",
    "\n",
    "    logging.info(f\"Input state for {init_date} created successfully.\")\n",
    "    return input_state"
   ]
  },
  {
   "cell_type": "markdown",
   "id": "41942732",
   "metadata": {},
   "source": [
    "## 4. Inference and Processing\n",
    "\n",
    "With the data-loading functions in place, we can now define the functions for running the inference and processing the results.\n",
    "\n",
    "### 4.1. Process a Single Step\n",
    "\n",
    "The `process_step` function takes the raw output from the model for a single forecast step and makes it usable.\n",
    "\n",
    "- The model's output is on the N320 grid, so this function uses the inverse regridding matrix (`TFM_N320_LATLON`) to transform the data back to a standard 0.25-degree lat-lon grid.\n",
    "- It packages the processed data into a clean `xarray.Dataset`, which is easy to work with and plot."
   ]
  },
  {
   "cell_type": "code",
   "execution_count": 5,
   "id": "2d68c573",
   "metadata": {},
   "outputs": [],
   "source": [
    "def process_step(output_state: dict, step: int) -> xr.Dataset:\n",
    "    \"\"\"Processes the output state of the model for a given step.\n",
    "    Args:\n",
    "        output_state (dict): The output state from the model inference.\n",
    "        step (int): The current step in hours.\n",
    "    Returns:\n",
    "        xr.Dataset: An xarray Dataset containing the processed output state.\n",
    "    \"\"\"\n",
    "    data_vars = {}\n",
    "    # Because the model outputs are in the N320 grid,\n",
    "    # we need to transform them back to the 0.25 degree grid\n",
    "    logging.info(f\"Processing step {step}\")\n",
    "    for field in output_state[\"fields\"]:\n",
    "        values = (\n",
    "            TFM_N320_LATLON * output_state[\"fields\"][field].reshape(-1, 1)\n",
    "        ).reshape(721, 1440)\n",
    "        data_vars[field] = ([\"lat\", \"lon\"], values.astype(np.float32))\n",
    "\n",
    "    # Create an xarray Dataset with the processed data\n",
    "    step_ds = xr.Dataset(\n",
    "        data_vars,\n",
    "        coords={\"lat\": LATITUDES, \"lon\": LONGITUDES},\n",
    "    )\n",
    "    # Add step as an index for concatenation later\n",
    "    step_ds = step_ds.expand_dims(\"step\")\n",
    "    step_ds[\"step\"] = [int(step)]\n",
    "    return step_ds"
   ]
  },
  {
   "cell_type": "markdown",
   "id": "9ba442d2",
   "metadata": {},
   "source": [
    "### 4.2. Run Full Inference\n",
    "\n",
    "The `run_inference` function is the main entry point for running the forecast.\n",
    "\n",
    "- **Parameters**:\n",
    "    - `init_date` (`datetime`): The initialization date for the forecast. If `None`, it uses the latest IFS data. Otherwise, it uses ERA5 data for the specified date.\n",
    "    - `lead_time` (`int`): The forecast length in hours. It must be a multiple of 6.\n",
    "    - `save_vars` (`list`): A list of specific variable names to save. If `None`, all variables are saved, which can consume a lot of memory for long forecasts.\n",
    "- **Workflow**:\n",
    "    1.  Initializes the `SimpleRunner` with the model checkpoint on the GPU.\n",
    "    2.  Calls the appropriate data fetching function (`get_latest_IFS_data` or `get_ERA5`).\n",
    "    3.  Iterates through the forecast steps, from 6 hours up to the `lead_time`.\n",
    "    4.  At each step, it calls `process_step` to transform and store the output.\n",
    "    5.  Concatenates the results from all steps into a single `xarray.Dataset`.\n",
    "    6.  Saves the final dataset to a Zarr file for later use."
   ]
  },
  {
   "cell_type": "code",
   "execution_count": null,
   "id": "d7857e55",
   "metadata": {},
   "outputs": [],
   "source": [
    "def run_inference(\n",
    "    init_date: datetime.datetime = None, lead_time: int = 360, save_vars: list = None\n",
    ") -> xr.Dataset:\n",
    "    \"\"\"Runs the AIFS model inference for a given initialization date and lead time.\n",
    "    Args:\n",
    "        init_date (datetime): The initialization date for the model. If None, uses the latest IFS data.\n",
    "        lead_time (int): The lead time in hours for the model inference. Must be a multiple of 6 and at least 6.\n",
    "        save_vars (list): List of variable names to save in the output dataset. If None, saves all variables.\n",
    "    Returns:\n",
    "        xr.Dataset: An xarray Dataset containing the model output for the specified lead time.\n",
    "    \"\"\"\n",
    "    # Validate the lead time\n",
    "    # Ensure that the lead time is a multiple of 6 and at least 6 hours\n",
    "    if lead_time < 6 or lead_time % 6 != 0:\n",
    "        raise ValueError(\n",
    "            \"Lead time must be a multiple of 6 hours and at least 6 hours.\"\n",
    "        )\n",
    "\n",
    "    # Validate so the memory usage is manageable\n",
    "    if save_vars is None and lead_time > 120:\n",
    "        logging.warning(\n",
    "            \"Running this model for more than 120 steps and saving all variables is not recommended.\"\n",
    "        )\n",
    "\n",
    "    # If no initialization date is provided, fetch the latest IFS data\n",
    "    # If an initialization date is provided, use it to fetch the ERA5 data\n",
    "    if init_date is None:\n",
    "        ic_src = \"IFS\"\n",
    "        input_state, init_date = get_latest_IFS_data()\n",
    "    else:\n",
    "        ic_src = \"ERA5\"\n",
    "        input_state = get_ERA5(init_date)\n",
    "\n",
    "    # Create the GPU runner for the AIFS model\n",
    "    # This runner will handle the inference process using the model weights\n",
    "    runner = SimpleRunner(CHECKPOINT, device=\"cuda\")\n",
    "    current_step = 0\n",
    "    start_time = time.perf_counter()\n",
    "    logging.info(\"Starting the inference session...\")\n",
    "    current_step_time = time.perf_counter()\n",
    "\n",
    "    # Initialize a list to store the states for each step\n",
    "    # This will be used to concatenate the results into a single dataset later\n",
    "    states = []\n",
    "    for state in runner.run(input_state=input_state, lead_time=lead_time):\n",
    "        print_state(state)\n",
    "        current_step += 6\n",
    "        # Process the output state for the current step\n",
    "        if save_vars is None:\n",
    "            # If no specific variables are requested, process all fields\n",
    "            states.append(process_step(state, current_step))\n",
    "        else:\n",
    "            # If specific variables are requested, filter the fields accordingly\n",
    "            states.append(\n",
    "                process_step(\n",
    "                    {\n",
    "                        \"date\": state[\"date\"],\n",
    "                        \"fields\": {var: state[\"fields\"][var] for var in save_vars},\n",
    "                        \"latitudes\": state[\"latitudes\"],\n",
    "                        \"longitudes\": state[\"longitudes\"],\n",
    "                    },\n",
    "                    current_step,\n",
    "                )\n",
    "            )\n",
    "        # Time tracking for each step\n",
    "        step_time = time.perf_counter()\n",
    "        time_taken = step_time - current_step_time\n",
    "        logging.info(f\"Time taken for step {current_step}: {time_taken:.2f} seconds.\")\n",
    "        current_step_time = step_time\n",
    "    logging.info(\"Inference session completed.\")\n",
    "    logging.info(\n",
    "        f\"Total time taken for the inference session: {time.perf_counter() - start_time:.2f} seconds.\"\n",
    "    )\n",
    "\n",
    "    # Concatenate all the processed states into a single xarray Dataset\n",
    "    # This dataset will contain all the model outputs for the specified lead time\n",
    "    logging.info(\"Concatenating all steps into a single dataset.\")\n",
    "    ds = xr.concat(states, dim=\"step\")\n",
    "\n",
    "    # Clean up the dataset and runner\n",
    "    del states\n",
    "    del runner\n",
    "\n",
    "    # Add the time dimension to the dataset\n",
    "    # The time dimension will be the forecast initialization date\n",
    "    ds = ds.expand_dims(\"time\")\n",
    "    ds[\"time\"] = [pd.to_datetime(input_state[\"date\"])]\n",
    "\n",
    "    # Save the output dataset to a NetCDF file\n",
    "    # Only save the dataset if it does not already exist\n",
    "    save_path = f\"{OUTPUT_STATE_PATH}/init_{ic_src}_{init_date.strftime('%Y%m%dT%H')}_lead_{lead_time}.nc\"\n",
    "    if os.path.exists(save_path):\n",
    "        logging.info(f\"Output file {save_path} already exists. Skipping save.\")\n",
    "    else:\n",
    "        logging.info(f\"Saving output dataset to {save_path}\")\n",
    "        ds.to_netcdf(save_path)\n",
    "    gc.collect()  # Clean up memory\n",
    "    return ds"
   ]
  },
  {
   "cell_type": "markdown",
   "id": "ff5d8e3d",
   "metadata": {},
   "source": [
    "## 5. Execution Example\n",
    "\n",
    "Now, let's run a 120-hour forecast.\n",
    "\n",
    "- We set `init_date=None` to use the latest available IFS data as our initial condition.\n",
    "- We set `lead_time` to 120 hours (5 days).\n",
    "- We specify `save_vars` to only keep the `2t` (2-meter temperature) and `tp` (total precipitation) variables in the final output. This is a good practice to manage memory usage.\n",
    "\n",
    "The model will now run, and you'll see a log of its progress for each 6-hour step."
   ]
  },
  {
   "cell_type": "code",
   "execution_count": 7,
   "id": "423edbf7",
   "metadata": {},
   "outputs": [
    {
     "name": "stderr",
     "output_type": "stream",
     "text": [
      "2025-08-11 18:27:04,885 - INFO - Running inference for initialization date: 2023-06-30 00:00:00\n",
      "2025-08-11 18:27:04,886 - INFO - Getting ERA5 data for date 2023-06-30 00:00:00\n",
      "2025-08-11 18:27:04,887 - INFO - Input state for 2023-06-30 00:00:00 already exists locally. Loading from file...\n",
      "2025-08-11 18:27:07,856 - INFO - Input state loaded successfully.\n",
      "2025-08-11 18:27:07,856 - INFO - Using SimpleRunner runner\n",
      "2025-08-11 18:27:07,857 - INFO - Starting the inference session...\n",
      "2025-08-11 18:27:07,917 - INFO - Computed constant forcings: before ['cos_latitude', 'cos_longitude', 'sin_latitude', 'sin_longitude'], after ['cos_latitude', 'cos_longitude', 'sin_latitude', 'sin_longitude']\n",
      "2025-08-11 18:27:07,917 - INFO - Constant computed forcing: ComputedForcings(['cos_latitude', 'cos_longitude', 'sin_latitude', 'sin_longitude'])\n",
      "2025-08-11 18:27:07,918 - INFO - Dynamic computed forcing: ComputedForcings(['cos_julian_day', 'cos_local_time', 'sin_julian_day', 'sin_local_time', 'insolation'])\n",
      "2025-08-11 18:27:07,919 - INFO - Constant forcings input: ComputedForcings(['cos_latitude', 'cos_longitude', 'sin_latitude', 'sin_longitude']) ['cos_latitude', 'cos_longitude', 'sin_latitude', 'sin_longitude'] ([datetime.datetime(2023, 6, 29, 18, 0), datetime.datetime(2023, 6, 30, 0, 0)])\n",
      "2025-08-11 18:27:07,959 - INFO - Dynamic forcings input: ComputedForcings(['cos_julian_day', 'cos_local_time', 'sin_julian_day', 'sin_local_time', 'insolation']) ['cos_julian_day', 'cos_local_time', 'sin_julian_day', 'sin_local_time', 'insolation'] ([datetime.datetime(2023, 6, 29, 18, 0), datetime.datetime(2023, 6, 30, 0, 0)])\n",
      "2025-08-11 18:27:08,033 - INFO - Expected shape for each input fields: (2, 542080)\n",
      "2025-08-11 18:27:08,239 - INFO - Preparing input tensor with shape (2, 103, 542080)\n",
      "2025-08-11 18:27:17,202 - INFO - Loading Checkpoint(weights/AIFS/aifs-single-mse-1.0.ckpt): 8 seconds.\n",
      "2025-08-11 18:27:17,430 - INFO - Using autocast torch.float16\n",
      "2025-08-11 18:27:17,431 - INFO - Lead time: 15 days, 0:00:00, time stepping: 6:00:00 Forecasting 60 steps\n",
      "2025-08-11 18:27:17,431 - INFO - Forecasting step 6:00:00 (2023-06-30 06:00:00)\n",
      "2025-08-11 18:27:19,641 - INFO - Processing step 6\n",
      "2025-08-11 18:27:19,690 - INFO - Time taken for step 6: 11.83 seconds.\n",
      "2025-08-11 18:27:19,737 - INFO - Forecasting step 12:00:00 (2023-06-30 12:00:00)\n"
     ]
    },
    {
     "name": "stdout",
     "output_type": "stream",
     "text": [
      "\n",
      "😀 date=2023-06-30T06:00:00 latitudes=(542080,) longitudes=(542080,) fields=102\n",
      "\n",
      "    q_50   shape=(542080,) min=1.06017e-06    max=3.14455e-06   \n",
      "    t_1000 shape=(542080,) min=231.485        max=319.617       \n",
      "    v_925  shape=(542080,) min=-37.5299       max=47.5856       \n",
      "    z_850  shape=(542080,) min=8884.47        max=16325.8       \n",
      "    swvl2  shape=(542080,) min=0              max=0.763021      \n",
      "    tcc    shape=(542080,) min=0              max=1             \n",
      "\n"
     ]
    },
    {
     "name": "stderr",
     "output_type": "stream",
     "text": [
      "2025-08-11 18:27:21,302 - INFO - Processing step 12\n",
      "2025-08-11 18:27:21,326 - INFO - Time taken for step 12: 1.64 seconds.\n",
      "2025-08-11 18:27:21,365 - INFO - Forecasting step 18:00:00 (2023-06-30 18:00:00)\n"
     ]
    },
    {
     "name": "stdout",
     "output_type": "stream",
     "text": [
      "\n",
      "😀 date=2023-06-30T12:00:00 latitudes=(542080,) longitudes=(542080,) fields=102\n",
      "\n",
      "    q_50   shape=(542080,) min=1.08825e-06    max=3.16776e-06   \n",
      "    t_1000 shape=(542080,) min=231.646        max=324.688       \n",
      "    v_925  shape=(542080,) min=-34.297        max=41.7321       \n",
      "    z_850  shape=(542080,) min=8777.21        max=16355.6       \n",
      "    swvl2  shape=(542080,) min=0              max=0.761406      \n",
      "    tcc    shape=(542080,) min=0              max=1             \n",
      "\n"
     ]
    },
    {
     "name": "stderr",
     "output_type": "stream",
     "text": [
      "2025-08-11 18:27:22,928 - INFO - Processing step 18\n",
      "2025-08-11 18:27:22,951 - INFO - Time taken for step 18: 1.63 seconds.\n",
      "2025-08-11 18:27:22,994 - INFO - Forecasting step 1 day, 0:00:00 (2023-07-01 00:00:00)\n"
     ]
    },
    {
     "name": "stdout",
     "output_type": "stream",
     "text": [
      "\n",
      "😀 date=2023-06-30T18:00:00 latitudes=(542080,) longitudes=(542080,) fields=102\n",
      "\n",
      "    q_50   shape=(542080,) min=1.0932e-06     max=3.16513e-06   \n",
      "    t_1000 shape=(542080,) min=231.066        max=322.248       \n",
      "    v_925  shape=(542080,) min=-34.9502       max=41.716        \n",
      "    z_850  shape=(542080,) min=8572.64        max=16283.6       \n",
      "    swvl2  shape=(542080,) min=0              max=0.76006       \n",
      "    tcc    shape=(542080,) min=0              max=1             \n",
      "\n"
     ]
    },
    {
     "name": "stderr",
     "output_type": "stream",
     "text": [
      "2025-08-11 18:27:24,554 - INFO - Processing step 24\n",
      "2025-08-11 18:27:24,577 - INFO - Time taken for step 24: 1.63 seconds.\n",
      "2025-08-11 18:27:24,623 - INFO - Forecasting step 1 day, 6:00:00 (2023-07-01 06:00:00)\n"
     ]
    },
    {
     "name": "stdout",
     "output_type": "stream",
     "text": [
      "\n",
      "😀 date=2023-07-01T00:00:00 latitudes=(542080,) longitudes=(542080,) fields=102\n",
      "\n",
      "    q_50   shape=(542080,) min=1.12069e-06    max=3.16792e-06   \n",
      "    t_1000 shape=(542080,) min=229.121        max=318.67        \n",
      "    v_925  shape=(542080,) min=-32.8705       max=47.9807       \n",
      "    z_850  shape=(542080,) min=8389.6         max=16252         \n",
      "    swvl2  shape=(542080,) min=0              max=0.758742      \n",
      "    tcc    shape=(542080,) min=0              max=1             \n",
      "\n"
     ]
    },
    {
     "name": "stderr",
     "output_type": "stream",
     "text": [
      "2025-08-11 18:27:26,145 - INFO - Processing step 30\n",
      "2025-08-11 18:27:26,166 - INFO - Time taken for step 30: 1.59 seconds.\n",
      "2025-08-11 18:27:26,211 - INFO - Forecasting step 1 day, 12:00:00 (2023-07-01 12:00:00)\n"
     ]
    },
    {
     "name": "stdout",
     "output_type": "stream",
     "text": [
      "\n",
      "😀 date=2023-07-01T06:00:00 latitudes=(542080,) longitudes=(542080,) fields=102\n",
      "\n",
      "    q_50   shape=(542080,) min=1.16537e-06    max=3.18112e-06   \n",
      "    t_1000 shape=(542080,) min=228.677        max=321.277       \n",
      "    v_925  shape=(542080,) min=-31.5214       max=51.9099       \n",
      "    z_850  shape=(542080,) min=8339           max=16062.7       \n",
      "    swvl2  shape=(542080,) min=0              max=0.757408      \n",
      "    tcc    shape=(542080,) min=0              max=1             \n",
      "\n"
     ]
    },
    {
     "name": "stderr",
     "output_type": "stream",
     "text": [
      "2025-08-11 18:27:27,783 - INFO - Processing step 36\n",
      "2025-08-11 18:27:27,807 - INFO - Time taken for step 36: 1.64 seconds.\n",
      "2025-08-11 18:27:27,846 - INFO - Forecasting step 1 day, 18:00:00 (2023-07-01 18:00:00)\n"
     ]
    },
    {
     "name": "stdout",
     "output_type": "stream",
     "text": [
      "\n",
      "😀 date=2023-07-01T12:00:00 latitudes=(542080,) longitudes=(542080,) fields=102\n",
      "\n",
      "    q_50   shape=(542080,) min=1.03491e-06    max=3.18653e-06   \n",
      "    t_1000 shape=(542080,) min=227.999        max=325.472       \n",
      "    v_925  shape=(542080,) min=-34.2923       max=49.7971       \n",
      "    z_850  shape=(542080,) min=8095.42        max=16057.6       \n",
      "    swvl2  shape=(542080,) min=0              max=0.756172      \n",
      "    tcc    shape=(542080,) min=0              max=1             \n",
      "\n"
     ]
    },
    {
     "name": "stderr",
     "output_type": "stream",
     "text": [
      "2025-08-11 18:27:29,421 - INFO - Processing step 42\n",
      "2025-08-11 18:27:29,444 - INFO - Time taken for step 42: 1.64 seconds.\n",
      "2025-08-11 18:27:29,487 - INFO - Forecasting step 2 days, 0:00:00 (2023-07-02 00:00:00)\n"
     ]
    },
    {
     "name": "stdout",
     "output_type": "stream",
     "text": [
      "\n",
      "😀 date=2023-07-01T18:00:00 latitudes=(542080,) longitudes=(542080,) fields=102\n",
      "\n",
      "    q_50   shape=(542080,) min=1.04633e-06    max=3.19015e-06   \n",
      "    t_1000 shape=(542080,) min=228.961        max=323.152       \n",
      "    v_925  shape=(542080,) min=-32.3761       max=49.6928       \n",
      "    z_850  shape=(542080,) min=7967.16        max=15987         \n",
      "    swvl2  shape=(542080,) min=0              max=0.754976      \n",
      "    tcc    shape=(542080,) min=0              max=1             \n",
      "\n"
     ]
    },
    {
     "name": "stderr",
     "output_type": "stream",
     "text": [
      "2025-08-11 18:27:31,037 - INFO - Processing step 48\n",
      "2025-08-11 18:27:31,058 - INFO - Time taken for step 48: 1.61 seconds.\n",
      "2025-08-11 18:27:31,094 - INFO - Forecasting step 2 days, 6:00:00 (2023-07-02 06:00:00)\n"
     ]
    },
    {
     "name": "stdout",
     "output_type": "stream",
     "text": [
      "\n",
      "😀 date=2023-07-02T00:00:00 latitudes=(542080,) longitudes=(542080,) fields=102\n",
      "\n",
      "    q_50   shape=(542080,) min=9.95242e-07    max=3.18933e-06   \n",
      "    t_1000 shape=(542080,) min=229.34         max=319.255       \n",
      "    v_925  shape=(542080,) min=-33.7735       max=50.2815       \n",
      "    z_850  shape=(542080,) min=8092.86        max=15991.3       \n",
      "    swvl2  shape=(542080,) min=0              max=0.75381       \n",
      "    tcc    shape=(542080,) min=0              max=1             \n",
      "\n"
     ]
    },
    {
     "name": "stderr",
     "output_type": "stream",
     "text": [
      "2025-08-11 18:27:32,619 - INFO - Processing step 54\n",
      "2025-08-11 18:27:32,638 - INFO - Time taken for step 54: 1.58 seconds.\n",
      "2025-08-11 18:27:32,694 - INFO - Forecasting step 2 days, 12:00:00 (2023-07-02 12:00:00)\n"
     ]
    },
    {
     "name": "stdout",
     "output_type": "stream",
     "text": [
      "\n",
      "😀 date=2023-07-02T06:00:00 latitudes=(542080,) longitudes=(542080,) fields=102\n",
      "\n",
      "    q_50   shape=(542080,) min=1.07061e-06    max=3.18394e-06   \n",
      "    t_1000 shape=(542080,) min=229.956        max=321.244       \n",
      "    v_925  shape=(542080,) min=-36.422        max=48.9506       \n",
      "    z_850  shape=(542080,) min=8298.94        max=15876         \n",
      "    swvl2  shape=(542080,) min=0              max=0.752485      \n",
      "    tcc    shape=(542080,) min=0              max=1             \n",
      "\n"
     ]
    },
    {
     "name": "stderr",
     "output_type": "stream",
     "text": [
      "2025-08-11 18:27:34,278 - INFO - Processing step 60\n",
      "2025-08-11 18:27:34,299 - INFO - Time taken for step 60: 1.62 seconds.\n",
      "2025-08-11 18:27:34,338 - INFO - Forecasting step 2 days, 18:00:00 (2023-07-02 18:00:00)\n"
     ]
    },
    {
     "name": "stdout",
     "output_type": "stream",
     "text": [
      "\n",
      "😀 date=2023-07-02T12:00:00 latitudes=(542080,) longitudes=(542080,) fields=102\n",
      "\n",
      "    q_50   shape=(542080,) min=1.06909e-06    max=3.1831e-06    \n",
      "    t_1000 shape=(542080,) min=228.427        max=324.995       \n",
      "    v_925  shape=(542080,) min=-35.0921       max=45.6422       \n",
      "    z_850  shape=(542080,) min=8525.96        max=15963.7       \n",
      "    swvl2  shape=(542080,) min=0              max=0.751336      \n",
      "    tcc    shape=(542080,) min=0              max=1             \n",
      "\n"
     ]
    },
    {
     "name": "stderr",
     "output_type": "stream",
     "text": [
      "2025-08-11 18:27:35,920 - INFO - Processing step 66\n",
      "2025-08-11 18:27:35,945 - INFO - Time taken for step 66: 1.65 seconds.\n",
      "2025-08-11 18:27:35,993 - INFO - Forecasting step 3 days, 0:00:00 (2023-07-03 00:00:00)\n"
     ]
    },
    {
     "name": "stdout",
     "output_type": "stream",
     "text": [
      "\n",
      "😀 date=2023-07-02T18:00:00 latitudes=(542080,) longitudes=(542080,) fields=102\n",
      "\n",
      "    q_50   shape=(542080,) min=1.09033e-06    max=3.18722e-06   \n",
      "    t_1000 shape=(542080,) min=228.551        max=322.889       \n",
      "    v_925  shape=(542080,) min=-36.033        max=41.5769       \n",
      "    z_850  shape=(542080,) min=8621.07        max=15954.8       \n",
      "    swvl2  shape=(542080,) min=0              max=0.75034       \n",
      "    tcc    shape=(542080,) min=0              max=1             \n",
      "\n"
     ]
    },
    {
     "name": "stderr",
     "output_type": "stream",
     "text": [
      "2025-08-11 18:27:37,586 - INFO - Processing step 72\n",
      "2025-08-11 18:27:37,610 - INFO - Time taken for step 72: 1.66 seconds.\n",
      "2025-08-11 18:27:37,648 - INFO - Forecasting step 3 days, 6:00:00 (2023-07-03 06:00:00)\n"
     ]
    },
    {
     "name": "stdout",
     "output_type": "stream",
     "text": [
      "\n",
      "😀 date=2023-07-03T00:00:00 latitudes=(542080,) longitudes=(542080,) fields=102\n",
      "\n",
      "    q_50   shape=(542080,) min=1.09781e-06    max=3.18742e-06   \n",
      "    t_1000 shape=(542080,) min=228.299        max=319.38        \n",
      "    v_925  shape=(542080,) min=-31.8061       max=40.5447       \n",
      "    z_850  shape=(542080,) min=8684.04        max=15986.5       \n",
      "    swvl2  shape=(542080,) min=0              max=0.749536      \n",
      "    tcc    shape=(542080,) min=0              max=1             \n",
      "\n"
     ]
    },
    {
     "name": "stderr",
     "output_type": "stream",
     "text": [
      "2025-08-11 18:27:39,208 - INFO - Processing step 78\n",
      "2025-08-11 18:27:39,229 - INFO - Time taken for step 78: 1.62 seconds.\n",
      "2025-08-11 18:27:39,269 - INFO - Forecasting step 3 days, 12:00:00 (2023-07-03 12:00:00)\n"
     ]
    },
    {
     "name": "stdout",
     "output_type": "stream",
     "text": [
      "\n",
      "😀 date=2023-07-03T06:00:00 latitudes=(542080,) longitudes=(542080,) fields=102\n",
      "\n",
      "    q_50   shape=(542080,) min=1.12445e-06    max=3.1892e-06    \n",
      "    t_1000 shape=(542080,) min=229.067        max=320.235       \n",
      "    v_925  shape=(542080,) min=-33.4565       max=38.4909       \n",
      "    z_850  shape=(542080,) min=8880.87        max=16006.7       \n",
      "    swvl2  shape=(542080,) min=0              max=0.7484        \n",
      "    tcc    shape=(542080,) min=0              max=1             \n",
      "\n"
     ]
    },
    {
     "name": "stderr",
     "output_type": "stream",
     "text": [
      "2025-08-11 18:27:40,790 - INFO - Processing step 84\n",
      "2025-08-11 18:27:40,810 - INFO - Time taken for step 84: 1.58 seconds.\n",
      "2025-08-11 18:27:40,849 - INFO - Forecasting step 3 days, 18:00:00 (2023-07-03 18:00:00)\n"
     ]
    },
    {
     "name": "stdout",
     "output_type": "stream",
     "text": [
      "\n",
      "😀 date=2023-07-03T12:00:00 latitudes=(542080,) longitudes=(542080,) fields=102\n",
      "\n",
      "    q_50   shape=(542080,) min=1.06411e-06    max=3.19486e-06   \n",
      "    t_1000 shape=(542080,) min=228.213        max=324.163       \n",
      "    v_925  shape=(542080,) min=-31.0012       max=34.4679       \n",
      "    z_850  shape=(542080,) min=9112.61        max=15977         \n",
      "    swvl2  shape=(542080,) min=0              max=0.747324      \n",
      "    tcc    shape=(542080,) min=0              max=1             \n",
      "\n"
     ]
    },
    {
     "name": "stderr",
     "output_type": "stream",
     "text": [
      "2025-08-11 18:27:42,400 - INFO - Processing step 90\n",
      "2025-08-11 18:27:42,430 - INFO - Time taken for step 90: 1.62 seconds.\n",
      "2025-08-11 18:27:42,475 - INFO - Forecasting step 4 days, 0:00:00 (2023-07-04 00:00:00)\n"
     ]
    },
    {
     "name": "stdout",
     "output_type": "stream",
     "text": [
      "\n",
      "😀 date=2023-07-03T18:00:00 latitudes=(542080,) longitudes=(542080,) fields=102\n",
      "\n",
      "    q_50   shape=(542080,) min=1.08935e-06    max=3.20171e-06   \n",
      "    t_1000 shape=(542080,) min=228.217        max=322.228       \n",
      "    v_925  shape=(542080,) min=-29.5451       max=30.4558       \n",
      "    z_850  shape=(542080,) min=9184.5         max=15980.2       \n",
      "    swvl2  shape=(542080,) min=0              max=0.746636      \n",
      "    tcc    shape=(542080,) min=0              max=1             \n",
      "\n"
     ]
    },
    {
     "name": "stderr",
     "output_type": "stream",
     "text": [
      "2025-08-11 18:27:44,047 - INFO - Processing step 96\n",
      "2025-08-11 18:27:44,069 - INFO - Time taken for step 96: 1.64 seconds.\n",
      "2025-08-11 18:27:44,115 - INFO - Forecasting step 4 days, 6:00:00 (2023-07-04 06:00:00)\n"
     ]
    },
    {
     "name": "stdout",
     "output_type": "stream",
     "text": [
      "\n",
      "😀 date=2023-07-04T00:00:00 latitudes=(542080,) longitudes=(542080,) fields=102\n",
      "\n",
      "    q_50   shape=(542080,) min=1.10485e-06    max=3.20663e-06   \n",
      "    t_1000 shape=(542080,) min=224.814        max=319.146       \n",
      "    v_925  shape=(542080,) min=-31.8626       max=30.0787       \n",
      "    z_850  shape=(542080,) min=9149.49        max=16021.6       \n",
      "    swvl2  shape=(542080,) min=0              max=0.746395      \n",
      "    tcc    shape=(542080,) min=0              max=1             \n",
      "\n"
     ]
    },
    {
     "name": "stderr",
     "output_type": "stream",
     "text": [
      "2025-08-11 18:27:45,678 - INFO - Processing step 102\n",
      "2025-08-11 18:27:45,698 - INFO - Time taken for step 102: 1.63 seconds.\n",
      "2025-08-11 18:27:45,735 - INFO - Forecasting step 4 days, 12:00:00 (2023-07-04 12:00:00)\n"
     ]
    },
    {
     "name": "stdout",
     "output_type": "stream",
     "text": [
      "\n",
      "😀 date=2023-07-04T06:00:00 latitudes=(542080,) longitudes=(542080,) fields=102\n",
      "\n",
      "    q_50   shape=(542080,) min=1.13994e-06    max=3.20799e-06   \n",
      "    t_1000 shape=(542080,) min=224.228        max=318.329       \n",
      "    v_925  shape=(542080,) min=-35.5877       max=30.2226       \n",
      "    z_850  shape=(542080,) min=9168.31        max=16070.4       \n",
      "    swvl2  shape=(542080,) min=0              max=0.744639      \n",
      "    tcc    shape=(542080,) min=0              max=1             \n",
      "\n"
     ]
    },
    {
     "name": "stderr",
     "output_type": "stream",
     "text": [
      "2025-08-11 18:27:47,246 - INFO - Processing step 108\n",
      "2025-08-11 18:27:47,267 - INFO - Time taken for step 108: 1.57 seconds.\n",
      "2025-08-11 18:27:47,306 - INFO - Forecasting step 4 days, 18:00:00 (2023-07-04 18:00:00)\n"
     ]
    },
    {
     "name": "stdout",
     "output_type": "stream",
     "text": [
      "\n",
      "😀 date=2023-07-04T12:00:00 latitudes=(542080,) longitudes=(542080,) fields=102\n",
      "\n",
      "    q_50   shape=(542080,) min=1.15019e-06    max=3.21257e-06   \n",
      "    t_1000 shape=(542080,) min=224.444        max=323.25        \n",
      "    v_925  shape=(542080,) min=-32.5427       max=30.5366       \n",
      "    z_850  shape=(542080,) min=9233.14        max=16043.4       \n",
      "    swvl2  shape=(542080,) min=0              max=0.743737      \n",
      "    tcc    shape=(542080,) min=0              max=1             \n",
      "\n"
     ]
    },
    {
     "name": "stderr",
     "output_type": "stream",
     "text": [
      "2025-08-11 18:27:48,851 - INFO - Processing step 114\n",
      "2025-08-11 18:27:48,872 - INFO - Time taken for step 114: 1.61 seconds.\n",
      "2025-08-11 18:27:48,911 - INFO - Forecasting step 5 days, 0:00:00 (2023-07-05 00:00:00)\n"
     ]
    },
    {
     "name": "stdout",
     "output_type": "stream",
     "text": [
      "\n",
      "😀 date=2023-07-04T18:00:00 latitudes=(542080,) longitudes=(542080,) fields=102\n",
      "\n",
      "    q_50   shape=(542080,) min=1.20265e-06    max=3.20766e-06   \n",
      "    t_1000 shape=(542080,) min=225.108        max=321.134       \n",
      "    v_925  shape=(542080,) min=-32.2119       max=30.95         \n",
      "    z_850  shape=(542080,) min=9263.24        max=16088.9       \n",
      "    swvl2  shape=(542080,) min=0              max=0.742952      \n",
      "    tcc    shape=(542080,) min=0              max=1             \n",
      "\n"
     ]
    },
    {
     "name": "stderr",
     "output_type": "stream",
     "text": [
      "2025-08-11 18:27:50,460 - INFO - Processing step 120\n",
      "2025-08-11 18:27:50,482 - INFO - Time taken for step 120: 1.61 seconds.\n",
      "2025-08-11 18:27:50,523 - INFO - Forecasting step 5 days, 6:00:00 (2023-07-05 06:00:00)\n"
     ]
    },
    {
     "name": "stdout",
     "output_type": "stream",
     "text": [
      "\n",
      "😀 date=2023-07-05T00:00:00 latitudes=(542080,) longitudes=(542080,) fields=102\n",
      "\n",
      "    q_50   shape=(542080,) min=1.24749e-06    max=3.20608e-06   \n",
      "    t_1000 shape=(542080,) min=225.437        max=320.017       \n",
      "    v_925  shape=(542080,) min=-31.5365       max=28.2689       \n",
      "    z_850  shape=(542080,) min=9259.83        max=16096.8       \n",
      "    swvl2  shape=(542080,) min=0              max=0.742218      \n",
      "    tcc    shape=(542080,) min=0              max=1             \n",
      "\n"
     ]
    },
    {
     "name": "stderr",
     "output_type": "stream",
     "text": [
      "2025-08-11 18:27:52,120 - INFO - Processing step 126\n",
      "2025-08-11 18:27:52,142 - INFO - Time taken for step 126: 1.66 seconds.\n",
      "2025-08-11 18:27:52,180 - INFO - Forecasting step 5 days, 12:00:00 (2023-07-05 12:00:00)\n"
     ]
    },
    {
     "name": "stdout",
     "output_type": "stream",
     "text": [
      "\n",
      "😀 date=2023-07-05T06:00:00 latitudes=(542080,) longitudes=(542080,) fields=102\n",
      "\n",
      "    q_50   shape=(542080,) min=1.28485e-06    max=3.2001e-06    \n",
      "    t_1000 shape=(542080,) min=227.144        max=318.509       \n",
      "    v_925  shape=(542080,) min=-28.6662       max=27.3041       \n",
      "    z_850  shape=(542080,) min=9343.71        max=16102.1       \n",
      "    swvl2  shape=(542080,) min=0              max=0.741249      \n",
      "    tcc    shape=(542080,) min=0              max=1             \n",
      "\n"
     ]
    },
    {
     "name": "stderr",
     "output_type": "stream",
     "text": [
      "2025-08-11 18:27:53,720 - INFO - Processing step 132\n",
      "2025-08-11 18:27:53,740 - INFO - Time taken for step 132: 1.60 seconds.\n",
      "2025-08-11 18:27:53,778 - INFO - Forecasting step 5 days, 18:00:00 (2023-07-05 18:00:00)\n"
     ]
    },
    {
     "name": "stdout",
     "output_type": "stream",
     "text": [
      "\n",
      "😀 date=2023-07-05T12:00:00 latitudes=(542080,) longitudes=(542080,) fields=102\n",
      "\n",
      "    q_50   shape=(542080,) min=1.28292e-06    max=3.19624e-06   \n",
      "    t_1000 shape=(542080,) min=226.784        max=322.921       \n",
      "    v_925  shape=(542080,) min=-30.7975       max=28.7255       \n",
      "    z_850  shape=(542080,) min=9216.64        max=16048.5       \n",
      "    swvl2  shape=(542080,) min=0              max=0.74036       \n",
      "    tcc    shape=(542080,) min=0              max=1             \n",
      "\n"
     ]
    },
    {
     "name": "stderr",
     "output_type": "stream",
     "text": [
      "2025-08-11 18:27:55,284 - INFO - Processing step 138\n",
      "2025-08-11 18:27:55,305 - INFO - Time taken for step 138: 1.57 seconds.\n",
      "2025-08-11 18:27:55,347 - INFO - Forecasting step 6 days, 0:00:00 (2023-07-06 00:00:00)\n"
     ]
    },
    {
     "name": "stdout",
     "output_type": "stream",
     "text": [
      "\n",
      "😀 date=2023-07-05T18:00:00 latitudes=(542080,) longitudes=(542080,) fields=102\n",
      "\n",
      "    q_50   shape=(542080,) min=8.46606e-07    max=3.19238e-06   \n",
      "    t_1000 shape=(542080,) min=225.414        max=321.559       \n",
      "    v_925  shape=(542080,) min=-31.5339       max=28.1915       \n",
      "    z_850  shape=(542080,) min=9250.23        max=16108.5       \n",
      "    swvl2  shape=(542080,) min=0              max=0.739504      \n",
      "    tcc    shape=(542080,) min=0              max=1             \n",
      "\n"
     ]
    },
    {
     "name": "stderr",
     "output_type": "stream",
     "text": [
      "2025-08-11 18:27:56,893 - INFO - Processing step 144\n",
      "2025-08-11 18:27:56,913 - INFO - Time taken for step 144: 1.61 seconds.\n",
      "2025-08-11 18:27:56,950 - INFO - Forecasting step 6 days, 6:00:00 (2023-07-06 06:00:00)\n"
     ]
    },
    {
     "name": "stdout",
     "output_type": "stream",
     "text": [
      "\n",
      "😀 date=2023-07-06T00:00:00 latitudes=(542080,) longitudes=(542080,) fields=102\n",
      "\n",
      "    q_50   shape=(542080,) min=4.34053e-07    max=3.18748e-06   \n",
      "    t_1000 shape=(542080,) min=223.27         max=319.075       \n",
      "    v_925  shape=(542080,) min=-29.6721       max=32.446        \n",
      "    z_850  shape=(542080,) min=9500.96        max=16143.9       \n",
      "    swvl2  shape=(542080,) min=0              max=0.738925      \n",
      "    tcc    shape=(542080,) min=0              max=1             \n",
      "\n"
     ]
    },
    {
     "name": "stderr",
     "output_type": "stream",
     "text": [
      "2025-08-11 18:27:58,492 - INFO - Processing step 150\n",
      "2025-08-11 18:27:58,512 - INFO - Time taken for step 150: 1.60 seconds.\n",
      "2025-08-11 18:27:58,549 - INFO - Forecasting step 6 days, 12:00:00 (2023-07-06 12:00:00)\n"
     ]
    },
    {
     "name": "stdout",
     "output_type": "stream",
     "text": [
      "\n",
      "😀 date=2023-07-06T06:00:00 latitudes=(542080,) longitudes=(542080,) fields=102\n",
      "\n",
      "    q_50   shape=(542080,) min=6.7192e-07     max=3.18245e-06   \n",
      "    t_1000 shape=(542080,) min=221.755        max=317.961       \n",
      "    v_925  shape=(542080,) min=-29.5492       max=34.416        \n",
      "    z_850  shape=(542080,) min=9478.9         max=16142         \n",
      "    swvl2  shape=(542080,) min=0              max=0.738161      \n",
      "    tcc    shape=(542080,) min=0              max=1             \n",
      "\n"
     ]
    },
    {
     "name": "stderr",
     "output_type": "stream",
     "text": [
      "2025-08-11 18:28:00,086 - INFO - Processing step 156\n",
      "2025-08-11 18:28:00,109 - INFO - Time taken for step 156: 1.60 seconds.\n",
      "2025-08-11 18:28:00,147 - INFO - Forecasting step 6 days, 18:00:00 (2023-07-06 18:00:00)\n"
     ]
    },
    {
     "name": "stdout",
     "output_type": "stream",
     "text": [
      "\n",
      "😀 date=2023-07-06T12:00:00 latitudes=(542080,) longitudes=(542080,) fields=102\n",
      "\n",
      "    q_50   shape=(542080,) min=3.35596e-07    max=3.17715e-06   \n",
      "    t_1000 shape=(542080,) min=223.671        max=322.483       \n",
      "    v_925  shape=(542080,) min=-34.2355       max=34.1342       \n",
      "    z_850  shape=(542080,) min=9201.79        max=16095.6       \n",
      "    swvl2  shape=(542080,) min=0              max=0.737904      \n",
      "    tcc    shape=(542080,) min=0              max=1             \n",
      "\n"
     ]
    },
    {
     "name": "stderr",
     "output_type": "stream",
     "text": [
      "2025-08-11 18:28:01,662 - INFO - Processing step 162\n",
      "2025-08-11 18:28:01,682 - INFO - Time taken for step 162: 1.57 seconds.\n",
      "2025-08-11 18:28:01,721 - INFO - Forecasting step 7 days, 0:00:00 (2023-07-07 00:00:00)\n"
     ]
    },
    {
     "name": "stdout",
     "output_type": "stream",
     "text": [
      "\n",
      "😀 date=2023-07-06T18:00:00 latitudes=(542080,) longitudes=(542080,) fields=102\n",
      "\n",
      "    q_50   shape=(542080,) min=1.67814e-07    max=3.17238e-06   \n",
      "    t_1000 shape=(542080,) min=227.03         max=321.151       \n",
      "    v_925  shape=(542080,) min=-33.2348       max=29.3231       \n",
      "    z_850  shape=(542080,) min=9079.9         max=16118.2       \n",
      "    swvl2  shape=(542080,) min=0              max=0.736837      \n",
      "    tcc    shape=(542080,) min=0              max=1             \n",
      "\n"
     ]
    },
    {
     "name": "stderr",
     "output_type": "stream",
     "text": [
      "2025-08-11 18:28:03,315 - INFO - Processing step 168\n",
      "2025-08-11 18:28:03,336 - INFO - Time taken for step 168: 1.65 seconds.\n",
      "2025-08-11 18:28:03,455 - INFO - Forecasting step 7 days, 6:00:00 (2023-07-07 06:00:00)\n"
     ]
    },
    {
     "name": "stdout",
     "output_type": "stream",
     "text": [
      "\n",
      "😀 date=2023-07-07T00:00:00 latitudes=(542080,) longitudes=(542080,) fields=102\n",
      "\n",
      "    q_50   shape=(542080,) min=5.20853e-07    max=3.17207e-06   \n",
      "    t_1000 shape=(542080,) min=228.94         max=318.8         \n",
      "    v_925  shape=(542080,) min=-32.2732       max=26.0434       \n",
      "    z_850  shape=(542080,) min=9095.75        max=16127.9       \n",
      "    swvl2  shape=(542080,) min=0              max=0.736419      \n",
      "    tcc    shape=(542080,) min=0              max=1             \n",
      "\n"
     ]
    },
    {
     "name": "stderr",
     "output_type": "stream",
     "text": [
      "2025-08-11 18:28:05,036 - INFO - Processing step 174\n",
      "2025-08-11 18:28:05,060 - INFO - Time taken for step 174: 1.64 seconds.\n",
      "2025-08-11 18:28:05,103 - INFO - Forecasting step 7 days, 12:00:00 (2023-07-07 12:00:00)\n"
     ]
    },
    {
     "name": "stdout",
     "output_type": "stream",
     "text": [
      "\n",
      "😀 date=2023-07-07T06:00:00 latitudes=(542080,) longitudes=(542080,) fields=102\n",
      "\n",
      "    q_50   shape=(542080,) min=8.73407e-07    max=3.16889e-06   \n",
      "    t_1000 shape=(542080,) min=231.002        max=317.173       \n",
      "    v_925  shape=(542080,) min=-27.4893       max=24.8249       \n",
      "    z_850  shape=(542080,) min=9105.22        max=16101.6       \n",
      "    swvl2  shape=(542080,) min=0              max=0.735784      \n",
      "    tcc    shape=(542080,) min=0              max=1             \n",
      "\n"
     ]
    },
    {
     "name": "stderr",
     "output_type": "stream",
     "text": [
      "2025-08-11 18:28:06,678 - INFO - Processing step 180\n",
      "2025-08-11 18:28:06,698 - INFO - Time taken for step 180: 1.64 seconds.\n",
      "2025-08-11 18:28:06,739 - INFO - Forecasting step 7 days, 18:00:00 (2023-07-07 18:00:00)\n"
     ]
    },
    {
     "name": "stdout",
     "output_type": "stream",
     "text": [
      "\n",
      "😀 date=2023-07-07T12:00:00 latitudes=(542080,) longitudes=(542080,) fields=102\n",
      "\n",
      "    q_50   shape=(542080,) min=9.61442e-07    max=3.16863e-06   \n",
      "    t_1000 shape=(542080,) min=229.895        max=321.781       \n",
      "    v_925  shape=(542080,) min=-25.8469       max=26.1705       \n",
      "    z_850  shape=(542080,) min=9159.7         max=16045.2       \n",
      "    swvl2  shape=(542080,) min=0              max=0.735096      \n",
      "    tcc    shape=(542080,) min=0              max=1             \n",
      "\n"
     ]
    },
    {
     "name": "stderr",
     "output_type": "stream",
     "text": [
      "2025-08-11 18:28:08,273 - INFO - Processing step 186\n",
      "2025-08-11 18:28:08,294 - INFO - Time taken for step 186: 1.60 seconds.\n",
      "2025-08-11 18:28:08,339 - INFO - Forecasting step 8 days, 0:00:00 (2023-07-08 00:00:00)\n"
     ]
    },
    {
     "name": "stdout",
     "output_type": "stream",
     "text": [
      "\n",
      "😀 date=2023-07-07T18:00:00 latitudes=(542080,) longitudes=(542080,) fields=102\n",
      "\n",
      "    q_50   shape=(542080,) min=1.16665e-06    max=3.16754e-06   \n",
      "    t_1000 shape=(542080,) min=229.153        max=320.652       \n",
      "    v_925  shape=(542080,) min=-24.9406       max=26.8189       \n",
      "    z_850  shape=(542080,) min=9162.54        max=16041.6       \n",
      "    swvl2  shape=(542080,) min=0              max=0.734441      \n",
      "    tcc    shape=(542080,) min=0              max=1             \n",
      "\n"
     ]
    },
    {
     "name": "stderr",
     "output_type": "stream",
     "text": [
      "2025-08-11 18:28:09,909 - INFO - Processing step 192\n",
      "2025-08-11 18:28:09,929 - INFO - Time taken for step 192: 1.64 seconds.\n",
      "2025-08-11 18:28:09,967 - INFO - Forecasting step 8 days, 6:00:00 (2023-07-08 06:00:00)\n"
     ]
    },
    {
     "name": "stdout",
     "output_type": "stream",
     "text": [
      "\n",
      "😀 date=2023-07-08T00:00:00 latitudes=(542080,) longitudes=(542080,) fields=102\n",
      "\n",
      "    q_50   shape=(542080,) min=1.24514e-06    max=3.16707e-06   \n",
      "    t_1000 shape=(542080,) min=229.851        max=318.024       \n",
      "    v_925  shape=(542080,) min=-28.8112       max=26.9984       \n",
      "    z_850  shape=(542080,) min=9298.9         max=16061.3       \n",
      "    swvl2  shape=(542080,) min=0              max=0.73404       \n",
      "    tcc    shape=(542080,) min=0              max=1             \n",
      "\n"
     ]
    },
    {
     "name": "stderr",
     "output_type": "stream",
     "text": [
      "2025-08-11 18:28:11,553 - INFO - Processing step 198\n",
      "2025-08-11 18:28:11,577 - INFO - Time taken for step 198: 1.65 seconds.\n",
      "2025-08-11 18:28:11,616 - INFO - Forecasting step 8 days, 12:00:00 (2023-07-08 12:00:00)\n"
     ]
    },
    {
     "name": "stdout",
     "output_type": "stream",
     "text": [
      "\n",
      "😀 date=2023-07-08T06:00:00 latitudes=(542080,) longitudes=(542080,) fields=102\n",
      "\n",
      "    q_50   shape=(542080,) min=1.25912e-06    max=3.16554e-06   \n",
      "    t_1000 shape=(542080,) min=229.877        max=316.484       \n",
      "    v_925  shape=(542080,) min=-29.708        max=30.1472       \n",
      "    z_850  shape=(542080,) min=9379.53        max=16026.1       \n",
      "    swvl2  shape=(542080,) min=0              max=0.738347      \n",
      "    tcc    shape=(542080,) min=0              max=1             \n",
      "\n"
     ]
    },
    {
     "name": "stderr",
     "output_type": "stream",
     "text": [
      "2025-08-11 18:28:13,198 - INFO - Processing step 204\n",
      "2025-08-11 18:28:13,221 - INFO - Time taken for step 204: 1.64 seconds.\n",
      "2025-08-11 18:28:13,263 - INFO - Forecasting step 8 days, 18:00:00 (2023-07-08 18:00:00)\n"
     ]
    },
    {
     "name": "stdout",
     "output_type": "stream",
     "text": [
      "\n",
      "😀 date=2023-07-08T12:00:00 latitudes=(542080,) longitudes=(542080,) fields=102\n",
      "\n",
      "    q_50   shape=(542080,) min=1.26375e-06    max=3.1679e-06    \n",
      "    t_1000 shape=(542080,) min=229.953        max=322.474       \n",
      "    v_925  shape=(542080,) min=-29.8765       max=26.1028       \n",
      "    z_850  shape=(542080,) min=9441.32        max=16047.9       \n",
      "    swvl2  shape=(542080,) min=0              max=0.741429      \n",
      "    tcc    shape=(542080,) min=0              max=1             \n",
      "\n"
     ]
    },
    {
     "name": "stderr",
     "output_type": "stream",
     "text": [
      "2025-08-11 18:28:14,837 - INFO - Processing step 210\n",
      "2025-08-11 18:28:14,859 - INFO - Time taken for step 210: 1.64 seconds.\n",
      "2025-08-11 18:28:14,899 - INFO - Forecasting step 9 days, 0:00:00 (2023-07-09 00:00:00)\n"
     ]
    },
    {
     "name": "stdout",
     "output_type": "stream",
     "text": [
      "\n",
      "😀 date=2023-07-08T18:00:00 latitudes=(542080,) longitudes=(542080,) fields=102\n",
      "\n",
      "    q_50   shape=(542080,) min=1.27929e-06    max=3.17074e-06   \n",
      "    t_1000 shape=(542080,) min=230.288        max=320.587       \n",
      "    v_925  shape=(542080,) min=-28.6968       max=23.631        \n",
      "    z_850  shape=(542080,) min=9437.49        max=16084.2       \n",
      "    swvl2  shape=(542080,) min=0              max=0.744948      \n",
      "    tcc    shape=(542080,) min=0              max=1             \n",
      "\n"
     ]
    },
    {
     "name": "stderr",
     "output_type": "stream",
     "text": [
      "2025-08-11 18:28:16,432 - INFO - Processing step 216\n",
      "2025-08-11 18:28:16,454 - INFO - Time taken for step 216: 1.60 seconds.\n",
      "2025-08-11 18:28:16,494 - INFO - Forecasting step 9 days, 6:00:00 (2023-07-09 06:00:00)\n"
     ]
    },
    {
     "name": "stdout",
     "output_type": "stream",
     "text": [
      "\n",
      "😀 date=2023-07-09T00:00:00 latitudes=(542080,) longitudes=(542080,) fields=102\n",
      "\n",
      "    q_50   shape=(542080,) min=1.28475e-06    max=3.17459e-06   \n",
      "    t_1000 shape=(542080,) min=230.424        max=317.487       \n",
      "    v_925  shape=(542080,) min=-30.9573       max=24.3912       \n",
      "    z_850  shape=(542080,) min=9445.63        max=16161.5       \n",
      "    swvl2  shape=(542080,) min=0              max=0.745921      \n",
      "    tcc    shape=(542080,) min=0              max=1             \n",
      "\n"
     ]
    },
    {
     "name": "stderr",
     "output_type": "stream",
     "text": [
      "2025-08-11 18:28:18,069 - INFO - Processing step 222\n",
      "2025-08-11 18:28:18,091 - INFO - Time taken for step 222: 1.64 seconds.\n",
      "2025-08-11 18:28:18,130 - INFO - Forecasting step 9 days, 12:00:00 (2023-07-09 12:00:00)\n"
     ]
    },
    {
     "name": "stdout",
     "output_type": "stream",
     "text": [
      "\n",
      "😀 date=2023-07-09T06:00:00 latitudes=(542080,) longitudes=(542080,) fields=102\n",
      "\n",
      "    q_50   shape=(542080,) min=1.28506e-06    max=3.17508e-06   \n",
      "    t_1000 shape=(542080,) min=231.243        max=316.893       \n",
      "    v_925  shape=(542080,) min=-30.4764       max=25.1233       \n",
      "    z_850  shape=(542080,) min=9509.71        max=16113         \n",
      "    swvl2  shape=(542080,) min=0              max=0.747475      \n",
      "    tcc    shape=(542080,) min=0              max=1             \n",
      "\n"
     ]
    },
    {
     "name": "stderr",
     "output_type": "stream",
     "text": [
      "2025-08-11 18:28:19,681 - INFO - Processing step 228\n",
      "2025-08-11 18:28:19,702 - INFO - Time taken for step 228: 1.61 seconds.\n",
      "2025-08-11 18:28:19,741 - INFO - Forecasting step 9 days, 18:00:00 (2023-07-09 18:00:00)\n"
     ]
    },
    {
     "name": "stdout",
     "output_type": "stream",
     "text": [
      "\n",
      "😀 date=2023-07-09T12:00:00 latitudes=(542080,) longitudes=(542080,) fields=102\n",
      "\n",
      "    q_50   shape=(542080,) min=1.29378e-06    max=3.17426e-06   \n",
      "    t_1000 shape=(542080,) min=232.784        max=322.376       \n",
      "    v_925  shape=(542080,) min=-29.9813       max=25.8301       \n",
      "    z_850  shape=(542080,) min=9569.5         max=16153.1       \n",
      "    swvl2  shape=(542080,) min=0              max=0.748477      \n",
      "    tcc    shape=(542080,) min=0              max=1             \n",
      "\n"
     ]
    },
    {
     "name": "stderr",
     "output_type": "stream",
     "text": [
      "2025-08-11 18:28:21,300 - INFO - Processing step 234\n",
      "2025-08-11 18:28:21,322 - INFO - Time taken for step 234: 1.62 seconds.\n",
      "2025-08-11 18:28:21,363 - INFO - Forecasting step 10 days, 0:00:00 (2023-07-10 00:00:00)\n"
     ]
    },
    {
     "name": "stdout",
     "output_type": "stream",
     "text": [
      "\n",
      "😀 date=2023-07-09T18:00:00 latitudes=(542080,) longitudes=(542080,) fields=102\n",
      "\n",
      "    q_50   shape=(542080,) min=1.31314e-06    max=3.17208e-06   \n",
      "    t_1000 shape=(542080,) min=233.026        max=320.771       \n",
      "    v_925  shape=(542080,) min=-27.4662       max=24.5812       \n",
      "    z_850  shape=(542080,) min=9642.43        max=16102.9       \n",
      "    swvl2  shape=(542080,) min=0              max=0.747494      \n",
      "    tcc    shape=(542080,) min=0              max=1             \n",
      "\n"
     ]
    },
    {
     "name": "stderr",
     "output_type": "stream",
     "text": [
      "2025-08-11 18:28:22,893 - INFO - Processing step 240\n",
      "2025-08-11 18:28:22,915 - INFO - Time taken for step 240: 1.59 seconds.\n",
      "2025-08-11 18:28:22,957 - INFO - Forecasting step 10 days, 6:00:00 (2023-07-10 06:00:00)\n"
     ]
    },
    {
     "name": "stdout",
     "output_type": "stream",
     "text": [
      "\n",
      "😀 date=2023-07-10T00:00:00 latitudes=(542080,) longitudes=(542080,) fields=102\n",
      "\n",
      "    q_50   shape=(542080,) min=1.29222e-06    max=3.17217e-06   \n",
      "    t_1000 shape=(542080,) min=232.845        max=317.583       \n",
      "    v_925  shape=(542080,) min=-27.4217       max=23.1874       \n",
      "    z_850  shape=(542080,) min=9621.63        max=16049.5       \n",
      "    swvl2  shape=(542080,) min=0              max=0.747611      \n",
      "    tcc    shape=(542080,) min=0              max=1             \n",
      "\n"
     ]
    },
    {
     "name": "stderr",
     "output_type": "stream",
     "text": [
      "2025-08-11 18:28:24,525 - INFO - Processing step 246\n",
      "2025-08-11 18:28:24,547 - INFO - Time taken for step 246: 1.63 seconds.\n",
      "2025-08-11 18:28:24,588 - INFO - Forecasting step 10 days, 12:00:00 (2023-07-10 12:00:00)\n"
     ]
    },
    {
     "name": "stdout",
     "output_type": "stream",
     "text": [
      "\n",
      "😀 date=2023-07-10T06:00:00 latitudes=(542080,) longitudes=(542080,) fields=102\n",
      "\n",
      "    q_50   shape=(542080,) min=1.29034e-06    max=3.16979e-06   \n",
      "    t_1000 shape=(542080,) min=233.995        max=317.162       \n",
      "    v_925  shape=(542080,) min=-29.7779       max=24.9199       \n",
      "    z_850  shape=(542080,) min=9444.68        max=16043.1       \n",
      "    swvl2  shape=(542080,) min=0              max=0.751475      \n",
      "    tcc    shape=(542080,) min=0              max=1             \n",
      "\n"
     ]
    },
    {
     "name": "stderr",
     "output_type": "stream",
     "text": [
      "2025-08-11 18:28:26,165 - INFO - Processing step 252\n",
      "2025-08-11 18:28:26,188 - INFO - Time taken for step 252: 1.64 seconds.\n",
      "2025-08-11 18:28:26,229 - INFO - Forecasting step 10 days, 18:00:00 (2023-07-10 18:00:00)\n"
     ]
    },
    {
     "name": "stdout",
     "output_type": "stream",
     "text": [
      "\n",
      "😀 date=2023-07-10T12:00:00 latitudes=(542080,) longitudes=(542080,) fields=102\n",
      "\n",
      "    q_50   shape=(542080,) min=1.28641e-06    max=3.1673e-06    \n",
      "    t_1000 shape=(542080,) min=235.224        max=322.983       \n",
      "    v_925  shape=(542080,) min=-31.0067       max=25.6167       \n",
      "    z_850  shape=(542080,) min=9392.27        max=15927.9       \n",
      "    swvl2  shape=(542080,) min=0              max=0.758662      \n",
      "    tcc    shape=(542080,) min=0              max=1             \n",
      "\n"
     ]
    },
    {
     "name": "stderr",
     "output_type": "stream",
     "text": [
      "2025-08-11 18:28:27,799 - INFO - Processing step 258\n",
      "2025-08-11 18:28:27,819 - INFO - Time taken for step 258: 1.63 seconds.\n",
      "2025-08-11 18:28:27,858 - INFO - Forecasting step 11 days, 0:00:00 (2023-07-11 00:00:00)\n"
     ]
    },
    {
     "name": "stdout",
     "output_type": "stream",
     "text": [
      "\n",
      "😀 date=2023-07-10T18:00:00 latitudes=(542080,) longitudes=(542080,) fields=102\n",
      "\n",
      "    q_50   shape=(542080,) min=1.30446e-06    max=3.16323e-06   \n",
      "    t_1000 shape=(542080,) min=235.874        max=321.597       \n",
      "    v_925  shape=(542080,) min=-32.6676       max=25.0188       \n",
      "    z_850  shape=(542080,) min=9297.31        max=16071.8       \n",
      "    swvl2  shape=(542080,) min=0              max=0.762101      \n",
      "    tcc    shape=(542080,) min=0              max=1             \n",
      "\n"
     ]
    },
    {
     "name": "stderr",
     "output_type": "stream",
     "text": [
      "2025-08-11 18:28:29,408 - INFO - Processing step 264\n",
      "2025-08-11 18:28:29,428 - INFO - Time taken for step 264: 1.61 seconds.\n",
      "2025-08-11 18:28:29,465 - INFO - Forecasting step 11 days, 6:00:00 (2023-07-11 06:00:00)\n"
     ]
    },
    {
     "name": "stdout",
     "output_type": "stream",
     "text": [
      "\n",
      "😀 date=2023-07-11T00:00:00 latitudes=(542080,) longitudes=(542080,) fields=102\n",
      "\n",
      "    q_50   shape=(542080,) min=1.29746e-06    max=3.1595e-06    \n",
      "    t_1000 shape=(542080,) min=234.796        max=317.983       \n",
      "    v_925  shape=(542080,) min=-33.2375       max=25.457        \n",
      "    z_850  shape=(542080,) min=9140.53        max=16059.1       \n",
      "    swvl2  shape=(542080,) min=0              max=0.762934      \n",
      "    tcc    shape=(542080,) min=0              max=1             \n",
      "\n"
     ]
    },
    {
     "name": "stderr",
     "output_type": "stream",
     "text": [
      "2025-08-11 18:28:30,980 - INFO - Processing step 270\n",
      "2025-08-11 18:28:31,011 - INFO - Time taken for step 270: 1.58 seconds.\n",
      "2025-08-11 18:28:31,058 - INFO - Forecasting step 11 days, 12:00:00 (2023-07-11 12:00:00)\n"
     ]
    },
    {
     "name": "stdout",
     "output_type": "stream",
     "text": [
      "\n",
      "😀 date=2023-07-11T06:00:00 latitudes=(542080,) longitudes=(542080,) fields=102\n",
      "\n",
      "    q_50   shape=(542080,) min=1.29384e-06    max=3.15727e-06   \n",
      "    t_1000 shape=(542080,) min=235.353        max=318.422       \n",
      "    v_925  shape=(542080,) min=-31.8959       max=26.2414       \n",
      "    z_850  shape=(542080,) min=8987.18        max=16144.3       \n",
      "    swvl2  shape=(542080,) min=0              max=0.763528      \n",
      "    tcc    shape=(542080,) min=0              max=1             \n",
      "\n"
     ]
    },
    {
     "name": "stderr",
     "output_type": "stream",
     "text": [
      "2025-08-11 18:28:32,626 - INFO - Processing step 276\n",
      "2025-08-11 18:28:32,653 - INFO - Time taken for step 276: 1.64 seconds.\n",
      "2025-08-11 18:28:32,694 - INFO - Forecasting step 11 days, 18:00:00 (2023-07-11 18:00:00)\n"
     ]
    },
    {
     "name": "stdout",
     "output_type": "stream",
     "text": [
      "\n",
      "😀 date=2023-07-11T12:00:00 latitudes=(542080,) longitudes=(542080,) fields=102\n",
      "\n",
      "    q_50   shape=(542080,) min=1.31897e-06    max=3.1539e-06    \n",
      "    t_1000 shape=(542080,) min=236.672        max=323.938       \n",
      "    v_925  shape=(542080,) min=-30.8298       max=28.6532       \n",
      "    z_850  shape=(542080,) min=8857.11        max=15989.4       \n",
      "    swvl2  shape=(542080,) min=0              max=0.76416       \n",
      "    tcc    shape=(542080,) min=0              max=1             \n",
      "\n"
     ]
    },
    {
     "name": "stderr",
     "output_type": "stream",
     "text": [
      "2025-08-11 18:28:34,350 - INFO - Processing step 282\n",
      "2025-08-11 18:28:34,372 - INFO - Time taken for step 282: 1.64 seconds.\n",
      "2025-08-11 18:28:34,412 - INFO - Forecasting step 12 days, 0:00:00 (2023-07-12 00:00:00)\n"
     ]
    },
    {
     "name": "stdout",
     "output_type": "stream",
     "text": [
      "\n",
      "😀 date=2023-07-11T18:00:00 latitudes=(542080,) longitudes=(542080,) fields=102\n",
      "\n",
      "    q_50   shape=(542080,) min=1.31846e-06    max=3.15149e-06   \n",
      "    t_1000 shape=(542080,) min=237.312        max=321.906       \n",
      "    v_925  shape=(542080,) min=-32.0812       max=26.1287       \n",
      "    z_850  shape=(542080,) min=8859.94        max=16100.9       \n",
      "    swvl2  shape=(542080,) min=0              max=0.764701      \n",
      "    tcc    shape=(542080,) min=0              max=1             \n",
      "\n"
     ]
    },
    {
     "name": "stderr",
     "output_type": "stream",
     "text": [
      "2025-08-11 18:28:36,013 - INFO - Processing step 288\n",
      "2025-08-11 18:28:36,035 - INFO - Time taken for step 288: 1.66 seconds.\n",
      "2025-08-11 18:28:36,077 - INFO - Forecasting step 12 days, 6:00:00 (2023-07-12 06:00:00)\n"
     ]
    },
    {
     "name": "stdout",
     "output_type": "stream",
     "text": [
      "\n",
      "😀 date=2023-07-12T00:00:00 latitudes=(542080,) longitudes=(542080,) fields=102\n",
      "\n",
      "    q_50   shape=(542080,) min=1.31138e-06    max=3.15246e-06   \n",
      "    t_1000 shape=(542080,) min=236.693        max=318.651       \n",
      "    v_925  shape=(542080,) min=-32.6996       max=27.6529       \n",
      "    z_850  shape=(542080,) min=8841.42        max=16101.2       \n",
      "    swvl2  shape=(542080,) min=0              max=0.766212      \n",
      "    tcc    shape=(542080,) min=0              max=1             \n",
      "\n"
     ]
    },
    {
     "name": "stderr",
     "output_type": "stream",
     "text": [
      "2025-08-11 18:28:37,637 - INFO - Processing step 294\n",
      "2025-08-11 18:28:37,661 - INFO - Time taken for step 294: 1.63 seconds.\n",
      "2025-08-11 18:28:37,710 - INFO - Forecasting step 12 days, 12:00:00 (2023-07-12 12:00:00)\n"
     ]
    },
    {
     "name": "stdout",
     "output_type": "stream",
     "text": [
      "\n",
      "😀 date=2023-07-12T06:00:00 latitudes=(542080,) longitudes=(542080,) fields=102\n",
      "\n",
      "    q_50   shape=(542080,) min=1.30851e-06    max=3.152e-06     \n",
      "    t_1000 shape=(542080,) min=235.788        max=319.107       \n",
      "    v_925  shape=(542080,) min=-30.4655       max=24.6705       \n",
      "    z_850  shape=(542080,) min=8878.69        max=16118.8       \n",
      "    swvl2  shape=(542080,) min=0              max=0.768113      \n",
      "    tcc    shape=(542080,) min=0              max=1             \n",
      "\n"
     ]
    },
    {
     "name": "stderr",
     "output_type": "stream",
     "text": [
      "2025-08-11 18:28:39,358 - INFO - Processing step 300\n",
      "2025-08-11 18:28:39,383 - INFO - Time taken for step 300: 1.72 seconds.\n",
      "2025-08-11 18:28:39,433 - INFO - Forecasting step 12 days, 18:00:00 (2023-07-12 18:00:00)\n"
     ]
    },
    {
     "name": "stdout",
     "output_type": "stream",
     "text": [
      "\n",
      "😀 date=2023-07-12T12:00:00 latitudes=(542080,) longitudes=(542080,) fields=102\n",
      "\n",
      "    q_50   shape=(542080,) min=1.31448e-06    max=3.15159e-06   \n",
      "    t_1000 shape=(542080,) min=235.139        max=324.255       \n",
      "    v_925  shape=(542080,) min=-28.768        max=22.698        \n",
      "    z_850  shape=(542080,) min=9004.93        max=16232.6       \n",
      "    swvl2  shape=(542080,) min=0              max=0.768078      \n",
      "    tcc    shape=(542080,) min=0              max=1             \n",
      "\n"
     ]
    },
    {
     "name": "stderr",
     "output_type": "stream",
     "text": [
      "2025-08-11 18:28:41,059 - INFO - Processing step 306\n",
      "2025-08-11 18:28:41,089 - INFO - Time taken for step 306: 1.71 seconds.\n",
      "2025-08-11 18:28:41,131 - INFO - Forecasting step 13 days, 0:00:00 (2023-07-13 00:00:00)\n"
     ]
    },
    {
     "name": "stdout",
     "output_type": "stream",
     "text": [
      "\n",
      "😀 date=2023-07-12T18:00:00 latitudes=(542080,) longitudes=(542080,) fields=102\n",
      "\n",
      "    q_50   shape=(542080,) min=1.32164e-06    max=3.14976e-06   \n",
      "    t_1000 shape=(542080,) min=235.456        max=322.223       \n",
      "    v_925  shape=(542080,) min=-25.9158       max=24.4385       \n",
      "    z_850  shape=(542080,) min=9236.34        max=16282.7       \n",
      "    swvl2  shape=(542080,) min=0              max=0.768458      \n",
      "    tcc    shape=(542080,) min=0              max=1             \n",
      "\n"
     ]
    },
    {
     "name": "stderr",
     "output_type": "stream",
     "text": [
      "2025-08-11 18:28:42,746 - INFO - Processing step 312\n",
      "2025-08-11 18:28:42,768 - INFO - Time taken for step 312: 1.68 seconds.\n",
      "2025-08-11 18:28:42,811 - INFO - Forecasting step 13 days, 6:00:00 (2023-07-13 06:00:00)\n"
     ]
    },
    {
     "name": "stdout",
     "output_type": "stream",
     "text": [
      "\n",
      "😀 date=2023-07-13T00:00:00 latitudes=(542080,) longitudes=(542080,) fields=102\n",
      "\n",
      "    q_50   shape=(542080,) min=1.33182e-06    max=3.15102e-06   \n",
      "    t_1000 shape=(542080,) min=234.899        max=318.845       \n",
      "    v_925  shape=(542080,) min=-25.8434       max=26.0765       \n",
      "    z_850  shape=(542080,) min=9337.5         max=16378         \n",
      "    swvl2  shape=(542080,) min=0              max=0.769528      \n",
      "    tcc    shape=(542080,) min=0              max=1             \n",
      "\n"
     ]
    },
    {
     "name": "stderr",
     "output_type": "stream",
     "text": [
      "2025-08-11 18:28:44,397 - INFO - Processing step 318\n",
      "2025-08-11 18:28:44,419 - INFO - Time taken for step 318: 1.65 seconds.\n",
      "2025-08-11 18:28:44,464 - INFO - Forecasting step 13 days, 12:00:00 (2023-07-13 12:00:00)\n"
     ]
    },
    {
     "name": "stdout",
     "output_type": "stream",
     "text": [
      "\n",
      "😀 date=2023-07-13T06:00:00 latitudes=(542080,) longitudes=(542080,) fields=102\n",
      "\n",
      "    q_50   shape=(542080,) min=1.34817e-06    max=3.14922e-06   \n",
      "    t_1000 shape=(542080,) min=234.074        max=319.717       \n",
      "    v_925  shape=(542080,) min=-25.4849       max=27.7352       \n",
      "    z_850  shape=(542080,) min=9454.1         max=16319.5       \n",
      "    swvl2  shape=(542080,) min=0              max=0.771883      \n",
      "    tcc    shape=(542080,) min=0              max=1             \n",
      "\n"
     ]
    },
    {
     "name": "stderr",
     "output_type": "stream",
     "text": [
      "2025-08-11 18:28:46,045 - INFO - Processing step 324\n",
      "2025-08-11 18:28:46,069 - INFO - Time taken for step 324: 1.65 seconds.\n",
      "2025-08-11 18:28:46,114 - INFO - Forecasting step 13 days, 18:00:00 (2023-07-13 18:00:00)\n"
     ]
    },
    {
     "name": "stdout",
     "output_type": "stream",
     "text": [
      "\n",
      "😀 date=2023-07-13T12:00:00 latitudes=(542080,) longitudes=(542080,) fields=102\n",
      "\n",
      "    q_50   shape=(542080,) min=1.35079e-06    max=3.14973e-06   \n",
      "    t_1000 shape=(542080,) min=233.283        max=324.335       \n",
      "    v_925  shape=(542080,) min=-28.3336       max=31.5167       \n",
      "    z_850  shape=(542080,) min=9645.2         max=16395.8       \n",
      "    swvl2  shape=(542080,) min=0              max=0.771662      \n",
      "    tcc    shape=(542080,) min=0              max=1             \n",
      "\n"
     ]
    },
    {
     "name": "stderr",
     "output_type": "stream",
     "text": [
      "2025-08-11 18:28:47,713 - INFO - Processing step 330\n",
      "2025-08-11 18:28:47,734 - INFO - Time taken for step 330: 1.67 seconds.\n",
      "2025-08-11 18:28:47,774 - INFO - Forecasting step 14 days, 0:00:00 (2023-07-14 00:00:00)\n"
     ]
    },
    {
     "name": "stdout",
     "output_type": "stream",
     "text": [
      "\n",
      "😀 date=2023-07-13T18:00:00 latitudes=(542080,) longitudes=(542080,) fields=102\n",
      "\n",
      "    q_50   shape=(542080,) min=1.35118e-06    max=3.14785e-06   \n",
      "    t_1000 shape=(542080,) min=232.563        max=322.536       \n",
      "    v_925  shape=(542080,) min=-29.6513       max=31.9835       \n",
      "    z_850  shape=(542080,) min=9347.99        max=16367         \n",
      "    swvl2  shape=(542080,) min=0              max=0.773141      \n",
      "    tcc    shape=(542080,) min=0              max=1             \n",
      "\n"
     ]
    },
    {
     "name": "stderr",
     "output_type": "stream",
     "text": [
      "2025-08-11 18:28:49,328 - INFO - Processing step 336\n",
      "2025-08-11 18:28:49,353 - INFO - Time taken for step 336: 1.62 seconds.\n",
      "2025-08-11 18:28:49,395 - INFO - Forecasting step 14 days, 6:00:00 (2023-07-14 06:00:00)\n"
     ]
    },
    {
     "name": "stdout",
     "output_type": "stream",
     "text": [
      "\n",
      "😀 date=2023-07-14T00:00:00 latitudes=(542080,) longitudes=(542080,) fields=102\n",
      "\n",
      "    q_50   shape=(542080,) min=1.35425e-06    max=3.14792e-06   \n",
      "    t_1000 shape=(542080,) min=231.388        max=319.313       \n",
      "    v_925  shape=(542080,) min=-27.9349       max=32.6349       \n",
      "    z_850  shape=(542080,) min=9194.91        max=16378.5       \n",
      "    swvl2  shape=(542080,) min=0              max=0.775157      \n",
      "    tcc    shape=(542080,) min=0              max=1             \n",
      "\n"
     ]
    },
    {
     "name": "stderr",
     "output_type": "stream",
     "text": [
      "2025-08-11 18:28:51,028 - INFO - Processing step 342\n",
      "2025-08-11 18:28:51,057 - INFO - Time taken for step 342: 1.70 seconds.\n",
      "2025-08-11 18:28:51,101 - INFO - Forecasting step 14 days, 12:00:00 (2023-07-14 12:00:00)\n"
     ]
    },
    {
     "name": "stdout",
     "output_type": "stream",
     "text": [
      "\n",
      "😀 date=2023-07-14T06:00:00 latitudes=(542080,) longitudes=(542080,) fields=102\n",
      "\n",
      "    q_50   shape=(542080,) min=1.36413e-06    max=3.14415e-06   \n",
      "    t_1000 shape=(542080,) min=230.943        max=319.873       \n",
      "    v_925  shape=(542080,) min=-30.1976       max=32.9835       \n",
      "    z_850  shape=(542080,) min=9039.47        max=16246.3       \n",
      "    swvl2  shape=(542080,) min=0              max=0.777029      \n",
      "    tcc    shape=(542080,) min=0              max=1             \n",
      "\n"
     ]
    },
    {
     "name": "stderr",
     "output_type": "stream",
     "text": [
      "2025-08-11 18:28:52,768 - INFO - Processing step 348\n",
      "2025-08-11 18:28:52,793 - INFO - Time taken for step 348: 1.74 seconds.\n",
      "2025-08-11 18:28:52,838 - INFO - Forecasting step 14 days, 18:00:00 (2023-07-14 18:00:00)\n"
     ]
    },
    {
     "name": "stdout",
     "output_type": "stream",
     "text": [
      "\n",
      "😀 date=2023-07-14T12:00:00 latitudes=(542080,) longitudes=(542080,) fields=102\n",
      "\n",
      "    q_50   shape=(542080,) min=1.36158e-06    max=3.14985e-06   \n",
      "    t_1000 shape=(542080,) min=229.513        max=323.933       \n",
      "    v_925  shape=(542080,) min=-32.2105       max=35.2483       \n",
      "    z_850  shape=(542080,) min=9079.36        max=16282.4       \n",
      "    swvl2  shape=(542080,) min=0              max=0.777611      \n",
      "    tcc    shape=(542080,) min=0              max=1             \n",
      "\n"
     ]
    },
    {
     "name": "stderr",
     "output_type": "stream",
     "text": [
      "2025-08-11 18:28:54,443 - INFO - Processing step 354\n",
      "2025-08-11 18:28:54,477 - INFO - Time taken for step 354: 1.68 seconds.\n",
      "2025-08-11 18:28:54,535 - INFO - Forecasting step 15 days, 0:00:00 (2023-07-15 00:00:00)\n"
     ]
    },
    {
     "name": "stdout",
     "output_type": "stream",
     "text": [
      "\n",
      "😀 date=2023-07-14T18:00:00 latitudes=(542080,) longitudes=(542080,) fields=102\n",
      "\n",
      "    q_50   shape=(542080,) min=1.37167e-06    max=3.15111e-06   \n",
      "    t_1000 shape=(542080,) min=228.431        max=322.142       \n",
      "    v_925  shape=(542080,) min=-37.3628       max=36.067        \n",
      "    z_850  shape=(542080,) min=9194.73        max=16229.3       \n",
      "    swvl2  shape=(542080,) min=0              max=0.778971      \n",
      "    tcc    shape=(542080,) min=0              max=1             \n",
      "\n"
     ]
    },
    {
     "name": "stderr",
     "output_type": "stream",
     "text": [
      "2025-08-11 18:28:56,097 - INFO - Processing step 360\n",
      "2025-08-11 18:28:56,118 - INFO - Time taken for step 360: 1.64 seconds.\n",
      "2025-08-11 18:28:56,120 - INFO - Inference session completed.\n",
      "2025-08-11 18:28:56,120 - INFO - Total time taken for the inference session: 108.07 seconds.\n",
      "2025-08-11 18:28:56,121 - INFO - Concatenating all steps into a single dataset.\n"
     ]
    },
    {
     "name": "stdout",
     "output_type": "stream",
     "text": [
      "\n",
      "😀 date=2023-07-15T00:00:00 latitudes=(542080,) longitudes=(542080,) fields=102\n",
      "\n",
      "    q_50   shape=(542080,) min=1.38592e-06    max=3.15242e-06   \n",
      "    t_1000 shape=(542080,) min=227.829        max=318.635       \n",
      "    v_925  shape=(542080,) min=-35.3984       max=36.2571       \n",
      "    z_850  shape=(542080,) min=9200.48        max=16250         \n",
      "    swvl2  shape=(542080,) min=0              max=0.782561      \n",
      "    tcc    shape=(542080,) min=0              max=1             \n",
      "\n"
     ]
    },
    {
     "name": "stderr",
     "output_type": "stream",
     "text": [
      "2025-08-11 18:28:56,309 - INFO - Saving output dataset to output_states/init_ERA5_20230630T00_lead_360.nc\n",
      "2025-08-11 18:28:58,769 - INFO - Running inference for initialization date: 2023-07-01 00:00:00\n",
      "2025-08-11 18:28:58,770 - INFO - Getting ERA5 data for date 2023-07-01 00:00:00\n",
      "2025-08-11 18:28:58,771 - INFO - Input state for 2023-07-01 00:00:00 already exists locally. Loading from file...\n",
      "2025-08-11 18:29:00,934 - INFO - Input state loaded successfully.\n",
      "2025-08-11 18:29:00,935 - INFO - Using SimpleRunner runner\n",
      "2025-08-11 18:29:00,935 - INFO - Starting the inference session...\n",
      "2025-08-11 18:29:00,957 - INFO - Computed constant forcings: before ['cos_latitude', 'cos_longitude', 'sin_latitude', 'sin_longitude'], after ['cos_latitude', 'cos_longitude', 'sin_latitude', 'sin_longitude']\n",
      "2025-08-11 18:29:00,958 - INFO - Constant computed forcing: ComputedForcings(['cos_latitude', 'cos_longitude', 'sin_latitude', 'sin_longitude'])\n",
      "2025-08-11 18:29:00,959 - INFO - Dynamic computed forcing: ComputedForcings(['cos_julian_day', 'cos_local_time', 'sin_julian_day', 'sin_local_time', 'insolation'])\n",
      "2025-08-11 18:29:00,959 - INFO - Constant forcings input: ComputedForcings(['cos_latitude', 'cos_longitude', 'sin_latitude', 'sin_longitude']) ['cos_latitude', 'cos_longitude', 'sin_latitude', 'sin_longitude'] ([datetime.datetime(2023, 6, 30, 18, 0), datetime.datetime(2023, 7, 1, 0, 0)])\n",
      "2025-08-11 18:29:00,975 - INFO - Dynamic forcings input: ComputedForcings(['cos_julian_day', 'cos_local_time', 'sin_julian_day', 'sin_local_time', 'insolation']) ['cos_julian_day', 'cos_local_time', 'sin_julian_day', 'sin_local_time', 'insolation'] ([datetime.datetime(2023, 6, 30, 18, 0), datetime.datetime(2023, 7, 1, 0, 0)])\n",
      "2025-08-11 18:29:01,051 - INFO - Expected shape for each input fields: (2, 542080)\n",
      "2025-08-11 18:29:01,289 - INFO - Preparing input tensor with shape (2, 103, 542080)\n",
      "2025-08-11 18:29:09,087 - INFO - Loading Checkpoint(weights/AIFS/aifs-single-mse-1.0.ckpt): 7 seconds.\n",
      "2025-08-11 18:29:09,346 - INFO - Using autocast torch.float16\n",
      "2025-08-11 18:29:09,347 - INFO - Lead time: 15 days, 0:00:00, time stepping: 6:00:00 Forecasting 60 steps\n",
      "2025-08-11 18:29:09,348 - INFO - Forecasting step 6:00:00 (2023-07-01 06:00:00)\n",
      "2025-08-11 18:29:10,854 - INFO - Processing step 6\n",
      "2025-08-11 18:29:10,879 - INFO - Time taken for step 6: 9.90 seconds.\n",
      "2025-08-11 18:29:10,917 - INFO - Forecasting step 12:00:00 (2023-07-01 12:00:00)\n"
     ]
    },
    {
     "name": "stdout",
     "output_type": "stream",
     "text": [
      "\n",
      "😀 date=2023-07-01T06:00:00 latitudes=(542080,) longitudes=(542080,) fields=102\n",
      "\n",
      "    q_50   shape=(542080,) min=8.8626e-07     max=3.14257e-06   \n",
      "    t_1000 shape=(542080,) min=230.424        max=321.132       \n",
      "    v_925  shape=(542080,) min=-33.0601       max=55.5838       \n",
      "    z_850  shape=(542080,) min=8402.51        max=16032         \n",
      "    swvl2  shape=(542080,) min=0              max=0.762813      \n",
      "    tcc    shape=(542080,) min=0              max=1             \n",
      "\n"
     ]
    },
    {
     "name": "stderr",
     "output_type": "stream",
     "text": [
      "2025-08-11 18:29:12,375 - INFO - Processing step 12\n",
      "2025-08-11 18:29:12,397 - INFO - Time taken for step 12: 1.52 seconds.\n",
      "2025-08-11 18:29:12,434 - INFO - Forecasting step 18:00:00 (2023-07-01 18:00:00)\n"
     ]
    },
    {
     "name": "stdout",
     "output_type": "stream",
     "text": [
      "\n",
      "😀 date=2023-07-01T12:00:00 latitudes=(542080,) longitudes=(542080,) fields=102\n",
      "\n",
      "    q_50   shape=(542080,) min=7.78296e-07    max=3.16291e-06   \n",
      "    t_1000 shape=(542080,) min=228.848        max=325.704       \n",
      "    v_925  shape=(542080,) min=-37.0759       max=52.1146       \n",
      "    z_850  shape=(542080,) min=8043.94        max=16033.2       \n",
      "    swvl2  shape=(542080,) min=0              max=0.761374      \n",
      "    tcc    shape=(542080,) min=0              max=1             \n",
      "\n"
     ]
    },
    {
     "name": "stderr",
     "output_type": "stream",
     "text": [
      "2025-08-11 18:29:13,885 - INFO - Processing step 18\n",
      "2025-08-11 18:29:13,908 - INFO - Time taken for step 18: 1.51 seconds.\n",
      "2025-08-11 18:29:13,946 - INFO - Forecasting step 1 day, 0:00:00 (2023-07-02 00:00:00)\n"
     ]
    },
    {
     "name": "stdout",
     "output_type": "stream",
     "text": [
      "\n",
      "😀 date=2023-07-01T18:00:00 latitudes=(542080,) longitudes=(542080,) fields=102\n",
      "\n",
      "    q_50   shape=(542080,) min=8.47562e-07    max=3.16738e-06   \n",
      "    t_1000 shape=(542080,) min=228.11         max=323.444       \n",
      "    v_925  shape=(542080,) min=-33.333        max=52.4809       \n",
      "    z_850  shape=(542080,) min=7906.69        max=15976.1       \n",
      "    swvl2  shape=(542080,) min=0              max=0.759958      \n",
      "    tcc    shape=(542080,) min=0              max=1             \n",
      "\n"
     ]
    },
    {
     "name": "stderr",
     "output_type": "stream",
     "text": [
      "2025-08-11 18:29:15,365 - INFO - Processing step 24\n",
      "2025-08-11 18:29:15,387 - INFO - Time taken for step 24: 1.48 seconds.\n",
      "2025-08-11 18:29:15,426 - INFO - Forecasting step 1 day, 6:00:00 (2023-07-02 06:00:00)\n"
     ]
    },
    {
     "name": "stdout",
     "output_type": "stream",
     "text": [
      "\n",
      "😀 date=2023-07-02T00:00:00 latitudes=(542080,) longitudes=(542080,) fields=102\n",
      "\n",
      "    q_50   shape=(542080,) min=7.69663e-07    max=3.17012e-06   \n",
      "    t_1000 shape=(542080,) min=228.589        max=319.812       \n",
      "    v_925  shape=(542080,) min=-34.1532       max=51.8073       \n",
      "    z_850  shape=(542080,) min=7946.8         max=16006.8       \n",
      "    swvl2  shape=(542080,) min=0              max=0.75864       \n",
      "    tcc    shape=(542080,) min=0              max=1             \n",
      "\n"
     ]
    },
    {
     "name": "stderr",
     "output_type": "stream",
     "text": [
      "2025-08-11 18:29:16,872 - INFO - Processing step 30\n",
      "2025-08-11 18:29:16,893 - INFO - Time taken for step 30: 1.51 seconds.\n",
      "2025-08-11 18:29:16,929 - INFO - Forecasting step 1 day, 12:00:00 (2023-07-02 12:00:00)\n"
     ]
    },
    {
     "name": "stdout",
     "output_type": "stream",
     "text": [
      "\n",
      "😀 date=2023-07-02T06:00:00 latitudes=(542080,) longitudes=(542080,) fields=102\n",
      "\n",
      "    q_50   shape=(542080,) min=8.16827e-07    max=3.17387e-06   \n",
      "    t_1000 shape=(542080,) min=229.847        max=321.129       \n",
      "    v_925  shape=(542080,) min=-37.6225       max=50.8182       \n",
      "    z_850  shape=(542080,) min=8142.55        max=15883.7       \n",
      "    swvl2  shape=(542080,) min=0              max=0.757011      \n",
      "    tcc    shape=(542080,) min=0              max=1             \n",
      "\n"
     ]
    },
    {
     "name": "stderr",
     "output_type": "stream",
     "text": [
      "2025-08-11 18:29:18,372 - INFO - Processing step 36\n",
      "2025-08-11 18:29:18,394 - INFO - Time taken for step 36: 1.50 seconds.\n",
      "2025-08-11 18:29:18,429 - INFO - Forecasting step 1 day, 18:00:00 (2023-07-02 18:00:00)\n"
     ]
    },
    {
     "name": "stdout",
     "output_type": "stream",
     "text": [
      "\n",
      "😀 date=2023-07-02T12:00:00 latitudes=(542080,) longitudes=(542080,) fields=102\n",
      "\n",
      "    q_50   shape=(542080,) min=8.55509e-07    max=3.17555e-06   \n",
      "    t_1000 shape=(542080,) min=229.774        max=324.585       \n",
      "    v_925  shape=(542080,) min=-36.4469       max=47.8212       \n",
      "    z_850  shape=(542080,) min=8518.89        max=15991.2       \n",
      "    swvl2  shape=(542080,) min=0              max=0.755691      \n",
      "    tcc    shape=(542080,) min=0              max=1             \n",
      "\n"
     ]
    },
    {
     "name": "stderr",
     "output_type": "stream",
     "text": [
      "2025-08-11 18:29:19,886 - INFO - Processing step 42\n",
      "2025-08-11 18:29:19,909 - INFO - Time taken for step 42: 1.51 seconds.\n",
      "2025-08-11 18:29:19,945 - INFO - Forecasting step 2 days, 0:00:00 (2023-07-03 00:00:00)\n"
     ]
    },
    {
     "name": "stdout",
     "output_type": "stream",
     "text": [
      "\n",
      "😀 date=2023-07-02T18:00:00 latitudes=(542080,) longitudes=(542080,) fields=102\n",
      "\n",
      "    q_50   shape=(542080,) min=8.18781e-07    max=3.18065e-06   \n",
      "    t_1000 shape=(542080,) min=229.853        max=322.893       \n",
      "    v_925  shape=(542080,) min=-37.2982       max=44.6997       \n",
      "    z_850  shape=(542080,) min=8475.69        max=15971.7       \n",
      "    swvl2  shape=(542080,) min=0              max=0.754604      \n",
      "    tcc    shape=(542080,) min=0              max=1             \n",
      "\n"
     ]
    },
    {
     "name": "stderr",
     "output_type": "stream",
     "text": [
      "2025-08-11 18:29:21,304 - INFO - Processing step 48\n",
      "2025-08-11 18:29:21,324 - INFO - Time taken for step 48: 1.41 seconds.\n",
      "2025-08-11 18:29:21,359 - INFO - Forecasting step 2 days, 6:00:00 (2023-07-03 06:00:00)\n"
     ]
    },
    {
     "name": "stdout",
     "output_type": "stream",
     "text": [
      "\n",
      "😀 date=2023-07-03T00:00:00 latitudes=(542080,) longitudes=(542080,) fields=102\n",
      "\n",
      "    q_50   shape=(542080,) min=8.11977e-07    max=3.17623e-06   \n",
      "    t_1000 shape=(542080,) min=228.174        max=319.399       \n",
      "    v_925  shape=(542080,) min=-33.1385       max=41.7717       \n",
      "    z_850  shape=(542080,) min=8461.63        max=16005.2       \n",
      "    swvl2  shape=(542080,) min=0              max=0.753626      \n",
      "    tcc    shape=(542080,) min=0              max=1             \n",
      "\n"
     ]
    },
    {
     "name": "stderr",
     "output_type": "stream",
     "text": [
      "2025-08-11 18:29:22,807 - INFO - Processing step 54\n",
      "2025-08-11 18:29:22,829 - INFO - Time taken for step 54: 1.51 seconds.\n",
      "2025-08-11 18:29:22,866 - INFO - Forecasting step 2 days, 12:00:00 (2023-07-03 12:00:00)\n"
     ]
    },
    {
     "name": "stdout",
     "output_type": "stream",
     "text": [
      "\n",
      "😀 date=2023-07-03T06:00:00 latitudes=(542080,) longitudes=(542080,) fields=102\n",
      "\n",
      "    q_50   shape=(542080,) min=8.93187e-07    max=3.17583e-06   \n",
      "    t_1000 shape=(542080,) min=228.45         max=320.121       \n",
      "    v_925  shape=(542080,) min=-32.8495       max=40.1791       \n",
      "    z_850  shape=(542080,) min=8644.88        max=16021.4       \n",
      "    swvl2  shape=(542080,) min=0              max=0.75229       \n",
      "    tcc    shape=(542080,) min=0              max=1             \n",
      "\n"
     ]
    },
    {
     "name": "stderr",
     "output_type": "stream",
     "text": [
      "2025-08-11 18:29:24,325 - INFO - Processing step 60\n",
      "2025-08-11 18:29:24,348 - INFO - Time taken for step 60: 1.52 seconds.\n",
      "2025-08-11 18:29:24,385 - INFO - Forecasting step 2 days, 18:00:00 (2023-07-03 18:00:00)\n"
     ]
    },
    {
     "name": "stdout",
     "output_type": "stream",
     "text": [
      "\n",
      "😀 date=2023-07-03T12:00:00 latitudes=(542080,) longitudes=(542080,) fields=102\n",
      "\n",
      "    q_50   shape=(542080,) min=8.0573e-07     max=3.17948e-06   \n",
      "    t_1000 shape=(542080,) min=227.97         max=324.181       \n",
      "    v_925  shape=(542080,) min=-30.7231       max=37.2814       \n",
      "    z_850  shape=(542080,) min=8967.51        max=15980.7       \n",
      "    swvl2  shape=(542080,) min=0              max=0.751281      \n",
      "    tcc    shape=(542080,) min=0              max=1             \n",
      "\n"
     ]
    },
    {
     "name": "stderr",
     "output_type": "stream",
     "text": [
      "2025-08-11 18:29:25,791 - INFO - Processing step 66\n",
      "2025-08-11 18:29:25,811 - INFO - Time taken for step 66: 1.46 seconds.\n",
      "2025-08-11 18:29:25,846 - INFO - Forecasting step 3 days, 0:00:00 (2023-07-04 00:00:00)\n"
     ]
    },
    {
     "name": "stdout",
     "output_type": "stream",
     "text": [
      "\n",
      "😀 date=2023-07-03T18:00:00 latitudes=(542080,) longitudes=(542080,) fields=102\n",
      "\n",
      "    q_50   shape=(542080,) min=9.19312e-07    max=3.18756e-06   \n",
      "    t_1000 shape=(542080,) min=227.532        max=322.232       \n",
      "    v_925  shape=(542080,) min=-28.4328       max=32.5385       \n",
      "    z_850  shape=(542080,) min=9080.44        max=15981.5       \n",
      "    swvl2  shape=(542080,) min=0              max=0.750275      \n",
      "    tcc    shape=(542080,) min=0              max=1             \n",
      "\n"
     ]
    },
    {
     "name": "stderr",
     "output_type": "stream",
     "text": [
      "2025-08-11 18:29:27,300 - INFO - Processing step 72\n",
      "2025-08-11 18:29:27,321 - INFO - Time taken for step 72: 1.51 seconds.\n",
      "2025-08-11 18:29:27,357 - INFO - Forecasting step 3 days, 6:00:00 (2023-07-04 06:00:00)\n"
     ]
    },
    {
     "name": "stdout",
     "output_type": "stream",
     "text": [
      "\n",
      "😀 date=2023-07-04T00:00:00 latitudes=(542080,) longitudes=(542080,) fields=102\n",
      "\n",
      "    q_50   shape=(542080,) min=9.56981e-07    max=3.19812e-06   \n",
      "    t_1000 shape=(542080,) min=223.646        max=319.237       \n",
      "    v_925  shape=(542080,) min=-28.2455       max=31.913        \n",
      "    z_850  shape=(542080,) min=9097.74        max=16027.3       \n",
      "    swvl2  shape=(542080,) min=0              max=0.749399      \n",
      "    tcc    shape=(542080,) min=0              max=1             \n",
      "\n"
     ]
    },
    {
     "name": "stderr",
     "output_type": "stream",
     "text": [
      "2025-08-11 18:29:28,805 - INFO - Processing step 78\n",
      "2025-08-11 18:29:28,827 - INFO - Time taken for step 78: 1.51 seconds.\n",
      "2025-08-11 18:29:28,881 - INFO - Forecasting step 3 days, 12:00:00 (2023-07-04 12:00:00)\n"
     ]
    },
    {
     "name": "stdout",
     "output_type": "stream",
     "text": [
      "\n",
      "😀 date=2023-07-04T06:00:00 latitudes=(542080,) longitudes=(542080,) fields=102\n",
      "\n",
      "    q_50   shape=(542080,) min=9.78689e-07    max=3.19943e-06   \n",
      "    t_1000 shape=(542080,) min=224.182        max=318.58        \n",
      "    v_925  shape=(542080,) min=-29.7071       max=29.351        \n",
      "    z_850  shape=(542080,) min=9131.81        max=16092.7       \n",
      "    swvl2  shape=(542080,) min=0              max=0.748386      \n",
      "    tcc    shape=(542080,) min=0              max=1             \n",
      "\n"
     ]
    },
    {
     "name": "stderr",
     "output_type": "stream",
     "text": [
      "2025-08-11 18:29:30,329 - INFO - Processing step 84\n",
      "2025-08-11 18:29:30,353 - INFO - Time taken for step 84: 1.53 seconds.\n",
      "2025-08-11 18:29:30,389 - INFO - Forecasting step 3 days, 18:00:00 (2023-07-04 18:00:00)\n"
     ]
    },
    {
     "name": "stdout",
     "output_type": "stream",
     "text": [
      "\n",
      "😀 date=2023-07-04T12:00:00 latitudes=(542080,) longitudes=(542080,) fields=102\n",
      "\n",
      "    q_50   shape=(542080,) min=1.01063e-06    max=3.19934e-06   \n",
      "    t_1000 shape=(542080,) min=224.589        max=323.475       \n",
      "    v_925  shape=(542080,) min=-29.5484       max=27.9175       \n",
      "    z_850  shape=(542080,) min=9167.75        max=16065.4       \n",
      "    swvl2  shape=(542080,) min=0              max=0.747488      \n",
      "    tcc    shape=(542080,) min=0              max=1             \n",
      "\n"
     ]
    },
    {
     "name": "stderr",
     "output_type": "stream",
     "text": [
      "2025-08-11 18:29:31,796 - INFO - Processing step 90\n",
      "2025-08-11 18:29:31,817 - INFO - Time taken for step 90: 1.46 seconds.\n",
      "2025-08-11 18:29:31,855 - INFO - Forecasting step 4 days, 0:00:00 (2023-07-05 00:00:00)\n"
     ]
    },
    {
     "name": "stdout",
     "output_type": "stream",
     "text": [
      "\n",
      "😀 date=2023-07-04T18:00:00 latitudes=(542080,) longitudes=(542080,) fields=102\n",
      "\n",
      "    q_50   shape=(542080,) min=1.03668e-06    max=3.19841e-06   \n",
      "    t_1000 shape=(542080,) min=226.089        max=321.094       \n",
      "    v_925  shape=(542080,) min=-27.0486       max=28.8321       \n",
      "    z_850  shape=(542080,) min=9182.1         max=16124.5       \n",
      "    swvl2  shape=(542080,) min=0              max=0.746644      \n",
      "    tcc    shape=(542080,) min=0              max=1             \n",
      "\n"
     ]
    },
    {
     "name": "stderr",
     "output_type": "stream",
     "text": [
      "2025-08-11 18:29:33,298 - INFO - Processing step 96\n",
      "2025-08-11 18:29:33,320 - INFO - Time taken for step 96: 1.50 seconds.\n",
      "2025-08-11 18:29:33,359 - INFO - Forecasting step 4 days, 6:00:00 (2023-07-05 06:00:00)\n"
     ]
    },
    {
     "name": "stdout",
     "output_type": "stream",
     "text": [
      "\n",
      "😀 date=2023-07-05T00:00:00 latitudes=(542080,) longitudes=(542080,) fields=102\n",
      "\n",
      "    q_50   shape=(542080,) min=1.08132e-06    max=3.19941e-06   \n",
      "    t_1000 shape=(542080,) min=226.32         max=319.643       \n",
      "    v_925  shape=(542080,) min=-27.1922       max=29.0769       \n",
      "    z_850  shape=(542080,) min=9207.02        max=16140.8       \n",
      "    swvl2  shape=(542080,) min=0              max=0.745858      \n",
      "    tcc    shape=(542080,) min=0              max=1             \n",
      "\n"
     ]
    },
    {
     "name": "stderr",
     "output_type": "stream",
     "text": [
      "2025-08-11 18:29:34,922 - INFO - Processing step 102\n",
      "2025-08-11 18:29:34,945 - INFO - Time taken for step 102: 1.55 seconds.\n",
      "2025-08-11 18:29:34,996 - INFO - Forecasting step 4 days, 12:00:00 (2023-07-05 12:00:00)\n"
     ]
    },
    {
     "name": "stdout",
     "output_type": "stream",
     "text": [
      "\n",
      "😀 date=2023-07-05T06:00:00 latitudes=(542080,) longitudes=(542080,) fields=102\n",
      "\n",
      "    q_50   shape=(542080,) min=9.78835e-07    max=3.19885e-06   \n",
      "    t_1000 shape=(542080,) min=228.864        max=318.468       \n",
      "    v_925  shape=(542080,) min=-28.6343       max=28.4181       \n",
      "    z_850  shape=(542080,) min=9216.24        max=16150.1       \n",
      "    swvl2  shape=(542080,) min=0              max=0.744837      \n",
      "    tcc    shape=(542080,) min=0              max=1             \n",
      "\n"
     ]
    },
    {
     "name": "stderr",
     "output_type": "stream",
     "text": [
      "2025-08-11 18:29:36,579 - INFO - Processing step 108\n",
      "2025-08-11 18:29:36,603 - INFO - Time taken for step 108: 1.66 seconds.\n",
      "2025-08-11 18:29:36,639 - INFO - Forecasting step 4 days, 18:00:00 (2023-07-05 18:00:00)\n"
     ]
    },
    {
     "name": "stdout",
     "output_type": "stream",
     "text": [
      "\n",
      "😀 date=2023-07-05T12:00:00 latitudes=(542080,) longitudes=(542080,) fields=102\n",
      "\n",
      "    q_50   shape=(542080,) min=7.05821e-07    max=3.19361e-06   \n",
      "    t_1000 shape=(542080,) min=228.98         max=323.042       \n",
      "    v_925  shape=(542080,) min=-29.5241       max=26.5853       \n",
      "    z_850  shape=(542080,) min=9193.88        max=16105.7       \n",
      "    swvl2  shape=(542080,) min=0              max=0.74407       \n",
      "    tcc    shape=(542080,) min=0              max=1             \n",
      "\n"
     ]
    },
    {
     "name": "stderr",
     "output_type": "stream",
     "text": [
      "2025-08-11 18:29:38,162 - INFO - Processing step 114\n",
      "2025-08-11 18:29:38,183 - INFO - Time taken for step 114: 1.58 seconds.\n",
      "2025-08-11 18:29:38,218 - INFO - Forecasting step 5 days, 0:00:00 (2023-07-06 00:00:00)\n"
     ]
    },
    {
     "name": "stdout",
     "output_type": "stream",
     "text": [
      "\n",
      "😀 date=2023-07-05T18:00:00 latitudes=(542080,) longitudes=(542080,) fields=102\n",
      "\n",
      "    q_50   shape=(542080,) min=7.48039e-07    max=3.19184e-06   \n",
      "    t_1000 shape=(542080,) min=230.468        max=321.222       \n",
      "    v_925  shape=(542080,) min=-28.9015       max=26.1249       \n",
      "    z_850  shape=(542080,) min=9077.73        max=16144.1       \n",
      "    swvl2  shape=(542080,) min=0              max=0.743391      \n",
      "    tcc    shape=(542080,) min=0              max=1             \n",
      "\n"
     ]
    },
    {
     "name": "stderr",
     "output_type": "stream",
     "text": [
      "2025-08-11 18:29:39,783 - INFO - Processing step 120\n",
      "2025-08-11 18:29:39,804 - INFO - Time taken for step 120: 1.62 seconds.\n",
      "2025-08-11 18:29:39,839 - INFO - Forecasting step 5 days, 6:00:00 (2023-07-06 06:00:00)\n"
     ]
    },
    {
     "name": "stdout",
     "output_type": "stream",
     "text": [
      "\n",
      "😀 date=2023-07-06T00:00:00 latitudes=(542080,) longitudes=(542080,) fields=102\n",
      "\n",
      "    q_50   shape=(542080,) min=6.78595e-07    max=3.1895e-06    \n",
      "    t_1000 shape=(542080,) min=228.986        max=319.032       \n",
      "    v_925  shape=(542080,) min=-26.7313       max=25.2246       \n",
      "    z_850  shape=(542080,) min=9154.62        max=16173.6       \n",
      "    swvl2  shape=(542080,) min=0              max=0.742939      \n",
      "    tcc    shape=(542080,) min=0              max=1             \n",
      "\n"
     ]
    },
    {
     "name": "stderr",
     "output_type": "stream",
     "text": [
      "2025-08-11 18:29:41,378 - INFO - Processing step 126\n",
      "2025-08-11 18:29:41,397 - INFO - Time taken for step 126: 1.59 seconds.\n",
      "2025-08-11 18:29:41,450 - INFO - Forecasting step 5 days, 12:00:00 (2023-07-06 12:00:00)\n"
     ]
    },
    {
     "name": "stdout",
     "output_type": "stream",
     "text": [
      "\n",
      "😀 date=2023-07-06T06:00:00 latitudes=(542080,) longitudes=(542080,) fields=102\n",
      "\n",
      "    q_50   shape=(542080,) min=8.11295e-07    max=3.18239e-06   \n",
      "    t_1000 shape=(542080,) min=228.42         max=317.655       \n",
      "    v_925  shape=(542080,) min=-25.6118       max=33.2304       \n",
      "    z_850  shape=(542080,) min=9456.05        max=16173.8       \n",
      "    swvl2  shape=(542080,) min=0              max=0.74228       \n",
      "    tcc    shape=(542080,) min=0              max=1             \n",
      "\n"
     ]
    },
    {
     "name": "stderr",
     "output_type": "stream",
     "text": [
      "2025-08-11 18:29:43,001 - INFO - Processing step 132\n",
      "2025-08-11 18:29:43,024 - INFO - Time taken for step 132: 1.63 seconds.\n",
      "2025-08-11 18:29:43,059 - INFO - Forecasting step 5 days, 18:00:00 (2023-07-06 18:00:00)\n"
     ]
    },
    {
     "name": "stdout",
     "output_type": "stream",
     "text": [
      "\n",
      "😀 date=2023-07-06T12:00:00 latitudes=(542080,) longitudes=(542080,) fields=102\n",
      "\n",
      "    q_50   shape=(542080,) min=7.35489e-07    max=3.18181e-06   \n",
      "    t_1000 shape=(542080,) min=224.993        max=322.482       \n",
      "    v_925  shape=(542080,) min=-31.8363       max=30.926        \n",
      "    z_850  shape=(542080,) min=9299.15        max=16132.6       \n",
      "    swvl2  shape=(542080,) min=0              max=0.74158       \n",
      "    tcc    shape=(542080,) min=0              max=1             \n",
      "\n"
     ]
    },
    {
     "name": "stderr",
     "output_type": "stream",
     "text": [
      "2025-08-11 18:29:44,574 - INFO - Processing step 138\n",
      "2025-08-11 18:29:44,595 - INFO - Time taken for step 138: 1.57 seconds.\n",
      "2025-08-11 18:29:44,631 - INFO - Forecasting step 6 days, 0:00:00 (2023-07-07 00:00:00)\n"
     ]
    },
    {
     "name": "stdout",
     "output_type": "stream",
     "text": [
      "\n",
      "😀 date=2023-07-06T18:00:00 latitudes=(542080,) longitudes=(542080,) fields=102\n",
      "\n",
      "    q_50   shape=(542080,) min=8.03362e-07    max=3.18038e-06   \n",
      "    t_1000 shape=(542080,) min=224.839        max=320.588       \n",
      "    v_925  shape=(542080,) min=-33.4367       max=30.2767       \n",
      "    z_850  shape=(542080,) min=9140.22        max=16148.7       \n",
      "    swvl2  shape=(542080,) min=0              max=0.740771      \n",
      "    tcc    shape=(542080,) min=0              max=1             \n",
      "\n"
     ]
    },
    {
     "name": "stderr",
     "output_type": "stream",
     "text": [
      "2025-08-11 18:29:46,182 - INFO - Processing step 144\n",
      "2025-08-11 18:29:46,202 - INFO - Time taken for step 144: 1.61 seconds.\n",
      "2025-08-11 18:29:46,239 - INFO - Forecasting step 6 days, 6:00:00 (2023-07-07 06:00:00)\n"
     ]
    },
    {
     "name": "stdout",
     "output_type": "stream",
     "text": [
      "\n",
      "😀 date=2023-07-07T00:00:00 latitudes=(542080,) longitudes=(542080,) fields=102\n",
      "\n",
      "    q_50   shape=(542080,) min=1.17135e-06    max=3.18123e-06   \n",
      "    t_1000 shape=(542080,) min=223.6          max=318.75        \n",
      "    v_925  shape=(542080,) min=-30.7305       max=27.6341       \n",
      "    z_850  shape=(542080,) min=9172.36        max=16165.7       \n",
      "    swvl2  shape=(542080,) min=0              max=0.740226      \n",
      "    tcc    shape=(542080,) min=0              max=1             \n",
      "\n"
     ]
    },
    {
     "name": "stderr",
     "output_type": "stream",
     "text": [
      "2025-08-11 18:29:47,775 - INFO - Processing step 150\n",
      "2025-08-11 18:29:47,797 - INFO - Time taken for step 150: 1.59 seconds.\n",
      "2025-08-11 18:29:47,835 - INFO - Forecasting step 6 days, 12:00:00 (2023-07-07 12:00:00)\n"
     ]
    },
    {
     "name": "stdout",
     "output_type": "stream",
     "text": [
      "\n",
      "😀 date=2023-07-07T06:00:00 latitudes=(542080,) longitudes=(542080,) fields=102\n",
      "\n",
      "    q_50   shape=(542080,) min=1.21094e-06    max=3.18277e-06   \n",
      "    t_1000 shape=(542080,) min=225.583        max=316.992       \n",
      "    v_925  shape=(542080,) min=-26.8678       max=31.2025       \n",
      "    z_850  shape=(542080,) min=9039.31        max=16125.8       \n",
      "    swvl2  shape=(542080,) min=0              max=0.739569      \n",
      "    tcc    shape=(542080,) min=0              max=1             \n",
      "\n"
     ]
    },
    {
     "name": "stderr",
     "output_type": "stream",
     "text": [
      "2025-08-11 18:29:49,373 - INFO - Processing step 156\n",
      "2025-08-11 18:29:49,397 - INFO - Time taken for step 156: 1.60 seconds.\n",
      "2025-08-11 18:29:49,438 - INFO - Forecasting step 6 days, 18:00:00 (2023-07-07 18:00:00)\n"
     ]
    },
    {
     "name": "stdout",
     "output_type": "stream",
     "text": [
      "\n",
      "😀 date=2023-07-07T12:00:00 latitudes=(542080,) longitudes=(542080,) fields=102\n",
      "\n",
      "    q_50   shape=(542080,) min=1.22709e-06    max=3.18671e-06   \n",
      "    t_1000 shape=(542080,) min=228.087        max=321.184       \n",
      "    v_925  shape=(542080,) min=-28.5967       max=29.2924       \n",
      "    z_850  shape=(542080,) min=8725.75        max=16036.4       \n",
      "    swvl2  shape=(542080,) min=0              max=0.739058      \n",
      "    tcc    shape=(542080,) min=0              max=1             \n",
      "\n"
     ]
    },
    {
     "name": "stderr",
     "output_type": "stream",
     "text": [
      "2025-08-11 18:29:50,991 - INFO - Processing step 162\n",
      "2025-08-11 18:29:51,010 - INFO - Time taken for step 162: 1.61 seconds.\n",
      "2025-08-11 18:29:51,046 - INFO - Forecasting step 7 days, 0:00:00 (2023-07-08 00:00:00)\n"
     ]
    },
    {
     "name": "stdout",
     "output_type": "stream",
     "text": [
      "\n",
      "😀 date=2023-07-07T18:00:00 latitudes=(542080,) longitudes=(542080,) fields=102\n",
      "\n",
      "    q_50   shape=(542080,) min=1.2607e-06     max=3.19189e-06   \n",
      "    t_1000 shape=(542080,) min=229.687        max=320.574       \n",
      "    v_925  shape=(542080,) min=-29.8445       max=29.4909       \n",
      "    z_850  shape=(542080,) min=8444.43        max=16030.9       \n",
      "    swvl2  shape=(542080,) min=0              max=0.738577      \n",
      "    tcc    shape=(542080,) min=0              max=1             \n",
      "\n"
     ]
    },
    {
     "name": "stderr",
     "output_type": "stream",
     "text": [
      "2025-08-11 18:29:52,548 - INFO - Processing step 168\n",
      "2025-08-11 18:29:52,571 - INFO - Time taken for step 168: 1.56 seconds.\n",
      "2025-08-11 18:29:52,606 - INFO - Forecasting step 7 days, 6:00:00 (2023-07-08 06:00:00)\n"
     ]
    },
    {
     "name": "stdout",
     "output_type": "stream",
     "text": [
      "\n",
      "😀 date=2023-07-08T00:00:00 latitudes=(542080,) longitudes=(542080,) fields=102\n",
      "\n",
      "    q_50   shape=(542080,) min=1.27562e-06    max=3.19493e-06   \n",
      "    t_1000 shape=(542080,) min=228.887        max=317.963       \n",
      "    v_925  shape=(542080,) min=-30.8095       max=28.8299       \n",
      "    z_850  shape=(542080,) min=8302.76        max=16142.5       \n",
      "    swvl2  shape=(542080,) min=0              max=0.738275      \n",
      "    tcc    shape=(542080,) min=0              max=1             \n",
      "\n"
     ]
    },
    {
     "name": "stderr",
     "output_type": "stream",
     "text": [
      "2025-08-11 18:29:54,154 - INFO - Processing step 174\n",
      "2025-08-11 18:29:54,178 - INFO - Time taken for step 174: 1.61 seconds.\n",
      "2025-08-11 18:29:54,215 - INFO - Forecasting step 7 days, 12:00:00 (2023-07-08 12:00:00)\n"
     ]
    },
    {
     "name": "stdout",
     "output_type": "stream",
     "text": [
      "\n",
      "😀 date=2023-07-08T06:00:00 latitudes=(542080,) longitudes=(542080,) fields=102\n",
      "\n",
      "    q_50   shape=(542080,) min=1.2811e-06     max=3.19216e-06   \n",
      "    t_1000 shape=(542080,) min=228.981        max=316.461       \n",
      "    v_925  shape=(542080,) min=-31.0628       max=29.4954       \n",
      "    z_850  shape=(542080,) min=8287.97        max=16101.6       \n",
      "    swvl2  shape=(542080,) min=0              max=0.737695      \n",
      "    tcc    shape=(542080,) min=0              max=1             \n",
      "\n"
     ]
    },
    {
     "name": "stderr",
     "output_type": "stream",
     "text": [
      "2025-08-11 18:29:55,763 - INFO - Processing step 180\n",
      "2025-08-11 18:29:55,786 - INFO - Time taken for step 180: 1.61 seconds.\n",
      "2025-08-11 18:29:55,839 - INFO - Forecasting step 7 days, 18:00:00 (2023-07-08 18:00:00)\n"
     ]
    },
    {
     "name": "stdout",
     "output_type": "stream",
     "text": [
      "\n",
      "😀 date=2023-07-08T12:00:00 latitudes=(542080,) longitudes=(542080,) fields=102\n",
      "\n",
      "    q_50   shape=(542080,) min=1.27289e-06    max=3.1893e-06    \n",
      "    t_1000 shape=(542080,) min=229.447        max=322.273       \n",
      "    v_925  shape=(542080,) min=-30.1286       max=28.2261       \n",
      "    z_850  shape=(542080,) min=8284.61        max=16226.7       \n",
      "    swvl2  shape=(542080,) min=0              max=0.737126      \n",
      "    tcc    shape=(542080,) min=0              max=1             \n",
      "\n"
     ]
    },
    {
     "name": "stderr",
     "output_type": "stream",
     "text": [
      "2025-08-11 18:29:57,386 - INFO - Processing step 186\n",
      "2025-08-11 18:29:57,409 - INFO - Time taken for step 186: 1.62 seconds.\n",
      "2025-08-11 18:29:57,447 - INFO - Forecasting step 8 days, 0:00:00 (2023-07-09 00:00:00)\n"
     ]
    },
    {
     "name": "stdout",
     "output_type": "stream",
     "text": [
      "\n",
      "😀 date=2023-07-08T18:00:00 latitudes=(542080,) longitudes=(542080,) fields=102\n",
      "\n",
      "    q_50   shape=(542080,) min=1.24065e-06    max=3.18455e-06   \n",
      "    t_1000 shape=(542080,) min=229.845        max=320.727       \n",
      "    v_925  shape=(542080,) min=-28.4164       max=28.1828       \n",
      "    z_850  shape=(542080,) min=8358.76        max=16206.7       \n",
      "    swvl2  shape=(542080,) min=0              max=0.736427      \n",
      "    tcc    shape=(542080,) min=0              max=1             \n",
      "\n"
     ]
    },
    {
     "name": "stderr",
     "output_type": "stream",
     "text": [
      "2025-08-11 18:29:58,953 - INFO - Processing step 192\n",
      "2025-08-11 18:29:58,979 - INFO - Time taken for step 192: 1.57 seconds.\n",
      "2025-08-11 18:29:59,021 - INFO - Forecasting step 8 days, 6:00:00 (2023-07-09 06:00:00)\n"
     ]
    },
    {
     "name": "stdout",
     "output_type": "stream",
     "text": [
      "\n",
      "😀 date=2023-07-09T00:00:00 latitudes=(542080,) longitudes=(542080,) fields=102\n",
      "\n",
      "    q_50   shape=(542080,) min=1.23856e-06    max=3.18172e-06   \n",
      "    t_1000 shape=(542080,) min=229.896        max=317.904       \n",
      "    v_925  shape=(542080,) min=-25.8323       max=28.5155       \n",
      "    z_850  shape=(542080,) min=8558.3         max=16213.6       \n",
      "    swvl2  shape=(542080,) min=0              max=0.735785      \n",
      "    tcc    shape=(542080,) min=0              max=1             \n",
      "\n"
     ]
    },
    {
     "name": "stderr",
     "output_type": "stream",
     "text": [
      "2025-08-11 18:30:00,571 - INFO - Processing step 198\n",
      "2025-08-11 18:30:00,592 - INFO - Time taken for step 198: 1.61 seconds.\n",
      "2025-08-11 18:30:00,634 - INFO - Forecasting step 8 days, 12:00:00 (2023-07-09 12:00:00)\n"
     ]
    },
    {
     "name": "stdout",
     "output_type": "stream",
     "text": [
      "\n",
      "😀 date=2023-07-09T06:00:00 latitudes=(542080,) longitudes=(542080,) fields=102\n",
      "\n",
      "    q_50   shape=(542080,) min=1.23675e-06    max=3.17699e-06   \n",
      "    t_1000 shape=(542080,) min=231.253        max=317.39        \n",
      "    v_925  shape=(542080,) min=-28.2411       max=27.4054       \n",
      "    z_850  shape=(542080,) min=8808.97        max=16103.1       \n",
      "    swvl2  shape=(542080,) min=0              max=0.734884      \n",
      "    tcc    shape=(542080,) min=0              max=1             \n",
      "\n"
     ]
    },
    {
     "name": "stderr",
     "output_type": "stream",
     "text": [
      "2025-08-11 18:30:02,170 - INFO - Processing step 204\n",
      "2025-08-11 18:30:02,193 - INFO - Time taken for step 204: 1.60 seconds.\n",
      "2025-08-11 18:30:02,230 - INFO - Forecasting step 8 days, 18:00:00 (2023-07-09 18:00:00)\n"
     ]
    },
    {
     "name": "stdout",
     "output_type": "stream",
     "text": [
      "\n",
      "😀 date=2023-07-09T12:00:00 latitudes=(542080,) longitudes=(542080,) fields=102\n",
      "\n",
      "    q_50   shape=(542080,) min=1.2287e-06     max=3.17425e-06   \n",
      "    t_1000 shape=(542080,) min=232.554        max=322.677       \n",
      "    v_925  shape=(542080,) min=-28.9472       max=26.4292       \n",
      "    z_850  shape=(542080,) min=9097.09        max=16071         \n",
      "    swvl2  shape=(542080,) min=0              max=0.734282      \n",
      "    tcc    shape=(542080,) min=0              max=1             \n",
      "\n"
     ]
    },
    {
     "name": "stderr",
     "output_type": "stream",
     "text": [
      "2025-08-11 18:30:03,806 - INFO - Processing step 210\n",
      "2025-08-11 18:30:03,829 - INFO - Time taken for step 210: 1.60 seconds.\n",
      "2025-08-11 18:30:03,870 - INFO - Forecasting step 9 days, 0:00:00 (2023-07-10 00:00:00)\n"
     ]
    },
    {
     "name": "stdout",
     "output_type": "stream",
     "text": [
      "\n",
      "😀 date=2023-07-09T18:00:00 latitudes=(542080,) longitudes=(542080,) fields=102\n",
      "\n",
      "    q_50   shape=(542080,) min=1.27015e-06    max=3.17032e-06   \n",
      "    t_1000 shape=(542080,) min=234.095        max=320.389       \n",
      "    v_925  shape=(542080,) min=-29.8101       max=26.7862       \n",
      "    z_850  shape=(542080,) min=9129.17        max=16013.2       \n",
      "    swvl2  shape=(542080,) min=0              max=0.733798      \n",
      "    tcc    shape=(542080,) min=0              max=1             \n",
      "\n"
     ]
    },
    {
     "name": "stderr",
     "output_type": "stream",
     "text": [
      "2025-08-11 18:30:05,429 - INFO - Processing step 216\n",
      "2025-08-11 18:30:05,449 - INFO - Time taken for step 216: 1.62 seconds.\n",
      "2025-08-11 18:30:05,487 - INFO - Forecasting step 9 days, 6:00:00 (2023-07-10 06:00:00)\n"
     ]
    },
    {
     "name": "stdout",
     "output_type": "stream",
     "text": [
      "\n",
      "😀 date=2023-07-10T00:00:00 latitudes=(542080,) longitudes=(542080,) fields=102\n",
      "\n",
      "    q_50   shape=(542080,) min=1.27866e-06    max=3.16892e-06   \n",
      "    t_1000 shape=(542080,) min=234.562        max=317.73        \n",
      "    v_925  shape=(542080,) min=-28.6156       max=26.2824       \n",
      "    z_850  shape=(542080,) min=8933.87        max=16055.7       \n",
      "    swvl2  shape=(542080,) min=0              max=0.733372      \n",
      "    tcc    shape=(542080,) min=0              max=1             \n",
      "\n"
     ]
    },
    {
     "name": "stderr",
     "output_type": "stream",
     "text": [
      "2025-08-11 18:30:07,005 - INFO - Processing step 222\n",
      "2025-08-11 18:30:07,027 - INFO - Time taken for step 222: 1.58 seconds.\n",
      "2025-08-11 18:30:07,065 - INFO - Forecasting step 9 days, 12:00:00 (2023-07-10 12:00:00)\n"
     ]
    },
    {
     "name": "stdout",
     "output_type": "stream",
     "text": [
      "\n",
      "😀 date=2023-07-10T06:00:00 latitudes=(542080,) longitudes=(542080,) fields=102\n",
      "\n",
      "    q_50   shape=(542080,) min=1.28905e-06    max=3.16454e-06   \n",
      "    t_1000 shape=(542080,) min=234.168        max=318.73        \n",
      "    v_925  shape=(542080,) min=-28.8201       max=27.34         \n",
      "    z_850  shape=(542080,) min=8938.28        max=16075.1       \n",
      "    swvl2  shape=(542080,) min=0              max=0.732732      \n",
      "    tcc    shape=(542080,) min=0              max=1             \n",
      "\n"
     ]
    },
    {
     "name": "stderr",
     "output_type": "stream",
     "text": [
      "2025-08-11 18:30:08,634 - INFO - Processing step 228\n",
      "2025-08-11 18:30:08,653 - INFO - Time taken for step 228: 1.63 seconds.\n",
      "2025-08-11 18:30:08,692 - INFO - Forecasting step 9 days, 18:00:00 (2023-07-10 18:00:00)\n"
     ]
    },
    {
     "name": "stdout",
     "output_type": "stream",
     "text": [
      "\n",
      "😀 date=2023-07-10T12:00:00 latitudes=(542080,) longitudes=(542080,) fields=102\n",
      "\n",
      "    q_50   shape=(542080,) min=1.28878e-06    max=3.16149e-06   \n",
      "    t_1000 shape=(542080,) min=229.666        max=322.48        \n",
      "    v_925  shape=(542080,) min=-30.9316       max=32.3467       \n",
      "    z_850  shape=(542080,) min=9048.4         max=16075         \n",
      "    swvl2  shape=(542080,) min=0              max=0.732151      \n",
      "    tcc    shape=(542080,) min=0              max=1             \n",
      "\n"
     ]
    },
    {
     "name": "stderr",
     "output_type": "stream",
     "text": [
      "2025-08-11 18:30:10,243 - INFO - Processing step 234\n",
      "2025-08-11 18:30:10,264 - INFO - Time taken for step 234: 1.61 seconds.\n",
      "2025-08-11 18:30:10,303 - INFO - Forecasting step 10 days, 0:00:00 (2023-07-11 00:00:00)\n"
     ]
    },
    {
     "name": "stdout",
     "output_type": "stream",
     "text": [
      "\n",
      "😀 date=2023-07-10T18:00:00 latitudes=(542080,) longitudes=(542080,) fields=102\n",
      "\n",
      "    q_50   shape=(542080,) min=1.28978e-06    max=3.1588e-06    \n",
      "    t_1000 shape=(542080,) min=229.32         max=320.844       \n",
      "    v_925  shape=(542080,) min=-33.3093       max=32.7403       \n",
      "    z_850  shape=(542080,) min=9172.14        max=16125.3       \n",
      "    swvl2  shape=(542080,) min=0              max=0.731555      \n",
      "    tcc    shape=(542080,) min=0              max=1             \n",
      "\n"
     ]
    },
    {
     "name": "stderr",
     "output_type": "stream",
     "text": [
      "2025-08-11 18:30:11,850 - INFO - Processing step 240\n",
      "2025-08-11 18:30:11,870 - INFO - Time taken for step 240: 1.61 seconds.\n",
      "2025-08-11 18:30:11,915 - INFO - Forecasting step 10 days, 6:00:00 (2023-07-11 06:00:00)\n"
     ]
    },
    {
     "name": "stdout",
     "output_type": "stream",
     "text": [
      "\n",
      "😀 date=2023-07-11T00:00:00 latitudes=(542080,) longitudes=(542080,) fields=102\n",
      "\n",
      "    q_50   shape=(542080,) min=1.24667e-06    max=3.15787e-06   \n",
      "    t_1000 shape=(542080,) min=230.429        max=318.158       \n",
      "    v_925  shape=(542080,) min=-34.9804       max=29.5764       \n",
      "    z_850  shape=(542080,) min=9305.77        max=16159.9       \n",
      "    swvl2  shape=(542080,) min=0              max=0.731125      \n",
      "    tcc    shape=(542080,) min=0              max=1             \n",
      "\n"
     ]
    },
    {
     "name": "stderr",
     "output_type": "stream",
     "text": [
      "2025-08-11 18:30:13,433 - INFO - Processing step 246\n",
      "2025-08-11 18:30:13,454 - INFO - Time taken for step 246: 1.58 seconds.\n",
      "2025-08-11 18:30:13,495 - INFO - Forecasting step 10 days, 12:00:00 (2023-07-11 12:00:00)\n"
     ]
    },
    {
     "name": "stdout",
     "output_type": "stream",
     "text": [
      "\n",
      "😀 date=2023-07-11T06:00:00 latitudes=(542080,) longitudes=(542080,) fields=102\n",
      "\n",
      "    q_50   shape=(542080,) min=1.20269e-06    max=3.1536e-06    \n",
      "    t_1000 shape=(542080,) min=232.812        max=318.743       \n",
      "    v_925  shape=(542080,) min=-31.5107       max=26.7771       \n",
      "    z_850  shape=(542080,) min=9337.45        max=16142.2       \n",
      "    swvl2  shape=(542080,) min=0              max=0.730554      \n",
      "    tcc    shape=(542080,) min=0              max=1             \n",
      "\n"
     ]
    },
    {
     "name": "stderr",
     "output_type": "stream",
     "text": [
      "2025-08-11 18:30:15,010 - INFO - Processing step 252\n",
      "2025-08-11 18:30:15,030 - INFO - Time taken for step 252: 1.58 seconds.\n",
      "2025-08-11 18:30:15,069 - INFO - Forecasting step 10 days, 18:00:00 (2023-07-11 18:00:00)\n"
     ]
    },
    {
     "name": "stdout",
     "output_type": "stream",
     "text": [
      "\n",
      "😀 date=2023-07-11T12:00:00 latitudes=(542080,) longitudes=(542080,) fields=102\n",
      "\n",
      "    q_50   shape=(542080,) min=9.45897e-07    max=3.15088e-06   \n",
      "    t_1000 shape=(542080,) min=235.932        max=323.351       \n",
      "    v_925  shape=(542080,) min=-31.2448       max=25.0639       \n",
      "    z_850  shape=(542080,) min=9353.38        max=16097.3       \n",
      "    swvl2  shape=(542080,) min=0              max=0.72998       \n",
      "    tcc    shape=(542080,) min=0              max=1             \n",
      "\n"
     ]
    },
    {
     "name": "stderr",
     "output_type": "stream",
     "text": [
      "2025-08-11 18:30:16,621 - INFO - Processing step 258\n",
      "2025-08-11 18:30:16,640 - INFO - Time taken for step 258: 1.61 seconds.\n",
      "2025-08-11 18:30:16,680 - INFO - Forecasting step 11 days, 0:00:00 (2023-07-12 00:00:00)\n"
     ]
    },
    {
     "name": "stdout",
     "output_type": "stream",
     "text": [
      "\n",
      "😀 date=2023-07-11T18:00:00 latitudes=(542080,) longitudes=(542080,) fields=102\n",
      "\n",
      "    q_50   shape=(542080,) min=8.27358e-07    max=3.14682e-06   \n",
      "    t_1000 shape=(542080,) min=235.581        max=321.677       \n",
      "    v_925  shape=(542080,) min=-29.4315       max=24.7544       \n",
      "    z_850  shape=(542080,) min=9256.92        max=16115.3       \n",
      "    swvl2  shape=(542080,) min=0              max=0.729374      \n",
      "    tcc    shape=(542080,) min=0              max=1             \n",
      "\n"
     ]
    },
    {
     "name": "stderr",
     "output_type": "stream",
     "text": [
      "2025-08-11 18:30:18,218 - INFO - Processing step 264\n",
      "2025-08-11 18:30:18,242 - INFO - Time taken for step 264: 1.60 seconds.\n",
      "2025-08-11 18:30:18,282 - INFO - Forecasting step 11 days, 6:00:00 (2023-07-12 06:00:00)\n"
     ]
    },
    {
     "name": "stdout",
     "output_type": "stream",
     "text": [
      "\n",
      "😀 date=2023-07-12T00:00:00 latitudes=(542080,) longitudes=(542080,) fields=102\n",
      "\n",
      "    q_50   shape=(542080,) min=8.11422e-07    max=3.14619e-06   \n",
      "    t_1000 shape=(542080,) min=235.163        max=318.143       \n",
      "    v_925  shape=(542080,) min=-30.0445       max=27.8509       \n",
      "    z_850  shape=(542080,) min=9398.94        max=16135.2       \n",
      "    swvl2  shape=(542080,) min=0              max=0.728982      \n",
      "    tcc    shape=(542080,) min=0              max=1             \n",
      "\n"
     ]
    },
    {
     "name": "stderr",
     "output_type": "stream",
     "text": [
      "2025-08-11 18:30:19,782 - INFO - Processing step 270\n",
      "2025-08-11 18:30:19,804 - INFO - Time taken for step 270: 1.56 seconds.\n",
      "2025-08-11 18:30:19,843 - INFO - Forecasting step 11 days, 12:00:00 (2023-07-12 12:00:00)\n"
     ]
    },
    {
     "name": "stdout",
     "output_type": "stream",
     "text": [
      "\n",
      "😀 date=2023-07-12T06:00:00 latitudes=(542080,) longitudes=(542080,) fields=102\n",
      "\n",
      "    q_50   shape=(542080,) min=1.0476e-06     max=3.1416e-06    \n",
      "    t_1000 shape=(542080,) min=235.442        max=318.879       \n",
      "    v_925  shape=(542080,) min=-30.6525       max=28.1195       \n",
      "    z_850  shape=(542080,) min=9481.79        max=16118.8       \n",
      "    swvl2  shape=(542080,) min=0              max=0.728361      \n",
      "    tcc    shape=(542080,) min=0              max=1             \n",
      "\n"
     ]
    },
    {
     "name": "stderr",
     "output_type": "stream",
     "text": [
      "2025-08-11 18:30:21,395 - INFO - Processing step 276\n",
      "2025-08-11 18:30:21,420 - INFO - Time taken for step 276: 1.62 seconds.\n",
      "2025-08-11 18:30:21,459 - INFO - Forecasting step 11 days, 18:00:00 (2023-07-12 18:00:00)\n"
     ]
    },
    {
     "name": "stdout",
     "output_type": "stream",
     "text": [
      "\n",
      "😀 date=2023-07-12T12:00:00 latitudes=(542080,) longitudes=(542080,) fields=102\n",
      "\n",
      "    q_50   shape=(542080,) min=1.23039e-06    max=3.13956e-06   \n",
      "    t_1000 shape=(542080,) min=235.675        max=324.123       \n",
      "    v_925  shape=(542080,) min=-31.1449       max=24.8899       \n",
      "    z_850  shape=(542080,) min=9276.67        max=16114.5       \n",
      "    swvl2  shape=(542080,) min=0              max=0.727756      \n",
      "    tcc    shape=(542080,) min=0              max=1             \n",
      "\n"
     ]
    },
    {
     "name": "stderr",
     "output_type": "stream",
     "text": [
      "2025-08-11 18:30:22,991 - INFO - Processing step 282\n",
      "2025-08-11 18:30:23,013 - INFO - Time taken for step 282: 1.59 seconds.\n",
      "2025-08-11 18:30:23,052 - INFO - Forecasting step 12 days, 0:00:00 (2023-07-13 00:00:00)\n"
     ]
    },
    {
     "name": "stdout",
     "output_type": "stream",
     "text": [
      "\n",
      "😀 date=2023-07-12T18:00:00 latitudes=(542080,) longitudes=(542080,) fields=102\n",
      "\n",
      "    q_50   shape=(542080,) min=1.23163e-06    max=3.13543e-06   \n",
      "    t_1000 shape=(542080,) min=234.7          max=322.394       \n",
      "    v_925  shape=(542080,) min=-31.1982       max=24.2455       \n",
      "    z_850  shape=(542080,) min=9108.2         max=16142.4       \n",
      "    swvl2  shape=(542080,) min=0              max=0.727181      \n",
      "    tcc    shape=(542080,) min=0              max=1             \n",
      "\n"
     ]
    },
    {
     "name": "stderr",
     "output_type": "stream",
     "text": [
      "2025-08-11 18:30:24,584 - INFO - Processing step 288\n",
      "2025-08-11 18:30:24,606 - INFO - Time taken for step 288: 1.59 seconds.\n",
      "2025-08-11 18:30:24,644 - INFO - Forecasting step 12 days, 6:00:00 (2023-07-13 06:00:00)\n"
     ]
    },
    {
     "name": "stdout",
     "output_type": "stream",
     "text": [
      "\n",
      "😀 date=2023-07-13T00:00:00 latitudes=(542080,) longitudes=(542080,) fields=102\n",
      "\n",
      "    q_50   shape=(542080,) min=1.24906e-06    max=3.135e-06     \n",
      "    t_1000 shape=(542080,) min=234.134        max=318.634       \n",
      "    v_925  shape=(542080,) min=-30.5007       max=25.3855       \n",
      "    z_850  shape=(542080,) min=9086.69        max=16174.5       \n",
      "    swvl2  shape=(542080,) min=0              max=0.732         \n",
      "    tcc    shape=(542080,) min=0              max=1             \n",
      "\n"
     ]
    },
    {
     "name": "stderr",
     "output_type": "stream",
     "text": [
      "2025-08-11 18:30:26,145 - INFO - Processing step 294\n",
      "2025-08-11 18:30:26,167 - INFO - Time taken for step 294: 1.56 seconds.\n",
      "2025-08-11 18:30:26,205 - INFO - Forecasting step 12 days, 12:00:00 (2023-07-13 12:00:00)\n"
     ]
    },
    {
     "name": "stdout",
     "output_type": "stream",
     "text": [
      "\n",
      "😀 date=2023-07-13T06:00:00 latitudes=(542080,) longitudes=(542080,) fields=102\n",
      "\n",
      "    q_50   shape=(542080,) min=1.24658e-06    max=3.13e-06      \n",
      "    t_1000 shape=(542080,) min=234.115        max=318.485       \n",
      "    v_925  shape=(542080,) min=-29.6816       max=24.7035       \n",
      "    z_850  shape=(542080,) min=9144.38        max=16162.9       \n",
      "    swvl2  shape=(542080,) min=0              max=0.736497      \n",
      "    tcc    shape=(542080,) min=0              max=1             \n",
      "\n"
     ]
    },
    {
     "name": "stderr",
     "output_type": "stream",
     "text": [
      "2025-08-11 18:30:27,755 - INFO - Processing step 300\n",
      "2025-08-11 18:30:27,776 - INFO - Time taken for step 300: 1.61 seconds.\n",
      "2025-08-11 18:30:27,815 - INFO - Forecasting step 12 days, 18:00:00 (2023-07-13 18:00:00)\n"
     ]
    },
    {
     "name": "stdout",
     "output_type": "stream",
     "text": [
      "\n",
      "😀 date=2023-07-13T12:00:00 latitudes=(542080,) longitudes=(542080,) fields=102\n",
      "\n",
      "    q_50   shape=(542080,) min=1.23681e-06    max=3.12803e-06   \n",
      "    t_1000 shape=(542080,) min=234.08         max=324.251       \n",
      "    v_925  shape=(542080,) min=-29.1423       max=26.5473       \n",
      "    z_850  shape=(542080,) min=9336.73        max=16170.9       \n",
      "    swvl2  shape=(542080,) min=0              max=0.740264      \n",
      "    tcc    shape=(542080,) min=0              max=1             \n",
      "\n"
     ]
    },
    {
     "name": "stderr",
     "output_type": "stream",
     "text": [
      "2025-08-11 18:30:29,344 - INFO - Processing step 306\n",
      "2025-08-11 18:30:29,366 - INFO - Time taken for step 306: 1.59 seconds.\n",
      "2025-08-11 18:30:29,404 - INFO - Forecasting step 13 days, 0:00:00 (2023-07-14 00:00:00)\n"
     ]
    },
    {
     "name": "stdout",
     "output_type": "stream",
     "text": [
      "\n",
      "😀 date=2023-07-13T18:00:00 latitudes=(542080,) longitudes=(542080,) fields=102\n",
      "\n",
      "    q_50   shape=(542080,) min=1.25048e-06    max=3.12487e-06   \n",
      "    t_1000 shape=(542080,) min=234.925        max=321.611       \n",
      "    v_925  shape=(542080,) min=-31.7943       max=25.1183       \n",
      "    z_850  shape=(542080,) min=9493.77        max=16216.1       \n",
      "    swvl2  shape=(542080,) min=0              max=0.740905      \n",
      "    tcc    shape=(542080,) min=0              max=1             \n",
      "\n"
     ]
    },
    {
     "name": "stderr",
     "output_type": "stream",
     "text": [
      "2025-08-11 18:30:30,939 - INFO - Processing step 312\n",
      "2025-08-11 18:30:30,958 - INFO - Time taken for step 312: 1.59 seconds.\n",
      "2025-08-11 18:30:31,012 - INFO - Forecasting step 13 days, 6:00:00 (2023-07-14 06:00:00)\n"
     ]
    },
    {
     "name": "stdout",
     "output_type": "stream",
     "text": [
      "\n",
      "😀 date=2023-07-14T00:00:00 latitudes=(542080,) longitudes=(542080,) fields=102\n",
      "\n",
      "    q_50   shape=(542080,) min=1.26283e-06    max=3.12362e-06   \n",
      "    t_1000 shape=(542080,) min=235.163        max=319.628       \n",
      "    v_925  shape=(542080,) min=-32.8877       max=25.816        \n",
      "    z_850  shape=(542080,) min=9037.68        max=16301.2       \n",
      "    swvl2  shape=(542080,) min=0              max=0.740717      \n",
      "    tcc    shape=(542080,) min=0              max=1             \n",
      "\n"
     ]
    },
    {
     "name": "stderr",
     "output_type": "stream",
     "text": [
      "2025-08-11 18:30:32,507 - INFO - Processing step 318\n",
      "2025-08-11 18:30:32,529 - INFO - Time taken for step 318: 1.57 seconds.\n",
      "2025-08-11 18:30:32,569 - INFO - Forecasting step 13 days, 12:00:00 (2023-07-14 12:00:00)\n"
     ]
    },
    {
     "name": "stdout",
     "output_type": "stream",
     "text": [
      "\n",
      "😀 date=2023-07-14T06:00:00 latitudes=(542080,) longitudes=(542080,) fields=102\n",
      "\n",
      "    q_50   shape=(542080,) min=1.26822e-06    max=3.11715e-06   \n",
      "    t_1000 shape=(542080,) min=235.961        max=318.915       \n",
      "    v_925  shape=(542080,) min=-35.0614       max=25.7564       \n",
      "    z_850  shape=(542080,) min=8651.46        max=16337.7       \n",
      "    swvl2  shape=(542080,) min=0              max=0.741123      \n",
      "    tcc    shape=(542080,) min=0              max=1             \n",
      "\n"
     ]
    },
    {
     "name": "stderr",
     "output_type": "stream",
     "text": [
      "2025-08-11 18:30:34,192 - INFO - Processing step 324\n",
      "2025-08-11 18:30:34,213 - INFO - Time taken for step 324: 1.61 seconds.\n",
      "2025-08-11 18:30:34,252 - INFO - Forecasting step 13 days, 18:00:00 (2023-07-14 18:00:00)\n"
     ]
    },
    {
     "name": "stdout",
     "output_type": "stream",
     "text": [
      "\n",
      "😀 date=2023-07-14T12:00:00 latitudes=(542080,) longitudes=(542080,) fields=102\n",
      "\n",
      "    q_50   shape=(542080,) min=1.26519e-06    max=3.11758e-06   \n",
      "    t_1000 shape=(542080,) min=237.054        max=324.766       \n",
      "    v_925  shape=(542080,) min=-34.3413       max=24.9043       \n",
      "    z_850  shape=(542080,) min=8488.5         max=16381.8       \n",
      "    swvl2  shape=(542080,) min=0              max=0.740459      \n",
      "    tcc    shape=(542080,) min=0              max=1             \n",
      "\n"
     ]
    },
    {
     "name": "stderr",
     "output_type": "stream",
     "text": [
      "2025-08-11 18:30:35,806 - INFO - Processing step 330\n",
      "2025-08-11 18:30:35,827 - INFO - Time taken for step 330: 1.61 seconds.\n",
      "2025-08-11 18:30:35,867 - INFO - Forecasting step 14 days, 0:00:00 (2023-07-15 00:00:00)\n"
     ]
    },
    {
     "name": "stdout",
     "output_type": "stream",
     "text": [
      "\n",
      "😀 date=2023-07-14T18:00:00 latitudes=(542080,) longitudes=(542080,) fields=102\n",
      "\n",
      "    q_50   shape=(542080,) min=1.262e-06      max=3.11785e-06   \n",
      "    t_1000 shape=(542080,) min=236.699        max=321.53        \n",
      "    v_925  shape=(542080,) min=-33.3458       max=25.419        \n",
      "    z_850  shape=(542080,) min=8361.28        max=16452.2       \n",
      "    swvl2  shape=(542080,) min=0              max=0.740095      \n",
      "    tcc    shape=(542080,) min=0              max=1             \n",
      "\n"
     ]
    },
    {
     "name": "stderr",
     "output_type": "stream",
     "text": [
      "2025-08-11 18:30:37,418 - INFO - Processing step 336\n",
      "2025-08-11 18:30:37,438 - INFO - Time taken for step 336: 1.61 seconds.\n",
      "2025-08-11 18:30:37,479 - INFO - Forecasting step 14 days, 6:00:00 (2023-07-15 06:00:00)\n"
     ]
    },
    {
     "name": "stdout",
     "output_type": "stream",
     "text": [
      "\n",
      "😀 date=2023-07-15T00:00:00 latitudes=(542080,) longitudes=(542080,) fields=102\n",
      "\n",
      "    q_50   shape=(542080,) min=1.28944e-06    max=3.11801e-06   \n",
      "    t_1000 shape=(542080,) min=234.543        max=320.335       \n",
      "    v_925  shape=(542080,) min=-31.1341       max=25.9015       \n",
      "    z_850  shape=(542080,) min=8261.02        max=16529.6       \n",
      "    swvl2  shape=(542080,) min=0              max=0.739105      \n",
      "    tcc    shape=(542080,) min=0              max=1             \n",
      "\n"
     ]
    },
    {
     "name": "stderr",
     "output_type": "stream",
     "text": [
      "2025-08-11 18:30:39,039 - INFO - Processing step 342\n",
      "2025-08-11 18:30:39,065 - INFO - Time taken for step 342: 1.63 seconds.\n",
      "2025-08-11 18:30:39,108 - INFO - Forecasting step 14 days, 12:00:00 (2023-07-15 12:00:00)\n"
     ]
    },
    {
     "name": "stdout",
     "output_type": "stream",
     "text": [
      "\n",
      "😀 date=2023-07-15T06:00:00 latitudes=(542080,) longitudes=(542080,) fields=102\n",
      "\n",
      "    q_50   shape=(542080,) min=1.28062e-06    max=3.11806e-06   \n",
      "    t_1000 shape=(542080,) min=233.529        max=319.557       \n",
      "    v_925  shape=(542080,) min=-35.5556       max=25.5869       \n",
      "    z_850  shape=(542080,) min=8253.07        max=16538.7       \n",
      "    swvl2  shape=(542080,) min=0              max=0.73707       \n",
      "    tcc    shape=(542080,) min=0              max=1             \n",
      "\n"
     ]
    },
    {
     "name": "stderr",
     "output_type": "stream",
     "text": [
      "2025-08-11 18:30:40,634 - INFO - Processing step 348\n",
      "2025-08-11 18:30:40,661 - INFO - Time taken for step 348: 1.60 seconds.\n",
      "2025-08-11 18:30:40,702 - INFO - Forecasting step 14 days, 18:00:00 (2023-07-15 18:00:00)\n"
     ]
    },
    {
     "name": "stdout",
     "output_type": "stream",
     "text": [
      "\n",
      "😀 date=2023-07-15T12:00:00 latitudes=(542080,) longitudes=(542080,) fields=102\n",
      "\n",
      "    q_50   shape=(542080,) min=1.28733e-06    max=3.12077e-06   \n",
      "    t_1000 shape=(542080,) min=232.66         max=323.701       \n",
      "    v_925  shape=(542080,) min=-36.992        max=28.5008       \n",
      "    z_850  shape=(542080,) min=8234.53        max=16506.1       \n",
      "    swvl2  shape=(542080,) min=0              max=0.736246      \n",
      "    tcc    shape=(542080,) min=0              max=1             \n",
      "\n"
     ]
    },
    {
     "name": "stderr",
     "output_type": "stream",
     "text": [
      "2025-08-11 18:30:42,267 - INFO - Processing step 354\n",
      "2025-08-11 18:30:42,297 - INFO - Time taken for step 354: 1.64 seconds.\n",
      "2025-08-11 18:30:42,338 - INFO - Forecasting step 15 days, 0:00:00 (2023-07-16 00:00:00)\n"
     ]
    },
    {
     "name": "stdout",
     "output_type": "stream",
     "text": [
      "\n",
      "😀 date=2023-07-15T18:00:00 latitudes=(542080,) longitudes=(542080,) fields=102\n",
      "\n",
      "    q_50   shape=(542080,) min=1.28517e-06    max=3.1203e-06    \n",
      "    t_1000 shape=(542080,) min=232.638        max=320.914       \n",
      "    v_925  shape=(542080,) min=-30.9113       max=31.071        \n",
      "    z_850  shape=(542080,) min=8032.19        max=16530         \n",
      "    swvl2  shape=(542080,) min=0              max=0.734215      \n",
      "    tcc    shape=(542080,) min=0              max=1             \n",
      "\n"
     ]
    },
    {
     "name": "stderr",
     "output_type": "stream",
     "text": [
      "2025-08-11 18:30:43,884 - INFO - Processing step 360\n",
      "2025-08-11 18:30:43,908 - INFO - Time taken for step 360: 1.61 seconds.\n",
      "2025-08-11 18:30:43,911 - INFO - Inference session completed.\n",
      "2025-08-11 18:30:43,912 - INFO - Total time taken for the inference session: 102.75 seconds.\n",
      "2025-08-11 18:30:43,912 - INFO - Concatenating all steps into a single dataset.\n"
     ]
    },
    {
     "name": "stdout",
     "output_type": "stream",
     "text": [
      "\n",
      "😀 date=2023-07-16T00:00:00 latitudes=(542080,) longitudes=(542080,) fields=102\n",
      "\n",
      "    q_50   shape=(542080,) min=1.30108e-06    max=3.11696e-06   \n",
      "    t_1000 shape=(542080,) min=231.39         max=319.353       \n",
      "    v_925  shape=(542080,) min=-30.7687       max=30.0895       \n",
      "    z_850  shape=(542080,) min=8119.4         max=16542.4       \n",
      "    swvl2  shape=(542080,) min=0              max=0.732036      \n",
      "    tcc    shape=(542080,) min=0              max=1             \n",
      "\n"
     ]
    },
    {
     "name": "stderr",
     "output_type": "stream",
     "text": [
      "2025-08-11 18:30:44,108 - INFO - Saving output dataset to output_states/init_ERA5_20230701T00_lead_360.nc\n",
      "2025-08-11 18:30:46,443 - INFO - Running inference for initialization date: 2023-07-02 00:00:00\n",
      "2025-08-11 18:30:46,444 - INFO - Getting ERA5 data for date 2023-07-02 00:00:00\n",
      "2025-08-11 18:30:46,445 - INFO - Input state for 2023-07-02 00:00:00 already exists locally. Loading from file...\n",
      "2025-08-11 18:30:48,609 - INFO - Input state loaded successfully.\n",
      "2025-08-11 18:30:48,609 - INFO - Using SimpleRunner runner\n",
      "2025-08-11 18:30:48,610 - INFO - Starting the inference session...\n",
      "2025-08-11 18:30:48,629 - INFO - Computed constant forcings: before ['cos_latitude', 'cos_longitude', 'sin_latitude', 'sin_longitude'], after ['cos_latitude', 'cos_longitude', 'sin_latitude', 'sin_longitude']\n",
      "2025-08-11 18:30:48,630 - INFO - Constant computed forcing: ComputedForcings(['cos_latitude', 'cos_longitude', 'sin_latitude', 'sin_longitude'])\n",
      "2025-08-11 18:30:48,630 - INFO - Dynamic computed forcing: ComputedForcings(['cos_julian_day', 'cos_local_time', 'sin_julian_day', 'sin_local_time', 'insolation'])\n",
      "2025-08-11 18:30:48,630 - INFO - Constant forcings input: ComputedForcings(['cos_latitude', 'cos_longitude', 'sin_latitude', 'sin_longitude']) ['cos_latitude', 'cos_longitude', 'sin_latitude', 'sin_longitude'] ([datetime.datetime(2023, 7, 1, 18, 0), datetime.datetime(2023, 7, 2, 0, 0)])\n",
      "2025-08-11 18:30:48,645 - INFO - Dynamic forcings input: ComputedForcings(['cos_julian_day', 'cos_local_time', 'sin_julian_day', 'sin_local_time', 'insolation']) ['cos_julian_day', 'cos_local_time', 'sin_julian_day', 'sin_local_time', 'insolation'] ([datetime.datetime(2023, 7, 1, 18, 0), datetime.datetime(2023, 7, 2, 0, 0)])\n",
      "2025-08-11 18:30:48,704 - INFO - Expected shape for each input fields: (2, 542080)\n",
      "2025-08-11 18:30:48,865 - INFO - Preparing input tensor with shape (2, 103, 542080)\n",
      "2025-08-11 18:30:56,512 - INFO - Loading Checkpoint(weights/AIFS/aifs-single-mse-1.0.ckpt): 7 seconds.\n",
      "2025-08-11 18:30:56,739 - INFO - Using autocast torch.float16\n",
      "2025-08-11 18:30:56,740 - INFO - Lead time: 15 days, 0:00:00, time stepping: 6:00:00 Forecasting 60 steps\n",
      "2025-08-11 18:30:56,740 - INFO - Forecasting step 6:00:00 (2023-07-02 06:00:00)\n",
      "2025-08-11 18:31:00,086 - INFO - Processing step 6\n",
      "2025-08-11 18:31:00,108 - INFO - Time taken for step 6: 11.50 seconds.\n",
      "2025-08-11 18:31:00,144 - INFO - Forecasting step 12:00:00 (2023-07-02 12:00:00)\n"
     ]
    },
    {
     "name": "stdout",
     "output_type": "stream",
     "text": [
      "\n",
      "😀 date=2023-07-02T06:00:00 latitudes=(542080,) longitudes=(542080,) fields=102\n",
      "\n",
      "    q_50   shape=(542080,) min=7.59106e-07    max=3.14784e-06   \n",
      "    t_1000 shape=(542080,) min=229.897        max=321.431       \n",
      "    v_925  shape=(542080,) min=-37.5519       max=50.7488       \n",
      "    z_850  shape=(542080,) min=8155.82        max=15922.8       \n",
      "    swvl2  shape=(542080,) min=0              max=0.762047      \n",
      "    tcc    shape=(542080,) min=0              max=1             \n",
      "\n"
     ]
    },
    {
     "name": "stderr",
     "output_type": "stream",
     "text": [
      "2025-08-11 18:31:03,342 - INFO - Processing step 12\n",
      "2025-08-11 18:31:03,364 - INFO - Time taken for step 12: 3.26 seconds.\n",
      "2025-08-11 18:31:03,400 - INFO - Forecasting step 18:00:00 (2023-07-02 18:00:00)\n"
     ]
    },
    {
     "name": "stdout",
     "output_type": "stream",
     "text": [
      "\n",
      "😀 date=2023-07-02T12:00:00 latitudes=(542080,) longitudes=(542080,) fields=102\n",
      "\n",
      "    q_50   shape=(542080,) min=6.62842e-07    max=3.14573e-06   \n",
      "    t_1000 shape=(542080,) min=229.23         max=324.948       \n",
      "    v_925  shape=(542080,) min=-37.153        max=48.9702       \n",
      "    z_850  shape=(542080,) min=8473.9         max=15967.6       \n",
      "    swvl2  shape=(542080,) min=0              max=0.760027      \n",
      "    tcc    shape=(542080,) min=0              max=1             \n",
      "\n"
     ]
    },
    {
     "name": "stderr",
     "output_type": "stream",
     "text": [
      "2025-08-11 18:31:06,742 - INFO - Processing step 18\n",
      "2025-08-11 18:31:06,770 - INFO - Time taken for step 18: 3.32 seconds.\n",
      "2025-08-11 18:31:06,808 - INFO - Forecasting step 1 day, 0:00:00 (2023-07-03 00:00:00)\n"
     ]
    },
    {
     "name": "stdout",
     "output_type": "stream",
     "text": [
      "\n",
      "😀 date=2023-07-02T18:00:00 latitudes=(542080,) longitudes=(542080,) fields=102\n",
      "\n",
      "    q_50   shape=(542080,) min=5.20364e-07    max=3.14552e-06   \n",
      "    t_1000 shape=(542080,) min=228.857        max=322.943       \n",
      "    v_925  shape=(542080,) min=-36.9468       max=47.4705       \n",
      "    z_850  shape=(542080,) min=8431.63        max=15970.5       \n",
      "    swvl2  shape=(542080,) min=0              max=0.758678      \n",
      "    tcc    shape=(542080,) min=0              max=1             \n",
      "\n"
     ]
    },
    {
     "name": "stderr",
     "output_type": "stream",
     "text": [
      "2025-08-11 18:31:10,060 - INFO - Processing step 24\n",
      "2025-08-11 18:31:10,084 - INFO - Time taken for step 24: 3.31 seconds.\n",
      "2025-08-11 18:31:10,121 - INFO - Forecasting step 1 day, 6:00:00 (2023-07-03 06:00:00)\n"
     ]
    },
    {
     "name": "stdout",
     "output_type": "stream",
     "text": [
      "\n",
      "😀 date=2023-07-03T00:00:00 latitudes=(542080,) longitudes=(542080,) fields=102\n",
      "\n",
      "    q_50   shape=(542080,) min=6.80633e-07    max=3.15231e-06   \n",
      "    t_1000 shape=(542080,) min=227.404        max=319.465       \n",
      "    v_925  shape=(542080,) min=-33.7299       max=46.098        \n",
      "    z_850  shape=(542080,) min=8400.92        max=15995.3       \n",
      "    swvl2  shape=(542080,) min=0              max=0.757443      \n",
      "    tcc    shape=(542080,) min=0              max=1             \n",
      "\n"
     ]
    },
    {
     "name": "stderr",
     "output_type": "stream",
     "text": [
      "2025-08-11 18:31:13,341 - INFO - Processing step 30\n",
      "2025-08-11 18:31:13,361 - INFO - Time taken for step 30: 3.28 seconds.\n",
      "2025-08-11 18:31:13,397 - INFO - Forecasting step 1 day, 12:00:00 (2023-07-03 12:00:00)\n"
     ]
    },
    {
     "name": "stdout",
     "output_type": "stream",
     "text": [
      "\n",
      "😀 date=2023-07-03T06:00:00 latitudes=(542080,) longitudes=(542080,) fields=102\n",
      "\n",
      "    q_50   shape=(542080,) min=7.99022e-07    max=3.15856e-06   \n",
      "    t_1000 shape=(542080,) min=228.211        max=320.073       \n",
      "    v_925  shape=(542080,) min=-33.2644       max=45.515        \n",
      "    z_850  shape=(542080,) min=8614.51        max=16054.3       \n",
      "    swvl2  shape=(542080,) min=0              max=0.755825      \n",
      "    tcc    shape=(542080,) min=0              max=1             \n",
      "\n"
     ]
    },
    {
     "name": "stderr",
     "output_type": "stream",
     "text": [
      "2025-08-11 18:31:16,612 - INFO - Processing step 36\n",
      "2025-08-11 18:31:16,635 - INFO - Time taken for step 36: 3.27 seconds.\n",
      "2025-08-11 18:31:16,691 - INFO - Forecasting step 1 day, 18:00:00 (2023-07-03 18:00:00)\n"
     ]
    },
    {
     "name": "stdout",
     "output_type": "stream",
     "text": [
      "\n",
      "😀 date=2023-07-03T12:00:00 latitudes=(542080,) longitudes=(542080,) fields=102\n",
      "\n",
      "    q_50   shape=(542080,) min=8.63541e-07    max=3.16334e-06   \n",
      "    t_1000 shape=(542080,) min=226.611        max=323.869       \n",
      "    v_925  shape=(542080,) min=-32.5377       max=43.5156       \n",
      "    z_850  shape=(542080,) min=8981.29        max=16001.7       \n",
      "    swvl2  shape=(542080,) min=0              max=0.754784      \n",
      "    tcc    shape=(542080,) min=0              max=1             \n",
      "\n"
     ]
    },
    {
     "name": "stderr",
     "output_type": "stream",
     "text": [
      "2025-08-11 18:31:19,883 - INFO - Processing step 42\n",
      "2025-08-11 18:31:19,906 - INFO - Time taken for step 42: 3.27 seconds.\n",
      "2025-08-11 18:31:19,944 - INFO - Forecasting step 2 days, 0:00:00 (2023-07-04 00:00:00)\n"
     ]
    },
    {
     "name": "stdout",
     "output_type": "stream",
     "text": [
      "\n",
      "😀 date=2023-07-03T18:00:00 latitudes=(542080,) longitudes=(542080,) fields=102\n",
      "\n",
      "    q_50   shape=(542080,) min=9.03636e-07    max=3.17207e-06   \n",
      "    t_1000 shape=(542080,) min=224.075        max=322.068       \n",
      "    v_925  shape=(542080,) min=-30.4948       max=41.1426       \n",
      "    z_850  shape=(542080,) min=8779.52        max=16008.6       \n",
      "    swvl2  shape=(542080,) min=0              max=0.753525      \n",
      "    tcc    shape=(542080,) min=0              max=1             \n",
      "\n"
     ]
    },
    {
     "name": "stderr",
     "output_type": "stream",
     "text": [
      "2025-08-11 18:31:23,153 - INFO - Processing step 48\n",
      "2025-08-11 18:31:23,177 - INFO - Time taken for step 48: 3.27 seconds.\n",
      "2025-08-11 18:31:23,211 - INFO - Forecasting step 2 days, 6:00:00 (2023-07-04 06:00:00)\n"
     ]
    },
    {
     "name": "stdout",
     "output_type": "stream",
     "text": [
      "\n",
      "😀 date=2023-07-04T00:00:00 latitudes=(542080,) longitudes=(542080,) fields=102\n",
      "\n",
      "    q_50   shape=(542080,) min=9.0809e-07     max=3.1874e-06    \n",
      "    t_1000 shape=(542080,) min=221.726        max=319.293       \n",
      "    v_925  shape=(542080,) min=-29.5942       max=38.9769       \n",
      "    z_850  shape=(542080,) min=8858.87        max=16054.8       \n",
      "    swvl2  shape=(542080,) min=0              max=0.752535      \n",
      "    tcc    shape=(542080,) min=0              max=1             \n",
      "\n"
     ]
    },
    {
     "name": "stderr",
     "output_type": "stream",
     "text": [
      "2025-08-11 18:31:26,419 - INFO - Processing step 54\n",
      "2025-08-11 18:31:26,443 - INFO - Time taken for step 54: 3.27 seconds.\n",
      "2025-08-11 18:31:26,490 - INFO - Forecasting step 2 days, 12:00:00 (2023-07-04 12:00:00)\n"
     ]
    },
    {
     "name": "stdout",
     "output_type": "stream",
     "text": [
      "\n",
      "😀 date=2023-07-04T06:00:00 latitudes=(542080,) longitudes=(542080,) fields=102\n",
      "\n",
      "    q_50   shape=(542080,) min=9.06952e-07    max=3.18829e-06   \n",
      "    t_1000 shape=(542080,) min=222.822        max=318.524       \n",
      "    v_925  shape=(542080,) min=-30.2198       max=34.2642       \n",
      "    z_850  shape=(542080,) min=9142.65        max=16091         \n",
      "    swvl2  shape=(542080,) min=0              max=0.751547      \n",
      "    tcc    shape=(542080,) min=0              max=1             \n",
      "\n"
     ]
    },
    {
     "name": "stderr",
     "output_type": "stream",
     "text": [
      "2025-08-11 18:31:29,701 - INFO - Processing step 60\n",
      "2025-08-11 18:31:29,725 - INFO - Time taken for step 60: 3.28 seconds.\n",
      "2025-08-11 18:31:29,761 - INFO - Forecasting step 2 days, 18:00:00 (2023-07-04 18:00:00)\n"
     ]
    },
    {
     "name": "stdout",
     "output_type": "stream",
     "text": [
      "\n",
      "😀 date=2023-07-04T12:00:00 latitudes=(542080,) longitudes=(542080,) fields=102\n",
      "\n",
      "    q_50   shape=(542080,) min=9.53784e-07    max=3.18447e-06   \n",
      "    t_1000 shape=(542080,) min=223.218        max=323.356       \n",
      "    v_925  shape=(542080,) min=-33.8494       max=28.5268       \n",
      "    z_850  shape=(542080,) min=9360.53        max=16072.2       \n",
      "    swvl2  shape=(542080,) min=0              max=0.750478      \n",
      "    tcc    shape=(542080,) min=0              max=1             \n",
      "\n"
     ]
    },
    {
     "name": "stderr",
     "output_type": "stream",
     "text": [
      "2025-08-11 18:31:32,960 - INFO - Processing step 66\n",
      "2025-08-11 18:31:32,985 - INFO - Time taken for step 66: 3.26 seconds.\n",
      "2025-08-11 18:31:33,021 - INFO - Forecasting step 3 days, 0:00:00 (2023-07-05 00:00:00)\n"
     ]
    },
    {
     "name": "stdout",
     "output_type": "stream",
     "text": [
      "\n",
      "😀 date=2023-07-04T18:00:00 latitudes=(542080,) longitudes=(542080,) fields=102\n",
      "\n",
      "    q_50   shape=(542080,) min=9.90289e-07    max=3.18352e-06   \n",
      "    t_1000 shape=(542080,) min=224.957        max=321.07        \n",
      "    v_925  shape=(542080,) min=-33.7796       max=26.7539       \n",
      "    z_850  shape=(542080,) min=9416.82        max=16129.3       \n",
      "    swvl2  shape=(542080,) min=0              max=0.749556      \n",
      "    tcc    shape=(542080,) min=0              max=1             \n",
      "\n"
     ]
    },
    {
     "name": "stderr",
     "output_type": "stream",
     "text": [
      "2025-08-11 18:31:36,269 - INFO - Processing step 72\n",
      "2025-08-11 18:31:36,293 - INFO - Time taken for step 72: 3.27 seconds.\n",
      "2025-08-11 18:31:36,329 - INFO - Forecasting step 3 days, 6:00:00 (2023-07-05 06:00:00)\n"
     ]
    },
    {
     "name": "stdout",
     "output_type": "stream",
     "text": [
      "\n",
      "😀 date=2023-07-05T00:00:00 latitudes=(542080,) longitudes=(542080,) fields=102\n",
      "\n",
      "    q_50   shape=(542080,) min=1.02316e-06    max=3.18432e-06   \n",
      "    t_1000 shape=(542080,) min=226.47         max=319.506       \n",
      "    v_925  shape=(542080,) min=-33.0059       max=24.4689       \n",
      "    z_850  shape=(542080,) min=9372.06        max=16149.7       \n",
      "    swvl2  shape=(542080,) min=0              max=0.74865       \n",
      "    tcc    shape=(542080,) min=0              max=1             \n",
      "\n"
     ]
    },
    {
     "name": "stderr",
     "output_type": "stream",
     "text": [
      "2025-08-11 18:31:39,562 - INFO - Processing step 78\n",
      "2025-08-11 18:31:39,586 - INFO - Time taken for step 78: 3.29 seconds.\n",
      "2025-08-11 18:31:39,626 - INFO - Forecasting step 3 days, 12:00:00 (2023-07-05 12:00:00)\n"
     ]
    },
    {
     "name": "stdout",
     "output_type": "stream",
     "text": [
      "\n",
      "😀 date=2023-07-05T06:00:00 latitudes=(542080,) longitudes=(542080,) fields=102\n",
      "\n",
      "    q_50   shape=(542080,) min=1.06691e-06    max=3.18107e-06   \n",
      "    t_1000 shape=(542080,) min=229.385        max=318.183       \n",
      "    v_925  shape=(542080,) min=-31.7402       max=26.0731       \n",
      "    z_850  shape=(542080,) min=9328.94        max=16150.7       \n",
      "    swvl2  shape=(542080,) min=0              max=0.747508      \n",
      "    tcc    shape=(542080,) min=0              max=1             \n",
      "\n"
     ]
    },
    {
     "name": "stderr",
     "output_type": "stream",
     "text": [
      "2025-08-11 18:31:42,872 - INFO - Processing step 84\n",
      "2025-08-11 18:31:42,896 - INFO - Time taken for step 84: 3.31 seconds.\n",
      "2025-08-11 18:31:42,950 - INFO - Forecasting step 3 days, 18:00:00 (2023-07-05 18:00:00)\n"
     ]
    },
    {
     "name": "stdout",
     "output_type": "stream",
     "text": [
      "\n",
      "😀 date=2023-07-05T12:00:00 latitudes=(542080,) longitudes=(542080,) fields=102\n",
      "\n",
      "    q_50   shape=(542080,) min=1.11101e-06    max=3.18068e-06   \n",
      "    t_1000 shape=(542080,) min=231.124        max=322.883       \n",
      "    v_925  shape=(542080,) min=-29.6044       max=28.377        \n",
      "    z_850  shape=(542080,) min=9378           max=16097.6       \n",
      "    swvl2  shape=(542080,) min=0              max=0.746659      \n",
      "    tcc    shape=(542080,) min=0              max=1             \n",
      "\n"
     ]
    },
    {
     "name": "stderr",
     "output_type": "stream",
     "text": [
      "2025-08-11 18:31:46,156 - INFO - Processing step 90\n",
      "2025-08-11 18:31:46,180 - INFO - Time taken for step 90: 3.28 seconds.\n",
      "2025-08-11 18:31:46,216 - INFO - Forecasting step 4 days, 0:00:00 (2023-07-06 00:00:00)\n"
     ]
    },
    {
     "name": "stdout",
     "output_type": "stream",
     "text": [
      "\n",
      "😀 date=2023-07-05T18:00:00 latitudes=(542080,) longitudes=(542080,) fields=102\n",
      "\n",
      "    q_50   shape=(542080,) min=1.1379e-06     max=3.17985e-06   \n",
      "    t_1000 shape=(542080,) min=226.245        max=321.194       \n",
      "    v_925  shape=(542080,) min=-28.6939       max=28.8578       \n",
      "    z_850  shape=(542080,) min=9543.62        max=16128.5       \n",
      "    swvl2  shape=(542080,) min=0              max=0.745881      \n",
      "    tcc    shape=(542080,) min=0              max=1             \n",
      "\n"
     ]
    },
    {
     "name": "stderr",
     "output_type": "stream",
     "text": [
      "2025-08-11 18:31:49,434 - INFO - Processing step 96\n",
      "2025-08-11 18:31:49,455 - INFO - Time taken for step 96: 3.27 seconds.\n",
      "2025-08-11 18:31:49,497 - INFO - Forecasting step 4 days, 6:00:00 (2023-07-06 06:00:00)\n"
     ]
    },
    {
     "name": "stdout",
     "output_type": "stream",
     "text": [
      "\n",
      "😀 date=2023-07-06T00:00:00 latitudes=(542080,) longitudes=(542080,) fields=102\n",
      "\n",
      "    q_50   shape=(542080,) min=1.13981e-06    max=3.18254e-06   \n",
      "    t_1000 shape=(542080,) min=223.445        max=318.974       \n",
      "    v_925  shape=(542080,) min=-28.6251       max=34.4506       \n",
      "    z_850  shape=(542080,) min=9459.21        max=16157.1       \n",
      "    swvl2  shape=(542080,) min=0              max=0.745292      \n",
      "    tcc    shape=(542080,) min=0              max=1             \n",
      "\n"
     ]
    },
    {
     "name": "stderr",
     "output_type": "stream",
     "text": [
      "2025-08-11 18:31:52,707 - INFO - Processing step 102\n",
      "2025-08-11 18:31:52,734 - INFO - Time taken for step 102: 3.28 seconds.\n",
      "2025-08-11 18:31:52,770 - INFO - Forecasting step 4 days, 12:00:00 (2023-07-06 12:00:00)\n"
     ]
    },
    {
     "name": "stdout",
     "output_type": "stream",
     "text": [
      "\n",
      "😀 date=2023-07-06T06:00:00 latitudes=(542080,) longitudes=(542080,) fields=102\n",
      "\n",
      "    q_50   shape=(542080,) min=1.1603e-06     max=3.17933e-06   \n",
      "    t_1000 shape=(542080,) min=222.691        max=317.455       \n",
      "    v_925  shape=(542080,) min=-27.2186       max=41.5655       \n",
      "    z_850  shape=(542080,) min=9463.01        max=16160.4       \n",
      "    swvl2  shape=(542080,) min=0              max=0.744481      \n",
      "    tcc    shape=(542080,) min=0              max=1             \n",
      "\n"
     ]
    },
    {
     "name": "stderr",
     "output_type": "stream",
     "text": [
      "2025-08-11 18:31:55,978 - INFO - Processing step 108\n",
      "2025-08-11 18:31:56,001 - INFO - Time taken for step 108: 3.27 seconds.\n",
      "2025-08-11 18:31:56,038 - INFO - Forecasting step 4 days, 18:00:00 (2023-07-06 18:00:00)\n"
     ]
    },
    {
     "name": "stdout",
     "output_type": "stream",
     "text": [
      "\n",
      "😀 date=2023-07-06T12:00:00 latitudes=(542080,) longitudes=(542080,) fields=102\n",
      "\n",
      "    q_50   shape=(542080,) min=1.17849e-06    max=3.1794e-06    \n",
      "    t_1000 shape=(542080,) min=223.97         max=322.326       \n",
      "    v_925  shape=(542080,) min=-31.7704       max=43.1329       \n",
      "    z_850  shape=(542080,) min=9130.45        max=16136.9       \n",
      "    swvl2  shape=(542080,) min=0              max=0.743647      \n",
      "    tcc    shape=(542080,) min=0              max=1             \n",
      "\n"
     ]
    },
    {
     "name": "stderr",
     "output_type": "stream",
     "text": [
      "2025-08-11 18:31:59,235 - INFO - Processing step 114\n",
      "2025-08-11 18:31:59,259 - INFO - Time taken for step 114: 3.26 seconds.\n",
      "2025-08-11 18:31:59,301 - INFO - Forecasting step 5 days, 0:00:00 (2023-07-07 00:00:00)\n"
     ]
    },
    {
     "name": "stdout",
     "output_type": "stream",
     "text": [
      "\n",
      "😀 date=2023-07-06T18:00:00 latitudes=(542080,) longitudes=(542080,) fields=102\n",
      "\n",
      "    q_50   shape=(542080,) min=1.1922e-06     max=3.18073e-06   \n",
      "    t_1000 shape=(542080,) min=226.235        max=320.551       \n",
      "    v_925  shape=(542080,) min=-33.8988       max=34.7364       \n",
      "    z_850  shape=(542080,) min=8852.89        max=16152.2       \n",
      "    swvl2  shape=(542080,) min=0              max=0.742886      \n",
      "    tcc    shape=(542080,) min=0              max=1             \n",
      "\n"
     ]
    },
    {
     "name": "stderr",
     "output_type": "stream",
     "text": [
      "2025-08-11 18:32:02,500 - INFO - Processing step 120\n",
      "2025-08-11 18:32:02,524 - INFO - Time taken for step 120: 3.26 seconds.\n",
      "2025-08-11 18:32:02,561 - INFO - Forecasting step 5 days, 6:00:00 (2023-07-07 06:00:00)\n"
     ]
    },
    {
     "name": "stdout",
     "output_type": "stream",
     "text": [
      "\n",
      "😀 date=2023-07-07T00:00:00 latitudes=(542080,) longitudes=(542080,) fields=102\n",
      "\n",
      "    q_50   shape=(542080,) min=1.20519e-06    max=3.18497e-06   \n",
      "    t_1000 shape=(542080,) min=227.364        max=318.756       \n",
      "    v_925  shape=(542080,) min=-30.4116       max=27.8525       \n",
      "    z_850  shape=(542080,) min=8672.55        max=16163.9       \n",
      "    swvl2  shape=(542080,) min=0              max=0.742403      \n",
      "    tcc    shape=(542080,) min=0              max=1             \n",
      "\n"
     ]
    },
    {
     "name": "stderr",
     "output_type": "stream",
     "text": [
      "2025-08-11 18:32:05,856 - INFO - Processing step 126\n",
      "2025-08-11 18:32:05,880 - INFO - Time taken for step 126: 3.29 seconds.\n",
      "2025-08-11 18:32:05,929 - INFO - Forecasting step 5 days, 12:00:00 (2023-07-07 12:00:00)\n"
     ]
    },
    {
     "name": "stdout",
     "output_type": "stream",
     "text": [
      "\n",
      "😀 date=2023-07-07T06:00:00 latitudes=(542080,) longitudes=(542080,) fields=102\n",
      "\n",
      "    q_50   shape=(542080,) min=1.21016e-06    max=3.18849e-06   \n",
      "    t_1000 shape=(542080,) min=227.647        max=316.502       \n",
      "    v_925  shape=(542080,) min=-27.8944       max=26.7717       \n",
      "    z_850  shape=(542080,) min=8693.3         max=16124.4       \n",
      "    swvl2  shape=(542080,) min=0              max=0.741829      \n",
      "    tcc    shape=(542080,) min=0              max=1             \n",
      "\n"
     ]
    },
    {
     "name": "stderr",
     "output_type": "stream",
     "text": [
      "2025-08-11 18:32:09,166 - INFO - Processing step 132\n",
      "2025-08-11 18:32:09,188 - INFO - Time taken for step 132: 3.31 seconds.\n",
      "2025-08-11 18:32:09,225 - INFO - Forecasting step 5 days, 18:00:00 (2023-07-07 18:00:00)\n"
     ]
    },
    {
     "name": "stdout",
     "output_type": "stream",
     "text": [
      "\n",
      "😀 date=2023-07-07T12:00:00 latitudes=(542080,) longitudes=(542080,) fields=102\n",
      "\n",
      "    q_50   shape=(542080,) min=1.21382e-06    max=3.18908e-06   \n",
      "    t_1000 shape=(542080,) min=227.255        max=321.23        \n",
      "    v_925  shape=(542080,) min=-26.9654       max=29.1329       \n",
      "    z_850  shape=(542080,) min=8754           max=16051.2       \n",
      "    swvl2  shape=(542080,) min=0              max=0.741256      \n",
      "    tcc    shape=(542080,) min=0              max=1             \n",
      "\n"
     ]
    },
    {
     "name": "stderr",
     "output_type": "stream",
     "text": [
      "2025-08-11 18:32:12,464 - INFO - Processing step 138\n",
      "2025-08-11 18:32:12,487 - INFO - Time taken for step 138: 3.30 seconds.\n",
      "2025-08-11 18:32:12,525 - INFO - Forecasting step 6 days, 0:00:00 (2023-07-08 00:00:00)\n"
     ]
    },
    {
     "name": "stdout",
     "output_type": "stream",
     "text": [
      "\n",
      "😀 date=2023-07-07T18:00:00 latitudes=(542080,) longitudes=(542080,) fields=102\n",
      "\n",
      "    q_50   shape=(542080,) min=1.21832e-06    max=3.18609e-06   \n",
      "    t_1000 shape=(542080,) min=227.777        max=320.732       \n",
      "    v_925  shape=(542080,) min=-26.0784       max=28.1151       \n",
      "    z_850  shape=(542080,) min=8647.94        max=16040         \n",
      "    swvl2  shape=(542080,) min=0              max=0.740625      \n",
      "    tcc    shape=(542080,) min=0              max=1             \n",
      "\n"
     ]
    },
    {
     "name": "stderr",
     "output_type": "stream",
     "text": [
      "2025-08-11 18:32:15,780 - INFO - Processing step 144\n",
      "2025-08-11 18:32:15,805 - INFO - Time taken for step 144: 3.32 seconds.\n",
      "2025-08-11 18:32:15,842 - INFO - Forecasting step 6 days, 6:00:00 (2023-07-08 06:00:00)\n"
     ]
    },
    {
     "name": "stdout",
     "output_type": "stream",
     "text": [
      "\n",
      "😀 date=2023-07-08T00:00:00 latitudes=(542080,) longitudes=(542080,) fields=102\n",
      "\n",
      "    q_50   shape=(542080,) min=1.22031e-06    max=3.18572e-06   \n",
      "    t_1000 shape=(542080,) min=226.485        max=318.328       \n",
      "    v_925  shape=(542080,) min=-28.823        max=28.3444       \n",
      "    z_850  shape=(542080,) min=8512.9         max=16083.2       \n",
      "    swvl2  shape=(542080,) min=0              max=0.740137      \n",
      "    tcc    shape=(542080,) min=0              max=1             \n",
      "\n"
     ]
    },
    {
     "name": "stderr",
     "output_type": "stream",
     "text": [
      "2025-08-11 18:32:19,059 - INFO - Processing step 150\n",
      "2025-08-11 18:32:19,081 - INFO - Time taken for step 150: 3.28 seconds.\n",
      "2025-08-11 18:32:19,116 - INFO - Forecasting step 6 days, 12:00:00 (2023-07-08 12:00:00)\n"
     ]
    },
    {
     "name": "stdout",
     "output_type": "stream",
     "text": [
      "\n",
      "😀 date=2023-07-08T06:00:00 latitudes=(542080,) longitudes=(542080,) fields=102\n",
      "\n",
      "    q_50   shape=(542080,) min=1.17058e-06    max=3.1851e-06    \n",
      "    t_1000 shape=(542080,) min=228.261        max=317.001       \n",
      "    v_925  shape=(542080,) min=-27.2186       max=25.4386       \n",
      "    z_850  shape=(542080,) min=8510.7         max=16068.3       \n",
      "    swvl2  shape=(542080,) min=0              max=0.739529      \n",
      "    tcc    shape=(542080,) min=0              max=1             \n",
      "\n"
     ]
    },
    {
     "name": "stderr",
     "output_type": "stream",
     "text": [
      "2025-08-11 18:32:22,322 - INFO - Processing step 156\n",
      "2025-08-11 18:32:22,344 - INFO - Time taken for step 156: 3.26 seconds.\n",
      "2025-08-11 18:32:22,379 - INFO - Forecasting step 6 days, 18:00:00 (2023-07-08 18:00:00)\n"
     ]
    },
    {
     "name": "stdout",
     "output_type": "stream",
     "text": [
      "\n",
      "😀 date=2023-07-08T12:00:00 latitudes=(542080,) longitudes=(542080,) fields=102\n",
      "\n",
      "    q_50   shape=(542080,) min=1.14655e-06    max=3.18403e-06   \n",
      "    t_1000 shape=(542080,) min=229.058        max=322.38        \n",
      "    v_925  shape=(542080,) min=-32.0915       max=26.7478       \n",
      "    z_850  shape=(542080,) min=8480.5         max=16197.7       \n",
      "    swvl2  shape=(542080,) min=0              max=0.739         \n",
      "    tcc    shape=(542080,) min=0              max=1             \n",
      "\n"
     ]
    },
    {
     "name": "stderr",
     "output_type": "stream",
     "text": [
      "2025-08-11 18:32:25,580 - INFO - Processing step 162\n",
      "2025-08-11 18:32:25,601 - INFO - Time taken for step 162: 3.26 seconds.\n",
      "2025-08-11 18:32:25,637 - INFO - Forecasting step 7 days, 0:00:00 (2023-07-09 00:00:00)\n"
     ]
    },
    {
     "name": "stdout",
     "output_type": "stream",
     "text": [
      "\n",
      "😀 date=2023-07-08T18:00:00 latitudes=(542080,) longitudes=(542080,) fields=102\n",
      "\n",
      "    q_50   shape=(542080,) min=1.12462e-06    max=3.18202e-06   \n",
      "    t_1000 shape=(542080,) min=229.964        max=320.92        \n",
      "    v_925  shape=(542080,) min=-32.6011       max=26.7752       \n",
      "    z_850  shape=(542080,) min=8528.88        max=16173.8       \n",
      "    swvl2  shape=(542080,) min=0              max=0.738429      \n",
      "    tcc    shape=(542080,) min=0              max=1             \n",
      "\n"
     ]
    },
    {
     "name": "stderr",
     "output_type": "stream",
     "text": [
      "2025-08-11 18:32:28,839 - INFO - Processing step 168\n",
      "2025-08-11 18:32:28,863 - INFO - Time taken for step 168: 3.26 seconds.\n",
      "2025-08-11 18:32:28,916 - INFO - Forecasting step 7 days, 6:00:00 (2023-07-09 06:00:00)\n"
     ]
    },
    {
     "name": "stdout",
     "output_type": "stream",
     "text": [
      "\n",
      "😀 date=2023-07-09T00:00:00 latitudes=(542080,) longitudes=(542080,) fields=102\n",
      "\n",
      "    q_50   shape=(542080,) min=1.15207e-06    max=3.18078e-06   \n",
      "    t_1000 shape=(542080,) min=231.232        max=319.393       \n",
      "    v_925  shape=(542080,) min=-34.7959       max=24.9785       \n",
      "    z_850  shape=(542080,) min=8640.6         max=16201.7       \n",
      "    swvl2  shape=(542080,) min=0              max=0.737961      \n",
      "    tcc    shape=(542080,) min=0              max=1             \n",
      "\n"
     ]
    },
    {
     "name": "stderr",
     "output_type": "stream",
     "text": [
      "2025-08-11 18:32:32,108 - INFO - Processing step 174\n",
      "2025-08-11 18:32:32,127 - INFO - Time taken for step 174: 3.26 seconds.\n",
      "2025-08-11 18:32:32,165 - INFO - Forecasting step 7 days, 12:00:00 (2023-07-09 12:00:00)\n"
     ]
    },
    {
     "name": "stdout",
     "output_type": "stream",
     "text": [
      "\n",
      "😀 date=2023-07-09T06:00:00 latitudes=(542080,) longitudes=(542080,) fields=102\n",
      "\n",
      "    q_50   shape=(542080,) min=1.12323e-06    max=3.17811e-06   \n",
      "    t_1000 shape=(542080,) min=233.951        max=317.639       \n",
      "    v_925  shape=(542080,) min=-34.7106       max=24.6597       \n",
      "    z_850  shape=(542080,) min=8890.55        max=16097.4       \n",
      "    swvl2  shape=(542080,) min=0              max=0.737388      \n",
      "    tcc    shape=(542080,) min=0              max=1             \n",
      "\n"
     ]
    },
    {
     "name": "stderr",
     "output_type": "stream",
     "text": [
      "2025-08-11 18:32:35,413 - INFO - Processing step 180\n",
      "2025-08-11 18:32:35,433 - INFO - Time taken for step 180: 3.26 seconds.\n",
      "2025-08-11 18:32:35,469 - INFO - Forecasting step 7 days, 18:00:00 (2023-07-09 18:00:00)\n"
     ]
    },
    {
     "name": "stdout",
     "output_type": "stream",
     "text": [
      "\n",
      "😀 date=2023-07-09T12:00:00 latitudes=(542080,) longitudes=(542080,) fields=102\n",
      "\n",
      "    q_50   shape=(542080,) min=1.09912e-06    max=3.17494e-06   \n",
      "    t_1000 shape=(542080,) min=234.941        max=322.264       \n",
      "    v_925  shape=(542080,) min=-34.2894       max=23.4487       \n",
      "    z_850  shape=(542080,) min=9160.21        max=16110.2       \n",
      "    swvl2  shape=(542080,) min=0              max=0.736914      \n",
      "    tcc    shape=(542080,) min=0              max=1             \n",
      "\n"
     ]
    },
    {
     "name": "stderr",
     "output_type": "stream",
     "text": [
      "2025-08-11 18:32:38,728 - INFO - Processing step 186\n",
      "2025-08-11 18:32:38,751 - INFO - Time taken for step 186: 3.32 seconds.\n",
      "2025-08-11 18:32:38,787 - INFO - Forecasting step 8 days, 0:00:00 (2023-07-10 00:00:00)\n"
     ]
    },
    {
     "name": "stdout",
     "output_type": "stream",
     "text": [
      "\n",
      "😀 date=2023-07-09T18:00:00 latitudes=(542080,) longitudes=(542080,) fields=102\n",
      "\n",
      "    q_50   shape=(542080,) min=1.09706e-06    max=3.17154e-06   \n",
      "    t_1000 shape=(542080,) min=234.507        max=320.898       \n",
      "    v_925  shape=(542080,) min=-32.2889       max=26.5003       \n",
      "    z_850  shape=(542080,) min=9459.21        max=16049.6       \n",
      "    swvl2  shape=(542080,) min=0              max=0.736378      \n",
      "    tcc    shape=(542080,) min=0              max=1             \n",
      "\n"
     ]
    },
    {
     "name": "stderr",
     "output_type": "stream",
     "text": [
      "2025-08-11 18:32:42,029 - INFO - Processing step 192\n",
      "2025-08-11 18:32:42,055 - INFO - Time taken for step 192: 3.30 seconds.\n",
      "2025-08-11 18:32:42,093 - INFO - Forecasting step 8 days, 6:00:00 (2023-07-10 06:00:00)\n"
     ]
    },
    {
     "name": "stdout",
     "output_type": "stream",
     "text": [
      "\n",
      "😀 date=2023-07-10T00:00:00 latitudes=(542080,) longitudes=(542080,) fields=102\n",
      "\n",
      "    q_50   shape=(542080,) min=1.10649e-06    max=3.17007e-06   \n",
      "    t_1000 shape=(542080,) min=234.126        max=318.383       \n",
      "    v_925  shape=(542080,) min=-31.6151       max=30.7017       \n",
      "    z_850  shape=(542080,) min=9474.55        max=16096.4       \n",
      "    swvl2  shape=(542080,) min=0              max=0.736011      \n",
      "    tcc    shape=(542080,) min=0              max=1             \n",
      "\n"
     ]
    },
    {
     "name": "stderr",
     "output_type": "stream",
     "text": [
      "2025-08-11 18:32:45,309 - INFO - Processing step 198\n",
      "2025-08-11 18:32:45,336 - INFO - Time taken for step 198: 3.28 seconds.\n",
      "2025-08-11 18:32:45,373 - INFO - Forecasting step 8 days, 12:00:00 (2023-07-10 12:00:00)\n"
     ]
    },
    {
     "name": "stdout",
     "output_type": "stream",
     "text": [
      "\n",
      "😀 date=2023-07-10T06:00:00 latitudes=(542080,) longitudes=(542080,) fields=102\n",
      "\n",
      "    q_50   shape=(542080,) min=1.07912e-06    max=3.16511e-06   \n",
      "    t_1000 shape=(542080,) min=235.273        max=318.772       \n",
      "    v_925  shape=(542080,) min=-31.8099       max=26.5729       \n",
      "    z_850  shape=(542080,) min=9437.77        max=16115.7       \n",
      "    swvl2  shape=(542080,) min=0              max=0.735588      \n",
      "    tcc    shape=(542080,) min=0              max=1             \n",
      "\n"
     ]
    },
    {
     "name": "stderr",
     "output_type": "stream",
     "text": [
      "2025-08-11 18:32:48,594 - INFO - Processing step 204\n",
      "2025-08-11 18:32:48,614 - INFO - Time taken for step 204: 3.28 seconds.\n",
      "2025-08-11 18:32:48,652 - INFO - Forecasting step 8 days, 18:00:00 (2023-07-10 18:00:00)\n"
     ]
    },
    {
     "name": "stdout",
     "output_type": "stream",
     "text": [
      "\n",
      "😀 date=2023-07-10T12:00:00 latitudes=(542080,) longitudes=(542080,) fields=102\n",
      "\n",
      "    q_50   shape=(542080,) min=1.09626e-06    max=3.16065e-06   \n",
      "    t_1000 shape=(542080,) min=233.964        max=322.598       \n",
      "    v_925  shape=(542080,) min=-31.195        max=25.8429       \n",
      "    z_850  shape=(542080,) min=9431.43        max=16108.2       \n",
      "    swvl2  shape=(542080,) min=0              max=0.735163      \n",
      "    tcc    shape=(542080,) min=0              max=1             \n",
      "\n"
     ]
    },
    {
     "name": "stderr",
     "output_type": "stream",
     "text": [
      "2025-08-11 18:32:51,886 - INFO - Processing step 210\n",
      "2025-08-11 18:32:51,912 - INFO - Time taken for step 210: 3.30 seconds.\n",
      "2025-08-11 18:32:51,950 - INFO - Forecasting step 9 days, 0:00:00 (2023-07-11 00:00:00)\n"
     ]
    },
    {
     "name": "stdout",
     "output_type": "stream",
     "text": [
      "\n",
      "😀 date=2023-07-10T18:00:00 latitudes=(542080,) longitudes=(542080,) fields=102\n",
      "\n",
      "    q_50   shape=(542080,) min=1.06223e-06    max=3.15772e-06   \n",
      "    t_1000 shape=(542080,) min=234.419        max=320.994       \n",
      "    v_925  shape=(542080,) min=-30.4542       max=28.1703       \n",
      "    z_850  shape=(542080,) min=9446.29        max=16166.6       \n",
      "    swvl2  shape=(542080,) min=0              max=0.734731      \n",
      "    tcc    shape=(542080,) min=0              max=1             \n",
      "\n"
     ]
    },
    {
     "name": "stderr",
     "output_type": "stream",
     "text": [
      "2025-08-11 18:32:55,175 - INFO - Processing step 216\n",
      "2025-08-11 18:32:55,197 - INFO - Time taken for step 216: 3.28 seconds.\n",
      "2025-08-11 18:32:55,235 - INFO - Forecasting step 9 days, 6:00:00 (2023-07-11 06:00:00)\n"
     ]
    },
    {
     "name": "stdout",
     "output_type": "stream",
     "text": [
      "\n",
      "😀 date=2023-07-11T00:00:00 latitudes=(542080,) longitudes=(542080,) fields=102\n",
      "\n",
      "    q_50   shape=(542080,) min=1.0833e-06     max=3.15635e-06   \n",
      "    t_1000 shape=(542080,) min=234.509        max=318.103       \n",
      "    v_925  shape=(542080,) min=-28.423        max=31.1503       \n",
      "    z_850  shape=(542080,) min=9636.32        max=16200.4       \n",
      "    swvl2  shape=(542080,) min=0              max=0.734467      \n",
      "    tcc    shape=(542080,) min=0              max=1             \n",
      "\n"
     ]
    },
    {
     "name": "stderr",
     "output_type": "stream",
     "text": [
      "2025-08-11 18:32:58,428 - INFO - Processing step 222\n",
      "2025-08-11 18:32:58,450 - INFO - Time taken for step 222: 3.25 seconds.\n",
      "2025-08-11 18:32:58,486 - INFO - Forecasting step 9 days, 12:00:00 (2023-07-11 12:00:00)\n"
     ]
    },
    {
     "name": "stdout",
     "output_type": "stream",
     "text": [
      "\n",
      "😀 date=2023-07-11T06:00:00 latitudes=(542080,) longitudes=(542080,) fields=102\n",
      "\n",
      "    q_50   shape=(542080,) min=1.09498e-06    max=3.1534e-06    \n",
      "    t_1000 shape=(542080,) min=237.581        max=318.679       \n",
      "    v_925  shape=(542080,) min=-27.5398       max=29.9408       \n",
      "    z_850  shape=(542080,) min=9594.9         max=16183.2       \n",
      "    swvl2  shape=(542080,) min=0              max=0.734062      \n",
      "    tcc    shape=(542080,) min=0              max=1             \n",
      "\n"
     ]
    },
    {
     "name": "stderr",
     "output_type": "stream",
     "text": [
      "2025-08-11 18:33:01,687 - INFO - Processing step 228\n",
      "2025-08-11 18:33:01,708 - INFO - Time taken for step 228: 3.26 seconds.\n",
      "2025-08-11 18:33:01,748 - INFO - Forecasting step 9 days, 18:00:00 (2023-07-11 18:00:00)\n"
     ]
    },
    {
     "name": "stdout",
     "output_type": "stream",
     "text": [
      "\n",
      "😀 date=2023-07-11T12:00:00 latitudes=(542080,) longitudes=(542080,) fields=102\n",
      "\n",
      "    q_50   shape=(542080,) min=1.11999e-06    max=3.15111e-06   \n",
      "    t_1000 shape=(542080,) min=236.571        max=323.263       \n",
      "    v_925  shape=(542080,) min=-25.5868       max=29.4205       \n",
      "    z_850  shape=(542080,) min=9456.92        max=16168.3       \n",
      "    swvl2  shape=(542080,) min=0              max=0.733726      \n",
      "    tcc    shape=(542080,) min=0              max=1             \n",
      "\n"
     ]
    },
    {
     "name": "stderr",
     "output_type": "stream",
     "text": [
      "2025-08-11 18:33:05,018 - INFO - Processing step 234\n",
      "2025-08-11 18:33:05,041 - INFO - Time taken for step 234: 3.29 seconds.\n",
      "2025-08-11 18:33:05,081 - INFO - Forecasting step 10 days, 0:00:00 (2023-07-12 00:00:00)\n"
     ]
    },
    {
     "name": "stdout",
     "output_type": "stream",
     "text": [
      "\n",
      "😀 date=2023-07-11T18:00:00 latitudes=(542080,) longitudes=(542080,) fields=102\n",
      "\n",
      "    q_50   shape=(542080,) min=1.12007e-06    max=3.14906e-06   \n",
      "    t_1000 shape=(542080,) min=237.234        max=321.842       \n",
      "    v_925  shape=(542080,) min=-29.5219       max=26.02         \n",
      "    z_850  shape=(542080,) min=9508.71        max=16179.8       \n",
      "    swvl2  shape=(542080,) min=0              max=0.733347      \n",
      "    tcc    shape=(542080,) min=0              max=1             \n",
      "\n"
     ]
    },
    {
     "name": "stderr",
     "output_type": "stream",
     "text": [
      "2025-08-11 18:33:08,366 - INFO - Processing step 240\n",
      "2025-08-11 18:33:08,387 - INFO - Time taken for step 240: 3.35 seconds.\n",
      "2025-08-11 18:33:08,424 - INFO - Forecasting step 10 days, 6:00:00 (2023-07-12 06:00:00)\n"
     ]
    },
    {
     "name": "stdout",
     "output_type": "stream",
     "text": [
      "\n",
      "😀 date=2023-07-12T00:00:00 latitudes=(542080,) longitudes=(542080,) fields=102\n",
      "\n",
      "    q_50   shape=(542080,) min=1.1119e-06     max=3.14805e-06   \n",
      "    t_1000 shape=(542080,) min=236.518        max=318.858       \n",
      "    v_925  shape=(542080,) min=-33.7597       max=25.0379       \n",
      "    z_850  shape=(542080,) min=9455.58        max=16221.5       \n",
      "    swvl2  shape=(542080,) min=0              max=0.733156      \n",
      "    tcc    shape=(542080,) min=0              max=1             \n",
      "\n"
     ]
    },
    {
     "name": "stderr",
     "output_type": "stream",
     "text": [
      "2025-08-11 18:33:11,669 - INFO - Processing step 246\n",
      "2025-08-11 18:33:11,692 - INFO - Time taken for step 246: 3.30 seconds.\n",
      "2025-08-11 18:33:11,728 - INFO - Forecasting step 10 days, 12:00:00 (2023-07-12 12:00:00)\n"
     ]
    },
    {
     "name": "stdout",
     "output_type": "stream",
     "text": [
      "\n",
      "😀 date=2023-07-12T06:00:00 latitudes=(542080,) longitudes=(542080,) fields=102\n",
      "\n",
      "    q_50   shape=(542080,) min=1.10379e-06    max=3.14464e-06   \n",
      "    t_1000 shape=(542080,) min=237.368        max=318.368       \n",
      "    v_925  shape=(542080,) min=-30.2004       max=23.9332       \n",
      "    z_850  shape=(542080,) min=9450.77        max=16191.1       \n",
      "    swvl2  shape=(542080,) min=0              max=0.732867      \n",
      "    tcc    shape=(542080,) min=0              max=1             \n",
      "\n"
     ]
    },
    {
     "name": "stderr",
     "output_type": "stream",
     "text": [
      "2025-08-11 18:33:14,943 - INFO - Processing step 252\n",
      "2025-08-11 18:33:14,964 - INFO - Time taken for step 252: 3.27 seconds.\n",
      "2025-08-11 18:33:15,002 - INFO - Forecasting step 10 days, 18:00:00 (2023-07-12 18:00:00)\n"
     ]
    },
    {
     "name": "stdout",
     "output_type": "stream",
     "text": [
      "\n",
      "😀 date=2023-07-12T12:00:00 latitudes=(542080,) longitudes=(542080,) fields=102\n",
      "\n",
      "    q_50   shape=(542080,) min=1.09628e-06    max=3.1432e-06    \n",
      "    t_1000 shape=(542080,) min=235.959        max=323.78        \n",
      "    v_925  shape=(542080,) min=-27.6899       max=23.8833       \n",
      "    z_850  shape=(542080,) min=9396.24        max=16195.3       \n",
      "    swvl2  shape=(542080,) min=0              max=0.732632      \n",
      "    tcc    shape=(542080,) min=0              max=1             \n",
      "\n"
     ]
    },
    {
     "name": "stderr",
     "output_type": "stream",
     "text": [
      "2025-08-11 18:33:18,217 - INFO - Processing step 258\n",
      "2025-08-11 18:33:18,241 - INFO - Time taken for step 258: 3.28 seconds.\n",
      "2025-08-11 18:33:18,278 - INFO - Forecasting step 11 days, 0:00:00 (2023-07-13 00:00:00)\n"
     ]
    },
    {
     "name": "stdout",
     "output_type": "stream",
     "text": [
      "\n",
      "😀 date=2023-07-12T18:00:00 latitudes=(542080,) longitudes=(542080,) fields=102\n",
      "\n",
      "    q_50   shape=(542080,) min=1.09969e-06    max=3.14137e-06   \n",
      "    t_1000 shape=(542080,) min=235.579        max=321.628       \n",
      "    v_925  shape=(542080,) min=-29.7183       max=27.0486       \n",
      "    z_850  shape=(542080,) min=9017.03        max=16181         \n",
      "    swvl2  shape=(542080,) min=0              max=0.732302      \n",
      "    tcc    shape=(542080,) min=0              max=1             \n",
      "\n"
     ]
    },
    {
     "name": "stderr",
     "output_type": "stream",
     "text": [
      "2025-08-11 18:33:21,470 - INFO - Processing step 264\n",
      "2025-08-11 18:33:21,494 - INFO - Time taken for step 264: 3.25 seconds.\n",
      "2025-08-11 18:33:21,529 - INFO - Forecasting step 11 days, 6:00:00 (2023-07-13 06:00:00)\n"
     ]
    },
    {
     "name": "stdout",
     "output_type": "stream",
     "text": [
      "\n",
      "😀 date=2023-07-13T00:00:00 latitudes=(542080,) longitudes=(542080,) fields=102\n",
      "\n",
      "    q_50   shape=(542080,) min=1.1107e-06     max=3.15308e-06   \n",
      "    t_1000 shape=(542080,) min=235.684        max=319.619       \n",
      "    v_925  shape=(542080,) min=-28.5561       max=28.7647       \n",
      "    z_850  shape=(542080,) min=8876.8         max=16213.8       \n",
      "    swvl2  shape=(542080,) min=0              max=0.73215       \n",
      "    tcc    shape=(542080,) min=0              max=1             \n",
      "\n"
     ]
    },
    {
     "name": "stderr",
     "output_type": "stream",
     "text": [
      "2025-08-11 18:33:24,745 - INFO - Processing step 270\n",
      "2025-08-11 18:33:24,772 - INFO - Time taken for step 270: 3.28 seconds.\n",
      "2025-08-11 18:33:24,810 - INFO - Forecasting step 11 days, 12:00:00 (2023-07-13 12:00:00)\n"
     ]
    },
    {
     "name": "stdout",
     "output_type": "stream",
     "text": [
      "\n",
      "😀 date=2023-07-13T06:00:00 latitudes=(542080,) longitudes=(542080,) fields=102\n",
      "\n",
      "    q_50   shape=(542080,) min=1.12053e-06    max=3.15957e-06   \n",
      "    t_1000 shape=(542080,) min=237.043        max=318.236       \n",
      "    v_925  shape=(542080,) min=-27.796        max=30.7359       \n",
      "    z_850  shape=(542080,) min=8956.9         max=16169.5       \n",
      "    swvl2  shape=(542080,) min=0              max=0.731986      \n",
      "    tcc    shape=(542080,) min=0              max=1             \n",
      "\n"
     ]
    },
    {
     "name": "stderr",
     "output_type": "stream",
     "text": [
      "2025-08-11 18:33:28,030 - INFO - Processing step 276\n",
      "2025-08-11 18:33:28,053 - INFO - Time taken for step 276: 3.28 seconds.\n",
      "2025-08-11 18:33:28,092 - INFO - Forecasting step 11 days, 18:00:00 (2023-07-13 18:00:00)\n"
     ]
    },
    {
     "name": "stdout",
     "output_type": "stream",
     "text": [
      "\n",
      "😀 date=2023-07-13T12:00:00 latitudes=(542080,) longitudes=(542080,) fields=102\n",
      "\n",
      "    q_50   shape=(542080,) min=1.13588e-06    max=3.16324e-06   \n",
      "    t_1000 shape=(542080,) min=237.888        max=323.68        \n",
      "    v_925  shape=(542080,) min=-28.1965       max=30.8146       \n",
      "    z_850  shape=(542080,) min=9083.33        max=16130         \n",
      "    swvl2  shape=(542080,) min=0              max=0.731873      \n",
      "    tcc    shape=(542080,) min=0              max=1             \n",
      "\n"
     ]
    },
    {
     "name": "stderr",
     "output_type": "stream",
     "text": [
      "2025-08-11 18:33:31,297 - INFO - Processing step 282\n",
      "2025-08-11 18:33:31,319 - INFO - Time taken for step 282: 3.27 seconds.\n",
      "2025-08-11 18:33:31,353 - INFO - Forecasting step 12 days, 0:00:00 (2023-07-14 00:00:00)\n"
     ]
    },
    {
     "name": "stdout",
     "output_type": "stream",
     "text": [
      "\n",
      "😀 date=2023-07-13T18:00:00 latitudes=(542080,) longitudes=(542080,) fields=102\n",
      "\n",
      "    q_50   shape=(542080,) min=1.14584e-06    max=3.16604e-06   \n",
      "    t_1000 shape=(542080,) min=237.473        max=320.673       \n",
      "    v_925  shape=(542080,) min=-26.5908       max=31.9469       \n",
      "    z_850  shape=(542080,) min=8917.34        max=16102.3       \n",
      "    swvl2  shape=(542080,) min=0              max=0.731652      \n",
      "    tcc    shape=(542080,) min=0              max=1             \n",
      "\n"
     ]
    },
    {
     "name": "stderr",
     "output_type": "stream",
     "text": [
      "2025-08-11 18:33:34,611 - INFO - Processing step 288\n",
      "2025-08-11 18:33:34,632 - INFO - Time taken for step 288: 3.26 seconds.\n",
      "2025-08-11 18:33:34,667 - INFO - Forecasting step 12 days, 6:00:00 (2023-07-14 06:00:00)\n"
     ]
    },
    {
     "name": "stdout",
     "output_type": "stream",
     "text": [
      "\n",
      "😀 date=2023-07-14T00:00:00 latitudes=(542080,) longitudes=(542080,) fields=102\n",
      "\n",
      "    q_50   shape=(542080,) min=1.14806e-06    max=3.16932e-06   \n",
      "    t_1000 shape=(542080,) min=235.461        max=320.766       \n",
      "    v_925  shape=(542080,) min=-28.5176       max=30.6096       \n",
      "    z_850  shape=(542080,) min=8880.35        max=16101.9       \n",
      "    swvl2  shape=(542080,) min=0              max=0.731635      \n",
      "    tcc    shape=(542080,) min=0              max=1             \n",
      "\n"
     ]
    },
    {
     "name": "stderr",
     "output_type": "stream",
     "text": [
      "2025-08-11 18:33:37,898 - INFO - Processing step 294\n",
      "2025-08-11 18:33:37,918 - INFO - Time taken for step 294: 3.29 seconds.\n",
      "2025-08-11 18:33:37,954 - INFO - Forecasting step 12 days, 12:00:00 (2023-07-14 12:00:00)\n"
     ]
    },
    {
     "name": "stdout",
     "output_type": "stream",
     "text": [
      "\n",
      "😀 date=2023-07-14T06:00:00 latitudes=(542080,) longitudes=(542080,) fields=102\n",
      "\n",
      "    q_50   shape=(542080,) min=1.14686e-06    max=3.16817e-06   \n",
      "    t_1000 shape=(542080,) min=235.177        max=318.379       \n",
      "    v_925  shape=(542080,) min=-28.558        max=28.564        \n",
      "    z_850  shape=(542080,) min=8905.79        max=16037.1       \n",
      "    swvl2  shape=(542080,) min=0              max=0.73149       \n",
      "    tcc    shape=(542080,) min=0              max=1             \n",
      "\n"
     ]
    },
    {
     "name": "stderr",
     "output_type": "stream",
     "text": [
      "2025-08-11 18:33:41,190 - INFO - Processing step 300\n",
      "2025-08-11 18:33:41,214 - INFO - Time taken for step 300: 3.30 seconds.\n",
      "2025-08-11 18:33:41,251 - INFO - Forecasting step 12 days, 18:00:00 (2023-07-14 18:00:00)\n"
     ]
    },
    {
     "name": "stdout",
     "output_type": "stream",
     "text": [
      "\n",
      "😀 date=2023-07-14T12:00:00 latitudes=(542080,) longitudes=(542080,) fields=102\n",
      "\n",
      "    q_50   shape=(542080,) min=1.16392e-06    max=3.16486e-06   \n",
      "    t_1000 shape=(542080,) min=234.59         max=323.757       \n",
      "    v_925  shape=(542080,) min=-25.639        max=32.3329       \n",
      "    z_850  shape=(542080,) min=9021.32        max=15985.7       \n",
      "    swvl2  shape=(542080,) min=0              max=0.731489      \n",
      "    tcc    shape=(542080,) min=0              max=1             \n",
      "\n"
     ]
    },
    {
     "name": "stderr",
     "output_type": "stream",
     "text": [
      "2025-08-11 18:33:44,501 - INFO - Processing step 306\n",
      "2025-08-11 18:33:44,529 - INFO - Time taken for step 306: 3.31 seconds.\n",
      "2025-08-11 18:33:44,577 - INFO - Forecasting step 13 days, 0:00:00 (2023-07-15 00:00:00)\n"
     ]
    },
    {
     "name": "stdout",
     "output_type": "stream",
     "text": [
      "\n",
      "😀 date=2023-07-14T18:00:00 latitudes=(542080,) longitudes=(542080,) fields=102\n",
      "\n",
      "    q_50   shape=(542080,) min=1.17963e-06    max=3.16212e-06   \n",
      "    t_1000 shape=(542080,) min=234.473        max=320.237       \n",
      "    v_925  shape=(542080,) min=-25.3155       max=33.2282       \n",
      "    z_850  shape=(542080,) min=9132.22        max=15967.4       \n",
      "    swvl2  shape=(542080,) min=0              max=0.731411      \n",
      "    tcc    shape=(542080,) min=0              max=1             \n",
      "\n"
     ]
    },
    {
     "name": "stderr",
     "output_type": "stream",
     "text": [
      "2025-08-11 18:33:47,818 - INFO - Processing step 312\n",
      "2025-08-11 18:33:47,841 - INFO - Time taken for step 312: 3.31 seconds.\n",
      "2025-08-11 18:33:47,897 - INFO - Forecasting step 13 days, 6:00:00 (2023-07-15 06:00:00)\n"
     ]
    },
    {
     "name": "stdout",
     "output_type": "stream",
     "text": [
      "\n",
      "😀 date=2023-07-15T00:00:00 latitudes=(542080,) longitudes=(542080,) fields=102\n",
      "\n",
      "    q_50   shape=(542080,) min=1.18639e-06    max=3.16165e-06   \n",
      "    t_1000 shape=(542080,) min=233.157        max=321.48        \n",
      "    v_925  shape=(542080,) min=-28.1349       max=32.8183       \n",
      "    z_850  shape=(542080,) min=9223.57        max=15983.4       \n",
      "    swvl2  shape=(542080,) min=0              max=0.731608      \n",
      "    tcc    shape=(542080,) min=0              max=1             \n",
      "\n"
     ]
    },
    {
     "name": "stderr",
     "output_type": "stream",
     "text": [
      "2025-08-11 18:33:51,121 - INFO - Processing step 318\n",
      "2025-08-11 18:33:51,143 - INFO - Time taken for step 318: 3.30 seconds.\n",
      "2025-08-11 18:33:51,182 - INFO - Forecasting step 13 days, 12:00:00 (2023-07-15 12:00:00)\n"
     ]
    },
    {
     "name": "stdout",
     "output_type": "stream",
     "text": [
      "\n",
      "😀 date=2023-07-15T06:00:00 latitudes=(542080,) longitudes=(542080,) fields=102\n",
      "\n",
      "    q_50   shape=(542080,) min=1.19581e-06    max=3.15855e-06   \n",
      "    t_1000 shape=(542080,) min=234.069        max=318.423       \n",
      "    v_925  shape=(542080,) min=-30.027        max=31.008        \n",
      "    z_850  shape=(542080,) min=9287.39        max=16113.2       \n",
      "    swvl2  shape=(542080,) min=0              max=0.731698      \n",
      "    tcc    shape=(542080,) min=0              max=1             \n",
      "\n"
     ]
    },
    {
     "name": "stderr",
     "output_type": "stream",
     "text": [
      "2025-08-11 18:33:54,405 - INFO - Processing step 324\n",
      "2025-08-11 18:33:54,435 - INFO - Time taken for step 324: 3.29 seconds.\n",
      "2025-08-11 18:33:54,476 - INFO - Forecasting step 13 days, 18:00:00 (2023-07-15 18:00:00)\n"
     ]
    },
    {
     "name": "stdout",
     "output_type": "stream",
     "text": [
      "\n",
      "😀 date=2023-07-15T12:00:00 latitudes=(542080,) longitudes=(542080,) fields=102\n",
      "\n",
      "    q_50   shape=(542080,) min=1.19691e-06    max=3.15392e-06   \n",
      "    t_1000 shape=(542080,) min=234.098        max=323.296       \n",
      "    v_925  shape=(542080,) min=-30.0323       max=28.1812       \n",
      "    z_850  shape=(542080,) min=9171.52        max=16123         \n",
      "    swvl2  shape=(542080,) min=0              max=0.731531      \n",
      "    tcc    shape=(542080,) min=0              max=1             \n",
      "\n"
     ]
    },
    {
     "name": "stderr",
     "output_type": "stream",
     "text": [
      "2025-08-11 18:33:57,706 - INFO - Processing step 330\n",
      "2025-08-11 18:33:57,725 - INFO - Time taken for step 330: 3.29 seconds.\n",
      "2025-08-11 18:33:57,765 - INFO - Forecasting step 14 days, 0:00:00 (2023-07-16 00:00:00)\n"
     ]
    },
    {
     "name": "stdout",
     "output_type": "stream",
     "text": [
      "\n",
      "😀 date=2023-07-15T18:00:00 latitudes=(542080,) longitudes=(542080,) fields=102\n",
      "\n",
      "    q_50   shape=(542080,) min=1.20123e-06    max=3.15031e-06   \n",
      "    t_1000 shape=(542080,) min=233.696        max=320.316       \n",
      "    v_925  shape=(542080,) min=-30.6814       max=25.6298       \n",
      "    z_850  shape=(542080,) min=9224.53        max=16301.7       \n",
      "    swvl2  shape=(542080,) min=0              max=0.731312      \n",
      "    tcc    shape=(542080,) min=0              max=1             \n",
      "\n"
     ]
    },
    {
     "name": "stderr",
     "output_type": "stream",
     "text": [
      "2025-08-11 18:34:01,005 - INFO - Processing step 336\n",
      "2025-08-11 18:34:01,027 - INFO - Time taken for step 336: 3.30 seconds.\n",
      "2025-08-11 18:34:01,066 - INFO - Forecasting step 14 days, 6:00:00 (2023-07-16 06:00:00)\n"
     ]
    },
    {
     "name": "stdout",
     "output_type": "stream",
     "text": [
      "\n",
      "😀 date=2023-07-16T00:00:00 latitudes=(542080,) longitudes=(542080,) fields=102\n",
      "\n",
      "    q_50   shape=(542080,) min=1.19166e-06    max=3.15248e-06   \n",
      "    t_1000 shape=(542080,) min=231.855        max=321.159       \n",
      "    v_925  shape=(542080,) min=-28.9934       max=25.8957       \n",
      "    z_850  shape=(542080,) min=9267.67        max=16312.6       \n",
      "    swvl2  shape=(542080,) min=0              max=0.731793      \n",
      "    tcc    shape=(542080,) min=0              max=1             \n",
      "\n"
     ]
    },
    {
     "name": "stderr",
     "output_type": "stream",
     "text": [
      "2025-08-11 18:34:04,385 - INFO - Processing step 342\n",
      "2025-08-11 18:34:04,411 - INFO - Time taken for step 342: 3.29 seconds.\n",
      "2025-08-11 18:34:04,454 - INFO - Forecasting step 14 days, 12:00:00 (2023-07-16 12:00:00)\n"
     ]
    },
    {
     "name": "stdout",
     "output_type": "stream",
     "text": [
      "\n",
      "😀 date=2023-07-16T06:00:00 latitudes=(542080,) longitudes=(542080,) fields=102\n",
      "\n",
      "    q_50   shape=(542080,) min=1.18967e-06    max=3.14884e-06   \n",
      "    t_1000 shape=(542080,) min=230.582        max=318.555       \n",
      "    v_925  shape=(542080,) min=-27.0288       max=25.454        \n",
      "    z_850  shape=(542080,) min=9244.02        max=16531.8       \n",
      "    swvl2  shape=(542080,) min=0              max=0.731808      \n",
      "    tcc    shape=(542080,) min=0              max=1             \n",
      "\n"
     ]
    },
    {
     "name": "stderr",
     "output_type": "stream",
     "text": [
      "2025-08-11 18:34:07,711 - INFO - Processing step 348\n",
      "2025-08-11 18:34:07,735 - INFO - Time taken for step 348: 3.32 seconds.\n",
      "2025-08-11 18:34:07,776 - INFO - Forecasting step 14 days, 18:00:00 (2023-07-16 18:00:00)\n"
     ]
    },
    {
     "name": "stdout",
     "output_type": "stream",
     "text": [
      "\n",
      "😀 date=2023-07-16T12:00:00 latitudes=(542080,) longitudes=(542080,) fields=102\n",
      "\n",
      "    q_50   shape=(542080,) min=1.19096e-06    max=3.15254e-06   \n",
      "    t_1000 shape=(542080,) min=231.366        max=322.804       \n",
      "    v_925  shape=(542080,) min=-27.3936       max=25.0931       \n",
      "    z_850  shape=(542080,) min=9074.76        max=16487.3       \n",
      "    swvl2  shape=(542080,) min=0              max=0.731584      \n",
      "    tcc    shape=(542080,) min=0              max=1             \n",
      "\n"
     ]
    },
    {
     "name": "stderr",
     "output_type": "stream",
     "text": [
      "2025-08-11 18:34:11,012 - INFO - Processing step 354\n",
      "2025-08-11 18:34:11,037 - INFO - Time taken for step 354: 3.30 seconds.\n",
      "2025-08-11 18:34:11,078 - INFO - Forecasting step 15 days, 0:00:00 (2023-07-17 00:00:00)\n"
     ]
    },
    {
     "name": "stdout",
     "output_type": "stream",
     "text": [
      "\n",
      "😀 date=2023-07-16T18:00:00 latitudes=(542080,) longitudes=(542080,) fields=102\n",
      "\n",
      "    q_50   shape=(542080,) min=1.14548e-06    max=3.15839e-06   \n",
      "    t_1000 shape=(542080,) min=231.652        max=320.539       \n",
      "    v_925  shape=(542080,) min=-27.257        max=24.037        \n",
      "    z_850  shape=(542080,) min=9105.9         max=16580.5       \n",
      "    swvl2  shape=(542080,) min=0              max=0.732533      \n",
      "    tcc    shape=(542080,) min=0              max=1             \n",
      "\n"
     ]
    },
    {
     "name": "stderr",
     "output_type": "stream",
     "text": [
      "2025-08-11 18:34:14,301 - INFO - Processing step 360\n",
      "2025-08-11 18:34:14,327 - INFO - Time taken for step 360: 3.29 seconds.\n",
      "2025-08-11 18:34:14,329 - INFO - Inference session completed.\n",
      "2025-08-11 18:34:14,329 - INFO - Total time taken for the inference session: 205.29 seconds.\n",
      "2025-08-11 18:34:14,330 - INFO - Concatenating all steps into a single dataset.\n"
     ]
    },
    {
     "name": "stdout",
     "output_type": "stream",
     "text": [
      "\n",
      "😀 date=2023-07-17T00:00:00 latitudes=(542080,) longitudes=(542080,) fields=102\n",
      "\n",
      "    q_50   shape=(542080,) min=1.14242e-06    max=3.16258e-06   \n",
      "    t_1000 shape=(542080,) min=231.475        max=318.767       \n",
      "    v_925  shape=(542080,) min=-28.1053       max=25.994        \n",
      "    z_850  shape=(542080,) min=9076.34        max=16508         \n",
      "    swvl2  shape=(542080,) min=0              max=0.734209      \n",
      "    tcc    shape=(542080,) min=0              max=1             \n",
      "\n"
     ]
    },
    {
     "name": "stderr",
     "output_type": "stream",
     "text": [
      "2025-08-11 18:34:14,559 - INFO - Saving output dataset to output_states/init_ERA5_20230702T00_lead_360.nc\n"
     ]
    }
   ],
   "source": [
    "# initation date formatted as (YYYY, M, D, H)\n",
    "init_date = datetime.datetime(2023, 6, 30, 0)\n",
    "lead_time = 360  # in hours, must be a multiple of 6\n",
    "\n",
    "# Surface variables must be named as \"2t\", \"tp\", etc.\n",
    "# Pressure levels must be named as \"z_500\", \"t_1000\", etc.\n",
    "# See the get_ERA5 function for the full list of variables\n",
    "save_vars = [\"2t\", \"tp\", \"z_500\"]\n",
    "\n",
    "# If init_date is None, the latest IFS data will be used\n",
    "# If init_date is provided, the ERA5 data will be used\n",
    "\n",
    "init_date_start = datetime.datetime(2023, 6, 30, 0)\n",
    "init_date_end = datetime.datetime(2023, 7, 2, 0)\n",
    "current_date = init_date_start\n",
    "while current_date <= init_date_end:\n",
    "    logging.info(f\"Running inference for initialization date: {current_date}\")\n",
    "    output_ds = run_inference(\n",
    "        init_date=current_date, lead_time=lead_time, save_vars=save_vars\n",
    "    )\n",
    "    current_date += datetime.timedelta(hours=24)\n",
    "\n",
    "# output_ds = run_inference(init_date=None, lead_time=lead_time, save_vars=save_vars)"
   ]
  },
  {
   "cell_type": "code",
   "execution_count": 8,
   "id": "64ff5042",
   "metadata": {},
   "outputs": [
    {
     "data": {
      "text/html": [
       "<div><svg style=\"position: absolute; width: 0; height: 0; overflow: hidden\">\n",
       "<defs>\n",
       "<symbol id=\"icon-database\" viewBox=\"0 0 32 32\">\n",
       "<path d=\"M16 0c-8.837 0-16 2.239-16 5v4c0 2.761 7.163 5 16 5s16-2.239 16-5v-4c0-2.761-7.163-5-16-5z\"></path>\n",
       "<path d=\"M16 17c-8.837 0-16-2.239-16-5v6c0 2.761 7.163 5 16 5s16-2.239 16-5v-6c0 2.761-7.163 5-16 5z\"></path>\n",
       "<path d=\"M16 26c-8.837 0-16-2.239-16-5v6c0 2.761 7.163 5 16 5s16-2.239 16-5v-6c0 2.761-7.163 5-16 5z\"></path>\n",
       "</symbol>\n",
       "<symbol id=\"icon-file-text2\" viewBox=\"0 0 32 32\">\n",
       "<path d=\"M28.681 7.159c-0.694-0.947-1.662-2.053-2.724-3.116s-2.169-2.030-3.116-2.724c-1.612-1.182-2.393-1.319-2.841-1.319h-15.5c-1.378 0-2.5 1.121-2.5 2.5v27c0 1.378 1.122 2.5 2.5 2.5h23c1.378 0 2.5-1.122 2.5-2.5v-19.5c0-0.448-0.137-1.23-1.319-2.841zM24.543 5.457c0.959 0.959 1.712 1.825 2.268 2.543h-4.811v-4.811c0.718 0.556 1.584 1.309 2.543 2.268zM28 29.5c0 0.271-0.229 0.5-0.5 0.5h-23c-0.271 0-0.5-0.229-0.5-0.5v-27c0-0.271 0.229-0.5 0.5-0.5 0 0 15.499-0 15.5 0v7c0 0.552 0.448 1 1 1h7v19.5z\"></path>\n",
       "<path d=\"M23 26h-14c-0.552 0-1-0.448-1-1s0.448-1 1-1h14c0.552 0 1 0.448 1 1s-0.448 1-1 1z\"></path>\n",
       "<path d=\"M23 22h-14c-0.552 0-1-0.448-1-1s0.448-1 1-1h14c0.552 0 1 0.448 1 1s-0.448 1-1 1z\"></path>\n",
       "<path d=\"M23 18h-14c-0.552 0-1-0.448-1-1s0.448-1 1-1h14c0.552 0 1 0.448 1 1s-0.448 1-1 1z\"></path>\n",
       "</symbol>\n",
       "</defs>\n",
       "</svg>\n",
       "<style>/* CSS stylesheet for displaying xarray objects in jupyterlab.\n",
       " *\n",
       " */\n",
       "\n",
       ":root {\n",
       "  --xr-font-color0: var(\n",
       "    --jp-content-font-color0,\n",
       "    var(--pst-color-text-base rgba(0, 0, 0, 1))\n",
       "  );\n",
       "  --xr-font-color2: var(\n",
       "    --jp-content-font-color2,\n",
       "    var(--pst-color-text-base, rgba(0, 0, 0, 0.54))\n",
       "  );\n",
       "  --xr-font-color3: var(\n",
       "    --jp-content-font-color3,\n",
       "    var(--pst-color-text-base, rgba(0, 0, 0, 0.38))\n",
       "  );\n",
       "  --xr-border-color: var(\n",
       "    --jp-border-color2,\n",
       "    hsl(from var(--pst-color-on-background, white) h s calc(l - 10))\n",
       "  );\n",
       "  --xr-disabled-color: var(\n",
       "    --jp-layout-color3,\n",
       "    hsl(from var(--pst-color-on-background, white) h s calc(l - 40))\n",
       "  );\n",
       "  --xr-background-color: var(\n",
       "    --jp-layout-color0,\n",
       "    var(--pst-color-on-background, white)\n",
       "  );\n",
       "  --xr-background-color-row-even: var(\n",
       "    --jp-layout-color1,\n",
       "    hsl(from var(--pst-color-on-background, white) h s calc(l - 5))\n",
       "  );\n",
       "  --xr-background-color-row-odd: var(\n",
       "    --jp-layout-color2,\n",
       "    hsl(from var(--pst-color-on-background, white) h s calc(l - 15))\n",
       "  );\n",
       "}\n",
       "\n",
       "html[theme=\"dark\"],\n",
       "html[data-theme=\"dark\"],\n",
       "body[data-theme=\"dark\"],\n",
       "body.vscode-dark {\n",
       "  --xr-font-color0: var(\n",
       "    --jp-content-font-color0,\n",
       "    var(--pst-color-text-base, rgba(255, 255, 255, 1))\n",
       "  );\n",
       "  --xr-font-color2: var(\n",
       "    --jp-content-font-color2,\n",
       "    var(--pst-color-text-base, rgba(255, 255, 255, 0.54))\n",
       "  );\n",
       "  --xr-font-color3: var(\n",
       "    --jp-content-font-color3,\n",
       "    var(--pst-color-text-base, rgba(255, 255, 255, 0.38))\n",
       "  );\n",
       "  --xr-border-color: var(\n",
       "    --jp-border-color2,\n",
       "    hsl(from var(--pst-color-on-background, #111111) h s calc(l + 10))\n",
       "  );\n",
       "  --xr-disabled-color: var(\n",
       "    --jp-layout-color3,\n",
       "    hsl(from var(--pst-color-on-background, #111111) h s calc(l + 40))\n",
       "  );\n",
       "  --xr-background-color: var(\n",
       "    --jp-layout-color0,\n",
       "    var(--pst-color-on-background, #111111)\n",
       "  );\n",
       "  --xr-background-color-row-even: var(\n",
       "    --jp-layout-color1,\n",
       "    hsl(from var(--pst-color-on-background, #111111) h s calc(l + 5))\n",
       "  );\n",
       "  --xr-background-color-row-odd: var(\n",
       "    --jp-layout-color2,\n",
       "    hsl(from var(--pst-color-on-background, #111111) h s calc(l + 15))\n",
       "  );\n",
       "}\n",
       "\n",
       ".xr-wrap {\n",
       "  display: block !important;\n",
       "  min-width: 300px;\n",
       "  max-width: 700px;\n",
       "}\n",
       "\n",
       ".xr-text-repr-fallback {\n",
       "  /* fallback to plain text repr when CSS is not injected (untrusted notebook) */\n",
       "  display: none;\n",
       "}\n",
       "\n",
       ".xr-header {\n",
       "  padding-top: 6px;\n",
       "  padding-bottom: 6px;\n",
       "  margin-bottom: 4px;\n",
       "  border-bottom: solid 1px var(--xr-border-color);\n",
       "}\n",
       "\n",
       ".xr-header > div,\n",
       ".xr-header > ul {\n",
       "  display: inline;\n",
       "  margin-top: 0;\n",
       "  margin-bottom: 0;\n",
       "}\n",
       "\n",
       ".xr-obj-type,\n",
       ".xr-array-name {\n",
       "  margin-left: 2px;\n",
       "  margin-right: 10px;\n",
       "}\n",
       "\n",
       ".xr-obj-type {\n",
       "  color: var(--xr-font-color2);\n",
       "}\n",
       "\n",
       ".xr-sections {\n",
       "  padding-left: 0 !important;\n",
       "  display: grid;\n",
       "  grid-template-columns: 150px auto auto 1fr 0 20px 0 20px;\n",
       "}\n",
       "\n",
       ".xr-section-item {\n",
       "  display: contents;\n",
       "}\n",
       "\n",
       ".xr-section-item input {\n",
       "  display: inline-block;\n",
       "  opacity: 0;\n",
       "  height: 0;\n",
       "}\n",
       "\n",
       ".xr-section-item input + label {\n",
       "  color: var(--xr-disabled-color);\n",
       "  border: 2px solid transparent !important;\n",
       "}\n",
       "\n",
       ".xr-section-item input:enabled + label {\n",
       "  cursor: pointer;\n",
       "  color: var(--xr-font-color2);\n",
       "}\n",
       "\n",
       ".xr-section-item input:focus + label {\n",
       "  border: 2px solid var(--xr-font-color0) !important;\n",
       "}\n",
       "\n",
       ".xr-section-item input:enabled + label:hover {\n",
       "  color: var(--xr-font-color0);\n",
       "}\n",
       "\n",
       ".xr-section-summary {\n",
       "  grid-column: 1;\n",
       "  color: var(--xr-font-color2);\n",
       "  font-weight: 500;\n",
       "}\n",
       "\n",
       ".xr-section-summary > span {\n",
       "  display: inline-block;\n",
       "  padding-left: 0.5em;\n",
       "}\n",
       "\n",
       ".xr-section-summary-in:disabled + label {\n",
       "  color: var(--xr-font-color2);\n",
       "}\n",
       "\n",
       ".xr-section-summary-in + label:before {\n",
       "  display: inline-block;\n",
       "  content: \"►\";\n",
       "  font-size: 11px;\n",
       "  width: 15px;\n",
       "  text-align: center;\n",
       "}\n",
       "\n",
       ".xr-section-summary-in:disabled + label:before {\n",
       "  color: var(--xr-disabled-color);\n",
       "}\n",
       "\n",
       ".xr-section-summary-in:checked + label:before {\n",
       "  content: \"▼\";\n",
       "}\n",
       "\n",
       ".xr-section-summary-in:checked + label > span {\n",
       "  display: none;\n",
       "}\n",
       "\n",
       ".xr-section-summary,\n",
       ".xr-section-inline-details {\n",
       "  padding-top: 4px;\n",
       "  padding-bottom: 4px;\n",
       "}\n",
       "\n",
       ".xr-section-inline-details {\n",
       "  grid-column: 2 / -1;\n",
       "}\n",
       "\n",
       ".xr-section-details {\n",
       "  display: none;\n",
       "  grid-column: 1 / -1;\n",
       "  margin-bottom: 5px;\n",
       "}\n",
       "\n",
       ".xr-section-summary-in:checked ~ .xr-section-details {\n",
       "  display: contents;\n",
       "}\n",
       "\n",
       ".xr-array-wrap {\n",
       "  grid-column: 1 / -1;\n",
       "  display: grid;\n",
       "  grid-template-columns: 20px auto;\n",
       "}\n",
       "\n",
       ".xr-array-wrap > label {\n",
       "  grid-column: 1;\n",
       "  vertical-align: top;\n",
       "}\n",
       "\n",
       ".xr-preview {\n",
       "  color: var(--xr-font-color3);\n",
       "}\n",
       "\n",
       ".xr-array-preview,\n",
       ".xr-array-data {\n",
       "  padding: 0 5px !important;\n",
       "  grid-column: 2;\n",
       "}\n",
       "\n",
       ".xr-array-data,\n",
       ".xr-array-in:checked ~ .xr-array-preview {\n",
       "  display: none;\n",
       "}\n",
       "\n",
       ".xr-array-in:checked ~ .xr-array-data,\n",
       ".xr-array-preview {\n",
       "  display: inline-block;\n",
       "}\n",
       "\n",
       ".xr-dim-list {\n",
       "  display: inline-block !important;\n",
       "  list-style: none;\n",
       "  padding: 0 !important;\n",
       "  margin: 0;\n",
       "}\n",
       "\n",
       ".xr-dim-list li {\n",
       "  display: inline-block;\n",
       "  padding: 0;\n",
       "  margin: 0;\n",
       "}\n",
       "\n",
       ".xr-dim-list:before {\n",
       "  content: \"(\";\n",
       "}\n",
       "\n",
       ".xr-dim-list:after {\n",
       "  content: \")\";\n",
       "}\n",
       "\n",
       ".xr-dim-list li:not(:last-child):after {\n",
       "  content: \",\";\n",
       "  padding-right: 5px;\n",
       "}\n",
       "\n",
       ".xr-has-index {\n",
       "  font-weight: bold;\n",
       "}\n",
       "\n",
       ".xr-var-list,\n",
       ".xr-var-item {\n",
       "  display: contents;\n",
       "}\n",
       "\n",
       ".xr-var-item > div,\n",
       ".xr-var-item label,\n",
       ".xr-var-item > .xr-var-name span {\n",
       "  background-color: var(--xr-background-color-row-even);\n",
       "  border-color: var(--xr-background-color-row-odd);\n",
       "  margin-bottom: 0;\n",
       "  padding-top: 2px;\n",
       "}\n",
       "\n",
       ".xr-var-item > .xr-var-name:hover span {\n",
       "  padding-right: 5px;\n",
       "}\n",
       "\n",
       ".xr-var-list > li:nth-child(odd) > div,\n",
       ".xr-var-list > li:nth-child(odd) > label,\n",
       ".xr-var-list > li:nth-child(odd) > .xr-var-name span {\n",
       "  background-color: var(--xr-background-color-row-odd);\n",
       "  border-color: var(--xr-background-color-row-even);\n",
       "}\n",
       "\n",
       ".xr-var-name {\n",
       "  grid-column: 1;\n",
       "}\n",
       "\n",
       ".xr-var-dims {\n",
       "  grid-column: 2;\n",
       "}\n",
       "\n",
       ".xr-var-dtype {\n",
       "  grid-column: 3;\n",
       "  text-align: right;\n",
       "  color: var(--xr-font-color2);\n",
       "}\n",
       "\n",
       ".xr-var-preview {\n",
       "  grid-column: 4;\n",
       "}\n",
       "\n",
       ".xr-index-preview {\n",
       "  grid-column: 2 / 5;\n",
       "  color: var(--xr-font-color2);\n",
       "}\n",
       "\n",
       ".xr-var-name,\n",
       ".xr-var-dims,\n",
       ".xr-var-dtype,\n",
       ".xr-preview,\n",
       ".xr-attrs dt {\n",
       "  white-space: nowrap;\n",
       "  overflow: hidden;\n",
       "  text-overflow: ellipsis;\n",
       "  padding-right: 10px;\n",
       "}\n",
       "\n",
       ".xr-var-name:hover,\n",
       ".xr-var-dims:hover,\n",
       ".xr-var-dtype:hover,\n",
       ".xr-attrs dt:hover {\n",
       "  overflow: visible;\n",
       "  width: auto;\n",
       "  z-index: 1;\n",
       "}\n",
       "\n",
       ".xr-var-attrs,\n",
       ".xr-var-data,\n",
       ".xr-index-data {\n",
       "  display: none;\n",
       "  border-top: 2px dotted var(--xr-background-color);\n",
       "  padding-bottom: 20px !important;\n",
       "  padding-top: 10px !important;\n",
       "}\n",
       "\n",
       ".xr-var-attrs-in + label,\n",
       ".xr-var-data-in + label,\n",
       ".xr-index-data-in + label {\n",
       "  padding: 0 1px;\n",
       "}\n",
       "\n",
       ".xr-var-attrs-in:checked ~ .xr-var-attrs,\n",
       ".xr-var-data-in:checked ~ .xr-var-data,\n",
       ".xr-index-data-in:checked ~ .xr-index-data {\n",
       "  display: block;\n",
       "}\n",
       "\n",
       ".xr-var-data > table {\n",
       "  float: right;\n",
       "}\n",
       "\n",
       ".xr-var-data > pre,\n",
       ".xr-index-data > pre,\n",
       ".xr-var-data > table > tbody > tr {\n",
       "  background-color: transparent !important;\n",
       "}\n",
       "\n",
       ".xr-var-name span,\n",
       ".xr-var-data,\n",
       ".xr-index-name div,\n",
       ".xr-index-data,\n",
       ".xr-attrs {\n",
       "  padding-left: 25px !important;\n",
       "}\n",
       "\n",
       ".xr-attrs,\n",
       ".xr-var-attrs,\n",
       ".xr-var-data,\n",
       ".xr-index-data {\n",
       "  grid-column: 1 / -1;\n",
       "}\n",
       "\n",
       "dl.xr-attrs {\n",
       "  padding: 0;\n",
       "  margin: 0;\n",
       "  display: grid;\n",
       "  grid-template-columns: 125px auto;\n",
       "}\n",
       "\n",
       ".xr-attrs dt,\n",
       ".xr-attrs dd {\n",
       "  padding: 0;\n",
       "  margin: 0;\n",
       "  float: left;\n",
       "  padding-right: 10px;\n",
       "  width: auto;\n",
       "}\n",
       "\n",
       ".xr-attrs dt {\n",
       "  font-weight: normal;\n",
       "  grid-column: 1;\n",
       "}\n",
       "\n",
       ".xr-attrs dt:hover span {\n",
       "  display: inline-block;\n",
       "  background: var(--xr-background-color);\n",
       "  padding-right: 10px;\n",
       "}\n",
       "\n",
       ".xr-attrs dd {\n",
       "  grid-column: 2;\n",
       "  white-space: pre-wrap;\n",
       "  word-break: break-all;\n",
       "}\n",
       "\n",
       ".xr-icon-database,\n",
       ".xr-icon-file-text2,\n",
       ".xr-no-icon {\n",
       "  display: inline-block;\n",
       "  vertical-align: middle;\n",
       "  width: 1em;\n",
       "  height: 1.5em !important;\n",
       "  stroke-width: 0;\n",
       "  stroke: currentColor;\n",
       "  fill: currentColor;\n",
       "}\n",
       "\n",
       ".xr-var-attrs-in:checked + label > .xr-icon-file-text2,\n",
       ".xr-var-data-in:checked + label > .xr-icon-database,\n",
       ".xr-index-data-in:checked + label > .xr-icon-database {\n",
       "  color: var(--xr-font-color0);\n",
       "  filter: drop-shadow(1px 1px 5px var(--xr-font-color2));\n",
       "  stroke-width: 0.8px;\n",
       "}\n",
       "</style><pre class='xr-text-repr-fallback'>&lt;xarray.Dataset&gt; Size: 748MB\n",
       "Dimensions:  (time: 1, step: 60, lat: 721, lon: 1440)\n",
       "Coordinates:\n",
       "  * lat      (lat) float64 6kB 90.0 89.75 89.5 89.25 ... -89.5 -89.75 -90.0\n",
       "  * lon      (lon) float64 12kB 0.0 0.25 0.5 0.75 ... 359.0 359.2 359.5 359.8\n",
       "  * step     (step) int64 480B 6 12 18 24 30 36 42 ... 330 336 342 348 354 360\n",
       "  * time     (time) datetime64[ns] 8B 2023-07-02\n",
       "Data variables:\n",
       "    2t       (time, step, lat, lon) float32 249MB 274.0 274.0 ... 205.7 205.7\n",
       "    tp       (time, step, lat, lon) float32 249MB 3.317e-05 3.317e-05 ... 0.0\n",
       "    z_500    (time, step, lat, lon) float32 249MB 5.565e+04 ... 4.709e+04</pre><div class='xr-wrap' style='display:none'><div class='xr-header'><div class='xr-obj-type'>xarray.Dataset</div></div><ul class='xr-sections'><li class='xr-section-item'><input id='section-bbaff23d-fde8-43b1-8102-095769909b7e' class='xr-section-summary-in' type='checkbox' disabled ><label for='section-bbaff23d-fde8-43b1-8102-095769909b7e' class='xr-section-summary'  title='Expand/collapse section'>Dimensions:</label><div class='xr-section-inline-details'><ul class='xr-dim-list'><li><span class='xr-has-index'>time</span>: 1</li><li><span class='xr-has-index'>step</span>: 60</li><li><span class='xr-has-index'>lat</span>: 721</li><li><span class='xr-has-index'>lon</span>: 1440</li></ul></div><div class='xr-section-details'></div></li><li class='xr-section-item'><input id='section-8dad8169-2c73-40a3-aaa5-7f68cf136679' class='xr-section-summary-in' type='checkbox'  checked><label for='section-8dad8169-2c73-40a3-aaa5-7f68cf136679' class='xr-section-summary' >Coordinates: <span>(4)</span></label><div class='xr-section-inline-details'></div><div class='xr-section-details'><ul class='xr-var-list'><li class='xr-var-item'><div class='xr-var-name'><span class='xr-has-index'>lat</span></div><div class='xr-var-dims'>(lat)</div><div class='xr-var-dtype'>float64</div><div class='xr-var-preview xr-preview'>90.0 89.75 89.5 ... -89.75 -90.0</div><input id='attrs-337fa85e-5d81-4773-b5af-985bbef7fcdf' class='xr-var-attrs-in' type='checkbox' disabled><label for='attrs-337fa85e-5d81-4773-b5af-985bbef7fcdf' title='Show/Hide attributes'><svg class='icon xr-icon-file-text2'><use xlink:href='#icon-file-text2'></use></svg></label><input id='data-76e2fc7f-8d11-4a8f-b798-3c1eb89c22db' class='xr-var-data-in' type='checkbox'><label for='data-76e2fc7f-8d11-4a8f-b798-3c1eb89c22db' title='Show/Hide data repr'><svg class='icon xr-icon-database'><use xlink:href='#icon-database'></use></svg></label><div class='xr-var-attrs'><dl class='xr-attrs'></dl></div><div class='xr-var-data'><pre>array([ 90.  ,  89.75,  89.5 , ..., -89.5 , -89.75, -90.  ], shape=(721,))</pre></div></li><li class='xr-var-item'><div class='xr-var-name'><span class='xr-has-index'>lon</span></div><div class='xr-var-dims'>(lon)</div><div class='xr-var-dtype'>float64</div><div class='xr-var-preview xr-preview'>0.0 0.25 0.5 ... 359.2 359.5 359.8</div><input id='attrs-eeed8d7f-0446-4098-98f4-a5ec73fc1fe4' class='xr-var-attrs-in' type='checkbox' disabled><label for='attrs-eeed8d7f-0446-4098-98f4-a5ec73fc1fe4' title='Show/Hide attributes'><svg class='icon xr-icon-file-text2'><use xlink:href='#icon-file-text2'></use></svg></label><input id='data-f756bf65-2af0-4dac-aa86-6fc6e2f97bed' class='xr-var-data-in' type='checkbox'><label for='data-f756bf65-2af0-4dac-aa86-6fc6e2f97bed' title='Show/Hide data repr'><svg class='icon xr-icon-database'><use xlink:href='#icon-database'></use></svg></label><div class='xr-var-attrs'><dl class='xr-attrs'></dl></div><div class='xr-var-data'><pre>array([0.0000e+00, 2.5000e-01, 5.0000e-01, ..., 3.5925e+02, 3.5950e+02,\n",
       "       3.5975e+02], shape=(1440,))</pre></div></li><li class='xr-var-item'><div class='xr-var-name'><span class='xr-has-index'>step</span></div><div class='xr-var-dims'>(step)</div><div class='xr-var-dtype'>int64</div><div class='xr-var-preview xr-preview'>6 12 18 24 30 ... 342 348 354 360</div><input id='attrs-0a399ac0-c17e-4ac8-99dd-4c5166cdb842' class='xr-var-attrs-in' type='checkbox' disabled><label for='attrs-0a399ac0-c17e-4ac8-99dd-4c5166cdb842' title='Show/Hide attributes'><svg class='icon xr-icon-file-text2'><use xlink:href='#icon-file-text2'></use></svg></label><input id='data-53809d98-650f-4ef9-bb07-48567ff33284' class='xr-var-data-in' type='checkbox'><label for='data-53809d98-650f-4ef9-bb07-48567ff33284' title='Show/Hide data repr'><svg class='icon xr-icon-database'><use xlink:href='#icon-database'></use></svg></label><div class='xr-var-attrs'><dl class='xr-attrs'></dl></div><div class='xr-var-data'><pre>array([  6,  12,  18,  24,  30,  36,  42,  48,  54,  60,  66,  72,  78,  84,\n",
       "        90,  96, 102, 108, 114, 120, 126, 132, 138, 144, 150, 156, 162, 168,\n",
       "       174, 180, 186, 192, 198, 204, 210, 216, 222, 228, 234, 240, 246, 252,\n",
       "       258, 264, 270, 276, 282, 288, 294, 300, 306, 312, 318, 324, 330, 336,\n",
       "       342, 348, 354, 360])</pre></div></li><li class='xr-var-item'><div class='xr-var-name'><span class='xr-has-index'>time</span></div><div class='xr-var-dims'>(time)</div><div class='xr-var-dtype'>datetime64[ns]</div><div class='xr-var-preview xr-preview'>2023-07-02</div><input id='attrs-46e92d3a-dcef-4c95-b8ca-6725c860e435' class='xr-var-attrs-in' type='checkbox' disabled><label for='attrs-46e92d3a-dcef-4c95-b8ca-6725c860e435' title='Show/Hide attributes'><svg class='icon xr-icon-file-text2'><use xlink:href='#icon-file-text2'></use></svg></label><input id='data-76ce6d2c-7325-47df-8aea-d2b6379d303e' class='xr-var-data-in' type='checkbox'><label for='data-76ce6d2c-7325-47df-8aea-d2b6379d303e' title='Show/Hide data repr'><svg class='icon xr-icon-database'><use xlink:href='#icon-database'></use></svg></label><div class='xr-var-attrs'><dl class='xr-attrs'></dl></div><div class='xr-var-data'><pre>array([&#x27;2023-07-02T00:00:00.000000000&#x27;], dtype=&#x27;datetime64[ns]&#x27;)</pre></div></li></ul></div></li><li class='xr-section-item'><input id='section-b5313ad0-bd4f-47c0-9cad-7ce82fa2da53' class='xr-section-summary-in' type='checkbox'  checked><label for='section-b5313ad0-bd4f-47c0-9cad-7ce82fa2da53' class='xr-section-summary' >Data variables: <span>(3)</span></label><div class='xr-section-inline-details'></div><div class='xr-section-details'><ul class='xr-var-list'><li class='xr-var-item'><div class='xr-var-name'><span>2t</span></div><div class='xr-var-dims'>(time, step, lat, lon)</div><div class='xr-var-dtype'>float32</div><div class='xr-var-preview xr-preview'>274.0 274.0 274.0 ... 205.7 205.7</div><input id='attrs-fde3e6b7-0126-4116-959b-5d219abf023d' class='xr-var-attrs-in' type='checkbox' disabled><label for='attrs-fde3e6b7-0126-4116-959b-5d219abf023d' title='Show/Hide attributes'><svg class='icon xr-icon-file-text2'><use xlink:href='#icon-file-text2'></use></svg></label><input id='data-0ba84fe6-b932-4e3a-b58f-6f91ef975103' class='xr-var-data-in' type='checkbox'><label for='data-0ba84fe6-b932-4e3a-b58f-6f91ef975103' title='Show/Hide data repr'><svg class='icon xr-icon-database'><use xlink:href='#icon-database'></use></svg></label><div class='xr-var-attrs'><dl class='xr-attrs'></dl></div><div class='xr-var-data'><pre>array([[[[273.95407, 273.95407, 273.95407, ..., 273.95407, 273.95407,\n",
       "          273.95407],\n",
       "         [273.63745, 273.63934, 273.6412 , ..., 273.6394 , 273.63873,\n",
       "          273.6381 ],\n",
       "         [273.51105, 273.5124 , 273.51517, ..., 273.51346, 273.5121 ,\n",
       "          273.5112 ],\n",
       "         ...,\n",
       "         [213.13329, 213.13992, 213.14397, ..., 213.11678, 213.12227,\n",
       "          213.12778],\n",
       "         [211.90886, 211.91037, 211.91187, ..., 211.9023 , 211.90451,\n",
       "          211.9067 ],\n",
       "         [209.67206, 209.67206, 209.67206, ..., 209.67206, 209.67206,\n",
       "          209.67206]],\n",
       "\n",
       "        [[273.66003, 273.66003, 273.66003, ..., 273.66003, 273.66003,\n",
       "          273.66003],\n",
       "         [273.89505, 273.89642, 273.89783, ..., 273.89777, 273.89685,\n",
       "          273.89594],\n",
       "         [273.65958, 273.6599 , 273.66177, ..., 273.66394, 273.6619 ,\n",
       "          273.66037],\n",
       "...\n",
       "         [212.34346, 212.34674, 212.34369, ..., 212.32243, 212.33109,\n",
       "          212.33827],\n",
       "         [211.17868, 211.17549, 211.17227, ..., 211.16823, 211.17174,\n",
       "          211.17522],\n",
       "         [206.19064, 206.19064, 206.19064, ..., 206.19064, 206.19064,\n",
       "          206.19064]],\n",
       "\n",
       "        [[274.57013, 274.57013, 274.57013, ..., 274.57013, 274.57013,\n",
       "          274.57013],\n",
       "         [273.29962, 273.29987, 273.3001 , ..., 273.30704, 273.30457,\n",
       "          273.3021 ],\n",
       "         [273.54547, 273.54495, 273.54492, ..., 273.5573 , 273.5526 ,\n",
       "          273.54858],\n",
       "         ...,\n",
       "         [212.16354, 212.16837, 212.16704, ..., 212.14432, 212.15231,\n",
       "          212.1589 ],\n",
       "         [210.91423, 210.91202, 210.90976, ..., 210.90482, 210.90797,\n",
       "          210.91112],\n",
       "         [205.70517, 205.70517, 205.70517, ..., 205.70517, 205.70517,\n",
       "          205.70517]]]], shape=(1, 60, 721, 1440), dtype=float32)</pre></div></li><li class='xr-var-item'><div class='xr-var-name'><span>tp</span></div><div class='xr-var-dims'>(time, step, lat, lon)</div><div class='xr-var-dtype'>float32</div><div class='xr-var-preview xr-preview'>3.317e-05 3.317e-05 ... 0.0 0.0</div><input id='attrs-b1672d7f-3b38-47c6-bb92-04701a7b3f24' class='xr-var-attrs-in' type='checkbox' disabled><label for='attrs-b1672d7f-3b38-47c6-bb92-04701a7b3f24' title='Show/Hide attributes'><svg class='icon xr-icon-file-text2'><use xlink:href='#icon-file-text2'></use></svg></label><input id='data-9751460d-9591-47f9-b271-75d825d641b3' class='xr-var-data-in' type='checkbox'><label for='data-9751460d-9591-47f9-b271-75d825d641b3' title='Show/Hide data repr'><svg class='icon xr-icon-database'><use xlink:href='#icon-database'></use></svg></label><div class='xr-var-attrs'><dl class='xr-attrs'></dl></div><div class='xr-var-data'><pre>array([[[[3.3172291e-05, 3.3172291e-05, 3.3172291e-05, ...,\n",
       "          3.3172291e-05, 3.3172291e-05, 3.3172291e-05],\n",
       "         [2.5582609e-05, 2.5853207e-05, 2.6124237e-05, ...,\n",
       "          2.5876145e-05, 2.5777868e-05, 2.5680023e-05],\n",
       "         [3.7912334e-06, 3.6750043e-06, 3.9412707e-06, ...,\n",
       "          4.2247771e-06, 3.9979327e-06, 3.8442945e-06],\n",
       "         ...,\n",
       "         [0.0000000e+00, 0.0000000e+00, 0.0000000e+00, ...,\n",
       "          0.0000000e+00, 0.0000000e+00, 0.0000000e+00],\n",
       "         [0.0000000e+00, 0.0000000e+00, 0.0000000e+00, ...,\n",
       "          0.0000000e+00, 0.0000000e+00, 0.0000000e+00],\n",
       "         [0.0000000e+00, 0.0000000e+00, 0.0000000e+00, ...,\n",
       "          0.0000000e+00, 0.0000000e+00, 0.0000000e+00]],\n",
       "\n",
       "        [[5.9258186e-05, 5.9258186e-05, 5.9258186e-05, ...,\n",
       "          5.9258186e-05, 5.9258186e-05, 5.9258186e-05],\n",
       "         [0.0000000e+00, 0.0000000e+00, 0.0000000e+00, ...,\n",
       "          0.0000000e+00, 0.0000000e+00, 0.0000000e+00],\n",
       "         [0.0000000e+00, 0.0000000e+00, 0.0000000e+00, ...,\n",
       "          0.0000000e+00, 0.0000000e+00, 0.0000000e+00],\n",
       "...\n",
       "          0.0000000e+00, 0.0000000e+00, 0.0000000e+00],\n",
       "         [0.0000000e+00, 0.0000000e+00, 0.0000000e+00, ...,\n",
       "          0.0000000e+00, 0.0000000e+00, 0.0000000e+00],\n",
       "         [0.0000000e+00, 0.0000000e+00, 0.0000000e+00, ...,\n",
       "          0.0000000e+00, 0.0000000e+00, 0.0000000e+00]],\n",
       "\n",
       "        [[5.0226646e-04, 5.0226646e-04, 5.0226646e-04, ...,\n",
       "          5.0226646e-04, 5.0226646e-04, 5.0226646e-04],\n",
       "         [7.7548873e-04, 7.7571301e-04, 7.7594147e-04, ...,\n",
       "          7.7367685e-04, 7.7427656e-04, 7.7488052e-04],\n",
       "         [5.5413059e-04, 5.5450317e-04, 5.5493106e-04, ...,\n",
       "          5.5157213e-04, 5.5272464e-04, 5.5361126e-04],\n",
       "         ...,\n",
       "         [0.0000000e+00, 0.0000000e+00, 0.0000000e+00, ...,\n",
       "          0.0000000e+00, 0.0000000e+00, 0.0000000e+00],\n",
       "         [0.0000000e+00, 0.0000000e+00, 0.0000000e+00, ...,\n",
       "          0.0000000e+00, 0.0000000e+00, 0.0000000e+00],\n",
       "         [0.0000000e+00, 0.0000000e+00, 0.0000000e+00, ...,\n",
       "          0.0000000e+00, 0.0000000e+00, 0.0000000e+00]]]],\n",
       "      shape=(1, 60, 721, 1440), dtype=float32)</pre></div></li><li class='xr-var-item'><div class='xr-var-name'><span>z_500</span></div><div class='xr-var-dims'>(time, step, lat, lon)</div><div class='xr-var-dtype'>float32</div><div class='xr-var-preview xr-preview'>5.565e+04 5.565e+04 ... 4.709e+04</div><input id='attrs-85749db9-f31c-463e-b016-bc7ae21411b7' class='xr-var-attrs-in' type='checkbox' disabled><label for='attrs-85749db9-f31c-463e-b016-bc7ae21411b7' title='Show/Hide attributes'><svg class='icon xr-icon-file-text2'><use xlink:href='#icon-file-text2'></use></svg></label><input id='data-8e38464d-a25c-4617-8bfb-7f362ba5d5e6' class='xr-var-data-in' type='checkbox'><label for='data-8e38464d-a25c-4617-8bfb-7f362ba5d5e6' title='Show/Hide data repr'><svg class='icon xr-icon-database'><use xlink:href='#icon-database'></use></svg></label><div class='xr-var-attrs'><dl class='xr-attrs'></dl></div><div class='xr-var-data'><pre>array([[[[55652.664, 55652.664, 55652.664, ..., 55652.664, 55652.664,\n",
       "          55652.664],\n",
       "         [55731.477, 55731.375, 55731.277, ..., 55731.75 , 55731.66 ,\n",
       "          55731.566],\n",
       "         [55773.445, 55773.26 , 55773.066, ..., 55774.05 , 55773.867,\n",
       "          55773.668],\n",
       "         ...,\n",
       "         [47179.816, 47180.02 , 47180.207, ..., 47179.38 , 47179.496,\n",
       "          47179.64 ],\n",
       "         [47204.53 , 47204.617, 47204.703, ..., 47204.355, 47204.414,\n",
       "          47204.473],\n",
       "         [47210.24 , 47210.24 , 47210.24 , ..., 47210.24 , 47210.24 ,\n",
       "          47210.24 ]],\n",
       "\n",
       "        [[55699.266, 55699.266, 55699.266, ..., 55699.266, 55699.266,\n",
       "          55699.266],\n",
       "         [55757.195, 55757.19 , 55757.188, ..., 55757.38 , 55757.316,\n",
       "          55757.258],\n",
       "         [55809.406, 55809.35 , 55809.32 , ..., 55809.85 , 55809.727,\n",
       "          55809.582],\n",
       "...\n",
       "         [47518.44 , 47518.434, 47518.137, ..., 47518.457, 47518.4  ,\n",
       "          47518.387],\n",
       "         [47597.06 , 47596.8  , 47596.543, ..., 47597.184, 47597.14 ,\n",
       "          47597.098],\n",
       "         [47107.49 , 47107.49 , 47107.49 , ..., 47107.49 , 47107.49 ,\n",
       "          47107.49 ]],\n",
       "\n",
       "        [[53855.55 , 53855.55 , 53855.55 , ..., 53855.55 , 53855.55 ,\n",
       "          53855.55 ],\n",
       "         [53496.848, 53496.316, 53495.79 , ..., 53498.273, 53497.797,\n",
       "          53497.32 ],\n",
       "         [53488.934, 53488.11 , 53487.11 , ..., 53491.62 , 53490.754,\n",
       "          53489.86 ],\n",
       "         ...,\n",
       "         [47496.082, 47496.043, 47495.668, ..., 47496.285, 47496.164,\n",
       "          47496.09 ],\n",
       "         [47578.49 , 47578.17 , 47577.855, ..., 47578.715, 47578.637,\n",
       "          47578.562],\n",
       "         [47094.504, 47094.504, 47094.504, ..., 47094.504, 47094.504,\n",
       "          47094.504]]]], shape=(1, 60, 721, 1440), dtype=float32)</pre></div></li></ul></div></li><li class='xr-section-item'><input id='section-94d58215-76ea-4d10-ae77-70f7999397e6' class='xr-section-summary-in' type='checkbox'  ><label for='section-94d58215-76ea-4d10-ae77-70f7999397e6' class='xr-section-summary' >Indexes: <span>(4)</span></label><div class='xr-section-inline-details'></div><div class='xr-section-details'><ul class='xr-var-list'><li class='xr-var-item'><div class='xr-index-name'><div>lat</div></div><div class='xr-index-preview'>PandasIndex</div><input type='checkbox' disabled/><label></label><input id='index-2ab9e12a-b618-459e-a499-dac97a2d49df' class='xr-index-data-in' type='checkbox'/><label for='index-2ab9e12a-b618-459e-a499-dac97a2d49df' title='Show/Hide index repr'><svg class='icon xr-icon-database'><use xlink:href='#icon-database'></use></svg></label><div class='xr-index-data'><pre>PandasIndex(Index([  90.0,  89.75,   89.5,  89.25,   89.0,  88.75,   88.5,  88.25,   88.0,\n",
       "        87.75,\n",
       "       ...\n",
       "       -87.75,  -88.0, -88.25,  -88.5, -88.75,  -89.0, -89.25,  -89.5, -89.75,\n",
       "        -90.0],\n",
       "      dtype=&#x27;float64&#x27;, name=&#x27;lat&#x27;, length=721))</pre></div></li><li class='xr-var-item'><div class='xr-index-name'><div>lon</div></div><div class='xr-index-preview'>PandasIndex</div><input type='checkbox' disabled/><label></label><input id='index-65b240c0-2f62-4a80-90f7-d1b9568c1694' class='xr-index-data-in' type='checkbox'/><label for='index-65b240c0-2f62-4a80-90f7-d1b9568c1694' title='Show/Hide index repr'><svg class='icon xr-icon-database'><use xlink:href='#icon-database'></use></svg></label><div class='xr-index-data'><pre>PandasIndex(Index([   0.0,   0.25,    0.5,   0.75,    1.0,   1.25,    1.5,   1.75,    2.0,\n",
       "         2.25,\n",
       "       ...\n",
       "        357.5, 357.75,  358.0, 358.25,  358.5, 358.75,  359.0, 359.25,  359.5,\n",
       "       359.75],\n",
       "      dtype=&#x27;float64&#x27;, name=&#x27;lon&#x27;, length=1440))</pre></div></li><li class='xr-var-item'><div class='xr-index-name'><div>step</div></div><div class='xr-index-preview'>PandasIndex</div><input type='checkbox' disabled/><label></label><input id='index-07765524-684e-4415-a1d0-fe3c45e48d2b' class='xr-index-data-in' type='checkbox'/><label for='index-07765524-684e-4415-a1d0-fe3c45e48d2b' title='Show/Hide index repr'><svg class='icon xr-icon-database'><use xlink:href='#icon-database'></use></svg></label><div class='xr-index-data'><pre>PandasIndex(Index([  6,  12,  18,  24,  30,  36,  42,  48,  54,  60,  66,  72,  78,  84,\n",
       "        90,  96, 102, 108, 114, 120, 126, 132, 138, 144, 150, 156, 162, 168,\n",
       "       174, 180, 186, 192, 198, 204, 210, 216, 222, 228, 234, 240, 246, 252,\n",
       "       258, 264, 270, 276, 282, 288, 294, 300, 306, 312, 318, 324, 330, 336,\n",
       "       342, 348, 354, 360],\n",
       "      dtype=&#x27;int64&#x27;, name=&#x27;step&#x27;))</pre></div></li><li class='xr-var-item'><div class='xr-index-name'><div>time</div></div><div class='xr-index-preview'>PandasIndex</div><input type='checkbox' disabled/><label></label><input id='index-809c69a9-34ce-420f-8f3b-5b2d83eb1933' class='xr-index-data-in' type='checkbox'/><label for='index-809c69a9-34ce-420f-8f3b-5b2d83eb1933' title='Show/Hide index repr'><svg class='icon xr-icon-database'><use xlink:href='#icon-database'></use></svg></label><div class='xr-index-data'><pre>PandasIndex(DatetimeIndex([&#x27;2023-07-02&#x27;], dtype=&#x27;datetime64[ns]&#x27;, name=&#x27;time&#x27;, freq=None))</pre></div></li></ul></div></li><li class='xr-section-item'><input id='section-a17360dc-18ac-4553-bccb-f3b11bb0e1b7' class='xr-section-summary-in' type='checkbox' disabled ><label for='section-a17360dc-18ac-4553-bccb-f3b11bb0e1b7' class='xr-section-summary'  title='Expand/collapse section'>Attributes: <span>(0)</span></label><div class='xr-section-inline-details'></div><div class='xr-section-details'><dl class='xr-attrs'></dl></div></li></ul></div></div>"
      ],
      "text/plain": [
       "<xarray.Dataset> Size: 748MB\n",
       "Dimensions:  (time: 1, step: 60, lat: 721, lon: 1440)\n",
       "Coordinates:\n",
       "  * lat      (lat) float64 6kB 90.0 89.75 89.5 89.25 ... -89.5 -89.75 -90.0\n",
       "  * lon      (lon) float64 12kB 0.0 0.25 0.5 0.75 ... 359.0 359.2 359.5 359.8\n",
       "  * step     (step) int64 480B 6 12 18 24 30 36 42 ... 330 336 342 348 354 360\n",
       "  * time     (time) datetime64[ns] 8B 2023-07-02\n",
       "Data variables:\n",
       "    2t       (time, step, lat, lon) float32 249MB 274.0 274.0 ... 205.7 205.7\n",
       "    tp       (time, step, lat, lon) float32 249MB 3.317e-05 3.317e-05 ... 0.0\n",
       "    z_500    (time, step, lat, lon) float32 249MB 5.565e+04 ... 4.709e+04"
      ]
     },
     "execution_count": 8,
     "metadata": {},
     "output_type": "execute_result"
    }
   ],
   "source": [
    "output_ds"
   ]
  },
  {
   "cell_type": "markdown",
   "id": "ebebb055",
   "metadata": {},
   "source": [
    "## 6. Visualization (Optional)\n",
    "\n",
    "The following cells contain commented-out code to visualize the forecast output using `matplotlib` and `cartopy`. You can uncomment and run them to plot the results.\n",
    "\n",
    "### 6.1. Plot 2m Temperature on a Regular Grid\n",
    "\n",
    "This cell plots the 2-meter temperature (`2t`) for each forecast step on a world map. It converts the temperature from Kelvin to Celsius for easier interpretation."
   ]
  },
  {
   "cell_type": "code",
   "execution_count": 9,
   "id": "727e4056",
   "metadata": {},
   "outputs": [
    {
     "data": {
      "application/vnd.jupyter.widget-view+json": {
       "model_id": "1bb5c89043324e11a336b307f85f9804",
       "version_major": 2,
       "version_minor": 0
      },
      "text/plain": [
       "interactive(children=(SelectionSlider(continuous_update=False, description='Forecast Step:', layout=Layout(wid…"
      ]
     },
     "metadata": {},
     "output_type": "display_data"
    },
    {
     "data": {
      "text/plain": [
       "<function __main__.plot_temperature(step)>"
      ]
     },
     "execution_count": 9,
     "metadata": {},
     "output_type": "execute_result"
    }
   ],
   "source": [
    "import matplotlib.pyplot as plt\n",
    "from cartopy import crs as ccrs\n",
    "import cartopy.feature as cfeature\n",
    "import ipywidgets as widgets\n",
    "from IPython.display import display\n",
    "\n",
    "# Precompute the plot data\n",
    "plot_ds = output_ds[\"2t\"].isel(time=0) - 273.15\n",
    "vmin = plot_ds.min().item()\n",
    "vmax = plot_ds.max().item()\n",
    "vmax = max(abs(vmin), abs(vmax))\n",
    "vmin = -vmax\n",
    "\n",
    "# Convert steps to a sorted list\n",
    "step_values = sorted(plot_ds.step.values)\n",
    "\n",
    "def plot_temperature(step):\n",
    "    plt.figure(figsize=(10, 5))\n",
    "    ax = plt.axes(projection=ccrs.PlateCarree())\n",
    "\n",
    "    # Plot data for selected step\n",
    "    c = ax.pcolormesh(\n",
    "        plot_ds.lon,\n",
    "        plot_ds.lat,\n",
    "        plot_ds.sel(step=step),\n",
    "        cmap='RdBu_r',\n",
    "        vmin=vmin,\n",
    "        vmax=vmax,\n",
    "        transform=ccrs.PlateCarree(),\n",
    "    )\n",
    "\n",
    "    plt.colorbar(c, ax=ax, orientation='vertical', label='Temperature (°C)', pad=0.01, shrink=0.865)\n",
    "\n",
    "    # Chicago coordinates\n",
    "    chicago_lon = 180 + 91\n",
    "    chicago_lat = 41.85\n",
    "\n",
    "    temp_at_chicago = plot_ds.sel(step=step).sel(lon=chicago_lon, lat=chicago_lat, method=\"nearest\").item()\n",
    "    temp_at_chicago_f = (temp_at_chicago * 9/5) + 32\n",
    "\n",
    "    valid_time = pd.to_datetime(output_ds.time.values[0]) + pd.Timedelta(hours=step)\n",
    "    valid_time = valid_time - pd.Timedelta(hours=5)  # Convert to CST\n",
    "    valid_time_str = valid_time.strftime('%Y-%m-%d %H:%M:%S')\n",
    "\n",
    "    plt.title(f\"AIFS 2m Temperature at Chicago: {temp_at_chicago:.1f} °C ({temp_at_chicago_f:.1f} °F) on {valid_time_str} CST\")\n",
    "    plt.scatter([chicago_lon], [chicago_lat], color='black', s=10)\n",
    "\n",
    "    ax.coastlines()\n",
    "    ax.add_feature(cfeature.BORDERS, linestyle=\":\")\n",
    "    ax.set_xlabel(\"Longitude\")\n",
    "    ax.set_ylabel(\"Latitude\")\n",
    "\n",
    "    plt.tight_layout()\n",
    "    plt.show()\n",
    "\n",
    "# Create the slider using valid step values\n",
    "step_slider = widgets.SelectionSlider(\n",
    "    options=step_values,\n",
    "    description=\"Forecast Step:\",\n",
    "    continuous_update=False,\n",
    "    style={'description_width': 'initial'},\n",
    "    layout=widgets.Layout(width='70%')\n",
    ")\n",
    "\n",
    "# Display the interactive plot\n",
    "widgets.interact(plot_temperature, step=step_slider)\n"
   ]
  }
 ],
 "metadata": {
  "kernelspec": {
   "display_name": "ai-models",
   "language": "python",
   "name": "python3"
  },
  "language_info": {
   "codemirror_mode": {
    "name": "ipython",
    "version": 3
   },
   "file_extension": ".py",
   "mimetype": "text/x-python",
   "name": "python",
   "nbconvert_exporter": "python",
   "pygments_lexer": "ipython3",
   "version": "3.11.0"
  }
 },
 "nbformat": 4,
 "nbformat_minor": 5
}
