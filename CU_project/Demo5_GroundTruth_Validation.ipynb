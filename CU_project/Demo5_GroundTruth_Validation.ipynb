{
 "cells": [
  {
   "cell_type": "markdown",
   "id": "6500fb3f",
   "metadata": {},
   "source": [
    "# 🌍 Demo 5: Ground Truth Challenge – Validating Models with **Your** Data\n",
    "\n",
    "In this demo, you will evaluate an AI weather forecast **against your own local ground truth data** — not just ERA5. This reveals whether the model performs well in **your region of interest**, and teaches a key lesson:\n",
    "\n",
    "> ❝A model trained on global reanalysis (like ERA5) may not work well where you live.❞\n",
    "\n",
    "This gap is why **model localization** is essential for real-world AI deployment."
   ]
  },
  {
   "cell_type": "markdown",
   "id": "2d0bcd7c",
   "metadata": {},
   "source": [
    "## 0) Setup"
   ]
  },
  {
   "cell_type": "code",
   "execution_count": 5,
   "id": "8a0b5150",
   "metadata": {},
   "outputs": [],
   "source": [
    "# If needed, install libs (uncomment):\n",
    "# !pip install xarray pandas numpy matplotlib ipywidgets meteostat xskillscore\n",
    "\n",
    "import xarray as xr\n",
    "import pandas as pd\n",
    "import numpy as np\n",
    "import matplotlib.pyplot as plt\n",
    "import ipywidgets as widgets\n",
    "from IPython.display import display, Markdown, clear_output\n",
    "from datetime import datetime, timedelta, timezone\n",
    "\n",
    "try:\n",
    "    from meteostat import Point, Hourly\n",
    "    METEOSTAT_AVAILABLE = True\n",
    "except Exception:\n",
    "    METEOSTAT_AVAILABLE = False\n",
    "\n",
    "try:\n",
    "    import xskillscore as xs\n",
    "    XSS_AVAILABLE = True\n",
    "except Exception:\n",
    "    XSS_AVAILABLE = False\n",
    "\n",
    "import warnings\n",
    "warnings.filterwarnings('ignore')\n",
    "\n",
    "plt.rcParams['figure.figsize'] = (10,4)"
   ]
  },
  {
   "cell_type": "markdown",
   "id": "f4e46392",
   "metadata": {},
   "source": [
    "## 1) 🔧 Select Your Forecast"
   ]
  },
  {
   "cell_type": "code",
   "execution_count": 6,
   "id": "8dbc2f0c",
   "metadata": {},
   "outputs": [
    {
     "data": {
      "application/vnd.jupyter.widget-view+json": {
       "model_id": "ef853d4a4a854b5ca2b40e0bb4f661e8",
       "version_major": 2,
       "version_minor": 0
      },
      "text/plain": [
       "RadioButtons(description='Forecast:', options=('My forecast from Demo 2', 'Pre-generated: GraphCast (sample)')…"
      ]
     },
     "metadata": {},
     "output_type": "display_data"
    },
    {
     "data": {
      "application/vnd.jupyter.widget-view+json": {
       "model_id": "26b966b514384230901ccdf6f2c2d5d1",
       "version_major": 2,
       "version_minor": 0
      },
      "text/plain": [
       "Text(value='', description='Forecast NetCDF:', layout=Layout(width='80%'), placeholder='e.g., ./demo2_output/f…"
      ]
     },
     "metadata": {},
     "output_type": "display_data"
    },
    {
     "data": {
      "application/vnd.jupyter.widget-view+json": {
       "model_id": "0fa188c2706a4720a949a8a14c1c2c9b",
       "version_major": 2,
       "version_minor": 0
      },
      "text/plain": [
       "HTML(value='<small>For the sample, point to a GraphCast-like NetCDF with variables similar to Demo 2.</small>'…"
      ]
     },
     "metadata": {},
     "output_type": "display_data"
    },
    {
     "data": {
      "application/vnd.jupyter.widget-view+json": {
       "model_id": "7f06d247b45b4f3d94f486c54b268009",
       "version_major": 2,
       "version_minor": 0
      },
      "text/plain": [
       "Button(button_style='primary', description='Load Forecast', style=ButtonStyle())"
      ]
     },
     "metadata": {},
     "output_type": "display_data"
    },
    {
     "data": {
      "application/vnd.jupyter.widget-view+json": {
       "model_id": "aedb9b45ca874c11a178d09cf5be2122",
       "version_major": 2,
       "version_minor": 0
      },
      "text/plain": [
       "Output()"
      ]
     },
     "metadata": {},
     "output_type": "display_data"
    }
   ],
   "source": [
    "forecast_source = widgets.RadioButtons(\n",
    "    options=['My forecast from Demo 2', 'Pre-generated: GraphCast (sample)'],\n",
    "    description='Forecast:',\n",
    "    value='My forecast from Demo 2'\n",
    ")\n",
    "\n",
    "forecast_path = widgets.Text(\n",
    "    description='Forecast NetCDF:',\n",
    "    placeholder='e.g., ./demo2_output/forecast.nc',\n",
    "    layout=widgets.Layout(width='80%')\n",
    ")\n",
    "\n",
    "graphcast_hint = widgets.HTML('<small>For the sample, point to a GraphCast-like NetCDF with variables similar to Demo 2.</small>')\n",
    "display(forecast_source, forecast_path, graphcast_hint)\n",
    "\n",
    "forecast_ds = None\n",
    "forecast_info = widgets.Output()\n",
    "\n",
    "def load_forecast(path):\n",
    "    try:\n",
    "        ds = xr.open_dataset(path)\n",
    "        return ds\n",
    "    except Exception as e:\n",
    "        display(Markdown(f\"❌ **Error loading forecast**: {e}\"))\n",
    "        return None\n",
    "\n",
    "def on_load_forecast(_):\n",
    "    global forecast_ds\n",
    "    with forecast_info:\n",
    "        forecast_info.clear_output()\n",
    "        if not forecast_path.value.strip():\n",
    "            display(Markdown(\"❌ Please enter a valid path.\"))\n",
    "            return\n",
    "        ds = load_forecast(forecast_path.value)\n",
    "        if ds is None:\n",
    "            return\n",
    "        forecast_ds = ds\n",
    "        try:\n",
    "            times = pd.to_datetime(ds.time.values)\n",
    "            start, end = times.min(), times.max()\n",
    "            freq_guess = pd.infer_freq(times[:10]) or \"unknown\"\n",
    "            display(Markdown(f\"✅ **Forecast loaded**. Time: `{start}` → `{end}` (≈ {len(times)} steps, freq≈{freq_guess})\"))\n",
    "            display(Markdown(f\"**Variables:** {list(ds.data_vars)}\"))\n",
    "            lat_name = 'latitude' if 'latitude' in ds.coords else ('lat' if 'lat' in ds.coords else None)\n",
    "            lon_name = 'longitude' if 'longitude' in ds.coords else ('lon' if 'lon' in ds.coords else None)\n",
    "            if not (lat_name and lon_name):\n",
    "                display(Markdown(\"⚠️ Could not find standard `latitude/longitude` coordinates. Please check your file.\"))\n",
    "        except Exception:\n",
    "            pass\n",
    "\n",
    "btn_load_fc = widgets.Button(description=\"Load Forecast\", button_style='primary')\n",
    "btn_load_fc.on_click(on_load_forecast)\n",
    "display(btn_load_fc, forecast_info)"
   ]
  },
  {
   "cell_type": "markdown",
   "id": "3e3d0513",
   "metadata": {},
   "source": [
    "## 2) 📥 Bring Your Own Ground Truth (or fetch real station data)"
   ]
  },
  {
   "cell_type": "code",
   "execution_count": null,
   "id": "25027447",
   "metadata": {},
   "outputs": [
    {
     "data": {
      "application/vnd.jupyter.widget-view+json": {
       "model_id": "91acb844f98745cdbc8f70f1cc3bc02f",
       "version_major": 2,
       "version_minor": 0
      },
      "text/plain": [
       "ToggleButtons(description='Observations:', options=(('Use my file (CSV/NetCDF)', 'file'), ('Fetch real station…"
      ]
     },
     "metadata": {},
     "output_type": "display_data"
    },
    {
     "data": {
      "application/vnd.jupyter.widget-view+json": {
       "model_id": "257d264420734a9385a87789d2e4a892",
       "version_major": 2,
       "version_minor": 0
      },
      "text/plain": [
       "Text(value='', description='Obs path:', layout=Layout(width='80%'), placeholder='e.g., ./data/local_stations.n…"
      ]
     },
     "metadata": {},
     "output_type": "display_data"
    },
    {
     "data": {
      "application/vnd.jupyter.widget-view+json": {
       "model_id": "8c891a3100c44f13806e950051364f20",
       "version_major": 2,
       "version_minor": 0
      },
      "text/plain": [
       "Dropdown(description='Country:', options=('Bangladesh', 'Chile', 'Nigeria', 'Ethiopia', 'Kenya'), value='Bangl…"
      ]
     },
     "metadata": {},
     "output_type": "display_data"
    },
    {
     "data": {
      "application/vnd.jupyter.widget-view+json": {
       "model_id": "5950c4f49c5247d588851540c3df44eb",
       "version_major": 2,
       "version_minor": 0
      },
      "text/plain": [
       "Dropdown(description='Variable:', options=(('2m temperature (2t)', '2t'), ('Total precip (tp)', 'tp')), value=…"
      ]
     },
     "metadata": {},
     "output_type": "display_data"
    },
    {
     "data": {
      "application/vnd.jupyter.widget-view+json": {
       "model_id": "95e4d98fdef34fe0af20134d4bf06052",
       "version_major": 2,
       "version_minor": 0
      },
      "text/plain": [
       "Text(value='', description='lat,lon:', layout=Layout(width='60%'), placeholder='Optional override, e.g., 23.78…"
      ]
     },
     "metadata": {},
     "output_type": "display_data"
    },
    {
     "data": {
      "application/vnd.jupyter.widget-view+json": {
       "model_id": "278268064c2a4de8a9696b00ad0c9d4e",
       "version_major": 2,
       "version_minor": 0
      },
      "text/plain": [
       "Button(button_style='primary', description='Load / Fetch Observations', style=ButtonStyle())"
      ]
     },
     "metadata": {},
     "output_type": "display_data"
    },
    {
     "data": {
      "application/vnd.jupyter.widget-view+json": {
       "model_id": "08db23e0a7604f0a915c7345f3724a85",
       "version_major": 2,
       "version_minor": 0
      },
      "text/plain": [
       "Output()"
      ]
     },
     "metadata": {},
     "output_type": "display_data"
    }
   ],
   "source": [
    "obs_mode = widgets.ToggleButtons(\n",
    "    options=[('Use my file (CSV/NetCDF)','file'), ('Fetch real station data (Meteostat)','fetch')],\n",
    "    description='Observations:'\n",
    ")\n",
    "\n",
    "obs_path = widgets.Text(\n",
    "    description='Obs path:',\n",
    "    placeholder='e.g., ./data/local_stations.nc or ./data/station_data.csv',\n",
    "    layout=widgets.Layout(width='80%')\n",
    ")\n",
    "\n",
    "country_dropdown = widgets.Dropdown(\n",
    "    options=['Bangladesh','Chile','Nigeria','Ethiopia','Kenya'],\n",
    "    description='Country:'\n",
    ")\n",
    "var_dropdown = widgets.Dropdown(\n",
    "    options=[('2m temperature (2t)','2t'), ('Total precip (tp)','tp')],\n",
    "    description='Variable:'\n",
    ")\n",
    "custom_coords = widgets.Text(\n",
    "    description='lat,lon:',\n",
    "    placeholder='Optional override, e.g., 23.78,90.40 (Dhaka)',\n",
    "    layout=widgets.Layout(width='60%')\n",
    ")\n",
    "\n",
    "display(obs_mode, obs_path, country_dropdown, var_dropdown, custom_coords)\n",
    "obs_ds = None\n",
    "obs_info = widgets.Output()\n",
    "\n",
    "COUNTRY_DEFAULT_COORDS = {\n",
    "    \"Bangladesh\": (23.8103, 90.4125),\n",
    "    \"Chile\": (-33.4489, -70.6693),\n",
    "    \"Nigeria\": (6.5244, 3.3792),\n",
    "    \"Ethiopia\": (9.0039, 38.7468),\n",
    "    \"Kenya\": (-1.2921, 36.8219)\n",
    "}\n",
    "\n",
    "def _parse_latlon(text):\n",
    "    try:\n",
    "        lat_str, lon_str = text.split(\",\")\n",
    "        return float(lat_str.strip()), float(lon_str.strip())\n",
    "    except Exception:\n",
    "        return None\n",
    "\n",
    "def load_observations_file(path):\n",
    "    try:\n",
    "        if path.endswith('.csv'):\n",
    "            df = pd.read_csv(path, parse_dates=['time'])\n",
    "            if not {'time','lat','lon'}.issubset(df.columns):\n",
    "                raise ValueError(\"CSV must contain 'time','lat','lon' plus at least one variable column.\")\n",
    "            obs = df.set_index(['time','lat','lon']).to_xarray()\n",
    "        else:\n",
    "            obs = xr.open_dataset(path)\n",
    "        return obs\n",
    "    except Exception as e:\n",
    "        display(Markdown(f\"❌ **Error loading observations**: {e}\"))\n",
    "        return None\n",
    "\n",
    "def fetch_observations_from_meteostat(country, var_key, coords_override=None, forecast_like_ds=None):\n",
    "    if not METEOSTAT_AVAILABLE:\n",
    "        raise RuntimeError(\"`meteostat` not available. Install with `pip install meteostat`.\")\n",
    "    if forecast_like_ds is None:\n",
    "        raise RuntimeError(\"Load the forecast first so we can align time range.\")\n",
    "\n",
    "    times = pd.to_datetime(forecast_like_ds.time.values).tz_localize('UTC')\n",
    "    start_time, end_time = times.min().to_pydatetime(), times.max().to_pydatetime()\n",
    "\n",
    "    if coords_override:\n",
    "        latlon = _parse_latlon(coords_override)\n",
    "        if latlon is None:\n",
    "            raise ValueError(\"Invalid custom coords format. Use 'lat,lon'.\")\n",
    "        lat, lon = latlon\n",
    "    else:\n",
    "        lat, lon = COUNTRY_DEFAULT_COORDS[country]\n",
    "\n",
    "    loc = Point(lat, lon)\n",
    "    df = Hourly(loc, start_time, end_time).fetch()\n",
    "    if df.empty:\n",
    "        raise RuntimeError(f\"No station data for {country} at coords {lat},{lon} for the requested period.\")\n",
    "\n",
    "    if var_key.lower() == '2t':\n",
    "        if 'temp' not in df.columns:\n",
    "            raise RuntimeError(\"Meteostat did not return 'temp' (°C).\")\n",
    "        series = df['temp'] + 273.15  # Kelvin\n",
    "        out_name = 'temperature'; agg = 'mean'\n",
    "    elif var_key.lower() == 'tp':\n",
    "        if 'prcp' not in df.columns:\n",
    "            raise RuntimeError(\"Meteostat did not return 'prcp' (mm).\")\n",
    "        series = df['prcp'] / 1000.0  # meters\n",
    "        out_name = 'precipitation'; agg = 'sum'\n",
    "    else:\n",
    "        raise ValueError(\"var_key must be '2t' or 'tp'.\")\n",
    "\n",
    "    if agg == 'mean':\n",
    "        s6 = series.resample('6H').mean()\n",
    "    else:\n",
    "        s6 = series.resample('6H').sum()\n",
    "\n",
    "    sixhour_index = pd.date_range(times.min(), times.max(), freq='6H', tz='UTC')\n",
    "    s6 = s6.reindex(sixhour_index)\n",
    "\n",
    "    out_df = pd.DataFrame({\n",
    "        'time': s6.index.tz_convert(None),\n",
    "        'lat': lat,\n",
    "        'lon': lon,\n",
    "        out_name: s6.values\n",
    "    }).dropna(subset=[out_name])\n",
    "\n",
    "    return out_df\n",
    "\n",
    "def on_load_obs(_):\n",
    "    global obs_ds\n",
    "    with obs_info:\n",
    "        obs_info.clear_output()\n",
    "        mode = obs_mode.value\n",
    "\n",
    "        if mode == 'file':\n",
    "            if not obs_path.value.strip():\n",
    "                display(Markdown(\"❌ Please provide a path to your CSV/NetCDF observations.\"))\n",
    "                return\n",
    "            obs = load_observations_file(obs_path.value)\n",
    "            if obs is None:\n",
    "                return\n",
    "            obs_ds = obs\n",
    "            display(Markdown(\"✅ **Loaded your observation file.**\"))\n",
    "            display(Markdown(f\"**Variables:** {list(obs_ds.data_vars)}\"))\n",
    "        else:\n",
    "            if forecast_ds is None:\n",
    "                display(Markdown(\"❌ Load a forecast first.\"))\n",
    "                return\n",
    "            try:\n",
    "                df = fetch_observations_from_meteostat(\n",
    "                    country_dropdown.value, var_dropdown.value, custom_coords.value.strip() or None, forecast_like_ds=forecast_ds\n",
    "                )\n",
    "                fname = f\"local_obs_{country_dropdown.value}_{var_dropdown.value}.csv\".replace(\" \", \"_\")\n",
    "                df.to_csv(fname, index=False)\n",
    "                display(Markdown(f\"✅ **Fetched real station data** for **{country_dropdown.value}** ({var_dropdown.value}). Saved as `{fname}`.\"))\n",
    "                obs_ds = df.set_index(['time','lat','lon']).to_xarray()\n",
    "                display(df.head())\n",
    "            except Exception as e:\n",
    "                display(Markdown(f\"❌ {e}\"))\n",
    "\n",
    "btn_load_obs = widgets.Button(description=\"Load / Fetch Observations\", button_style='primary')\n",
    "btn_load_obs.on_click(on_load_obs)\n",
    "display(btn_load_obs, obs_info)"
   ]
  },
  {
   "cell_type": "markdown",
   "id": "eca3caf6",
   "metadata": {},
   "source": [
    "## 3) 🔗 Align Data: Interpolate Forecast to Station Locations"
   ]
  },
  {
   "cell_type": "code",
   "execution_count": 8,
   "id": "44ae69ac",
   "metadata": {},
   "outputs": [
    {
     "data": {
      "application/vnd.jupyter.widget-view+json": {
       "model_id": "53ca2c7c96154ea7bf2b143160c1e45b",
       "version_major": 2,
       "version_minor": 0
      },
      "text/plain": [
       "Button(button_style='primary', description='Align & Preview', style=ButtonStyle())"
      ]
     },
     "metadata": {},
     "output_type": "display_data"
    },
    {
     "data": {
      "application/vnd.jupyter.widget-view+json": {
       "model_id": "fe8b6e7e65f040b5ae3207cfc485153c",
       "version_major": 2,
       "version_minor": 0
      },
      "text/plain": [
       "Output()"
      ]
     },
     "metadata": {},
     "output_type": "display_data"
    }
   ],
   "source": [
    "# === Align forecast to observation points (robust to time+step/valid_time & timezones) ===\n",
    "align_info = widgets.Output()\n",
    "\n",
    "def _coord_names(ds):\n",
    "    lat_name = 'latitude' if 'latitude' in ds.coords else ('lat' if 'lat' in ds.coords else None)\n",
    "    lon_name = 'longitude' if 'longitude' in ds.coords else ('lon' if 'lon' in ds.coords else None)\n",
    "    return lat_name, lon_name\n",
    "\n",
    "def _pick_fc_var(ds):\n",
    "    # Prefer common names if present; otherwise first data var\n",
    "    preferred = ['2t', 'tp', 't2m', 'temperature', 'precipitation']\n",
    "    for k in preferred:\n",
    "        if k in ds.data_vars:\n",
    "            return k\n",
    "    return list(ds.data_vars)[0]\n",
    "\n",
    "def _valid_times_and_axis(ds):\n",
    "    \"\"\"Return (valid_times_as_pandas, axis_name in {'valid_time','step','time'})\"\"\"\n",
    "    # 1) explicit valid_time\n",
    "    if 'valid_time' in ds.coords:\n",
    "        vt = pd.to_datetime(ds['valid_time'].values)\n",
    "        return vt, 'valid_time'\n",
    "    # 2) init time + forecast step\n",
    "    if 'time' in ds.coords and ('step' in ds.coords or 'step' in ds.dims):\n",
    "        base = pd.to_datetime(ds['time'].values)\n",
    "        base0 = pd.to_datetime(base[0])\n",
    "        step_vals = ds['step'].values\n",
    "        try:\n",
    "            step_td = pd.to_timedelta(step_vals)\n",
    "        except Exception:\n",
    "            step_td = pd.to_timedelta(step_vals, unit='h')\n",
    "        vt = base0 + step_td\n",
    "        return pd.to_datetime(vt), 'step'\n",
    "    # 3) plain time axis\n",
    "    if 'time' in ds.coords:\n",
    "        vt = pd.to_datetime(ds['time'].values)\n",
    "        return vt, 'time'\n",
    "    raise ValueError(\"Could not identify a time axis (time/step/valid_time).\")\n",
    "\n",
    "def interpolate_to_points(forecast_ds, obs_ds):\n",
    "    lat_name, lon_name = _coord_names(forecast_ds)\n",
    "    if not (lat_name and lon_name):\n",
    "        raise ValueError(\"Could not find 'latitude'/'longitude' coordinates in forecast dataset.\")\n",
    "\n",
    "    fc_var = _pick_fc_var(forecast_ds)\n",
    "    obs_var = list(obs_ds.data_vars)[0]\n",
    "\n",
    "    # Observation times -> make naive UTC\n",
    "    obs_times = pd.to_datetime(obs_ds.time.values)\n",
    "    if getattr(obs_times, 'tz', None) is not None:\n",
    "        obs_times = obs_times.tz_convert('UTC').tz_localize(None)\n",
    "    else:\n",
    "        # treat as UTC-naive\n",
    "        obs_times = pd.to_datetime(obs_times)\n",
    "\n",
    "    # Forecast valid times (make naive UTC if needed)\n",
    "    vt, axis_name = _valid_times_and_axis(forecast_ds)\n",
    "    if getattr(vt, 'tz', None) is not None:\n",
    "        vt = vt.tz_convert('UTC').tz_localize(None)\n",
    "    else:\n",
    "        vt = pd.to_datetime(vt)\n",
    "\n",
    "    vt_np = np.array(vt, dtype='datetime64[ns]')\n",
    "\n",
    "    aligned = []\n",
    "    misses = 0\n",
    "\n",
    "    for t in obs_times:\n",
    "        try:\n",
    "            ti = np.datetime64(pd.to_datetime(t))\n",
    "            i = int(np.argmin(np.abs(vt_np - ti)))\n",
    "            if axis_name == 'valid_time':\n",
    "                time_sel = {'valid_time': vt[i]}\n",
    "            elif axis_name == 'step':\n",
    "                time_sel = {'step': forecast_ds['step'].values[i]}\n",
    "            else:\n",
    "                time_sel = {'time': vt[i]}\n",
    "\n",
    "            obs_slice = obs_ds.sel(time=t)\n",
    "            lats = np.atleast_1d(obs_slice.lat.values)\n",
    "            lons = np.atleast_1d(obs_slice.lon.values)\n",
    "\n",
    "            for lat in lats:\n",
    "                for lon in lons:\n",
    "                    # wrap to 0–360 if needed\n",
    "                    max_lon = float(forecast_ds[lon_name].max())\n",
    "                    lon_wrapped = float(lon) % 360 if max_lon > 180 else float(lon)\n",
    "\n",
    "                    obs_val = float(obs_ds.sel(time=t, lat=lat, lon=lon)[obs_var].values)\n",
    "                    fc_point = forecast_ds[fc_var].sel(\n",
    "                        **time_sel,\n",
    "                        **{lat_name: float(lat), lon_name: lon_wrapped},\n",
    "                        method='nearest'\n",
    "                    )\n",
    "                    # .item() may fail on masked; use float(np.asarray(...))\n",
    "                    fc_val = float(np.asarray(fc_point))\n",
    "                    aligned.append({\n",
    "                        'time': pd.to_datetime(t),\n",
    "                        'forecast': fc_val,\n",
    "                        'observation': obs_val,\n",
    "                        'lat': float(lat),\n",
    "                        'lon': float(lon)\n",
    "                    })\n",
    "        except Exception:\n",
    "            misses += 1\n",
    "            continue\n",
    "\n",
    "    df = pd.DataFrame(aligned).dropna()\n",
    "    if df.empty and misses > 0:\n",
    "        print(f\"(note) skipped {misses} points due to time/coord mismatches.\")\n",
    "    return df\n",
    "\n",
    "results_df = None\n",
    "\n",
    "def on_align(_):\n",
    "    global results_df\n",
    "    with align_info:\n",
    "        align_info.clear_output()\n",
    "        if forecast_ds is None or obs_ds is None:\n",
    "            display(Markdown(\"❌ Load both **forecast** and **observations** first.\"))\n",
    "            return\n",
    "        display(Markdown(\"⏳ Aligning forecast to observation points...\"))\n",
    "        results_df = interpolate_to_points(forecast_ds, obs_ds)\n",
    "        if results_df.empty:\n",
    "            display(Markdown(\"❌ No overlaps found. Check time axis (time/step/valid_time) and coordinates.\"))\n",
    "            # quick debug print\n",
    "            try:\n",
    "                vt, axis_name = _valid_times_and_axis(forecast_ds)\n",
    "                display(Markdown(f\"- Detected forecast axis: **{axis_name}** with {len(vt)} entries.\"))\n",
    "                display(Markdown(f\"- Obs sample times: **{pd.to_datetime(obs_ds.time.values)[:3].tolist()}**\"))\n",
    "            except Exception as e:\n",
    "                display(Markdown(f\"(debug) {e}\"))\n",
    "        else:\n",
    "            display(Markdown(f\"✅ Matched **{len(results_df)}** time-point pairs.\"))\n",
    "            display(results_df.head())\n",
    "\n",
    "btn_align = widgets.Button(description=\"Align & Preview\", button_style='primary')\n",
    "btn_align.on_click(on_align)\n",
    "display(btn_align, align_info)\n"
   ]
  },
  {
   "cell_type": "markdown",
   "id": "d1dece9f",
   "metadata": {},
   "source": [
    "## 4) 📊 Compute Metrics vs Local Data"
   ]
  },
  {
   "cell_type": "code",
   "execution_count": null,
   "id": "a4032456",
   "metadata": {},
   "outputs": [
    {
     "data": {
      "application/vnd.jupyter.widget-view+json": {
       "model_id": "9f7d0d7d1c974930b67de9f1c46cddca",
       "version_major": 2,
       "version_minor": 0
      },
      "text/plain": [
       "Button(button_style='primary', description='Compute Metrics', style=ButtonStyle())"
      ]
     },
     "metadata": {},
     "output_type": "display_data"
    },
    {
     "data": {
      "application/vnd.jupyter.widget-view+json": {
       "model_id": "e8b18f7577834c0d955d0a18e3dc7710",
       "version_major": 2,
       "version_minor": 0
      },
      "text/plain": [
       "Output()"
      ]
     },
     "metadata": {},
     "output_type": "display_data"
    }
   ],
   "source": [
    "metrics_out = widgets.Output()\n",
    "\n",
    "def compute_and_plot_metrics(df):\n",
    "    forecast = df['forecast'].astype(float)\n",
    "    obs = df['observation'].astype(float)\n",
    "\n",
    "    rmse = float(np.sqrt(np.mean((forecast - obs)**2)))\n",
    "    bias = float(np.mean(forecast - obs))\n",
    "    corr = float(np.corrcoef(forecast, obs)[0,1]) if len(df) > 1 else np.nan\n",
    "\n",
    "    display(Markdown(\"### 📊 Model Performance vs **Your Local Data**\"))\n",
    "    display(Markdown(f\"- **RMSE**: {rmse:.3f}\"))\n",
    "    display(Markdown(f\"- **Bias**: {bias:.3f}\"))\n",
    "    display(Markdown(f\"- **Correlation**: {corr:.3f}\"))\n",
    "\n",
    "    if XSS_AVAILABLE:\n",
    "        try:\n",
    "            import xskillscore as xs\n",
    "            xr_fc = xr.DataArray(forecast.values, dims=['points'])\n",
    "            xr_ob = xr.DataArray(obs.values, dims=['points'])\n",
    "            mae = float(xs.mae(xr_fc, xr_ob).values)\n",
    "            display(Markdown(f\"- **MAE (xskillscore)**: {mae:.3f}\"))\n",
    "        except Exception:\n",
    "            pass\n",
    "\n",
    "    plt.figure()\n",
    "    plt.plot(df['time'], df['observation'], label='Observation', marker='o')\n",
    "    plt.plot(df['time'], df['forecast'], label='Forecast', marker='x')\n",
    "    plt.xlabel('Time'); plt.ylabel('Value'); plt.title('Forecast vs Local Observations')\n",
    "    plt.legend(); plt.xticks(rotation=45); plt.grid(alpha=0.3); plt.tight_layout(); plt.show()\n",
    "\n",
    "    return rmse\n",
    "\n",
    "def on_metrics(_):\n",
    "    global last_rmse_local\n",
    "    with metrics_out:\n",
    "        metrics_out.clear_output()\n",
    "        if results_df is None or results_df.empty:\n",
    "            display(Markdown(\"❌ No aligned data. Run alignment first.\"))\n",
    "            return\n",
    "        last_rmse_local = compute_and_plot_metrics(results_df)\n",
    "\n",
    "btn_metrics = widgets.Button(description=\"Compute Metrics\", button_style='primary')\n",
    "btn_metrics.on_click(on_metrics)\n",
    "display(btn_metrics, metrics_out)"
   ]
  },
  {
   "cell_type": "markdown",
   "id": "3e07f2d8",
   "metadata": {},
   "source": [
    "## 5) 🔍 Compare with Demo 4 (vs ERA5)"
   ]
  },
  {
   "cell_type": "code",
   "execution_count": null,
   "id": "771cce47",
   "metadata": {},
   "outputs": [
    {
     "data": {
      "application/vnd.jupyter.widget-view+json": {
       "model_id": "3385be1caef442adb43219ab50f5e72d",
       "version_major": 2,
       "version_minor": 0
      },
      "text/plain": [
       "FloatText(value=2.0, description='Your RMSE vs ERA5:', step=0.1)"
      ]
     },
     "metadata": {},
     "output_type": "display_data"
    },
    {
     "data": {
      "application/vnd.jupyter.widget-view+json": {
       "model_id": "0337e84bb70f493d9f691a58a5ef5c1a",
       "version_major": 2,
       "version_minor": 0
      },
      "text/plain": [
       "Button(button_style='primary', description='Compare', style=ButtonStyle())"
      ]
     },
     "metadata": {},
     "output_type": "display_data"
    },
    {
     "data": {
      "application/vnd.jupyter.widget-view+json": {
       "model_id": "d1e21d5e4f1345d8bbcfa788c32873d5",
       "version_major": 2,
       "version_minor": 0
      },
      "text/plain": [
       "Output()"
      ]
     },
     "metadata": {},
     "output_type": "display_data"
    }
   ],
   "source": [
    "demo4_rmse = widgets.FloatText(description=\"Your RMSE vs ERA5:\", value=2.0, step=0.1)\n",
    "cmp_out = widgets.Output()\n",
    "\n",
    "def on_compare(_):\n",
    "    with cmp_out:\n",
    "        cmp_out.clear_output()\n",
    "        if 'last_rmse_local' not in globals():\n",
    "            if results_df is None or results_df.empty:\n",
    "                display(Markdown(\"❌ Compute metrics first.\"))\n",
    "                return\n",
    "            rmse_local = float(np.sqrt(np.mean((results_df['forecast'] - results_df['observation'])**2)))\n",
    "        else:\n",
    "            rmse_local = last_rmse_local\n",
    "\n",
    "        rmse_era5 = demo4_rmse.value\n",
    "        display(Markdown(\"### 🔄 Comparison: Local vs Reanalysis\"))\n",
    "        display(Markdown(f\"| Source | RMSE |\\n|---|---|\\n| ERA5 (Demo 4) | {rmse_era5:.3f} |\\n| **Your Data** | **{rmse_local:.3f}** |\"))\n",
    "\n",
    "        if rmse_local > rmse_era5:\n",
    "            display(Markdown(\"⚠️ The model performs **worse** against your real-world data than against ERA5.\"))\n",
    "            display(Markdown(\"This suggests the model is optimized for ERA5, not your region — a sign that **localization** is needed.\"))\n",
    "        else:\n",
    "            display(Markdown(\"✅ The model generalizes well to your local conditions!\"))\n",
    "\n",
    "display(demo4_rmse)\n",
    "btn_compare = widgets.Button(description=\"Compare\", button_style='primary')\n",
    "btn_compare.on_click(on_compare)\n",
    "display(btn_compare, cmp_out)"
   ]
  },
  {
   "cell_type": "markdown",
   "id": "46266790",
   "metadata": {},
   "source": [
    "## (Optional) 🗂 Generate CSVs for All Five Countries & Both Variables"
   ]
  },
  {
   "cell_type": "markdown",
   "id": "a3c3bd88",
   "metadata": {},
   "source": [
    "This will fetch **real station data** for each country (nearest to the capital by default) for both variables:\n",
    "- `2t` (2m temperature, Kelvin, aggregated by mean to 6-hourly)\n",
    "- `tp` (total precipitation, meters, aggregated by sum to 6-hourly)\n",
    "\n",
    "It uses the **forecast time window** you loaded above to align timestamps."
   ]
  },
  {
   "cell_type": "code",
   "execution_count": 13,
   "id": "3e6c5a8b",
   "metadata": {},
   "outputs": [
    {
     "data": {
      "application/vnd.jupyter.widget-view+json": {
       "model_id": "17d0385c82eb4171b4478588a59556ae",
       "version_major": 2,
       "version_minor": 0
      },
      "text/plain": [
       "Button(button_style='warning', description='Generate all 10 CSVs', style=ButtonStyle())"
      ]
     },
     "metadata": {},
     "output_type": "display_data"
    },
    {
     "data": {
      "application/vnd.jupyter.widget-view+json": {
       "model_id": "347bd1948941429594458bc0a703d425",
       "version_major": 2,
       "version_minor": 0
      },
      "text/plain": [
       "Output()"
      ]
     },
     "metadata": {},
     "output_type": "display_data"
    }
   ],
   "source": [
    "bulk_out = widgets.Output()\n",
    "\n",
    "def generate_all_csvs(_):\n",
    "    with bulk_out:\n",
    "        bulk_out.clear_output()\n",
    "        if forecast_ds is None:\n",
    "            display(Markdown(\"❌ Load a forecast first.\"))\n",
    "            return\n",
    "        if not METEOSTAT_AVAILABLE:\n",
    "            display(Markdown(\"❌ `meteostat` not available. Install with `pip install meteostat`.\"))\n",
    "            return\n",
    "\n",
    "        countries = ['Bangladesh','Chile','Nigeria','Ethiopia','Kenya']\n",
    "        vars_ = ['2t','tp']\n",
    "        created = []\n",
    "        for c in countries:\n",
    "            for v in vars_:\n",
    "                try:\n",
    "                    df = fetch_observations_from_meteostat(c, v, None, forecast_like_ds=forecast_ds)\n",
    "                    fname = f\"local_obs_{c}_{v}.csv\".replace(\" \", \"_\")\n",
    "                    df.to_csv(fname, index=False)\n",
    "                    created.append(fname)\n",
    "                    display(Markdown(f\"✅ Saved `{fname}` ({len(df)} rows)\"))\n",
    "                except Exception as e:\n",
    "                    display(Markdown(f\"⚠️ {c} {v}: {e}\"))\n",
    "        if created:\n",
    "            display(Markdown(\"**Done.** Created files:\"))\n",
    "            for f in created:\n",
    "                display(Markdown(f\"- `{f}`\"))\n",
    "\n",
    "btn_bulk = widgets.Button(description=\"Generate all 10 CSVs\", button_style='warning')\n",
    "btn_bulk.on_click(generate_all_csvs)\n",
    "display(btn_bulk, bulk_out)"
   ]
  },
  {
   "cell_type": "code",
   "execution_count": 12,
   "id": "a8f5c2e3-b2eb-4b2e-9355-fd08950188bb",
   "metadata": {},
   "outputs": [
    {
     "name": "stdout",
     "output_type": "stream",
     "text": [
      "Patched fetch_observations_from_meteostat() with robust timezone handling.\n"
     ]
    }
   ],
   "source": [
    "# --- PATCH: robust timezone handling for Meteostat fetch + alignment ---\n",
    "def fetch_observations_from_meteostat(country, var_key, coords_override=None, forecast_like_ds=None):\n",
    "    if not METEOSTAT_AVAILABLE:\n",
    "        raise RuntimeError(\"`meteostat` not available. Install with `pip install meteostat`.\")\n",
    "    if forecast_like_ds is None:\n",
    "        raise RuntimeError(\"Load the forecast first so we can align the time window.\")\n",
    "\n",
    "    # 1) Forecast times -> make tz-aware UTC\n",
    "    times = pd.to_datetime(forecast_like_ds.time.values)\n",
    "    if getattr(times, \"tz\", None) is None:\n",
    "        times = times.tz_localize(\"UTC\")\n",
    "    else:\n",
    "        times = times.tz_convert(\"UTC\")\n",
    "    tmin_aware = times.min()\n",
    "    tmax_aware = times.max()\n",
    "\n",
    "    # Meteostat likes naive datetimes; pass naive UTC bounds\n",
    "    start_time = tmin_aware.tz_localize(None).to_pydatetime()\n",
    "    end_time   = tmax_aware.tz_localize(None).to_pydatetime()\n",
    "\n",
    "    # 2) Coordinates (default = capital)\n",
    "    COUNTRY_DEFAULT_COORDS = {\n",
    "        \"Bangladesh\": (23.8103, 90.4125),   # Dhaka\n",
    "        \"Chile\": (-33.4489, -70.6693),      # Santiago\n",
    "        \"Nigeria\": (6.5244, 3.3792),        # Lagos\n",
    "        \"Ethiopia\": (9.0039, 38.7468),      # Addis Ababa\n",
    "        \"Kenya\": (-1.2921, 36.8219)         # Nairobi\n",
    "    }\n",
    "    def _parse_latlon(text):\n",
    "        try:\n",
    "            a,b = text.split(\",\"); return float(a), float(b)\n",
    "        except Exception:\n",
    "            return None\n",
    "\n",
    "    if coords_override:\n",
    "        ll = _parse_latlon(coords_override)\n",
    "        if ll is None:\n",
    "            raise ValueError(\"Invalid custom coords. Use 'lat,lon' (e.g., 23.78,90.40).\")\n",
    "        lat, lon = ll\n",
    "    else:\n",
    "        lat, lon = COUNTRY_DEFAULT_COORDS[country]\n",
    "\n",
    "    # 3) Fetch Meteostat & force index to tz-aware UTC\n",
    "    loc = Point(lat, lon)\n",
    "    df = Hourly(loc, start_time, end_time).fetch()\n",
    "    if df.empty:\n",
    "        raise RuntimeError(f\"No station data for {country} at {lat},{lon} in the requested window.\")\n",
    "    if df.index.tz is None:\n",
    "        df.index = df.index.tz_localize(\"UTC\")\n",
    "    else:\n",
    "        df.index = df.index.tz_convert(\"UTC\")\n",
    "\n",
    "    # 4) Map variable & units to model convention\n",
    "    if var_key.lower() == \"2t\":\n",
    "        if \"temp\" not in df.columns:\n",
    "            raise RuntimeError(\"Meteostat did not return 'temp' (°C).\")\n",
    "        series = df[\"temp\"] + 273.15     # Kelvin\n",
    "        out_name = \"temperature\"\n",
    "        agg = \"mean\"\n",
    "    elif var_key.lower() == \"tp\":\n",
    "        if \"prcp\" not in df.columns:\n",
    "            raise RuntimeError(\"Meteostat did not return 'prcp' (mm).\")\n",
    "        series = df[\"prcp\"] / 1000.0     # meters\n",
    "        out_name = \"precipitation\"\n",
    "        agg = \"sum\"\n",
    "    else:\n",
    "        raise ValueError(\"var_key must be '2t' or 'tp'.\")\n",
    "\n",
    "    # 5) Resample to 6-hour cadence in UTC (tz-aware)\n",
    "    s6 = series.resample(\"6H\").mean() if agg == \"mean\" else series.resample(\"6H\").sum()\n",
    "\n",
    "    # 6) Align exactly to the forecast timestamps (also tz-aware)\n",
    "    sixhour_index = pd.date_range(tmin_aware, tmax_aware, freq=\"6H\", tz=\"UTC\")\n",
    "    s6 = s6.reindex(sixhour_index)\n",
    "\n",
    "    # 7) Output tz-naive times for the CSV (notebook expects naive)\n",
    "    out_df = pd.DataFrame({\n",
    "        \"time\": s6.index.tz_convert(None),  # drop tz info for CSV\n",
    "        \"lat\": lat,\n",
    "        \"lon\": lon,\n",
    "        out_name: s6.values\n",
    "    }).dropna(subset=[out_name])\n",
    "\n",
    "    return out_df\n",
    "\n",
    "print(\"Patched fetch_observations_from_meteostat() with robust timezone handling.\")\n"
   ]
  },
  {
   "cell_type": "markdown",
   "id": "e1fd3bf2",
   "metadata": {},
   "source": [
    "## 6) 🌐 Key Takeaway: The Need for Localization\n",
    "\n",
    "You've just uncovered a critical insight in AI weather modeling:\n",
    "\n",
    "> ❝Models are trained on **reanalysis data (like ERA5)** — not real observations.❞\n",
    "\n",
    "If the model performs poorly on **your local station data**, it doesn't mean the model is bad — it means:\n",
    "- ERA5 may not represent your region accurately (e.g., complex terrain, data gaps).\n",
    "- The model learned to predict **ERA5 patterns**, not **your weather**.\n",
    "\n",
    "**Localization** bridges this: fine-tune with local data, apply bias correction/post-processing, or use regional adapters."
   ]
  }
 ],
 "metadata": {
  "kernelspec": {
   "display_name": "Python 3",
   "language": "python",
   "name": "python3"
  },
  "language_info": {
   "codemirror_mode": {
    "name": "ipython",
    "version": 3
   },
   "file_extension": ".py",
   "mimetype": "text/x-python",
   "name": "python",
   "nbconvert_exporter": "python",
   "pygments_lexer": "ipython3",
   "version": "3.12.7"
  }
 },
 "nbformat": 4,
 "nbformat_minor": 5
}
